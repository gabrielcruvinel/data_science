{
 "cells": [
  {
   "cell_type": "markdown",
   "metadata": {},
   "source": [
    "<p>Conjunto de dados retirado da seguinte fonte: https://www.kaggle.com/gregorut/videogamesales</p>"
   ]
  },
  {
   "cell_type": "code",
   "execution_count": 27,
   "metadata": {},
   "outputs": [],
   "source": [
    "import pandas as pd\n",
    "import numpy as np\n",
    "import matplotlib.pyplot as plt\n",
    "import plotly.express as px\n",
    "import plotly.graph_objects as go\n"
   ]
  },
  {
   "cell_type": "code",
   "execution_count": 28,
   "metadata": {},
   "outputs": [],
   "source": [
    "data = pd.read_csv(\"./data/vgsales.csv\")"
   ]
  },
  {
   "cell_type": "code",
   "execution_count": 29,
   "metadata": {},
   "outputs": [
    {
     "data": {
      "text/html": [
       "<div>\n",
       "<style scoped>\n",
       "    .dataframe tbody tr th:only-of-type {\n",
       "        vertical-align: middle;\n",
       "    }\n",
       "\n",
       "    .dataframe tbody tr th {\n",
       "        vertical-align: top;\n",
       "    }\n",
       "\n",
       "    .dataframe thead th {\n",
       "        text-align: right;\n",
       "    }\n",
       "</style>\n",
       "<table border=\"1\" class=\"dataframe\">\n",
       "  <thead>\n",
       "    <tr style=\"text-align: right;\">\n",
       "      <th></th>\n",
       "      <th>Rank</th>\n",
       "      <th>Name</th>\n",
       "      <th>Platform</th>\n",
       "      <th>Year</th>\n",
       "      <th>Genre</th>\n",
       "      <th>Publisher</th>\n",
       "      <th>NA_Sales</th>\n",
       "      <th>EU_Sales</th>\n",
       "      <th>JP_Sales</th>\n",
       "      <th>Other_Sales</th>\n",
       "      <th>Global_Sales</th>\n",
       "    </tr>\n",
       "  </thead>\n",
       "  <tbody>\n",
       "    <tr>\n",
       "      <th>0</th>\n",
       "      <td>1</td>\n",
       "      <td>Wii Sports</td>\n",
       "      <td>Wii</td>\n",
       "      <td>2006.0</td>\n",
       "      <td>Sports</td>\n",
       "      <td>Nintendo</td>\n",
       "      <td>41.49</td>\n",
       "      <td>29.02</td>\n",
       "      <td>3.77</td>\n",
       "      <td>8.46</td>\n",
       "      <td>82.74</td>\n",
       "    </tr>\n",
       "    <tr>\n",
       "      <th>1</th>\n",
       "      <td>2</td>\n",
       "      <td>Super Mario Bros.</td>\n",
       "      <td>NES</td>\n",
       "      <td>1985.0</td>\n",
       "      <td>Platform</td>\n",
       "      <td>Nintendo</td>\n",
       "      <td>29.08</td>\n",
       "      <td>3.58</td>\n",
       "      <td>6.81</td>\n",
       "      <td>0.77</td>\n",
       "      <td>40.24</td>\n",
       "    </tr>\n",
       "    <tr>\n",
       "      <th>2</th>\n",
       "      <td>3</td>\n",
       "      <td>Mario Kart Wii</td>\n",
       "      <td>Wii</td>\n",
       "      <td>2008.0</td>\n",
       "      <td>Racing</td>\n",
       "      <td>Nintendo</td>\n",
       "      <td>15.85</td>\n",
       "      <td>12.88</td>\n",
       "      <td>3.79</td>\n",
       "      <td>3.31</td>\n",
       "      <td>35.82</td>\n",
       "    </tr>\n",
       "    <tr>\n",
       "      <th>3</th>\n",
       "      <td>4</td>\n",
       "      <td>Wii Sports Resort</td>\n",
       "      <td>Wii</td>\n",
       "      <td>2009.0</td>\n",
       "      <td>Sports</td>\n",
       "      <td>Nintendo</td>\n",
       "      <td>15.75</td>\n",
       "      <td>11.01</td>\n",
       "      <td>3.28</td>\n",
       "      <td>2.96</td>\n",
       "      <td>33.00</td>\n",
       "    </tr>\n",
       "    <tr>\n",
       "      <th>4</th>\n",
       "      <td>5</td>\n",
       "      <td>Pokemon Red/Pokemon Blue</td>\n",
       "      <td>GB</td>\n",
       "      <td>1996.0</td>\n",
       "      <td>Role-Playing</td>\n",
       "      <td>Nintendo</td>\n",
       "      <td>11.27</td>\n",
       "      <td>8.89</td>\n",
       "      <td>10.22</td>\n",
       "      <td>1.00</td>\n",
       "      <td>31.37</td>\n",
       "    </tr>\n",
       "    <tr>\n",
       "      <th>...</th>\n",
       "      <td>...</td>\n",
       "      <td>...</td>\n",
       "      <td>...</td>\n",
       "      <td>...</td>\n",
       "      <td>...</td>\n",
       "      <td>...</td>\n",
       "      <td>...</td>\n",
       "      <td>...</td>\n",
       "      <td>...</td>\n",
       "      <td>...</td>\n",
       "      <td>...</td>\n",
       "    </tr>\n",
       "    <tr>\n",
       "      <th>16593</th>\n",
       "      <td>16596</td>\n",
       "      <td>Woody Woodpecker in Crazy Castle 5</td>\n",
       "      <td>GBA</td>\n",
       "      <td>2002.0</td>\n",
       "      <td>Platform</td>\n",
       "      <td>Kemco</td>\n",
       "      <td>0.01</td>\n",
       "      <td>0.00</td>\n",
       "      <td>0.00</td>\n",
       "      <td>0.00</td>\n",
       "      <td>0.01</td>\n",
       "    </tr>\n",
       "    <tr>\n",
       "      <th>16594</th>\n",
       "      <td>16597</td>\n",
       "      <td>Men in Black II: Alien Escape</td>\n",
       "      <td>GC</td>\n",
       "      <td>2003.0</td>\n",
       "      <td>Shooter</td>\n",
       "      <td>Infogrames</td>\n",
       "      <td>0.01</td>\n",
       "      <td>0.00</td>\n",
       "      <td>0.00</td>\n",
       "      <td>0.00</td>\n",
       "      <td>0.01</td>\n",
       "    </tr>\n",
       "    <tr>\n",
       "      <th>16595</th>\n",
       "      <td>16598</td>\n",
       "      <td>SCORE International Baja 1000: The Official Game</td>\n",
       "      <td>PS2</td>\n",
       "      <td>2008.0</td>\n",
       "      <td>Racing</td>\n",
       "      <td>Activision</td>\n",
       "      <td>0.00</td>\n",
       "      <td>0.00</td>\n",
       "      <td>0.00</td>\n",
       "      <td>0.00</td>\n",
       "      <td>0.01</td>\n",
       "    </tr>\n",
       "    <tr>\n",
       "      <th>16596</th>\n",
       "      <td>16599</td>\n",
       "      <td>Know How 2</td>\n",
       "      <td>DS</td>\n",
       "      <td>2010.0</td>\n",
       "      <td>Puzzle</td>\n",
       "      <td>7G//AMES</td>\n",
       "      <td>0.00</td>\n",
       "      <td>0.01</td>\n",
       "      <td>0.00</td>\n",
       "      <td>0.00</td>\n",
       "      <td>0.01</td>\n",
       "    </tr>\n",
       "    <tr>\n",
       "      <th>16597</th>\n",
       "      <td>16600</td>\n",
       "      <td>Spirits &amp; Spells</td>\n",
       "      <td>GBA</td>\n",
       "      <td>2003.0</td>\n",
       "      <td>Platform</td>\n",
       "      <td>Wanadoo</td>\n",
       "      <td>0.01</td>\n",
       "      <td>0.00</td>\n",
       "      <td>0.00</td>\n",
       "      <td>0.00</td>\n",
       "      <td>0.01</td>\n",
       "    </tr>\n",
       "  </tbody>\n",
       "</table>\n",
       "<p>16598 rows × 11 columns</p>\n",
       "</div>"
      ],
      "text/plain": [
       "        Rank                                              Name Platform  \\\n",
       "0          1                                        Wii Sports      Wii   \n",
       "1          2                                 Super Mario Bros.      NES   \n",
       "2          3                                    Mario Kart Wii      Wii   \n",
       "3          4                                 Wii Sports Resort      Wii   \n",
       "4          5                          Pokemon Red/Pokemon Blue       GB   \n",
       "...      ...                                               ...      ...   \n",
       "16593  16596                Woody Woodpecker in Crazy Castle 5      GBA   \n",
       "16594  16597                     Men in Black II: Alien Escape       GC   \n",
       "16595  16598  SCORE International Baja 1000: The Official Game      PS2   \n",
       "16596  16599                                        Know How 2       DS   \n",
       "16597  16600                                  Spirits & Spells      GBA   \n",
       "\n",
       "         Year         Genre   Publisher  NA_Sales  EU_Sales  JP_Sales  \\\n",
       "0      2006.0        Sports    Nintendo     41.49     29.02      3.77   \n",
       "1      1985.0      Platform    Nintendo     29.08      3.58      6.81   \n",
       "2      2008.0        Racing    Nintendo     15.85     12.88      3.79   \n",
       "3      2009.0        Sports    Nintendo     15.75     11.01      3.28   \n",
       "4      1996.0  Role-Playing    Nintendo     11.27      8.89     10.22   \n",
       "...       ...           ...         ...       ...       ...       ...   \n",
       "16593  2002.0      Platform       Kemco      0.01      0.00      0.00   \n",
       "16594  2003.0       Shooter  Infogrames      0.01      0.00      0.00   \n",
       "16595  2008.0        Racing  Activision      0.00      0.00      0.00   \n",
       "16596  2010.0        Puzzle    7G//AMES      0.00      0.01      0.00   \n",
       "16597  2003.0      Platform     Wanadoo      0.01      0.00      0.00   \n",
       "\n",
       "       Other_Sales  Global_Sales  \n",
       "0             8.46         82.74  \n",
       "1             0.77         40.24  \n",
       "2             3.31         35.82  \n",
       "3             2.96         33.00  \n",
       "4             1.00         31.37  \n",
       "...            ...           ...  \n",
       "16593         0.00          0.01  \n",
       "16594         0.00          0.01  \n",
       "16595         0.00          0.01  \n",
       "16596         0.00          0.01  \n",
       "16597         0.00          0.01  \n",
       "\n",
       "[16598 rows x 11 columns]"
      ]
     },
     "execution_count": 29,
     "metadata": {},
     "output_type": "execute_result"
    }
   ],
   "source": [
    "data"
   ]
  },
  {
   "cell_type": "markdown",
   "metadata": {},
   "source": [
    "<h2>Analisando o dataset </h2>"
   ]
  },
  {
   "cell_type": "code",
   "execution_count": 30,
   "metadata": {},
   "outputs": [
    {
     "data": {
      "text/html": [
       "<div>\n",
       "<style scoped>\n",
       "    .dataframe tbody tr th:only-of-type {\n",
       "        vertical-align: middle;\n",
       "    }\n",
       "\n",
       "    .dataframe tbody tr th {\n",
       "        vertical-align: top;\n",
       "    }\n",
       "\n",
       "    .dataframe thead th {\n",
       "        text-align: right;\n",
       "    }\n",
       "</style>\n",
       "<table border=\"1\" class=\"dataframe\">\n",
       "  <thead>\n",
       "    <tr style=\"text-align: right;\">\n",
       "      <th></th>\n",
       "      <th>Rank</th>\n",
       "      <th>Year</th>\n",
       "      <th>NA_Sales</th>\n",
       "      <th>EU_Sales</th>\n",
       "      <th>JP_Sales</th>\n",
       "      <th>Other_Sales</th>\n",
       "      <th>Global_Sales</th>\n",
       "    </tr>\n",
       "  </thead>\n",
       "  <tbody>\n",
       "    <tr>\n",
       "      <th>count</th>\n",
       "      <td>16598.000000</td>\n",
       "      <td>16327.000000</td>\n",
       "      <td>16598.000000</td>\n",
       "      <td>16598.000000</td>\n",
       "      <td>16598.000000</td>\n",
       "      <td>16598.000000</td>\n",
       "      <td>16598.000000</td>\n",
       "    </tr>\n",
       "    <tr>\n",
       "      <th>mean</th>\n",
       "      <td>8300.605254</td>\n",
       "      <td>2006.406443</td>\n",
       "      <td>0.264667</td>\n",
       "      <td>0.146652</td>\n",
       "      <td>0.077782</td>\n",
       "      <td>0.048063</td>\n",
       "      <td>0.537441</td>\n",
       "    </tr>\n",
       "    <tr>\n",
       "      <th>std</th>\n",
       "      <td>4791.853933</td>\n",
       "      <td>5.828981</td>\n",
       "      <td>0.816683</td>\n",
       "      <td>0.505351</td>\n",
       "      <td>0.309291</td>\n",
       "      <td>0.188588</td>\n",
       "      <td>1.555028</td>\n",
       "    </tr>\n",
       "    <tr>\n",
       "      <th>min</th>\n",
       "      <td>1.000000</td>\n",
       "      <td>1980.000000</td>\n",
       "      <td>0.000000</td>\n",
       "      <td>0.000000</td>\n",
       "      <td>0.000000</td>\n",
       "      <td>0.000000</td>\n",
       "      <td>0.010000</td>\n",
       "    </tr>\n",
       "    <tr>\n",
       "      <th>25%</th>\n",
       "      <td>4151.250000</td>\n",
       "      <td>2003.000000</td>\n",
       "      <td>0.000000</td>\n",
       "      <td>0.000000</td>\n",
       "      <td>0.000000</td>\n",
       "      <td>0.000000</td>\n",
       "      <td>0.060000</td>\n",
       "    </tr>\n",
       "    <tr>\n",
       "      <th>50%</th>\n",
       "      <td>8300.500000</td>\n",
       "      <td>2007.000000</td>\n",
       "      <td>0.080000</td>\n",
       "      <td>0.020000</td>\n",
       "      <td>0.000000</td>\n",
       "      <td>0.010000</td>\n",
       "      <td>0.170000</td>\n",
       "    </tr>\n",
       "    <tr>\n",
       "      <th>75%</th>\n",
       "      <td>12449.750000</td>\n",
       "      <td>2010.000000</td>\n",
       "      <td>0.240000</td>\n",
       "      <td>0.110000</td>\n",
       "      <td>0.040000</td>\n",
       "      <td>0.040000</td>\n",
       "      <td>0.470000</td>\n",
       "    </tr>\n",
       "    <tr>\n",
       "      <th>max</th>\n",
       "      <td>16600.000000</td>\n",
       "      <td>2020.000000</td>\n",
       "      <td>41.490000</td>\n",
       "      <td>29.020000</td>\n",
       "      <td>10.220000</td>\n",
       "      <td>10.570000</td>\n",
       "      <td>82.740000</td>\n",
       "    </tr>\n",
       "  </tbody>\n",
       "</table>\n",
       "</div>"
      ],
      "text/plain": [
       "               Rank          Year      NA_Sales      EU_Sales      JP_Sales  \\\n",
       "count  16598.000000  16327.000000  16598.000000  16598.000000  16598.000000   \n",
       "mean    8300.605254   2006.406443      0.264667      0.146652      0.077782   \n",
       "std     4791.853933      5.828981      0.816683      0.505351      0.309291   \n",
       "min        1.000000   1980.000000      0.000000      0.000000      0.000000   \n",
       "25%     4151.250000   2003.000000      0.000000      0.000000      0.000000   \n",
       "50%     8300.500000   2007.000000      0.080000      0.020000      0.000000   \n",
       "75%    12449.750000   2010.000000      0.240000      0.110000      0.040000   \n",
       "max    16600.000000   2020.000000     41.490000     29.020000     10.220000   \n",
       "\n",
       "        Other_Sales  Global_Sales  \n",
       "count  16598.000000  16598.000000  \n",
       "mean       0.048063      0.537441  \n",
       "std        0.188588      1.555028  \n",
       "min        0.000000      0.010000  \n",
       "25%        0.000000      0.060000  \n",
       "50%        0.010000      0.170000  \n",
       "75%        0.040000      0.470000  \n",
       "max       10.570000     82.740000  "
      ]
     },
     "execution_count": 30,
     "metadata": {},
     "output_type": "execute_result"
    }
   ],
   "source": [
    "data.describe()"
   ]
  },
  {
   "cell_type": "code",
   "execution_count": 31,
   "metadata": {},
   "outputs": [
    {
     "name": "stdout",
     "output_type": "stream",
     "text": [
      "<class 'pandas.core.frame.DataFrame'>\n",
      "RangeIndex: 16598 entries, 0 to 16597\n",
      "Data columns (total 11 columns):\n",
      " #   Column        Non-Null Count  Dtype  \n",
      "---  ------        --------------  -----  \n",
      " 0   Rank          16598 non-null  int64  \n",
      " 1   Name          16598 non-null  object \n",
      " 2   Platform      16598 non-null  object \n",
      " 3   Year          16327 non-null  float64\n",
      " 4   Genre         16598 non-null  object \n",
      " 5   Publisher     16540 non-null  object \n",
      " 6   NA_Sales      16598 non-null  float64\n",
      " 7   EU_Sales      16598 non-null  float64\n",
      " 8   JP_Sales      16598 non-null  float64\n",
      " 9   Other_Sales   16598 non-null  float64\n",
      " 10  Global_Sales  16598 non-null  float64\n",
      "dtypes: float64(6), int64(1), object(4)\n",
      "memory usage: 1.4+ MB\n"
     ]
    }
   ],
   "source": [
    "#verifico os NaN do dataframe\n",
    "data.info()"
   ]
  },
  {
   "cell_type": "code",
   "execution_count": 32,
   "metadata": {},
   "outputs": [
    {
     "data": {
      "text/plain": [
       "Rank            False\n",
       "Name            False\n",
       "Platform        False\n",
       "Year             True\n",
       "Genre           False\n",
       "Publisher        True\n",
       "NA_Sales        False\n",
       "EU_Sales        False\n",
       "JP_Sales        False\n",
       "Other_Sales     False\n",
       "Global_Sales    False\n",
       "dtype: bool"
      ]
     },
     "execution_count": 32,
     "metadata": {},
     "output_type": "execute_result"
    }
   ],
   "source": [
    "#verifico quais features possuem NaN Values\n",
    "data.isna().any()\n"
   ]
  },
  {
   "cell_type": "code",
   "execution_count": 33,
   "metadata": {},
   "outputs": [
    {
     "data": {
      "text/plain": [
       "Rank            0.000000\n",
       "Name            0.000000\n",
       "Platform        0.000000\n",
       "Year            1.632727\n",
       "Genre           0.000000\n",
       "Publisher       0.349440\n",
       "NA_Sales        0.000000\n",
       "EU_Sales        0.000000\n",
       "JP_Sales        0.000000\n",
       "Other_Sales     0.000000\n",
       "Global_Sales    0.000000\n",
       "dtype: float64"
      ]
     },
     "execution_count": 33,
     "metadata": {},
     "output_type": "execute_result"
    }
   ],
   "source": [
    "#verifico a percentagem de dados nulos\n",
    "(data.isna().sum() * 100) / data.shape[0]"
   ]
  },
  {
   "cell_type": "code",
   "execution_count": 34,
   "metadata": {},
   "outputs": [],
   "source": [
    "#dropo oque for NaN\n",
    "data = data.dropna()"
   ]
  },
  {
   "cell_type": "code",
   "execution_count": null,
   "metadata": {},
   "outputs": [],
   "source": []
  },
  {
   "cell_type": "code",
   "execution_count": null,
   "metadata": {},
   "outputs": [],
   "source": []
  },
  {
   "cell_type": "code",
   "execution_count": null,
   "metadata": {},
   "outputs": [],
   "source": []
  },
  {
   "cell_type": "markdown",
   "metadata": {},
   "source": [
    "<h1>Analise década de 80 </h1>"
   ]
  },
  {
   "cell_type": "markdown",
   "metadata": {},
   "source": [
    "<h3>Qual plataforma vendeu mais ?  </h3>"
   ]
  },
  {
   "cell_type": "code",
   "execution_count": 35,
   "metadata": {},
   "outputs": [
    {
     "data": {
      "text/plain": [
       "array(['NES', 'GB', '2600', 'PC', 'DS'], dtype=object)"
      ]
     },
     "execution_count": 35,
     "metadata": {},
     "output_type": "execute_result"
    }
   ],
   "source": [
    "#divido o dataset principal em dados por decada\n",
    "df_80 = data.loc[(data['Year'] >= 1980) & (data['Year']<1990)]\n",
    "#verifico as diferentes plataformas a serem observadas\n",
    "df_80['Platform'].unique()"
   ]
  },
  {
   "cell_type": "code",
   "execution_count": 36,
   "metadata": {},
   "outputs": [
    {
     "data": {
      "text/html": [
       "<div>\n",
       "<style scoped>\n",
       "    .dataframe tbody tr th:only-of-type {\n",
       "        vertical-align: middle;\n",
       "    }\n",
       "\n",
       "    .dataframe tbody tr th {\n",
       "        vertical-align: top;\n",
       "    }\n",
       "\n",
       "    .dataframe thead th {\n",
       "        text-align: right;\n",
       "    }\n",
       "</style>\n",
       "<table border=\"1\" class=\"dataframe\">\n",
       "  <thead>\n",
       "    <tr style=\"text-align: right;\">\n",
       "      <th></th>\n",
       "      <th>Rank</th>\n",
       "      <th>Name</th>\n",
       "      <th>Platform</th>\n",
       "      <th>Year</th>\n",
       "      <th>Genre</th>\n",
       "      <th>Publisher</th>\n",
       "      <th>NA_Sales</th>\n",
       "      <th>EU_Sales</th>\n",
       "      <th>JP_Sales</th>\n",
       "      <th>Other_Sales</th>\n",
       "      <th>Global_Sales</th>\n",
       "    </tr>\n",
       "  </thead>\n",
       "  <tbody>\n",
       "    <tr>\n",
       "      <th>1</th>\n",
       "      <td>2</td>\n",
       "      <td>Super Mario Bros.</td>\n",
       "      <td>NES</td>\n",
       "      <td>1985.0</td>\n",
       "      <td>Platform</td>\n",
       "      <td>Nintendo</td>\n",
       "      <td>29.08</td>\n",
       "      <td>3.58</td>\n",
       "      <td>6.81</td>\n",
       "      <td>0.77</td>\n",
       "      <td>40.24</td>\n",
       "    </tr>\n",
       "    <tr>\n",
       "      <th>5</th>\n",
       "      <td>6</td>\n",
       "      <td>Tetris</td>\n",
       "      <td>GB</td>\n",
       "      <td>1989.0</td>\n",
       "      <td>Puzzle</td>\n",
       "      <td>Nintendo</td>\n",
       "      <td>23.20</td>\n",
       "      <td>2.26</td>\n",
       "      <td>4.22</td>\n",
       "      <td>0.58</td>\n",
       "      <td>30.26</td>\n",
       "    </tr>\n",
       "    <tr>\n",
       "      <th>9</th>\n",
       "      <td>10</td>\n",
       "      <td>Duck Hunt</td>\n",
       "      <td>NES</td>\n",
       "      <td>1984.0</td>\n",
       "      <td>Shooter</td>\n",
       "      <td>Nintendo</td>\n",
       "      <td>26.93</td>\n",
       "      <td>0.63</td>\n",
       "      <td>0.28</td>\n",
       "      <td>0.47</td>\n",
       "      <td>28.31</td>\n",
       "    </tr>\n",
       "    <tr>\n",
       "      <th>21</th>\n",
       "      <td>22</td>\n",
       "      <td>Super Mario Land</td>\n",
       "      <td>GB</td>\n",
       "      <td>1989.0</td>\n",
       "      <td>Platform</td>\n",
       "      <td>Nintendo</td>\n",
       "      <td>10.83</td>\n",
       "      <td>2.71</td>\n",
       "      <td>4.18</td>\n",
       "      <td>0.42</td>\n",
       "      <td>18.14</td>\n",
       "    </tr>\n",
       "    <tr>\n",
       "      <th>22</th>\n",
       "      <td>23</td>\n",
       "      <td>Super Mario Bros. 3</td>\n",
       "      <td>NES</td>\n",
       "      <td>1988.0</td>\n",
       "      <td>Platform</td>\n",
       "      <td>Nintendo</td>\n",
       "      <td>9.54</td>\n",
       "      <td>3.44</td>\n",
       "      <td>3.84</td>\n",
       "      <td>0.46</td>\n",
       "      <td>17.28</td>\n",
       "    </tr>\n",
       "    <tr>\n",
       "      <th>89</th>\n",
       "      <td>90</td>\n",
       "      <td>Pac-Man</td>\n",
       "      <td>2600</td>\n",
       "      <td>1982.0</td>\n",
       "      <td>Puzzle</td>\n",
       "      <td>Atari</td>\n",
       "      <td>7.28</td>\n",
       "      <td>0.45</td>\n",
       "      <td>0.00</td>\n",
       "      <td>0.08</td>\n",
       "      <td>7.81</td>\n",
       "    </tr>\n",
       "    <tr>\n",
       "      <th>96</th>\n",
       "      <td>97</td>\n",
       "      <td>Super Mario Bros. 2</td>\n",
       "      <td>NES</td>\n",
       "      <td>1988.0</td>\n",
       "      <td>Platform</td>\n",
       "      <td>Nintendo</td>\n",
       "      <td>5.39</td>\n",
       "      <td>1.18</td>\n",
       "      <td>0.70</td>\n",
       "      <td>0.19</td>\n",
       "      <td>7.46</td>\n",
       "    </tr>\n",
       "    <tr>\n",
       "      <th>127</th>\n",
       "      <td>128</td>\n",
       "      <td>The Legend of Zelda</td>\n",
       "      <td>NES</td>\n",
       "      <td>1986.0</td>\n",
       "      <td>Action</td>\n",
       "      <td>Nintendo</td>\n",
       "      <td>3.74</td>\n",
       "      <td>0.93</td>\n",
       "      <td>1.69</td>\n",
       "      <td>0.14</td>\n",
       "      <td>6.51</td>\n",
       "    </tr>\n",
       "    <tr>\n",
       "      <th>155</th>\n",
       "      <td>156</td>\n",
       "      <td>Tetris</td>\n",
       "      <td>NES</td>\n",
       "      <td>1988.0</td>\n",
       "      <td>Puzzle</td>\n",
       "      <td>Nintendo</td>\n",
       "      <td>2.97</td>\n",
       "      <td>0.69</td>\n",
       "      <td>1.81</td>\n",
       "      <td>0.11</td>\n",
       "      <td>5.58</td>\n",
       "    </tr>\n",
       "    <tr>\n",
       "      <th>170</th>\n",
       "      <td>171</td>\n",
       "      <td>Dr. Mario</td>\n",
       "      <td>GB</td>\n",
       "      <td>1989.0</td>\n",
       "      <td>Puzzle</td>\n",
       "      <td>Nintendo</td>\n",
       "      <td>2.18</td>\n",
       "      <td>0.96</td>\n",
       "      <td>2.00</td>\n",
       "      <td>0.20</td>\n",
       "      <td>5.34</td>\n",
       "    </tr>\n",
       "  </tbody>\n",
       "</table>\n",
       "</div>"
      ],
      "text/plain": [
       "     Rank                 Name Platform    Year     Genre Publisher  NA_Sales  \\\n",
       "1       2    Super Mario Bros.      NES  1985.0  Platform  Nintendo     29.08   \n",
       "5       6               Tetris       GB  1989.0    Puzzle  Nintendo     23.20   \n",
       "9      10            Duck Hunt      NES  1984.0   Shooter  Nintendo     26.93   \n",
       "21     22     Super Mario Land       GB  1989.0  Platform  Nintendo     10.83   \n",
       "22     23  Super Mario Bros. 3      NES  1988.0  Platform  Nintendo      9.54   \n",
       "89     90              Pac-Man     2600  1982.0    Puzzle     Atari      7.28   \n",
       "96     97  Super Mario Bros. 2      NES  1988.0  Platform  Nintendo      5.39   \n",
       "127   128  The Legend of Zelda      NES  1986.0    Action  Nintendo      3.74   \n",
       "155   156               Tetris      NES  1988.0    Puzzle  Nintendo      2.97   \n",
       "170   171            Dr. Mario       GB  1989.0    Puzzle  Nintendo      2.18   \n",
       "\n",
       "     EU_Sales  JP_Sales  Other_Sales  Global_Sales  \n",
       "1        3.58      6.81         0.77         40.24  \n",
       "5        2.26      4.22         0.58         30.26  \n",
       "9        0.63      0.28         0.47         28.31  \n",
       "21       2.71      4.18         0.42         18.14  \n",
       "22       3.44      3.84         0.46         17.28  \n",
       "89       0.45      0.00         0.08          7.81  \n",
       "96       1.18      0.70         0.19          7.46  \n",
       "127      0.93      1.69         0.14          6.51  \n",
       "155      0.69      1.81         0.11          5.58  \n",
       "170      0.96      2.00         0.20          5.34  "
      ]
     },
     "execution_count": 36,
     "metadata": {},
     "output_type": "execute_result"
    }
   ],
   "source": [
    "#analise dos 10 jogos mais vendidos globalmente \n",
    "df_80.sort_values(by=['Global_Sales'], ascending=False).head(10)"
   ]
  },
  {
   "cell_type": "code",
   "execution_count": 76,
   "metadata": {},
   "outputs": [
    {
     "data": {
      "text/html": [
       "<div>\n",
       "<style scoped>\n",
       "    .dataframe tbody tr th:only-of-type {\n",
       "        vertical-align: middle;\n",
       "    }\n",
       "\n",
       "    .dataframe tbody tr th {\n",
       "        vertical-align: top;\n",
       "    }\n",
       "\n",
       "    .dataframe thead th {\n",
       "        text-align: right;\n",
       "    }\n",
       "</style>\n",
       "<table border=\"1\" class=\"dataframe\">\n",
       "  <thead>\n",
       "    <tr style=\"text-align: right;\">\n",
       "      <th></th>\n",
       "      <th>Rank</th>\n",
       "      <th>Name</th>\n",
       "      <th>Platform</th>\n",
       "      <th>Year</th>\n",
       "      <th>Genre</th>\n",
       "      <th>Publisher</th>\n",
       "      <th>NA_Sales</th>\n",
       "      <th>EU_Sales</th>\n",
       "      <th>JP_Sales</th>\n",
       "      <th>Other_Sales</th>\n",
       "      <th>Global_Sales</th>\n",
       "    </tr>\n",
       "  </thead>\n",
       "  <tbody>\n",
       "    <tr>\n",
       "      <th>1</th>\n",
       "      <td>2</td>\n",
       "      <td>Super Mario Bros.</td>\n",
       "      <td>NES</td>\n",
       "      <td>1985.0</td>\n",
       "      <td>Platform</td>\n",
       "      <td>Nintendo</td>\n",
       "      <td>29.08</td>\n",
       "      <td>3.58</td>\n",
       "      <td>6.81</td>\n",
       "      <td>0.77</td>\n",
       "      <td>40.24</td>\n",
       "    </tr>\n",
       "    <tr>\n",
       "      <th>5</th>\n",
       "      <td>6</td>\n",
       "      <td>Tetris</td>\n",
       "      <td>GB</td>\n",
       "      <td>1989.0</td>\n",
       "      <td>Puzzle</td>\n",
       "      <td>Nintendo</td>\n",
       "      <td>23.20</td>\n",
       "      <td>2.26</td>\n",
       "      <td>4.22</td>\n",
       "      <td>0.58</td>\n",
       "      <td>30.26</td>\n",
       "    </tr>\n",
       "    <tr>\n",
       "      <th>89</th>\n",
       "      <td>90</td>\n",
       "      <td>Pac-Man</td>\n",
       "      <td>2600</td>\n",
       "      <td>1982.0</td>\n",
       "      <td>Puzzle</td>\n",
       "      <td>Atari</td>\n",
       "      <td>7.28</td>\n",
       "      <td>0.45</td>\n",
       "      <td>0.00</td>\n",
       "      <td>0.08</td>\n",
       "      <td>7.81</td>\n",
       "    </tr>\n",
       "    <tr>\n",
       "      <th>14335</th>\n",
       "      <td>14338</td>\n",
       "      <td>Alter Ego</td>\n",
       "      <td>PC</td>\n",
       "      <td>1985.0</td>\n",
       "      <td>Simulation</td>\n",
       "      <td>Activision</td>\n",
       "      <td>0.00</td>\n",
       "      <td>0.03</td>\n",
       "      <td>0.00</td>\n",
       "      <td>0.01</td>\n",
       "      <td>0.03</td>\n",
       "    </tr>\n",
       "    <tr>\n",
       "      <th>15867</th>\n",
       "      <td>15870</td>\n",
       "      <td>Strongest Tokyo University Shogi DS</td>\n",
       "      <td>DS</td>\n",
       "      <td>1985.0</td>\n",
       "      <td>Action</td>\n",
       "      <td>Mycom</td>\n",
       "      <td>0.00</td>\n",
       "      <td>0.00</td>\n",
       "      <td>0.02</td>\n",
       "      <td>0.00</td>\n",
       "      <td>0.02</td>\n",
       "    </tr>\n",
       "  </tbody>\n",
       "</table>\n",
       "</div>"
      ],
      "text/plain": [
       "        Rank                                 Name Platform    Year  \\\n",
       "1          2                    Super Mario Bros.      NES  1985.0   \n",
       "5          6                               Tetris       GB  1989.0   \n",
       "89        90                              Pac-Man     2600  1982.0   \n",
       "14335  14338                            Alter Ego       PC  1985.0   \n",
       "15867  15870  Strongest Tokyo University Shogi DS       DS  1985.0   \n",
       "\n",
       "            Genre   Publisher  NA_Sales  EU_Sales  JP_Sales  Other_Sales  \\\n",
       "1        Platform    Nintendo     29.08      3.58      6.81         0.77   \n",
       "5          Puzzle    Nintendo     23.20      2.26      4.22         0.58   \n",
       "89         Puzzle       Atari      7.28      0.45      0.00         0.08   \n",
       "14335  Simulation  Activision      0.00      0.03      0.00         0.01   \n",
       "15867      Action       Mycom      0.00      0.00      0.02         0.00   \n",
       "\n",
       "       Global_Sales  \n",
       "1             40.24  \n",
       "5             30.26  \n",
       "89             7.81  \n",
       "14335          0.03  \n",
       "15867          0.02  "
      ]
     },
     "execution_count": 76,
     "metadata": {},
     "output_type": "execute_result"
    }
   ],
   "source": [
    "#Jogos mais vendidos de cada plataforma\n",
    "df_80.sort_values(by='Global_Sales', ascending=False).drop_duplicates(subset=['Platform'])"
   ]
  },
  {
   "cell_type": "code",
   "execution_count": 93,
   "metadata": {},
   "outputs": [
    {
     "data": {
      "text/plain": [
       "[223.52, 66.41, 86.57, 0.06, 0.02]"
      ]
     },
     "execution_count": 93,
     "metadata": {},
     "output_type": "execute_result"
    }
   ],
   "source": [
    "#função retorna valores de vendas globais de cada plataforma\n",
    "def global_sales_console(dataframe):\n",
    "    plats_aux = dataframe['Platform'].unique()\n",
    "    \n",
    "    sum_plat = []\n",
    "    for platform in plats_aux:\n",
    "        sum_plat.append(dataframe.loc[dataframe['Platform'] == platform]['Global_Sales'].sum())\n",
    "    return sum_plat\n",
    "global_sales_console(df_80)"
   ]
  },
  {
   "cell_type": "code",
   "execution_count": 82,
   "metadata": {},
   "outputs": [
    {
     "data": {
      "text/plain": [
       "[223.52, 66.41, 86.57, 0.06, 0.02]"
      ]
     },
     "execution_count": 82,
     "metadata": {},
     "output_type": "execute_result"
    }
   ],
   "source": []
  },
  {
   "cell_type": "code",
   "execution_count": 103,
   "metadata": {
    "scrolled": true
   },
   "outputs": [
    {
     "data": {
      "application/vnd.plotly.v1+json": {
       "config": {
        "plotlyServerURL": "https://plot.ly"
       },
       "data": [
        {
         "hovertext": [
          "223.52",
          "66.41",
          "86.57",
          "0.06",
          "0.02"
         ],
         "marker": {
          "color": "rgb(158,202,225)",
          "line": {
           "color": "rgb(8,48,107)",
           "width": 1.5
          }
         },
         "opacity": 0.6,
         "type": "bar",
         "x": [
          "NES",
          "GB",
          "2600",
          "PC",
          "DS"
         ],
         "y": [
          223.52,
          66.41,
          86.57,
          0.06,
          0.02
         ]
        }
       ],
       "layout": {
        "template": {
         "data": {
          "bar": [
           {
            "error_x": {
             "color": "#2a3f5f"
            },
            "error_y": {
             "color": "#2a3f5f"
            },
            "marker": {
             "line": {
              "color": "#E5ECF6",
              "width": 0.5
             }
            },
            "type": "bar"
           }
          ],
          "barpolar": [
           {
            "marker": {
             "line": {
              "color": "#E5ECF6",
              "width": 0.5
             }
            },
            "type": "barpolar"
           }
          ],
          "carpet": [
           {
            "aaxis": {
             "endlinecolor": "#2a3f5f",
             "gridcolor": "white",
             "linecolor": "white",
             "minorgridcolor": "white",
             "startlinecolor": "#2a3f5f"
            },
            "baxis": {
             "endlinecolor": "#2a3f5f",
             "gridcolor": "white",
             "linecolor": "white",
             "minorgridcolor": "white",
             "startlinecolor": "#2a3f5f"
            },
            "type": "carpet"
           }
          ],
          "choropleth": [
           {
            "colorbar": {
             "outlinewidth": 0,
             "ticks": ""
            },
            "type": "choropleth"
           }
          ],
          "contour": [
           {
            "colorbar": {
             "outlinewidth": 0,
             "ticks": ""
            },
            "colorscale": [
             [
              0,
              "#0d0887"
             ],
             [
              0.1111111111111111,
              "#46039f"
             ],
             [
              0.2222222222222222,
              "#7201a8"
             ],
             [
              0.3333333333333333,
              "#9c179e"
             ],
             [
              0.4444444444444444,
              "#bd3786"
             ],
             [
              0.5555555555555556,
              "#d8576b"
             ],
             [
              0.6666666666666666,
              "#ed7953"
             ],
             [
              0.7777777777777778,
              "#fb9f3a"
             ],
             [
              0.8888888888888888,
              "#fdca26"
             ],
             [
              1,
              "#f0f921"
             ]
            ],
            "type": "contour"
           }
          ],
          "contourcarpet": [
           {
            "colorbar": {
             "outlinewidth": 0,
             "ticks": ""
            },
            "type": "contourcarpet"
           }
          ],
          "heatmap": [
           {
            "colorbar": {
             "outlinewidth": 0,
             "ticks": ""
            },
            "colorscale": [
             [
              0,
              "#0d0887"
             ],
             [
              0.1111111111111111,
              "#46039f"
             ],
             [
              0.2222222222222222,
              "#7201a8"
             ],
             [
              0.3333333333333333,
              "#9c179e"
             ],
             [
              0.4444444444444444,
              "#bd3786"
             ],
             [
              0.5555555555555556,
              "#d8576b"
             ],
             [
              0.6666666666666666,
              "#ed7953"
             ],
             [
              0.7777777777777778,
              "#fb9f3a"
             ],
             [
              0.8888888888888888,
              "#fdca26"
             ],
             [
              1,
              "#f0f921"
             ]
            ],
            "type": "heatmap"
           }
          ],
          "heatmapgl": [
           {
            "colorbar": {
             "outlinewidth": 0,
             "ticks": ""
            },
            "colorscale": [
             [
              0,
              "#0d0887"
             ],
             [
              0.1111111111111111,
              "#46039f"
             ],
             [
              0.2222222222222222,
              "#7201a8"
             ],
             [
              0.3333333333333333,
              "#9c179e"
             ],
             [
              0.4444444444444444,
              "#bd3786"
             ],
             [
              0.5555555555555556,
              "#d8576b"
             ],
             [
              0.6666666666666666,
              "#ed7953"
             ],
             [
              0.7777777777777778,
              "#fb9f3a"
             ],
             [
              0.8888888888888888,
              "#fdca26"
             ],
             [
              1,
              "#f0f921"
             ]
            ],
            "type": "heatmapgl"
           }
          ],
          "histogram": [
           {
            "marker": {
             "colorbar": {
              "outlinewidth": 0,
              "ticks": ""
             }
            },
            "type": "histogram"
           }
          ],
          "histogram2d": [
           {
            "colorbar": {
             "outlinewidth": 0,
             "ticks": ""
            },
            "colorscale": [
             [
              0,
              "#0d0887"
             ],
             [
              0.1111111111111111,
              "#46039f"
             ],
             [
              0.2222222222222222,
              "#7201a8"
             ],
             [
              0.3333333333333333,
              "#9c179e"
             ],
             [
              0.4444444444444444,
              "#bd3786"
             ],
             [
              0.5555555555555556,
              "#d8576b"
             ],
             [
              0.6666666666666666,
              "#ed7953"
             ],
             [
              0.7777777777777778,
              "#fb9f3a"
             ],
             [
              0.8888888888888888,
              "#fdca26"
             ],
             [
              1,
              "#f0f921"
             ]
            ],
            "type": "histogram2d"
           }
          ],
          "histogram2dcontour": [
           {
            "colorbar": {
             "outlinewidth": 0,
             "ticks": ""
            },
            "colorscale": [
             [
              0,
              "#0d0887"
             ],
             [
              0.1111111111111111,
              "#46039f"
             ],
             [
              0.2222222222222222,
              "#7201a8"
             ],
             [
              0.3333333333333333,
              "#9c179e"
             ],
             [
              0.4444444444444444,
              "#bd3786"
             ],
             [
              0.5555555555555556,
              "#d8576b"
             ],
             [
              0.6666666666666666,
              "#ed7953"
             ],
             [
              0.7777777777777778,
              "#fb9f3a"
             ],
             [
              0.8888888888888888,
              "#fdca26"
             ],
             [
              1,
              "#f0f921"
             ]
            ],
            "type": "histogram2dcontour"
           }
          ],
          "mesh3d": [
           {
            "colorbar": {
             "outlinewidth": 0,
             "ticks": ""
            },
            "type": "mesh3d"
           }
          ],
          "parcoords": [
           {
            "line": {
             "colorbar": {
              "outlinewidth": 0,
              "ticks": ""
             }
            },
            "type": "parcoords"
           }
          ],
          "pie": [
           {
            "automargin": true,
            "type": "pie"
           }
          ],
          "scatter": [
           {
            "marker": {
             "colorbar": {
              "outlinewidth": 0,
              "ticks": ""
             }
            },
            "type": "scatter"
           }
          ],
          "scatter3d": [
           {
            "line": {
             "colorbar": {
              "outlinewidth": 0,
              "ticks": ""
             }
            },
            "marker": {
             "colorbar": {
              "outlinewidth": 0,
              "ticks": ""
             }
            },
            "type": "scatter3d"
           }
          ],
          "scattercarpet": [
           {
            "marker": {
             "colorbar": {
              "outlinewidth": 0,
              "ticks": ""
             }
            },
            "type": "scattercarpet"
           }
          ],
          "scattergeo": [
           {
            "marker": {
             "colorbar": {
              "outlinewidth": 0,
              "ticks": ""
             }
            },
            "type": "scattergeo"
           }
          ],
          "scattergl": [
           {
            "marker": {
             "colorbar": {
              "outlinewidth": 0,
              "ticks": ""
             }
            },
            "type": "scattergl"
           }
          ],
          "scattermapbox": [
           {
            "marker": {
             "colorbar": {
              "outlinewidth": 0,
              "ticks": ""
             }
            },
            "type": "scattermapbox"
           }
          ],
          "scatterpolar": [
           {
            "marker": {
             "colorbar": {
              "outlinewidth": 0,
              "ticks": ""
             }
            },
            "type": "scatterpolar"
           }
          ],
          "scatterpolargl": [
           {
            "marker": {
             "colorbar": {
              "outlinewidth": 0,
              "ticks": ""
             }
            },
            "type": "scatterpolargl"
           }
          ],
          "scatterternary": [
           {
            "marker": {
             "colorbar": {
              "outlinewidth": 0,
              "ticks": ""
             }
            },
            "type": "scatterternary"
           }
          ],
          "surface": [
           {
            "colorbar": {
             "outlinewidth": 0,
             "ticks": ""
            },
            "colorscale": [
             [
              0,
              "#0d0887"
             ],
             [
              0.1111111111111111,
              "#46039f"
             ],
             [
              0.2222222222222222,
              "#7201a8"
             ],
             [
              0.3333333333333333,
              "#9c179e"
             ],
             [
              0.4444444444444444,
              "#bd3786"
             ],
             [
              0.5555555555555556,
              "#d8576b"
             ],
             [
              0.6666666666666666,
              "#ed7953"
             ],
             [
              0.7777777777777778,
              "#fb9f3a"
             ],
             [
              0.8888888888888888,
              "#fdca26"
             ],
             [
              1,
              "#f0f921"
             ]
            ],
            "type": "surface"
           }
          ],
          "table": [
           {
            "cells": {
             "fill": {
              "color": "#EBF0F8"
             },
             "line": {
              "color": "white"
             }
            },
            "header": {
             "fill": {
              "color": "#C8D4E3"
             },
             "line": {
              "color": "white"
             }
            },
            "type": "table"
           }
          ]
         },
         "layout": {
          "annotationdefaults": {
           "arrowcolor": "#2a3f5f",
           "arrowhead": 0,
           "arrowwidth": 1
          },
          "coloraxis": {
           "colorbar": {
            "outlinewidth": 0,
            "ticks": ""
           }
          },
          "colorscale": {
           "diverging": [
            [
             0,
             "#8e0152"
            ],
            [
             0.1,
             "#c51b7d"
            ],
            [
             0.2,
             "#de77ae"
            ],
            [
             0.3,
             "#f1b6da"
            ],
            [
             0.4,
             "#fde0ef"
            ],
            [
             0.5,
             "#f7f7f7"
            ],
            [
             0.6,
             "#e6f5d0"
            ],
            [
             0.7,
             "#b8e186"
            ],
            [
             0.8,
             "#7fbc41"
            ],
            [
             0.9,
             "#4d9221"
            ],
            [
             1,
             "#276419"
            ]
           ],
           "sequential": [
            [
             0,
             "#0d0887"
            ],
            [
             0.1111111111111111,
             "#46039f"
            ],
            [
             0.2222222222222222,
             "#7201a8"
            ],
            [
             0.3333333333333333,
             "#9c179e"
            ],
            [
             0.4444444444444444,
             "#bd3786"
            ],
            [
             0.5555555555555556,
             "#d8576b"
            ],
            [
             0.6666666666666666,
             "#ed7953"
            ],
            [
             0.7777777777777778,
             "#fb9f3a"
            ],
            [
             0.8888888888888888,
             "#fdca26"
            ],
            [
             1,
             "#f0f921"
            ]
           ],
           "sequentialminus": [
            [
             0,
             "#0d0887"
            ],
            [
             0.1111111111111111,
             "#46039f"
            ],
            [
             0.2222222222222222,
             "#7201a8"
            ],
            [
             0.3333333333333333,
             "#9c179e"
            ],
            [
             0.4444444444444444,
             "#bd3786"
            ],
            [
             0.5555555555555556,
             "#d8576b"
            ],
            [
             0.6666666666666666,
             "#ed7953"
            ],
            [
             0.7777777777777778,
             "#fb9f3a"
            ],
            [
             0.8888888888888888,
             "#fdca26"
            ],
            [
             1,
             "#f0f921"
            ]
           ]
          },
          "colorway": [
           "#636efa",
           "#EF553B",
           "#00cc96",
           "#ab63fa",
           "#FFA15A",
           "#19d3f3",
           "#FF6692",
           "#B6E880",
           "#FF97FF",
           "#FECB52"
          ],
          "font": {
           "color": "#2a3f5f"
          },
          "geo": {
           "bgcolor": "white",
           "lakecolor": "white",
           "landcolor": "#E5ECF6",
           "showlakes": true,
           "showland": true,
           "subunitcolor": "white"
          },
          "hoverlabel": {
           "align": "left"
          },
          "hovermode": "closest",
          "mapbox": {
           "style": "light"
          },
          "paper_bgcolor": "white",
          "plot_bgcolor": "#E5ECF6",
          "polar": {
           "angularaxis": {
            "gridcolor": "white",
            "linecolor": "white",
            "ticks": ""
           },
           "bgcolor": "#E5ECF6",
           "radialaxis": {
            "gridcolor": "white",
            "linecolor": "white",
            "ticks": ""
           }
          },
          "scene": {
           "xaxis": {
            "backgroundcolor": "#E5ECF6",
            "gridcolor": "white",
            "gridwidth": 2,
            "linecolor": "white",
            "showbackground": true,
            "ticks": "",
            "zerolinecolor": "white"
           },
           "yaxis": {
            "backgroundcolor": "#E5ECF6",
            "gridcolor": "white",
            "gridwidth": 2,
            "linecolor": "white",
            "showbackground": true,
            "ticks": "",
            "zerolinecolor": "white"
           },
           "zaxis": {
            "backgroundcolor": "#E5ECF6",
            "gridcolor": "white",
            "gridwidth": 2,
            "linecolor": "white",
            "showbackground": true,
            "ticks": "",
            "zerolinecolor": "white"
           }
          },
          "shapedefaults": {
           "line": {
            "color": "#2a3f5f"
           }
          },
          "ternary": {
           "aaxis": {
            "gridcolor": "white",
            "linecolor": "white",
            "ticks": ""
           },
           "baxis": {
            "gridcolor": "white",
            "linecolor": "white",
            "ticks": ""
           },
           "bgcolor": "#E5ECF6",
           "caxis": {
            "gridcolor": "white",
            "linecolor": "white",
            "ticks": ""
           }
          },
          "title": {
           "x": 0.05
          },
          "xaxis": {
           "automargin": true,
           "gridcolor": "white",
           "linecolor": "white",
           "ticks": "",
           "title": {
            "standoff": 15
           },
           "zerolinecolor": "white",
           "zerolinewidth": 2
          },
          "yaxis": {
           "automargin": true,
           "gridcolor": "white",
           "linecolor": "white",
           "ticks": "",
           "title": {
            "standoff": 15
           },
           "zerolinecolor": "white",
           "zerolinewidth": 2
          }
         }
        },
        "title": {
         "text": "Distribuição de vendas globais por console na decada de 80"
        },
        "xaxis": {
         "title": {
          "text": "Platform"
         }
        },
        "yaxis": {
         "title": {
          "text": "Global Sales in Millions"
         }
        }
       }
      },
      "text/html": [
       "<div>                            <div id=\"e2917d03-1aa9-4109-8c11-15763dd7b71b\" class=\"plotly-graph-div\" style=\"height:525px; width:100%;\"></div>            <script type=\"text/javascript\">                require([\"plotly\"], function(Plotly) {                    window.PLOTLYENV=window.PLOTLYENV || {};                                    if (document.getElementById(\"e2917d03-1aa9-4109-8c11-15763dd7b71b\")) {                    Plotly.newPlot(                        \"e2917d03-1aa9-4109-8c11-15763dd7b71b\",                        [{\"hovertext\": [\"223.52\", \"66.41\", \"86.57\", \"0.06\", \"0.02\"], \"marker\": {\"color\": \"rgb(158,202,225)\", \"line\": {\"color\": \"rgb(8,48,107)\", \"width\": 1.5}}, \"opacity\": 0.6, \"type\": \"bar\", \"x\": [\"NES\", \"GB\", \"2600\", \"PC\", \"DS\"], \"y\": [223.52, 66.41, 86.57, 0.06, 0.02]}],                        {\"template\": {\"data\": {\"bar\": [{\"error_x\": {\"color\": \"#2a3f5f\"}, \"error_y\": {\"color\": \"#2a3f5f\"}, \"marker\": {\"line\": {\"color\": \"#E5ECF6\", \"width\": 0.5}}, \"type\": \"bar\"}], \"barpolar\": [{\"marker\": {\"line\": {\"color\": \"#E5ECF6\", \"width\": 0.5}}, \"type\": \"barpolar\"}], \"carpet\": [{\"aaxis\": {\"endlinecolor\": \"#2a3f5f\", \"gridcolor\": \"white\", \"linecolor\": \"white\", \"minorgridcolor\": \"white\", \"startlinecolor\": \"#2a3f5f\"}, \"baxis\": {\"endlinecolor\": \"#2a3f5f\", \"gridcolor\": \"white\", \"linecolor\": \"white\", \"minorgridcolor\": \"white\", \"startlinecolor\": \"#2a3f5f\"}, \"type\": \"carpet\"}], \"choropleth\": [{\"colorbar\": {\"outlinewidth\": 0, \"ticks\": \"\"}, \"type\": \"choropleth\"}], \"contour\": [{\"colorbar\": {\"outlinewidth\": 0, \"ticks\": \"\"}, \"colorscale\": [[0.0, \"#0d0887\"], [0.1111111111111111, \"#46039f\"], [0.2222222222222222, \"#7201a8\"], [0.3333333333333333, \"#9c179e\"], [0.4444444444444444, \"#bd3786\"], [0.5555555555555556, \"#d8576b\"], [0.6666666666666666, \"#ed7953\"], [0.7777777777777778, \"#fb9f3a\"], [0.8888888888888888, \"#fdca26\"], [1.0, \"#f0f921\"]], \"type\": \"contour\"}], \"contourcarpet\": [{\"colorbar\": {\"outlinewidth\": 0, \"ticks\": \"\"}, \"type\": \"contourcarpet\"}], \"heatmap\": [{\"colorbar\": {\"outlinewidth\": 0, \"ticks\": \"\"}, \"colorscale\": [[0.0, \"#0d0887\"], [0.1111111111111111, \"#46039f\"], [0.2222222222222222, \"#7201a8\"], [0.3333333333333333, \"#9c179e\"], [0.4444444444444444, \"#bd3786\"], [0.5555555555555556, \"#d8576b\"], [0.6666666666666666, \"#ed7953\"], [0.7777777777777778, \"#fb9f3a\"], [0.8888888888888888, \"#fdca26\"], [1.0, \"#f0f921\"]], \"type\": \"heatmap\"}], \"heatmapgl\": [{\"colorbar\": {\"outlinewidth\": 0, \"ticks\": \"\"}, \"colorscale\": [[0.0, \"#0d0887\"], [0.1111111111111111, \"#46039f\"], [0.2222222222222222, \"#7201a8\"], [0.3333333333333333, \"#9c179e\"], [0.4444444444444444, \"#bd3786\"], [0.5555555555555556, \"#d8576b\"], [0.6666666666666666, \"#ed7953\"], [0.7777777777777778, \"#fb9f3a\"], [0.8888888888888888, \"#fdca26\"], [1.0, \"#f0f921\"]], \"type\": \"heatmapgl\"}], \"histogram\": [{\"marker\": {\"colorbar\": {\"outlinewidth\": 0, \"ticks\": \"\"}}, \"type\": \"histogram\"}], \"histogram2d\": [{\"colorbar\": {\"outlinewidth\": 0, \"ticks\": \"\"}, \"colorscale\": [[0.0, \"#0d0887\"], [0.1111111111111111, \"#46039f\"], [0.2222222222222222, \"#7201a8\"], [0.3333333333333333, \"#9c179e\"], [0.4444444444444444, \"#bd3786\"], [0.5555555555555556, \"#d8576b\"], [0.6666666666666666, \"#ed7953\"], [0.7777777777777778, \"#fb9f3a\"], [0.8888888888888888, \"#fdca26\"], [1.0, \"#f0f921\"]], \"type\": \"histogram2d\"}], \"histogram2dcontour\": [{\"colorbar\": {\"outlinewidth\": 0, \"ticks\": \"\"}, \"colorscale\": [[0.0, \"#0d0887\"], [0.1111111111111111, \"#46039f\"], [0.2222222222222222, \"#7201a8\"], [0.3333333333333333, \"#9c179e\"], [0.4444444444444444, \"#bd3786\"], [0.5555555555555556, \"#d8576b\"], [0.6666666666666666, \"#ed7953\"], [0.7777777777777778, \"#fb9f3a\"], [0.8888888888888888, \"#fdca26\"], [1.0, \"#f0f921\"]], \"type\": \"histogram2dcontour\"}], \"mesh3d\": [{\"colorbar\": {\"outlinewidth\": 0, \"ticks\": \"\"}, \"type\": \"mesh3d\"}], \"parcoords\": [{\"line\": {\"colorbar\": {\"outlinewidth\": 0, \"ticks\": \"\"}}, \"type\": \"parcoords\"}], \"pie\": [{\"automargin\": true, \"type\": \"pie\"}], \"scatter\": [{\"marker\": {\"colorbar\": {\"outlinewidth\": 0, \"ticks\": \"\"}}, \"type\": \"scatter\"}], \"scatter3d\": [{\"line\": {\"colorbar\": {\"outlinewidth\": 0, \"ticks\": \"\"}}, \"marker\": {\"colorbar\": {\"outlinewidth\": 0, \"ticks\": \"\"}}, \"type\": \"scatter3d\"}], \"scattercarpet\": [{\"marker\": {\"colorbar\": {\"outlinewidth\": 0, \"ticks\": \"\"}}, \"type\": \"scattercarpet\"}], \"scattergeo\": [{\"marker\": {\"colorbar\": {\"outlinewidth\": 0, \"ticks\": \"\"}}, \"type\": \"scattergeo\"}], \"scattergl\": [{\"marker\": {\"colorbar\": {\"outlinewidth\": 0, \"ticks\": \"\"}}, \"type\": \"scattergl\"}], \"scattermapbox\": [{\"marker\": {\"colorbar\": {\"outlinewidth\": 0, \"ticks\": \"\"}}, \"type\": \"scattermapbox\"}], \"scatterpolar\": [{\"marker\": {\"colorbar\": {\"outlinewidth\": 0, \"ticks\": \"\"}}, \"type\": \"scatterpolar\"}], \"scatterpolargl\": [{\"marker\": {\"colorbar\": {\"outlinewidth\": 0, \"ticks\": \"\"}}, \"type\": \"scatterpolargl\"}], \"scatterternary\": [{\"marker\": {\"colorbar\": {\"outlinewidth\": 0, \"ticks\": \"\"}}, \"type\": \"scatterternary\"}], \"surface\": [{\"colorbar\": {\"outlinewidth\": 0, \"ticks\": \"\"}, \"colorscale\": [[0.0, \"#0d0887\"], [0.1111111111111111, \"#46039f\"], [0.2222222222222222, \"#7201a8\"], [0.3333333333333333, \"#9c179e\"], [0.4444444444444444, \"#bd3786\"], [0.5555555555555556, \"#d8576b\"], [0.6666666666666666, \"#ed7953\"], [0.7777777777777778, \"#fb9f3a\"], [0.8888888888888888, \"#fdca26\"], [1.0, \"#f0f921\"]], \"type\": \"surface\"}], \"table\": [{\"cells\": {\"fill\": {\"color\": \"#EBF0F8\"}, \"line\": {\"color\": \"white\"}}, \"header\": {\"fill\": {\"color\": \"#C8D4E3\"}, \"line\": {\"color\": \"white\"}}, \"type\": \"table\"}]}, \"layout\": {\"annotationdefaults\": {\"arrowcolor\": \"#2a3f5f\", \"arrowhead\": 0, \"arrowwidth\": 1}, \"coloraxis\": {\"colorbar\": {\"outlinewidth\": 0, \"ticks\": \"\"}}, \"colorscale\": {\"diverging\": [[0, \"#8e0152\"], [0.1, \"#c51b7d\"], [0.2, \"#de77ae\"], [0.3, \"#f1b6da\"], [0.4, \"#fde0ef\"], [0.5, \"#f7f7f7\"], [0.6, \"#e6f5d0\"], [0.7, \"#b8e186\"], [0.8, \"#7fbc41\"], [0.9, \"#4d9221\"], [1, \"#276419\"]], \"sequential\": [[0.0, \"#0d0887\"], [0.1111111111111111, \"#46039f\"], [0.2222222222222222, \"#7201a8\"], [0.3333333333333333, \"#9c179e\"], [0.4444444444444444, \"#bd3786\"], [0.5555555555555556, \"#d8576b\"], [0.6666666666666666, \"#ed7953\"], [0.7777777777777778, \"#fb9f3a\"], [0.8888888888888888, \"#fdca26\"], [1.0, \"#f0f921\"]], \"sequentialminus\": [[0.0, \"#0d0887\"], [0.1111111111111111, \"#46039f\"], [0.2222222222222222, \"#7201a8\"], [0.3333333333333333, \"#9c179e\"], [0.4444444444444444, \"#bd3786\"], [0.5555555555555556, \"#d8576b\"], [0.6666666666666666, \"#ed7953\"], [0.7777777777777778, \"#fb9f3a\"], [0.8888888888888888, \"#fdca26\"], [1.0, \"#f0f921\"]]}, \"colorway\": [\"#636efa\", \"#EF553B\", \"#00cc96\", \"#ab63fa\", \"#FFA15A\", \"#19d3f3\", \"#FF6692\", \"#B6E880\", \"#FF97FF\", \"#FECB52\"], \"font\": {\"color\": \"#2a3f5f\"}, \"geo\": {\"bgcolor\": \"white\", \"lakecolor\": \"white\", \"landcolor\": \"#E5ECF6\", \"showlakes\": true, \"showland\": true, \"subunitcolor\": \"white\"}, \"hoverlabel\": {\"align\": \"left\"}, \"hovermode\": \"closest\", \"mapbox\": {\"style\": \"light\"}, \"paper_bgcolor\": \"white\", \"plot_bgcolor\": \"#E5ECF6\", \"polar\": {\"angularaxis\": {\"gridcolor\": \"white\", \"linecolor\": \"white\", \"ticks\": \"\"}, \"bgcolor\": \"#E5ECF6\", \"radialaxis\": {\"gridcolor\": \"white\", \"linecolor\": \"white\", \"ticks\": \"\"}}, \"scene\": {\"xaxis\": {\"backgroundcolor\": \"#E5ECF6\", \"gridcolor\": \"white\", \"gridwidth\": 2, \"linecolor\": \"white\", \"showbackground\": true, \"ticks\": \"\", \"zerolinecolor\": \"white\"}, \"yaxis\": {\"backgroundcolor\": \"#E5ECF6\", \"gridcolor\": \"white\", \"gridwidth\": 2, \"linecolor\": \"white\", \"showbackground\": true, \"ticks\": \"\", \"zerolinecolor\": \"white\"}, \"zaxis\": {\"backgroundcolor\": \"#E5ECF6\", \"gridcolor\": \"white\", \"gridwidth\": 2, \"linecolor\": \"white\", \"showbackground\": true, \"ticks\": \"\", \"zerolinecolor\": \"white\"}}, \"shapedefaults\": {\"line\": {\"color\": \"#2a3f5f\"}}, \"ternary\": {\"aaxis\": {\"gridcolor\": \"white\", \"linecolor\": \"white\", \"ticks\": \"\"}, \"baxis\": {\"gridcolor\": \"white\", \"linecolor\": \"white\", \"ticks\": \"\"}, \"bgcolor\": \"#E5ECF6\", \"caxis\": {\"gridcolor\": \"white\", \"linecolor\": \"white\", \"ticks\": \"\"}}, \"title\": {\"x\": 0.05}, \"xaxis\": {\"automargin\": true, \"gridcolor\": \"white\", \"linecolor\": \"white\", \"ticks\": \"\", \"title\": {\"standoff\": 15}, \"zerolinecolor\": \"white\", \"zerolinewidth\": 2}, \"yaxis\": {\"automargin\": true, \"gridcolor\": \"white\", \"linecolor\": \"white\", \"ticks\": \"\", \"title\": {\"standoff\": 15}, \"zerolinecolor\": \"white\", \"zerolinewidth\": 2}}}, \"title\": {\"text\": \"Distribui\\u00e7\\u00e3o de vendas globais por console na decada de 80\"}, \"xaxis\": {\"title\": {\"text\": \"Platform\"}}, \"yaxis\": {\"title\": {\"text\": \"Global Sales in Millions\"}}},                        {\"responsive\": true}                    ).then(function(){\n",
       "                            \n",
       "var gd = document.getElementById('e2917d03-1aa9-4109-8c11-15763dd7b71b');\n",
       "var x = new MutationObserver(function (mutations, observer) {{\n",
       "        var display = window.getComputedStyle(gd).display;\n",
       "        if (!display || display === 'none') {{\n",
       "            console.log([gd, 'removed!']);\n",
       "            Plotly.purge(gd);\n",
       "            observer.disconnect();\n",
       "        }}\n",
       "}});\n",
       "\n",
       "// Listen for the removal of the full notebook cells\n",
       "var notebookContainer = gd.closest('#notebook-container');\n",
       "if (notebookContainer) {{\n",
       "    x.observe(notebookContainer, {childList: true});\n",
       "}}\n",
       "\n",
       "// Listen for the clearing of the current output cell\n",
       "var outputEl = gd.closest('.output');\n",
       "if (outputEl) {{\n",
       "    x.observe(outputEl, {childList: true});\n",
       "}}\n",
       "\n",
       "                        })                };                });            </script>        </div>"
      ]
     },
     "metadata": {},
     "output_type": "display_data"
    },
    {
     "data": {
      "application/vnd.plotly.v1+json": {
       "config": {
        "plotlyServerURL": "https://plot.ly"
       },
       "data": [
        {
         "domain": {
          "x": [
           0,
           1
          ],
          "y": [
           0,
           1
          ]
         },
         "hovertemplate": "Platform=%{label}<br>Global_Sales=%{value}<extra></extra>",
         "labels": [
          "NES",
          "GB",
          "NES",
          "GB",
          "NES",
          "2600",
          "NES",
          "NES",
          "NES",
          "GB",
          "2600",
          "NES",
          "2600",
          "NES",
          "NES",
          "NES",
          "NES",
          "NES",
          "NES",
          "NES",
          "NES",
          "2600",
          "NES",
          "NES",
          "NES",
          "NES",
          "NES",
          "NES",
          "NES",
          "2600",
          "NES",
          "NES",
          "NES",
          "NES",
          "NES",
          "2600",
          "GB",
          "GB",
          "2600",
          "NES",
          "NES",
          "GB",
          "NES",
          "NES",
          "NES",
          "2600",
          "2600",
          "NES",
          "GB",
          "2600",
          "2600",
          "NES",
          "NES",
          "NES",
          "NES",
          "NES",
          "NES",
          "2600",
          "NES",
          "GB",
          "NES",
          "NES",
          "2600",
          "NES",
          "2600",
          "GB",
          "2600",
          "NES",
          "NES",
          "NES",
          "NES",
          "NES",
          "NES",
          "NES",
          "GB",
          "2600",
          "NES",
          "2600",
          "NES",
          "NES",
          "NES",
          "2600",
          "NES",
          "2600",
          "2600",
          "NES",
          "GB",
          "NES",
          "NES",
          "2600",
          "2600",
          "2600",
          "NES",
          "NES",
          "NES",
          "NES",
          "2600",
          "NES",
          "2600",
          "NES",
          "NES",
          "2600",
          "NES",
          "NES",
          "NES",
          "2600",
          "NES",
          "2600",
          "2600",
          "2600",
          "2600",
          "2600",
          "2600",
          "2600",
          "NES",
          "2600",
          "2600",
          "2600",
          "NES",
          "2600",
          "2600",
          "2600",
          "2600",
          "2600",
          "2600",
          "2600",
          "2600",
          "2600",
          "NES",
          "2600",
          "2600",
          "2600",
          "NES",
          "2600",
          "2600",
          "2600",
          "2600",
          "2600",
          "2600",
          "2600",
          "2600",
          "2600",
          "2600",
          "2600",
          "2600",
          "2600",
          "2600",
          "2600",
          "2600",
          "2600",
          "NES",
          "2600",
          "2600",
          "2600",
          "2600",
          "2600",
          "2600",
          "2600",
          "2600",
          "2600",
          "2600",
          "2600",
          "2600",
          "2600",
          "2600",
          "2600",
          "2600",
          "2600",
          "2600",
          "2600",
          "2600",
          "2600",
          "2600",
          "2600",
          "2600",
          "2600",
          "2600",
          "2600",
          "2600",
          "2600",
          "2600",
          "2600",
          "2600",
          "2600",
          "2600",
          "2600",
          "2600",
          "2600",
          "2600",
          "2600",
          "2600",
          "2600",
          "2600",
          "2600",
          "2600",
          "2600",
          "2600",
          "2600",
          "2600",
          "2600",
          "2600",
          "NES",
          "PC",
          "PC",
          "DS"
         ],
         "legendgroup": "",
         "name": "",
         "showlegend": true,
         "type": "pie",
         "values": [
          40.24,
          30.26,
          28.31,
          18.14,
          17.28,
          7.81,
          7.46,
          6.51,
          5.58,
          5.34,
          4.5,
          4.38,
          4.31,
          4.17,
          4.16,
          4.01,
          3.87,
          3.5,
          3.2,
          3.08,
          3.02,
          2.76,
          2.73,
          2.65,
          2.56,
          2.52,
          2.42,
          2.4,
          2.28,
          2.2,
          2.2,
          2.17,
          2.15,
          2.14,
          2.14,
          2.13,
          2.12,
          1.99,
          1.97,
          1.96,
          1.96,
          1.94,
          1.85,
          1.76,
          1.67,
          1.65,
          1.64,
          1.64,
          1.61,
          1.6,
          1.59,
          1.56,
          1.52,
          1.52,
          1.51,
          1.5,
          1.5,
          1.46,
          1.45,
          1.43,
          1.42,
          1.36,
          1.36,
          1.32,
          1.31,
          1.28,
          1.27,
          1.27,
          1.25,
          1.25,
          1.23,
          1.22,
          1.2,
          1.2,
          1.2,
          1.18,
          1.18,
          1.15,
          1.15,
          1.14,
          1.13,
          1.12,
          1.11,
          1.1,
          1.1,
          1.1,
          1.1,
          1.1,
          1.1,
          1.08,
          1.05,
          1.05,
          1.05,
          1.05,
          1.03,
          1,
          0.97,
          0.96,
          0.93,
          0.93,
          0.92,
          0.87,
          0.85,
          0.84,
          0.82,
          0.82,
          0.81,
          0.79,
          0.78,
          0.78,
          0.77,
          0.77,
          0.77,
          0.77,
          0.76,
          0.73,
          0.72,
          0.69,
          0.69,
          0.67,
          0.66,
          0.65,
          0.63,
          0.62,
          0.62,
          0.59,
          0.59,
          0.58,
          0.57,
          0.55,
          0.54,
          0.54,
          0.51,
          0.51,
          0.5,
          0.5,
          0.5,
          0.5,
          0.5,
          0.49,
          0.48,
          0.48,
          0.47,
          0.47,
          0.46,
          0.45,
          0.45,
          0.45,
          0.45,
          0.43,
          0.41,
          0.4,
          0.4,
          0.4,
          0.39,
          0.39,
          0.39,
          0.38,
          0.37,
          0.37,
          0.36,
          0.34,
          0.34,
          0.34,
          0.34,
          0.34,
          0.34,
          0.33,
          0.33,
          0.32,
          0.31,
          0.31,
          0.29,
          0.29,
          0.29,
          0.28,
          0.27,
          0.27,
          0.27,
          0.26,
          0.26,
          0.25,
          0.24,
          0.24,
          0.24,
          0.24,
          0.22,
          0.22,
          0.22,
          0.22,
          0.21,
          0.19,
          0.17,
          0.17,
          0.17,
          0.15,
          0.15,
          0.14,
          0.13,
          0.08,
          0.07,
          0.06,
          0.03,
          0.03,
          0.02
         ]
        }
       ],
       "layout": {
        "legend": {
         "tracegroupgap": 0
        },
        "template": {
         "data": {
          "bar": [
           {
            "error_x": {
             "color": "#2a3f5f"
            },
            "error_y": {
             "color": "#2a3f5f"
            },
            "marker": {
             "line": {
              "color": "#E5ECF6",
              "width": 0.5
             }
            },
            "type": "bar"
           }
          ],
          "barpolar": [
           {
            "marker": {
             "line": {
              "color": "#E5ECF6",
              "width": 0.5
             }
            },
            "type": "barpolar"
           }
          ],
          "carpet": [
           {
            "aaxis": {
             "endlinecolor": "#2a3f5f",
             "gridcolor": "white",
             "linecolor": "white",
             "minorgridcolor": "white",
             "startlinecolor": "#2a3f5f"
            },
            "baxis": {
             "endlinecolor": "#2a3f5f",
             "gridcolor": "white",
             "linecolor": "white",
             "minorgridcolor": "white",
             "startlinecolor": "#2a3f5f"
            },
            "type": "carpet"
           }
          ],
          "choropleth": [
           {
            "colorbar": {
             "outlinewidth": 0,
             "ticks": ""
            },
            "type": "choropleth"
           }
          ],
          "contour": [
           {
            "colorbar": {
             "outlinewidth": 0,
             "ticks": ""
            },
            "colorscale": [
             [
              0,
              "#0d0887"
             ],
             [
              0.1111111111111111,
              "#46039f"
             ],
             [
              0.2222222222222222,
              "#7201a8"
             ],
             [
              0.3333333333333333,
              "#9c179e"
             ],
             [
              0.4444444444444444,
              "#bd3786"
             ],
             [
              0.5555555555555556,
              "#d8576b"
             ],
             [
              0.6666666666666666,
              "#ed7953"
             ],
             [
              0.7777777777777778,
              "#fb9f3a"
             ],
             [
              0.8888888888888888,
              "#fdca26"
             ],
             [
              1,
              "#f0f921"
             ]
            ],
            "type": "contour"
           }
          ],
          "contourcarpet": [
           {
            "colorbar": {
             "outlinewidth": 0,
             "ticks": ""
            },
            "type": "contourcarpet"
           }
          ],
          "heatmap": [
           {
            "colorbar": {
             "outlinewidth": 0,
             "ticks": ""
            },
            "colorscale": [
             [
              0,
              "#0d0887"
             ],
             [
              0.1111111111111111,
              "#46039f"
             ],
             [
              0.2222222222222222,
              "#7201a8"
             ],
             [
              0.3333333333333333,
              "#9c179e"
             ],
             [
              0.4444444444444444,
              "#bd3786"
             ],
             [
              0.5555555555555556,
              "#d8576b"
             ],
             [
              0.6666666666666666,
              "#ed7953"
             ],
             [
              0.7777777777777778,
              "#fb9f3a"
             ],
             [
              0.8888888888888888,
              "#fdca26"
             ],
             [
              1,
              "#f0f921"
             ]
            ],
            "type": "heatmap"
           }
          ],
          "heatmapgl": [
           {
            "colorbar": {
             "outlinewidth": 0,
             "ticks": ""
            },
            "colorscale": [
             [
              0,
              "#0d0887"
             ],
             [
              0.1111111111111111,
              "#46039f"
             ],
             [
              0.2222222222222222,
              "#7201a8"
             ],
             [
              0.3333333333333333,
              "#9c179e"
             ],
             [
              0.4444444444444444,
              "#bd3786"
             ],
             [
              0.5555555555555556,
              "#d8576b"
             ],
             [
              0.6666666666666666,
              "#ed7953"
             ],
             [
              0.7777777777777778,
              "#fb9f3a"
             ],
             [
              0.8888888888888888,
              "#fdca26"
             ],
             [
              1,
              "#f0f921"
             ]
            ],
            "type": "heatmapgl"
           }
          ],
          "histogram": [
           {
            "marker": {
             "colorbar": {
              "outlinewidth": 0,
              "ticks": ""
             }
            },
            "type": "histogram"
           }
          ],
          "histogram2d": [
           {
            "colorbar": {
             "outlinewidth": 0,
             "ticks": ""
            },
            "colorscale": [
             [
              0,
              "#0d0887"
             ],
             [
              0.1111111111111111,
              "#46039f"
             ],
             [
              0.2222222222222222,
              "#7201a8"
             ],
             [
              0.3333333333333333,
              "#9c179e"
             ],
             [
              0.4444444444444444,
              "#bd3786"
             ],
             [
              0.5555555555555556,
              "#d8576b"
             ],
             [
              0.6666666666666666,
              "#ed7953"
             ],
             [
              0.7777777777777778,
              "#fb9f3a"
             ],
             [
              0.8888888888888888,
              "#fdca26"
             ],
             [
              1,
              "#f0f921"
             ]
            ],
            "type": "histogram2d"
           }
          ],
          "histogram2dcontour": [
           {
            "colorbar": {
             "outlinewidth": 0,
             "ticks": ""
            },
            "colorscale": [
             [
              0,
              "#0d0887"
             ],
             [
              0.1111111111111111,
              "#46039f"
             ],
             [
              0.2222222222222222,
              "#7201a8"
             ],
             [
              0.3333333333333333,
              "#9c179e"
             ],
             [
              0.4444444444444444,
              "#bd3786"
             ],
             [
              0.5555555555555556,
              "#d8576b"
             ],
             [
              0.6666666666666666,
              "#ed7953"
             ],
             [
              0.7777777777777778,
              "#fb9f3a"
             ],
             [
              0.8888888888888888,
              "#fdca26"
             ],
             [
              1,
              "#f0f921"
             ]
            ],
            "type": "histogram2dcontour"
           }
          ],
          "mesh3d": [
           {
            "colorbar": {
             "outlinewidth": 0,
             "ticks": ""
            },
            "type": "mesh3d"
           }
          ],
          "parcoords": [
           {
            "line": {
             "colorbar": {
              "outlinewidth": 0,
              "ticks": ""
             }
            },
            "type": "parcoords"
           }
          ],
          "pie": [
           {
            "automargin": true,
            "type": "pie"
           }
          ],
          "scatter": [
           {
            "marker": {
             "colorbar": {
              "outlinewidth": 0,
              "ticks": ""
             }
            },
            "type": "scatter"
           }
          ],
          "scatter3d": [
           {
            "line": {
             "colorbar": {
              "outlinewidth": 0,
              "ticks": ""
             }
            },
            "marker": {
             "colorbar": {
              "outlinewidth": 0,
              "ticks": ""
             }
            },
            "type": "scatter3d"
           }
          ],
          "scattercarpet": [
           {
            "marker": {
             "colorbar": {
              "outlinewidth": 0,
              "ticks": ""
             }
            },
            "type": "scattercarpet"
           }
          ],
          "scattergeo": [
           {
            "marker": {
             "colorbar": {
              "outlinewidth": 0,
              "ticks": ""
             }
            },
            "type": "scattergeo"
           }
          ],
          "scattergl": [
           {
            "marker": {
             "colorbar": {
              "outlinewidth": 0,
              "ticks": ""
             }
            },
            "type": "scattergl"
           }
          ],
          "scattermapbox": [
           {
            "marker": {
             "colorbar": {
              "outlinewidth": 0,
              "ticks": ""
             }
            },
            "type": "scattermapbox"
           }
          ],
          "scatterpolar": [
           {
            "marker": {
             "colorbar": {
              "outlinewidth": 0,
              "ticks": ""
             }
            },
            "type": "scatterpolar"
           }
          ],
          "scatterpolargl": [
           {
            "marker": {
             "colorbar": {
              "outlinewidth": 0,
              "ticks": ""
             }
            },
            "type": "scatterpolargl"
           }
          ],
          "scatterternary": [
           {
            "marker": {
             "colorbar": {
              "outlinewidth": 0,
              "ticks": ""
             }
            },
            "type": "scatterternary"
           }
          ],
          "surface": [
           {
            "colorbar": {
             "outlinewidth": 0,
             "ticks": ""
            },
            "colorscale": [
             [
              0,
              "#0d0887"
             ],
             [
              0.1111111111111111,
              "#46039f"
             ],
             [
              0.2222222222222222,
              "#7201a8"
             ],
             [
              0.3333333333333333,
              "#9c179e"
             ],
             [
              0.4444444444444444,
              "#bd3786"
             ],
             [
              0.5555555555555556,
              "#d8576b"
             ],
             [
              0.6666666666666666,
              "#ed7953"
             ],
             [
              0.7777777777777778,
              "#fb9f3a"
             ],
             [
              0.8888888888888888,
              "#fdca26"
             ],
             [
              1,
              "#f0f921"
             ]
            ],
            "type": "surface"
           }
          ],
          "table": [
           {
            "cells": {
             "fill": {
              "color": "#EBF0F8"
             },
             "line": {
              "color": "white"
             }
            },
            "header": {
             "fill": {
              "color": "#C8D4E3"
             },
             "line": {
              "color": "white"
             }
            },
            "type": "table"
           }
          ]
         },
         "layout": {
          "annotationdefaults": {
           "arrowcolor": "#2a3f5f",
           "arrowhead": 0,
           "arrowwidth": 1
          },
          "coloraxis": {
           "colorbar": {
            "outlinewidth": 0,
            "ticks": ""
           }
          },
          "colorscale": {
           "diverging": [
            [
             0,
             "#8e0152"
            ],
            [
             0.1,
             "#c51b7d"
            ],
            [
             0.2,
             "#de77ae"
            ],
            [
             0.3,
             "#f1b6da"
            ],
            [
             0.4,
             "#fde0ef"
            ],
            [
             0.5,
             "#f7f7f7"
            ],
            [
             0.6,
             "#e6f5d0"
            ],
            [
             0.7,
             "#b8e186"
            ],
            [
             0.8,
             "#7fbc41"
            ],
            [
             0.9,
             "#4d9221"
            ],
            [
             1,
             "#276419"
            ]
           ],
           "sequential": [
            [
             0,
             "#0d0887"
            ],
            [
             0.1111111111111111,
             "#46039f"
            ],
            [
             0.2222222222222222,
             "#7201a8"
            ],
            [
             0.3333333333333333,
             "#9c179e"
            ],
            [
             0.4444444444444444,
             "#bd3786"
            ],
            [
             0.5555555555555556,
             "#d8576b"
            ],
            [
             0.6666666666666666,
             "#ed7953"
            ],
            [
             0.7777777777777778,
             "#fb9f3a"
            ],
            [
             0.8888888888888888,
             "#fdca26"
            ],
            [
             1,
             "#f0f921"
            ]
           ],
           "sequentialminus": [
            [
             0,
             "#0d0887"
            ],
            [
             0.1111111111111111,
             "#46039f"
            ],
            [
             0.2222222222222222,
             "#7201a8"
            ],
            [
             0.3333333333333333,
             "#9c179e"
            ],
            [
             0.4444444444444444,
             "#bd3786"
            ],
            [
             0.5555555555555556,
             "#d8576b"
            ],
            [
             0.6666666666666666,
             "#ed7953"
            ],
            [
             0.7777777777777778,
             "#fb9f3a"
            ],
            [
             0.8888888888888888,
             "#fdca26"
            ],
            [
             1,
             "#f0f921"
            ]
           ]
          },
          "colorway": [
           "#636efa",
           "#EF553B",
           "#00cc96",
           "#ab63fa",
           "#FFA15A",
           "#19d3f3",
           "#FF6692",
           "#B6E880",
           "#FF97FF",
           "#FECB52"
          ],
          "font": {
           "color": "#2a3f5f"
          },
          "geo": {
           "bgcolor": "white",
           "lakecolor": "white",
           "landcolor": "#E5ECF6",
           "showlakes": true,
           "showland": true,
           "subunitcolor": "white"
          },
          "hoverlabel": {
           "align": "left"
          },
          "hovermode": "closest",
          "mapbox": {
           "style": "light"
          },
          "paper_bgcolor": "white",
          "plot_bgcolor": "#E5ECF6",
          "polar": {
           "angularaxis": {
            "gridcolor": "white",
            "linecolor": "white",
            "ticks": ""
           },
           "bgcolor": "#E5ECF6",
           "radialaxis": {
            "gridcolor": "white",
            "linecolor": "white",
            "ticks": ""
           }
          },
          "scene": {
           "xaxis": {
            "backgroundcolor": "#E5ECF6",
            "gridcolor": "white",
            "gridwidth": 2,
            "linecolor": "white",
            "showbackground": true,
            "ticks": "",
            "zerolinecolor": "white"
           },
           "yaxis": {
            "backgroundcolor": "#E5ECF6",
            "gridcolor": "white",
            "gridwidth": 2,
            "linecolor": "white",
            "showbackground": true,
            "ticks": "",
            "zerolinecolor": "white"
           },
           "zaxis": {
            "backgroundcolor": "#E5ECF6",
            "gridcolor": "white",
            "gridwidth": 2,
            "linecolor": "white",
            "showbackground": true,
            "ticks": "",
            "zerolinecolor": "white"
           }
          },
          "shapedefaults": {
           "line": {
            "color": "#2a3f5f"
           }
          },
          "ternary": {
           "aaxis": {
            "gridcolor": "white",
            "linecolor": "white",
            "ticks": ""
           },
           "baxis": {
            "gridcolor": "white",
            "linecolor": "white",
            "ticks": ""
           },
           "bgcolor": "#E5ECF6",
           "caxis": {
            "gridcolor": "white",
            "linecolor": "white",
            "ticks": ""
           }
          },
          "title": {
           "x": 0.05
          },
          "xaxis": {
           "automargin": true,
           "gridcolor": "white",
           "linecolor": "white",
           "ticks": "",
           "title": {
            "standoff": 15
           },
           "zerolinecolor": "white",
           "zerolinewidth": 2
          },
          "yaxis": {
           "automargin": true,
           "gridcolor": "white",
           "linecolor": "white",
           "ticks": "",
           "title": {
            "standoff": 15
           },
           "zerolinecolor": "white",
           "zerolinewidth": 2
          }
         }
        },
        "title": {
         "text": "Distribuição de vendas globais por console na decada de 80"
        }
       }
      },
      "text/html": [
       "<div>                            <div id=\"9f31f1f6-a227-40eb-9b60-4a4108983c63\" class=\"plotly-graph-div\" style=\"height:525px; width:100%;\"></div>            <script type=\"text/javascript\">                require([\"plotly\"], function(Plotly) {                    window.PLOTLYENV=window.PLOTLYENV || {};                                    if (document.getElementById(\"9f31f1f6-a227-40eb-9b60-4a4108983c63\")) {                    Plotly.newPlot(                        \"9f31f1f6-a227-40eb-9b60-4a4108983c63\",                        [{\"domain\": {\"x\": [0.0, 1.0], \"y\": [0.0, 1.0]}, \"hovertemplate\": \"Platform=%{label}<br>Global_Sales=%{value}<extra></extra>\", \"labels\": [\"NES\", \"GB\", \"NES\", \"GB\", \"NES\", \"2600\", \"NES\", \"NES\", \"NES\", \"GB\", \"2600\", \"NES\", \"2600\", \"NES\", \"NES\", \"NES\", \"NES\", \"NES\", \"NES\", \"NES\", \"NES\", \"2600\", \"NES\", \"NES\", \"NES\", \"NES\", \"NES\", \"NES\", \"NES\", \"2600\", \"NES\", \"NES\", \"NES\", \"NES\", \"NES\", \"2600\", \"GB\", \"GB\", \"2600\", \"NES\", \"NES\", \"GB\", \"NES\", \"NES\", \"NES\", \"2600\", \"2600\", \"NES\", \"GB\", \"2600\", \"2600\", \"NES\", \"NES\", \"NES\", \"NES\", \"NES\", \"NES\", \"2600\", \"NES\", \"GB\", \"NES\", \"NES\", \"2600\", \"NES\", \"2600\", \"GB\", \"2600\", \"NES\", \"NES\", \"NES\", \"NES\", \"NES\", \"NES\", \"NES\", \"GB\", \"2600\", \"NES\", \"2600\", \"NES\", \"NES\", \"NES\", \"2600\", \"NES\", \"2600\", \"2600\", \"NES\", \"GB\", \"NES\", \"NES\", \"2600\", \"2600\", \"2600\", \"NES\", \"NES\", \"NES\", \"NES\", \"2600\", \"NES\", \"2600\", \"NES\", \"NES\", \"2600\", \"NES\", \"NES\", \"NES\", \"2600\", \"NES\", \"2600\", \"2600\", \"2600\", \"2600\", \"2600\", \"2600\", \"2600\", \"NES\", \"2600\", \"2600\", \"2600\", \"NES\", \"2600\", \"2600\", \"2600\", \"2600\", \"2600\", \"2600\", \"2600\", \"2600\", \"2600\", \"NES\", \"2600\", \"2600\", \"2600\", \"NES\", \"2600\", \"2600\", \"2600\", \"2600\", \"2600\", \"2600\", \"2600\", \"2600\", \"2600\", \"2600\", \"2600\", \"2600\", \"2600\", \"2600\", \"2600\", \"2600\", \"2600\", \"NES\", \"2600\", \"2600\", \"2600\", \"2600\", \"2600\", \"2600\", \"2600\", \"2600\", \"2600\", \"2600\", \"2600\", \"2600\", \"2600\", \"2600\", \"2600\", \"2600\", \"2600\", \"2600\", \"2600\", \"2600\", \"2600\", \"2600\", \"2600\", \"2600\", \"2600\", \"2600\", \"2600\", \"2600\", \"2600\", \"2600\", \"2600\", \"2600\", \"2600\", \"2600\", \"2600\", \"2600\", \"2600\", \"2600\", \"2600\", \"2600\", \"2600\", \"2600\", \"2600\", \"2600\", \"2600\", \"2600\", \"2600\", \"2600\", \"2600\", \"2600\", \"NES\", \"PC\", \"PC\", \"DS\"], \"legendgroup\": \"\", \"name\": \"\", \"showlegend\": true, \"type\": \"pie\", \"values\": [40.24, 30.26, 28.31, 18.14, 17.28, 7.81, 7.46, 6.51, 5.58, 5.34, 4.5, 4.38, 4.31, 4.17, 4.16, 4.01, 3.87, 3.5, 3.2, 3.08, 3.02, 2.76, 2.73, 2.65, 2.56, 2.52, 2.42, 2.4, 2.28, 2.2, 2.2, 2.17, 2.15, 2.14, 2.14, 2.13, 2.12, 1.99, 1.97, 1.96, 1.96, 1.94, 1.85, 1.76, 1.67, 1.65, 1.64, 1.64, 1.61, 1.6, 1.59, 1.56, 1.52, 1.52, 1.51, 1.5, 1.5, 1.46, 1.45, 1.43, 1.42, 1.36, 1.36, 1.32, 1.31, 1.28, 1.27, 1.27, 1.25, 1.25, 1.23, 1.22, 1.2, 1.2, 1.2, 1.18, 1.18, 1.15, 1.15, 1.14, 1.13, 1.12, 1.11, 1.1, 1.1, 1.1, 1.1, 1.1, 1.1, 1.08, 1.05, 1.05, 1.05, 1.05, 1.03, 1.0, 0.97, 0.96, 0.93, 0.93, 0.92, 0.87, 0.85, 0.84, 0.82, 0.82, 0.81, 0.79, 0.78, 0.78, 0.77, 0.77, 0.77, 0.77, 0.76, 0.73, 0.72, 0.69, 0.69, 0.67, 0.66, 0.65, 0.63, 0.62, 0.62, 0.59, 0.59, 0.58, 0.57, 0.55, 0.54, 0.54, 0.51, 0.51, 0.5, 0.5, 0.5, 0.5, 0.5, 0.49, 0.48, 0.48, 0.47, 0.47, 0.46, 0.45, 0.45, 0.45, 0.45, 0.43, 0.41, 0.4, 0.4, 0.4, 0.39, 0.39, 0.39, 0.38, 0.37, 0.37, 0.36, 0.34, 0.34, 0.34, 0.34, 0.34, 0.34, 0.33, 0.33, 0.32, 0.31, 0.31, 0.29, 0.29, 0.29, 0.28, 0.27, 0.27, 0.27, 0.26, 0.26, 0.25, 0.24, 0.24, 0.24, 0.24, 0.22, 0.22, 0.22, 0.22, 0.21, 0.19, 0.17, 0.17, 0.17, 0.15, 0.15, 0.14, 0.13, 0.08, 0.07, 0.06, 0.03, 0.03, 0.02]}],                        {\"legend\": {\"tracegroupgap\": 0}, \"template\": {\"data\": {\"bar\": [{\"error_x\": {\"color\": \"#2a3f5f\"}, \"error_y\": {\"color\": \"#2a3f5f\"}, \"marker\": {\"line\": {\"color\": \"#E5ECF6\", \"width\": 0.5}}, \"type\": \"bar\"}], \"barpolar\": [{\"marker\": {\"line\": {\"color\": \"#E5ECF6\", \"width\": 0.5}}, \"type\": \"barpolar\"}], \"carpet\": [{\"aaxis\": {\"endlinecolor\": \"#2a3f5f\", \"gridcolor\": \"white\", \"linecolor\": \"white\", \"minorgridcolor\": \"white\", \"startlinecolor\": \"#2a3f5f\"}, \"baxis\": {\"endlinecolor\": \"#2a3f5f\", \"gridcolor\": \"white\", \"linecolor\": \"white\", \"minorgridcolor\": \"white\", \"startlinecolor\": \"#2a3f5f\"}, \"type\": \"carpet\"}], \"choropleth\": [{\"colorbar\": {\"outlinewidth\": 0, \"ticks\": \"\"}, \"type\": \"choropleth\"}], \"contour\": [{\"colorbar\": {\"outlinewidth\": 0, \"ticks\": \"\"}, \"colorscale\": [[0.0, \"#0d0887\"], [0.1111111111111111, \"#46039f\"], [0.2222222222222222, \"#7201a8\"], [0.3333333333333333, \"#9c179e\"], [0.4444444444444444, \"#bd3786\"], [0.5555555555555556, \"#d8576b\"], [0.6666666666666666, \"#ed7953\"], [0.7777777777777778, \"#fb9f3a\"], [0.8888888888888888, \"#fdca26\"], [1.0, \"#f0f921\"]], \"type\": \"contour\"}], \"contourcarpet\": [{\"colorbar\": {\"outlinewidth\": 0, \"ticks\": \"\"}, \"type\": \"contourcarpet\"}], \"heatmap\": [{\"colorbar\": {\"outlinewidth\": 0, \"ticks\": \"\"}, \"colorscale\": [[0.0, \"#0d0887\"], [0.1111111111111111, \"#46039f\"], [0.2222222222222222, \"#7201a8\"], [0.3333333333333333, \"#9c179e\"], [0.4444444444444444, \"#bd3786\"], [0.5555555555555556, \"#d8576b\"], [0.6666666666666666, \"#ed7953\"], [0.7777777777777778, \"#fb9f3a\"], [0.8888888888888888, \"#fdca26\"], [1.0, \"#f0f921\"]], \"type\": \"heatmap\"}], \"heatmapgl\": [{\"colorbar\": {\"outlinewidth\": 0, \"ticks\": \"\"}, \"colorscale\": [[0.0, \"#0d0887\"], [0.1111111111111111, \"#46039f\"], [0.2222222222222222, \"#7201a8\"], [0.3333333333333333, \"#9c179e\"], [0.4444444444444444, \"#bd3786\"], [0.5555555555555556, \"#d8576b\"], [0.6666666666666666, \"#ed7953\"], [0.7777777777777778, \"#fb9f3a\"], [0.8888888888888888, \"#fdca26\"], [1.0, \"#f0f921\"]], \"type\": \"heatmapgl\"}], \"histogram\": [{\"marker\": {\"colorbar\": {\"outlinewidth\": 0, \"ticks\": \"\"}}, \"type\": \"histogram\"}], \"histogram2d\": [{\"colorbar\": {\"outlinewidth\": 0, \"ticks\": \"\"}, \"colorscale\": [[0.0, \"#0d0887\"], [0.1111111111111111, \"#46039f\"], [0.2222222222222222, \"#7201a8\"], [0.3333333333333333, \"#9c179e\"], [0.4444444444444444, \"#bd3786\"], [0.5555555555555556, \"#d8576b\"], [0.6666666666666666, \"#ed7953\"], [0.7777777777777778, \"#fb9f3a\"], [0.8888888888888888, \"#fdca26\"], [1.0, \"#f0f921\"]], \"type\": \"histogram2d\"}], \"histogram2dcontour\": [{\"colorbar\": {\"outlinewidth\": 0, \"ticks\": \"\"}, \"colorscale\": [[0.0, \"#0d0887\"], [0.1111111111111111, \"#46039f\"], [0.2222222222222222, \"#7201a8\"], [0.3333333333333333, \"#9c179e\"], [0.4444444444444444, \"#bd3786\"], [0.5555555555555556, \"#d8576b\"], [0.6666666666666666, \"#ed7953\"], [0.7777777777777778, \"#fb9f3a\"], [0.8888888888888888, \"#fdca26\"], [1.0, \"#f0f921\"]], \"type\": \"histogram2dcontour\"}], \"mesh3d\": [{\"colorbar\": {\"outlinewidth\": 0, \"ticks\": \"\"}, \"type\": \"mesh3d\"}], \"parcoords\": [{\"line\": {\"colorbar\": {\"outlinewidth\": 0, \"ticks\": \"\"}}, \"type\": \"parcoords\"}], \"pie\": [{\"automargin\": true, \"type\": \"pie\"}], \"scatter\": [{\"marker\": {\"colorbar\": {\"outlinewidth\": 0, \"ticks\": \"\"}}, \"type\": \"scatter\"}], \"scatter3d\": [{\"line\": {\"colorbar\": {\"outlinewidth\": 0, \"ticks\": \"\"}}, \"marker\": {\"colorbar\": {\"outlinewidth\": 0, \"ticks\": \"\"}}, \"type\": \"scatter3d\"}], \"scattercarpet\": [{\"marker\": {\"colorbar\": {\"outlinewidth\": 0, \"ticks\": \"\"}}, \"type\": \"scattercarpet\"}], \"scattergeo\": [{\"marker\": {\"colorbar\": {\"outlinewidth\": 0, \"ticks\": \"\"}}, \"type\": \"scattergeo\"}], \"scattergl\": [{\"marker\": {\"colorbar\": {\"outlinewidth\": 0, \"ticks\": \"\"}}, \"type\": \"scattergl\"}], \"scattermapbox\": [{\"marker\": {\"colorbar\": {\"outlinewidth\": 0, \"ticks\": \"\"}}, \"type\": \"scattermapbox\"}], \"scatterpolar\": [{\"marker\": {\"colorbar\": {\"outlinewidth\": 0, \"ticks\": \"\"}}, \"type\": \"scatterpolar\"}], \"scatterpolargl\": [{\"marker\": {\"colorbar\": {\"outlinewidth\": 0, \"ticks\": \"\"}}, \"type\": \"scatterpolargl\"}], \"scatterternary\": [{\"marker\": {\"colorbar\": {\"outlinewidth\": 0, \"ticks\": \"\"}}, \"type\": \"scatterternary\"}], \"surface\": [{\"colorbar\": {\"outlinewidth\": 0, \"ticks\": \"\"}, \"colorscale\": [[0.0, \"#0d0887\"], [0.1111111111111111, \"#46039f\"], [0.2222222222222222, \"#7201a8\"], [0.3333333333333333, \"#9c179e\"], [0.4444444444444444, \"#bd3786\"], [0.5555555555555556, \"#d8576b\"], [0.6666666666666666, \"#ed7953\"], [0.7777777777777778, \"#fb9f3a\"], [0.8888888888888888, \"#fdca26\"], [1.0, \"#f0f921\"]], \"type\": \"surface\"}], \"table\": [{\"cells\": {\"fill\": {\"color\": \"#EBF0F8\"}, \"line\": {\"color\": \"white\"}}, \"header\": {\"fill\": {\"color\": \"#C8D4E3\"}, \"line\": {\"color\": \"white\"}}, \"type\": \"table\"}]}, \"layout\": {\"annotationdefaults\": {\"arrowcolor\": \"#2a3f5f\", \"arrowhead\": 0, \"arrowwidth\": 1}, \"coloraxis\": {\"colorbar\": {\"outlinewidth\": 0, \"ticks\": \"\"}}, \"colorscale\": {\"diverging\": [[0, \"#8e0152\"], [0.1, \"#c51b7d\"], [0.2, \"#de77ae\"], [0.3, \"#f1b6da\"], [0.4, \"#fde0ef\"], [0.5, \"#f7f7f7\"], [0.6, \"#e6f5d0\"], [0.7, \"#b8e186\"], [0.8, \"#7fbc41\"], [0.9, \"#4d9221\"], [1, \"#276419\"]], \"sequential\": [[0.0, \"#0d0887\"], [0.1111111111111111, \"#46039f\"], [0.2222222222222222, \"#7201a8\"], [0.3333333333333333, \"#9c179e\"], [0.4444444444444444, \"#bd3786\"], [0.5555555555555556, \"#d8576b\"], [0.6666666666666666, \"#ed7953\"], [0.7777777777777778, \"#fb9f3a\"], [0.8888888888888888, \"#fdca26\"], [1.0, \"#f0f921\"]], \"sequentialminus\": [[0.0, \"#0d0887\"], [0.1111111111111111, \"#46039f\"], [0.2222222222222222, \"#7201a8\"], [0.3333333333333333, \"#9c179e\"], [0.4444444444444444, \"#bd3786\"], [0.5555555555555556, \"#d8576b\"], [0.6666666666666666, \"#ed7953\"], [0.7777777777777778, \"#fb9f3a\"], [0.8888888888888888, \"#fdca26\"], [1.0, \"#f0f921\"]]}, \"colorway\": [\"#636efa\", \"#EF553B\", \"#00cc96\", \"#ab63fa\", \"#FFA15A\", \"#19d3f3\", \"#FF6692\", \"#B6E880\", \"#FF97FF\", \"#FECB52\"], \"font\": {\"color\": \"#2a3f5f\"}, \"geo\": {\"bgcolor\": \"white\", \"lakecolor\": \"white\", \"landcolor\": \"#E5ECF6\", \"showlakes\": true, \"showland\": true, \"subunitcolor\": \"white\"}, \"hoverlabel\": {\"align\": \"left\"}, \"hovermode\": \"closest\", \"mapbox\": {\"style\": \"light\"}, \"paper_bgcolor\": \"white\", \"plot_bgcolor\": \"#E5ECF6\", \"polar\": {\"angularaxis\": {\"gridcolor\": \"white\", \"linecolor\": \"white\", \"ticks\": \"\"}, \"bgcolor\": \"#E5ECF6\", \"radialaxis\": {\"gridcolor\": \"white\", \"linecolor\": \"white\", \"ticks\": \"\"}}, \"scene\": {\"xaxis\": {\"backgroundcolor\": \"#E5ECF6\", \"gridcolor\": \"white\", \"gridwidth\": 2, \"linecolor\": \"white\", \"showbackground\": true, \"ticks\": \"\", \"zerolinecolor\": \"white\"}, \"yaxis\": {\"backgroundcolor\": \"#E5ECF6\", \"gridcolor\": \"white\", \"gridwidth\": 2, \"linecolor\": \"white\", \"showbackground\": true, \"ticks\": \"\", \"zerolinecolor\": \"white\"}, \"zaxis\": {\"backgroundcolor\": \"#E5ECF6\", \"gridcolor\": \"white\", \"gridwidth\": 2, \"linecolor\": \"white\", \"showbackground\": true, \"ticks\": \"\", \"zerolinecolor\": \"white\"}}, \"shapedefaults\": {\"line\": {\"color\": \"#2a3f5f\"}}, \"ternary\": {\"aaxis\": {\"gridcolor\": \"white\", \"linecolor\": \"white\", \"ticks\": \"\"}, \"baxis\": {\"gridcolor\": \"white\", \"linecolor\": \"white\", \"ticks\": \"\"}, \"bgcolor\": \"#E5ECF6\", \"caxis\": {\"gridcolor\": \"white\", \"linecolor\": \"white\", \"ticks\": \"\"}}, \"title\": {\"x\": 0.05}, \"xaxis\": {\"automargin\": true, \"gridcolor\": \"white\", \"linecolor\": \"white\", \"ticks\": \"\", \"title\": {\"standoff\": 15}, \"zerolinecolor\": \"white\", \"zerolinewidth\": 2}, \"yaxis\": {\"automargin\": true, \"gridcolor\": \"white\", \"linecolor\": \"white\", \"ticks\": \"\", \"title\": {\"standoff\": 15}, \"zerolinecolor\": \"white\", \"zerolinewidth\": 2}}}, \"title\": {\"text\": \"Distribui\\u00e7\\u00e3o de vendas globais por console na decada de 80\"}},                        {\"responsive\": true}                    ).then(function(){\n",
       "                            \n",
       "var gd = document.getElementById('9f31f1f6-a227-40eb-9b60-4a4108983c63');\n",
       "var x = new MutationObserver(function (mutations, observer) {{\n",
       "        var display = window.getComputedStyle(gd).display;\n",
       "        if (!display || display === 'none') {{\n",
       "            console.log([gd, 'removed!']);\n",
       "            Plotly.purge(gd);\n",
       "            observer.disconnect();\n",
       "        }}\n",
       "}});\n",
       "\n",
       "// Listen for the removal of the full notebook cells\n",
       "var notebookContainer = gd.closest('#notebook-container');\n",
       "if (notebookContainer) {{\n",
       "    x.observe(notebookContainer, {childList: true});\n",
       "}}\n",
       "\n",
       "// Listen for the clearing of the current output cell\n",
       "var outputEl = gd.closest('.output');\n",
       "if (outputEl) {{\n",
       "    x.observe(outputEl, {childList: true});\n",
       "}}\n",
       "\n",
       "                        })                };                });            </script>        </div>"
      ]
     },
     "metadata": {},
     "output_type": "display_data"
    }
   ],
   "source": [
    "\n",
    "fig = go.Figure(data=[go.Bar(x=df_80['Platform'].unique(), y=global_sales_console(df_80), hovertext=global_sales_console(df_80))])\n",
    "\n",
    "fig.update_traces(marker_color='rgb(158,202,225)', marker_line_color='rgb(8,48,107)',marker_line_width=1.5, opacity=0.6)\n",
    "fig.update_layout(\n",
    "    title_text='Distribuição de vendas globais por console na decada de 80',\n",
    "    xaxis_title=\"Platform\",\n",
    "    yaxis_title=\"Global Sales in Millions\")\n",
    "fig.show()\n",
    "\n",
    "fig = px.pie(df_80, values='Global_Sales', names='Platform', title='Distribuição de vendas globais por console na decada de 80')\n",
    "fig.show()"
   ]
  },
  {
   "cell_type": "markdown",
   "metadata": {},
   "source": [
    "<h3>Quais os gêneros mais consumidos ? </h3>"
   ]
  },
  {
   "cell_type": "code",
   "execution_count": 57,
   "metadata": {},
   "outputs": [
    {
     "data": {
      "text/plain": [
       "array(['Platform', 'Puzzle', 'Shooter', 'Action', 'Adventure', 'Racing',\n",
       "       'Sports', 'Role-Playing', 'Fighting', 'Misc', 'Simulation'],\n",
       "      dtype=object)"
      ]
     },
     "execution_count": 57,
     "metadata": {},
     "output_type": "execute_result"
    }
   ],
   "source": [
    "df_80['Genre'].unique()"
   ]
  },
  {
   "cell_type": "code",
   "execution_count": 62,
   "metadata": {},
   "outputs": [
    {
     "data": {
      "text/plain": [
       "376.58000000000004"
      ]
     },
     "execution_count": 62,
     "metadata": {},
     "output_type": "execute_result"
    }
   ],
   "source": []
  },
  {
   "cell_type": "code",
   "execution_count": 56,
   "metadata": {},
   "outputs": [
    {
     "data": {
      "text/html": [
       "<div>\n",
       "<style scoped>\n",
       "    .dataframe tbody tr th:only-of-type {\n",
       "        vertical-align: middle;\n",
       "    }\n",
       "\n",
       "    .dataframe tbody tr th {\n",
       "        vertical-align: top;\n",
       "    }\n",
       "\n",
       "    .dataframe thead th {\n",
       "        text-align: right;\n",
       "    }\n",
       "</style>\n",
       "<table border=\"1\" class=\"dataframe\">\n",
       "  <thead>\n",
       "    <tr style=\"text-align: right;\">\n",
       "      <th></th>\n",
       "      <th>Rank</th>\n",
       "      <th>Name</th>\n",
       "      <th>Platform</th>\n",
       "      <th>Year</th>\n",
       "      <th>Genre</th>\n",
       "      <th>Publisher</th>\n",
       "      <th>NA_Sales</th>\n",
       "      <th>EU_Sales</th>\n",
       "      <th>JP_Sales</th>\n",
       "      <th>Other_Sales</th>\n",
       "      <th>Global_Sales</th>\n",
       "    </tr>\n",
       "  </thead>\n",
       "  <tbody>\n",
       "    <tr>\n",
       "      <th>298</th>\n",
       "      <td>299</td>\n",
       "      <td>Golf</td>\n",
       "      <td>NES</td>\n",
       "      <td>1984.0</td>\n",
       "      <td>Sports</td>\n",
       "      <td>Nintendo</td>\n",
       "      <td>1.22</td>\n",
       "      <td>0.28</td>\n",
       "      <td>2.46</td>\n",
       "      <td>0.04</td>\n",
       "      <td>4.01</td>\n",
       "    </tr>\n",
       "    <tr>\n",
       "      <th>421</th>\n",
       "      <td>422</td>\n",
       "      <td>Baseball</td>\n",
       "      <td>NES</td>\n",
       "      <td>1983.0</td>\n",
       "      <td>Sports</td>\n",
       "      <td>Nintendo</td>\n",
       "      <td>0.73</td>\n",
       "      <td>0.10</td>\n",
       "      <td>2.35</td>\n",
       "      <td>0.02</td>\n",
       "      <td>3.20</td>\n",
       "    </tr>\n",
       "    <tr>\n",
       "      <th>452</th>\n",
       "      <td>453</td>\n",
       "      <td>World Class Track Meet</td>\n",
       "      <td>NES</td>\n",
       "      <td>1986.0</td>\n",
       "      <td>Sports</td>\n",
       "      <td>Namco Bandai Games</td>\n",
       "      <td>1.92</td>\n",
       "      <td>0.45</td>\n",
       "      <td>0.64</td>\n",
       "      <td>0.07</td>\n",
       "      <td>3.08</td>\n",
       "    </tr>\n",
       "    <tr>\n",
       "      <th>638</th>\n",
       "      <td>639</td>\n",
       "      <td>Ice Hockey</td>\n",
       "      <td>NES</td>\n",
       "      <td>1988.0</td>\n",
       "      <td>Sports</td>\n",
       "      <td>Nintendo</td>\n",
       "      <td>1.27</td>\n",
       "      <td>0.32</td>\n",
       "      <td>0.78</td>\n",
       "      <td>0.05</td>\n",
       "      <td>2.42</td>\n",
       "    </tr>\n",
       "    <tr>\n",
       "      <th>737</th>\n",
       "      <td>739</td>\n",
       "      <td>Pro Yakyuu Family Stadium</td>\n",
       "      <td>NES</td>\n",
       "      <td>1986.0</td>\n",
       "      <td>Sports</td>\n",
       "      <td>Namco Bandai Games</td>\n",
       "      <td>0.15</td>\n",
       "      <td>0.00</td>\n",
       "      <td>2.05</td>\n",
       "      <td>0.00</td>\n",
       "      <td>2.20</td>\n",
       "    </tr>\n",
       "    <tr>\n",
       "      <th>...</th>\n",
       "      <td>...</td>\n",
       "      <td>...</td>\n",
       "      <td>...</td>\n",
       "      <td>...</td>\n",
       "      <td>...</td>\n",
       "      <td>...</td>\n",
       "      <td>...</td>\n",
       "      <td>...</td>\n",
       "      <td>...</td>\n",
       "      <td>...</td>\n",
       "      <td>...</td>\n",
       "    </tr>\n",
       "    <tr>\n",
       "      <th>8458</th>\n",
       "      <td>8460</td>\n",
       "      <td>Death Trap</td>\n",
       "      <td>2600</td>\n",
       "      <td>1982.0</td>\n",
       "      <td>Action</td>\n",
       "      <td>Avalon Interactive</td>\n",
       "      <td>0.15</td>\n",
       "      <td>0.01</td>\n",
       "      <td>0.00</td>\n",
       "      <td>0.00</td>\n",
       "      <td>0.17</td>\n",
       "    </tr>\n",
       "    <tr>\n",
       "      <th>8459</th>\n",
       "      <td>8461</td>\n",
       "      <td>Armor Ambush</td>\n",
       "      <td>2600</td>\n",
       "      <td>1981.0</td>\n",
       "      <td>Action</td>\n",
       "      <td>Mattel Interactive</td>\n",
       "      <td>0.15</td>\n",
       "      <td>0.01</td>\n",
       "      <td>0.00</td>\n",
       "      <td>0.00</td>\n",
       "      <td>0.17</td>\n",
       "    </tr>\n",
       "    <tr>\n",
       "      <th>8758</th>\n",
       "      <td>8760</td>\n",
       "      <td>Pressure Cooker</td>\n",
       "      <td>2600</td>\n",
       "      <td>1982.0</td>\n",
       "      <td>Action</td>\n",
       "      <td>Activision</td>\n",
       "      <td>0.14</td>\n",
       "      <td>0.01</td>\n",
       "      <td>0.00</td>\n",
       "      <td>0.00</td>\n",
       "      <td>0.15</td>\n",
       "    </tr>\n",
       "    <tr>\n",
       "      <th>9106</th>\n",
       "      <td>9108</td>\n",
       "      <td>Krull</td>\n",
       "      <td>2600</td>\n",
       "      <td>1982.0</td>\n",
       "      <td>Action</td>\n",
       "      <td>Atari</td>\n",
       "      <td>0.13</td>\n",
       "      <td>0.01</td>\n",
       "      <td>0.00</td>\n",
       "      <td>0.00</td>\n",
       "      <td>0.14</td>\n",
       "    </tr>\n",
       "    <tr>\n",
       "      <th>15867</th>\n",
       "      <td>15870</td>\n",
       "      <td>Strongest Tokyo University Shogi DS</td>\n",
       "      <td>DS</td>\n",
       "      <td>1985.0</td>\n",
       "      <td>Action</td>\n",
       "      <td>Mycom</td>\n",
       "      <td>0.00</td>\n",
       "      <td>0.00</td>\n",
       "      <td>0.02</td>\n",
       "      <td>0.00</td>\n",
       "      <td>0.02</td>\n",
       "    </tr>\n",
       "  </tbody>\n",
       "</table>\n",
       "<p>205 rows × 11 columns</p>\n",
       "</div>"
      ],
      "text/plain": [
       "        Rank                                 Name Platform    Year   Genre  \\\n",
       "298      299                                 Golf      NES  1984.0  Sports   \n",
       "421      422                             Baseball      NES  1983.0  Sports   \n",
       "452      453               World Class Track Meet      NES  1986.0  Sports   \n",
       "638      639                           Ice Hockey      NES  1988.0  Sports   \n",
       "737      739            Pro Yakyuu Family Stadium      NES  1986.0  Sports   \n",
       "...      ...                                  ...      ...     ...     ...   \n",
       "8458    8460                           Death Trap     2600  1982.0  Action   \n",
       "8459    8461                         Armor Ambush     2600  1981.0  Action   \n",
       "8758    8760                      Pressure Cooker     2600  1982.0  Action   \n",
       "9106    9108                                Krull     2600  1982.0  Action   \n",
       "15867  15870  Strongest Tokyo University Shogi DS       DS  1985.0  Action   \n",
       "\n",
       "                Publisher  NA_Sales  EU_Sales  JP_Sales  Other_Sales  \\\n",
       "298              Nintendo      1.22      0.28      2.46         0.04   \n",
       "421              Nintendo      0.73      0.10      2.35         0.02   \n",
       "452    Namco Bandai Games      1.92      0.45      0.64         0.07   \n",
       "638              Nintendo      1.27      0.32      0.78         0.05   \n",
       "737    Namco Bandai Games      0.15      0.00      2.05         0.00   \n",
       "...                   ...       ...       ...       ...          ...   \n",
       "8458   Avalon Interactive      0.15      0.01      0.00         0.00   \n",
       "8459   Mattel Interactive      0.15      0.01      0.00         0.00   \n",
       "8758           Activision      0.14      0.01      0.00         0.00   \n",
       "9106                Atari      0.13      0.01      0.00         0.00   \n",
       "15867               Mycom      0.00      0.00      0.02         0.00   \n",
       "\n",
       "       Global_Sales  \n",
       "298            4.01  \n",
       "421            3.20  \n",
       "452            3.08  \n",
       "638            2.42  \n",
       "737            2.20  \n",
       "...             ...  \n",
       "8458           0.17  \n",
       "8459           0.17  \n",
       "8758           0.15  \n",
       "9106           0.14  \n",
       "15867          0.02  \n",
       "\n",
       "[205 rows x 11 columns]"
      ]
     },
     "execution_count": 56,
     "metadata": {},
     "output_type": "execute_result"
    }
   ],
   "source": [
    "df_80.sort_values(by=['Genre', 'Global_Sales'], ascending=False)"
   ]
  },
  {
   "cell_type": "code",
   "execution_count": 61,
   "metadata": {},
   "outputs": [
    {
     "data": {
      "application/vnd.plotly.v1+json": {
       "config": {
        "plotlyServerURL": "https://plot.ly"
       },
       "data": [
        {
         "marker": {
          "color": "rgb(158,202,225)",
          "line": {
           "color": "rgb(8,48,107)",
           "width": 1.5
          }
         },
         "opacity": 0.6,
         "type": "bar",
         "x": [
          "Platform",
          "Puzzle",
          "Shooter",
          "Action",
          "Adventure",
          "Racing",
          "Sports",
          "Role-Playing",
          "Fighting",
          "Misc",
          "Simulation"
         ],
         "y": [
          40.24,
          30.26,
          28.31,
          18.14,
          17.28,
          7.81,
          7.46,
          6.51,
          5.58,
          5.34,
          4.5,
          4.38,
          4.31,
          4.17,
          4.16,
          4.01,
          3.87,
          3.5,
          3.2,
          3.08,
          3.02,
          2.76,
          2.73,
          2.65,
          2.56,
          2.52,
          2.42,
          2.4,
          2.28,
          2.2,
          2.2,
          2.17,
          2.15,
          2.14,
          2.14,
          2.13,
          2.12,
          1.99,
          1.97,
          1.96,
          1.96,
          1.94,
          1.85,
          1.76,
          1.67,
          1.65,
          1.64,
          1.64,
          1.61,
          1.6,
          1.59,
          1.56,
          1.52,
          1.52,
          1.51,
          1.5,
          1.5,
          1.46,
          1.45,
          1.43,
          1.42,
          1.36,
          1.36,
          1.32,
          1.31,
          1.28,
          1.27,
          1.27,
          1.25,
          1.25,
          1.23,
          1.22,
          1.2,
          1.2,
          1.2,
          1.18,
          1.18,
          1.15,
          1.15,
          1.14,
          1.13,
          1.12,
          1.11,
          1.1,
          1.1,
          1.1,
          1.1,
          1.1,
          1.1,
          1.08,
          1.05,
          1.05,
          1.05,
          1.05,
          1.03,
          1,
          0.97,
          0.96,
          0.93,
          0.93,
          0.92,
          0.87,
          0.85,
          0.84,
          0.82,
          0.82,
          0.81,
          0.79,
          0.78,
          0.78,
          0.77,
          0.77,
          0.77,
          0.77,
          0.76,
          0.73,
          0.72,
          0.69,
          0.69,
          0.67,
          0.66,
          0.65,
          0.63,
          0.62,
          0.62,
          0.59,
          0.59,
          0.58,
          0.57,
          0.55,
          0.54,
          0.54,
          0.51,
          0.51,
          0.5,
          0.5,
          0.5,
          0.5,
          0.5,
          0.49,
          0.48,
          0.48,
          0.47,
          0.47,
          0.46,
          0.45,
          0.45,
          0.45,
          0.45,
          0.43,
          0.41,
          0.4,
          0.4,
          0.4,
          0.39,
          0.39,
          0.39,
          0.38,
          0.37,
          0.37,
          0.36,
          0.34,
          0.34,
          0.34,
          0.34,
          0.34,
          0.34,
          0.33,
          0.33,
          0.32,
          0.31,
          0.31,
          0.29,
          0.29,
          0.29,
          0.28,
          0.27,
          0.27,
          0.27,
          0.26,
          0.26,
          0.25,
          0.24,
          0.24,
          0.24,
          0.24,
          0.22,
          0.22,
          0.22,
          0.22,
          0.21,
          0.19,
          0.17,
          0.17,
          0.17,
          0.15,
          0.15,
          0.14,
          0.13,
          0.08,
          0.07,
          0.06,
          0.03,
          0.03,
          0.02
         ]
        }
       ],
       "layout": {
        "template": {
         "data": {
          "bar": [
           {
            "error_x": {
             "color": "#2a3f5f"
            },
            "error_y": {
             "color": "#2a3f5f"
            },
            "marker": {
             "line": {
              "color": "#E5ECF6",
              "width": 0.5
             }
            },
            "type": "bar"
           }
          ],
          "barpolar": [
           {
            "marker": {
             "line": {
              "color": "#E5ECF6",
              "width": 0.5
             }
            },
            "type": "barpolar"
           }
          ],
          "carpet": [
           {
            "aaxis": {
             "endlinecolor": "#2a3f5f",
             "gridcolor": "white",
             "linecolor": "white",
             "minorgridcolor": "white",
             "startlinecolor": "#2a3f5f"
            },
            "baxis": {
             "endlinecolor": "#2a3f5f",
             "gridcolor": "white",
             "linecolor": "white",
             "minorgridcolor": "white",
             "startlinecolor": "#2a3f5f"
            },
            "type": "carpet"
           }
          ],
          "choropleth": [
           {
            "colorbar": {
             "outlinewidth": 0,
             "ticks": ""
            },
            "type": "choropleth"
           }
          ],
          "contour": [
           {
            "colorbar": {
             "outlinewidth": 0,
             "ticks": ""
            },
            "colorscale": [
             [
              0,
              "#0d0887"
             ],
             [
              0.1111111111111111,
              "#46039f"
             ],
             [
              0.2222222222222222,
              "#7201a8"
             ],
             [
              0.3333333333333333,
              "#9c179e"
             ],
             [
              0.4444444444444444,
              "#bd3786"
             ],
             [
              0.5555555555555556,
              "#d8576b"
             ],
             [
              0.6666666666666666,
              "#ed7953"
             ],
             [
              0.7777777777777778,
              "#fb9f3a"
             ],
             [
              0.8888888888888888,
              "#fdca26"
             ],
             [
              1,
              "#f0f921"
             ]
            ],
            "type": "contour"
           }
          ],
          "contourcarpet": [
           {
            "colorbar": {
             "outlinewidth": 0,
             "ticks": ""
            },
            "type": "contourcarpet"
           }
          ],
          "heatmap": [
           {
            "colorbar": {
             "outlinewidth": 0,
             "ticks": ""
            },
            "colorscale": [
             [
              0,
              "#0d0887"
             ],
             [
              0.1111111111111111,
              "#46039f"
             ],
             [
              0.2222222222222222,
              "#7201a8"
             ],
             [
              0.3333333333333333,
              "#9c179e"
             ],
             [
              0.4444444444444444,
              "#bd3786"
             ],
             [
              0.5555555555555556,
              "#d8576b"
             ],
             [
              0.6666666666666666,
              "#ed7953"
             ],
             [
              0.7777777777777778,
              "#fb9f3a"
             ],
             [
              0.8888888888888888,
              "#fdca26"
             ],
             [
              1,
              "#f0f921"
             ]
            ],
            "type": "heatmap"
           }
          ],
          "heatmapgl": [
           {
            "colorbar": {
             "outlinewidth": 0,
             "ticks": ""
            },
            "colorscale": [
             [
              0,
              "#0d0887"
             ],
             [
              0.1111111111111111,
              "#46039f"
             ],
             [
              0.2222222222222222,
              "#7201a8"
             ],
             [
              0.3333333333333333,
              "#9c179e"
             ],
             [
              0.4444444444444444,
              "#bd3786"
             ],
             [
              0.5555555555555556,
              "#d8576b"
             ],
             [
              0.6666666666666666,
              "#ed7953"
             ],
             [
              0.7777777777777778,
              "#fb9f3a"
             ],
             [
              0.8888888888888888,
              "#fdca26"
             ],
             [
              1,
              "#f0f921"
             ]
            ],
            "type": "heatmapgl"
           }
          ],
          "histogram": [
           {
            "marker": {
             "colorbar": {
              "outlinewidth": 0,
              "ticks": ""
             }
            },
            "type": "histogram"
           }
          ],
          "histogram2d": [
           {
            "colorbar": {
             "outlinewidth": 0,
             "ticks": ""
            },
            "colorscale": [
             [
              0,
              "#0d0887"
             ],
             [
              0.1111111111111111,
              "#46039f"
             ],
             [
              0.2222222222222222,
              "#7201a8"
             ],
             [
              0.3333333333333333,
              "#9c179e"
             ],
             [
              0.4444444444444444,
              "#bd3786"
             ],
             [
              0.5555555555555556,
              "#d8576b"
             ],
             [
              0.6666666666666666,
              "#ed7953"
             ],
             [
              0.7777777777777778,
              "#fb9f3a"
             ],
             [
              0.8888888888888888,
              "#fdca26"
             ],
             [
              1,
              "#f0f921"
             ]
            ],
            "type": "histogram2d"
           }
          ],
          "histogram2dcontour": [
           {
            "colorbar": {
             "outlinewidth": 0,
             "ticks": ""
            },
            "colorscale": [
             [
              0,
              "#0d0887"
             ],
             [
              0.1111111111111111,
              "#46039f"
             ],
             [
              0.2222222222222222,
              "#7201a8"
             ],
             [
              0.3333333333333333,
              "#9c179e"
             ],
             [
              0.4444444444444444,
              "#bd3786"
             ],
             [
              0.5555555555555556,
              "#d8576b"
             ],
             [
              0.6666666666666666,
              "#ed7953"
             ],
             [
              0.7777777777777778,
              "#fb9f3a"
             ],
             [
              0.8888888888888888,
              "#fdca26"
             ],
             [
              1,
              "#f0f921"
             ]
            ],
            "type": "histogram2dcontour"
           }
          ],
          "mesh3d": [
           {
            "colorbar": {
             "outlinewidth": 0,
             "ticks": ""
            },
            "type": "mesh3d"
           }
          ],
          "parcoords": [
           {
            "line": {
             "colorbar": {
              "outlinewidth": 0,
              "ticks": ""
             }
            },
            "type": "parcoords"
           }
          ],
          "pie": [
           {
            "automargin": true,
            "type": "pie"
           }
          ],
          "scatter": [
           {
            "marker": {
             "colorbar": {
              "outlinewidth": 0,
              "ticks": ""
             }
            },
            "type": "scatter"
           }
          ],
          "scatter3d": [
           {
            "line": {
             "colorbar": {
              "outlinewidth": 0,
              "ticks": ""
             }
            },
            "marker": {
             "colorbar": {
              "outlinewidth": 0,
              "ticks": ""
             }
            },
            "type": "scatter3d"
           }
          ],
          "scattercarpet": [
           {
            "marker": {
             "colorbar": {
              "outlinewidth": 0,
              "ticks": ""
             }
            },
            "type": "scattercarpet"
           }
          ],
          "scattergeo": [
           {
            "marker": {
             "colorbar": {
              "outlinewidth": 0,
              "ticks": ""
             }
            },
            "type": "scattergeo"
           }
          ],
          "scattergl": [
           {
            "marker": {
             "colorbar": {
              "outlinewidth": 0,
              "ticks": ""
             }
            },
            "type": "scattergl"
           }
          ],
          "scattermapbox": [
           {
            "marker": {
             "colorbar": {
              "outlinewidth": 0,
              "ticks": ""
             }
            },
            "type": "scattermapbox"
           }
          ],
          "scatterpolar": [
           {
            "marker": {
             "colorbar": {
              "outlinewidth": 0,
              "ticks": ""
             }
            },
            "type": "scatterpolar"
           }
          ],
          "scatterpolargl": [
           {
            "marker": {
             "colorbar": {
              "outlinewidth": 0,
              "ticks": ""
             }
            },
            "type": "scatterpolargl"
           }
          ],
          "scatterternary": [
           {
            "marker": {
             "colorbar": {
              "outlinewidth": 0,
              "ticks": ""
             }
            },
            "type": "scatterternary"
           }
          ],
          "surface": [
           {
            "colorbar": {
             "outlinewidth": 0,
             "ticks": ""
            },
            "colorscale": [
             [
              0,
              "#0d0887"
             ],
             [
              0.1111111111111111,
              "#46039f"
             ],
             [
              0.2222222222222222,
              "#7201a8"
             ],
             [
              0.3333333333333333,
              "#9c179e"
             ],
             [
              0.4444444444444444,
              "#bd3786"
             ],
             [
              0.5555555555555556,
              "#d8576b"
             ],
             [
              0.6666666666666666,
              "#ed7953"
             ],
             [
              0.7777777777777778,
              "#fb9f3a"
             ],
             [
              0.8888888888888888,
              "#fdca26"
             ],
             [
              1,
              "#f0f921"
             ]
            ],
            "type": "surface"
           }
          ],
          "table": [
           {
            "cells": {
             "fill": {
              "color": "#EBF0F8"
             },
             "line": {
              "color": "white"
             }
            },
            "header": {
             "fill": {
              "color": "#C8D4E3"
             },
             "line": {
              "color": "white"
             }
            },
            "type": "table"
           }
          ]
         },
         "layout": {
          "annotationdefaults": {
           "arrowcolor": "#2a3f5f",
           "arrowhead": 0,
           "arrowwidth": 1
          },
          "coloraxis": {
           "colorbar": {
            "outlinewidth": 0,
            "ticks": ""
           }
          },
          "colorscale": {
           "diverging": [
            [
             0,
             "#8e0152"
            ],
            [
             0.1,
             "#c51b7d"
            ],
            [
             0.2,
             "#de77ae"
            ],
            [
             0.3,
             "#f1b6da"
            ],
            [
             0.4,
             "#fde0ef"
            ],
            [
             0.5,
             "#f7f7f7"
            ],
            [
             0.6,
             "#e6f5d0"
            ],
            [
             0.7,
             "#b8e186"
            ],
            [
             0.8,
             "#7fbc41"
            ],
            [
             0.9,
             "#4d9221"
            ],
            [
             1,
             "#276419"
            ]
           ],
           "sequential": [
            [
             0,
             "#0d0887"
            ],
            [
             0.1111111111111111,
             "#46039f"
            ],
            [
             0.2222222222222222,
             "#7201a8"
            ],
            [
             0.3333333333333333,
             "#9c179e"
            ],
            [
             0.4444444444444444,
             "#bd3786"
            ],
            [
             0.5555555555555556,
             "#d8576b"
            ],
            [
             0.6666666666666666,
             "#ed7953"
            ],
            [
             0.7777777777777778,
             "#fb9f3a"
            ],
            [
             0.8888888888888888,
             "#fdca26"
            ],
            [
             1,
             "#f0f921"
            ]
           ],
           "sequentialminus": [
            [
             0,
             "#0d0887"
            ],
            [
             0.1111111111111111,
             "#46039f"
            ],
            [
             0.2222222222222222,
             "#7201a8"
            ],
            [
             0.3333333333333333,
             "#9c179e"
            ],
            [
             0.4444444444444444,
             "#bd3786"
            ],
            [
             0.5555555555555556,
             "#d8576b"
            ],
            [
             0.6666666666666666,
             "#ed7953"
            ],
            [
             0.7777777777777778,
             "#fb9f3a"
            ],
            [
             0.8888888888888888,
             "#fdca26"
            ],
            [
             1,
             "#f0f921"
            ]
           ]
          },
          "colorway": [
           "#636efa",
           "#EF553B",
           "#00cc96",
           "#ab63fa",
           "#FFA15A",
           "#19d3f3",
           "#FF6692",
           "#B6E880",
           "#FF97FF",
           "#FECB52"
          ],
          "font": {
           "color": "#2a3f5f"
          },
          "geo": {
           "bgcolor": "white",
           "lakecolor": "white",
           "landcolor": "#E5ECF6",
           "showlakes": true,
           "showland": true,
           "subunitcolor": "white"
          },
          "hoverlabel": {
           "align": "left"
          },
          "hovermode": "closest",
          "mapbox": {
           "style": "light"
          },
          "paper_bgcolor": "white",
          "plot_bgcolor": "#E5ECF6",
          "polar": {
           "angularaxis": {
            "gridcolor": "white",
            "linecolor": "white",
            "ticks": ""
           },
           "bgcolor": "#E5ECF6",
           "radialaxis": {
            "gridcolor": "white",
            "linecolor": "white",
            "ticks": ""
           }
          },
          "scene": {
           "xaxis": {
            "backgroundcolor": "#E5ECF6",
            "gridcolor": "white",
            "gridwidth": 2,
            "linecolor": "white",
            "showbackground": true,
            "ticks": "",
            "zerolinecolor": "white"
           },
           "yaxis": {
            "backgroundcolor": "#E5ECF6",
            "gridcolor": "white",
            "gridwidth": 2,
            "linecolor": "white",
            "showbackground": true,
            "ticks": "",
            "zerolinecolor": "white"
           },
           "zaxis": {
            "backgroundcolor": "#E5ECF6",
            "gridcolor": "white",
            "gridwidth": 2,
            "linecolor": "white",
            "showbackground": true,
            "ticks": "",
            "zerolinecolor": "white"
           }
          },
          "shapedefaults": {
           "line": {
            "color": "#2a3f5f"
           }
          },
          "ternary": {
           "aaxis": {
            "gridcolor": "white",
            "linecolor": "white",
            "ticks": ""
           },
           "baxis": {
            "gridcolor": "white",
            "linecolor": "white",
            "ticks": ""
           },
           "bgcolor": "#E5ECF6",
           "caxis": {
            "gridcolor": "white",
            "linecolor": "white",
            "ticks": ""
           }
          },
          "title": {
           "x": 0.05
          },
          "xaxis": {
           "automargin": true,
           "gridcolor": "white",
           "linecolor": "white",
           "ticks": "",
           "title": {
            "standoff": 15
           },
           "zerolinecolor": "white",
           "zerolinewidth": 2
          },
          "yaxis": {
           "automargin": true,
           "gridcolor": "white",
           "linecolor": "white",
           "ticks": "",
           "title": {
            "standoff": 15
           },
           "zerolinecolor": "white",
           "zerolinewidth": 2
          }
         }
        },
        "title": {
         "text": "Distribuição de vendas globais por genero na decada de 80"
        }
       }
      },
      "text/html": [
       "<div>                            <div id=\"7cc63adb-9397-436d-9d6d-b171baca426b\" class=\"plotly-graph-div\" style=\"height:525px; width:100%;\"></div>            <script type=\"text/javascript\">                require([\"plotly\"], function(Plotly) {                    window.PLOTLYENV=window.PLOTLYENV || {};                                    if (document.getElementById(\"7cc63adb-9397-436d-9d6d-b171baca426b\")) {                    Plotly.newPlot(                        \"7cc63adb-9397-436d-9d6d-b171baca426b\",                        [{\"marker\": {\"color\": \"rgb(158,202,225)\", \"line\": {\"color\": \"rgb(8,48,107)\", \"width\": 1.5}}, \"opacity\": 0.6, \"type\": \"bar\", \"x\": [\"Platform\", \"Puzzle\", \"Shooter\", \"Action\", \"Adventure\", \"Racing\", \"Sports\", \"Role-Playing\", \"Fighting\", \"Misc\", \"Simulation\"], \"y\": [40.24, 30.26, 28.31, 18.14, 17.28, 7.81, 7.46, 6.51, 5.58, 5.34, 4.5, 4.38, 4.31, 4.17, 4.16, 4.01, 3.87, 3.5, 3.2, 3.08, 3.02, 2.76, 2.73, 2.65, 2.56, 2.52, 2.42, 2.4, 2.28, 2.2, 2.2, 2.17, 2.15, 2.14, 2.14, 2.13, 2.12, 1.99, 1.97, 1.96, 1.96, 1.94, 1.85, 1.76, 1.67, 1.65, 1.64, 1.64, 1.61, 1.6, 1.59, 1.56, 1.52, 1.52, 1.51, 1.5, 1.5, 1.46, 1.45, 1.43, 1.42, 1.36, 1.36, 1.32, 1.31, 1.28, 1.27, 1.27, 1.25, 1.25, 1.23, 1.22, 1.2, 1.2, 1.2, 1.18, 1.18, 1.15, 1.15, 1.14, 1.13, 1.12, 1.11, 1.1, 1.1, 1.1, 1.1, 1.1, 1.1, 1.08, 1.05, 1.05, 1.05, 1.05, 1.03, 1.0, 0.97, 0.96, 0.93, 0.93, 0.92, 0.87, 0.85, 0.84, 0.82, 0.82, 0.81, 0.79, 0.78, 0.78, 0.77, 0.77, 0.77, 0.77, 0.76, 0.73, 0.72, 0.69, 0.69, 0.67, 0.66, 0.65, 0.63, 0.62, 0.62, 0.59, 0.59, 0.58, 0.57, 0.55, 0.54, 0.54, 0.51, 0.51, 0.5, 0.5, 0.5, 0.5, 0.5, 0.49, 0.48, 0.48, 0.47, 0.47, 0.46, 0.45, 0.45, 0.45, 0.45, 0.43, 0.41, 0.4, 0.4, 0.4, 0.39, 0.39, 0.39, 0.38, 0.37, 0.37, 0.36, 0.34, 0.34, 0.34, 0.34, 0.34, 0.34, 0.33, 0.33, 0.32, 0.31, 0.31, 0.29, 0.29, 0.29, 0.28, 0.27, 0.27, 0.27, 0.26, 0.26, 0.25, 0.24, 0.24, 0.24, 0.24, 0.22, 0.22, 0.22, 0.22, 0.21, 0.19, 0.17, 0.17, 0.17, 0.15, 0.15, 0.14, 0.13, 0.08, 0.07, 0.06, 0.03, 0.03, 0.02]}],                        {\"template\": {\"data\": {\"bar\": [{\"error_x\": {\"color\": \"#2a3f5f\"}, \"error_y\": {\"color\": \"#2a3f5f\"}, \"marker\": {\"line\": {\"color\": \"#E5ECF6\", \"width\": 0.5}}, \"type\": \"bar\"}], \"barpolar\": [{\"marker\": {\"line\": {\"color\": \"#E5ECF6\", \"width\": 0.5}}, \"type\": \"barpolar\"}], \"carpet\": [{\"aaxis\": {\"endlinecolor\": \"#2a3f5f\", \"gridcolor\": \"white\", \"linecolor\": \"white\", \"minorgridcolor\": \"white\", \"startlinecolor\": \"#2a3f5f\"}, \"baxis\": {\"endlinecolor\": \"#2a3f5f\", \"gridcolor\": \"white\", \"linecolor\": \"white\", \"minorgridcolor\": \"white\", \"startlinecolor\": \"#2a3f5f\"}, \"type\": \"carpet\"}], \"choropleth\": [{\"colorbar\": {\"outlinewidth\": 0, \"ticks\": \"\"}, \"type\": \"choropleth\"}], \"contour\": [{\"colorbar\": {\"outlinewidth\": 0, \"ticks\": \"\"}, \"colorscale\": [[0.0, \"#0d0887\"], [0.1111111111111111, \"#46039f\"], [0.2222222222222222, \"#7201a8\"], [0.3333333333333333, \"#9c179e\"], [0.4444444444444444, \"#bd3786\"], [0.5555555555555556, \"#d8576b\"], [0.6666666666666666, \"#ed7953\"], [0.7777777777777778, \"#fb9f3a\"], [0.8888888888888888, \"#fdca26\"], [1.0, \"#f0f921\"]], \"type\": \"contour\"}], \"contourcarpet\": [{\"colorbar\": {\"outlinewidth\": 0, \"ticks\": \"\"}, \"type\": \"contourcarpet\"}], \"heatmap\": [{\"colorbar\": {\"outlinewidth\": 0, \"ticks\": \"\"}, \"colorscale\": [[0.0, \"#0d0887\"], [0.1111111111111111, \"#46039f\"], [0.2222222222222222, \"#7201a8\"], [0.3333333333333333, \"#9c179e\"], [0.4444444444444444, \"#bd3786\"], [0.5555555555555556, \"#d8576b\"], [0.6666666666666666, \"#ed7953\"], [0.7777777777777778, \"#fb9f3a\"], [0.8888888888888888, \"#fdca26\"], [1.0, \"#f0f921\"]], \"type\": \"heatmap\"}], \"heatmapgl\": [{\"colorbar\": {\"outlinewidth\": 0, \"ticks\": \"\"}, \"colorscale\": [[0.0, \"#0d0887\"], [0.1111111111111111, \"#46039f\"], [0.2222222222222222, \"#7201a8\"], [0.3333333333333333, \"#9c179e\"], [0.4444444444444444, \"#bd3786\"], [0.5555555555555556, \"#d8576b\"], [0.6666666666666666, \"#ed7953\"], [0.7777777777777778, \"#fb9f3a\"], [0.8888888888888888, \"#fdca26\"], [1.0, \"#f0f921\"]], \"type\": \"heatmapgl\"}], \"histogram\": [{\"marker\": {\"colorbar\": {\"outlinewidth\": 0, \"ticks\": \"\"}}, \"type\": \"histogram\"}], \"histogram2d\": [{\"colorbar\": {\"outlinewidth\": 0, \"ticks\": \"\"}, \"colorscale\": [[0.0, \"#0d0887\"], [0.1111111111111111, \"#46039f\"], [0.2222222222222222, \"#7201a8\"], [0.3333333333333333, \"#9c179e\"], [0.4444444444444444, \"#bd3786\"], [0.5555555555555556, \"#d8576b\"], [0.6666666666666666, \"#ed7953\"], [0.7777777777777778, \"#fb9f3a\"], [0.8888888888888888, \"#fdca26\"], [1.0, \"#f0f921\"]], \"type\": \"histogram2d\"}], \"histogram2dcontour\": [{\"colorbar\": {\"outlinewidth\": 0, \"ticks\": \"\"}, \"colorscale\": [[0.0, \"#0d0887\"], [0.1111111111111111, \"#46039f\"], [0.2222222222222222, \"#7201a8\"], [0.3333333333333333, \"#9c179e\"], [0.4444444444444444, \"#bd3786\"], [0.5555555555555556, \"#d8576b\"], [0.6666666666666666, \"#ed7953\"], [0.7777777777777778, \"#fb9f3a\"], [0.8888888888888888, \"#fdca26\"], [1.0, \"#f0f921\"]], \"type\": \"histogram2dcontour\"}], \"mesh3d\": [{\"colorbar\": {\"outlinewidth\": 0, \"ticks\": \"\"}, \"type\": \"mesh3d\"}], \"parcoords\": [{\"line\": {\"colorbar\": {\"outlinewidth\": 0, \"ticks\": \"\"}}, \"type\": \"parcoords\"}], \"pie\": [{\"automargin\": true, \"type\": \"pie\"}], \"scatter\": [{\"marker\": {\"colorbar\": {\"outlinewidth\": 0, \"ticks\": \"\"}}, \"type\": \"scatter\"}], \"scatter3d\": [{\"line\": {\"colorbar\": {\"outlinewidth\": 0, \"ticks\": \"\"}}, \"marker\": {\"colorbar\": {\"outlinewidth\": 0, \"ticks\": \"\"}}, \"type\": \"scatter3d\"}], \"scattercarpet\": [{\"marker\": {\"colorbar\": {\"outlinewidth\": 0, \"ticks\": \"\"}}, \"type\": \"scattercarpet\"}], \"scattergeo\": [{\"marker\": {\"colorbar\": {\"outlinewidth\": 0, \"ticks\": \"\"}}, \"type\": \"scattergeo\"}], \"scattergl\": [{\"marker\": {\"colorbar\": {\"outlinewidth\": 0, \"ticks\": \"\"}}, \"type\": \"scattergl\"}], \"scattermapbox\": [{\"marker\": {\"colorbar\": {\"outlinewidth\": 0, \"ticks\": \"\"}}, \"type\": \"scattermapbox\"}], \"scatterpolar\": [{\"marker\": {\"colorbar\": {\"outlinewidth\": 0, \"ticks\": \"\"}}, \"type\": \"scatterpolar\"}], \"scatterpolargl\": [{\"marker\": {\"colorbar\": {\"outlinewidth\": 0, \"ticks\": \"\"}}, \"type\": \"scatterpolargl\"}], \"scatterternary\": [{\"marker\": {\"colorbar\": {\"outlinewidth\": 0, \"ticks\": \"\"}}, \"type\": \"scatterternary\"}], \"surface\": [{\"colorbar\": {\"outlinewidth\": 0, \"ticks\": \"\"}, \"colorscale\": [[0.0, \"#0d0887\"], [0.1111111111111111, \"#46039f\"], [0.2222222222222222, \"#7201a8\"], [0.3333333333333333, \"#9c179e\"], [0.4444444444444444, \"#bd3786\"], [0.5555555555555556, \"#d8576b\"], [0.6666666666666666, \"#ed7953\"], [0.7777777777777778, \"#fb9f3a\"], [0.8888888888888888, \"#fdca26\"], [1.0, \"#f0f921\"]], \"type\": \"surface\"}], \"table\": [{\"cells\": {\"fill\": {\"color\": \"#EBF0F8\"}, \"line\": {\"color\": \"white\"}}, \"header\": {\"fill\": {\"color\": \"#C8D4E3\"}, \"line\": {\"color\": \"white\"}}, \"type\": \"table\"}]}, \"layout\": {\"annotationdefaults\": {\"arrowcolor\": \"#2a3f5f\", \"arrowhead\": 0, \"arrowwidth\": 1}, \"coloraxis\": {\"colorbar\": {\"outlinewidth\": 0, \"ticks\": \"\"}}, \"colorscale\": {\"diverging\": [[0, \"#8e0152\"], [0.1, \"#c51b7d\"], [0.2, \"#de77ae\"], [0.3, \"#f1b6da\"], [0.4, \"#fde0ef\"], [0.5, \"#f7f7f7\"], [0.6, \"#e6f5d0\"], [0.7, \"#b8e186\"], [0.8, \"#7fbc41\"], [0.9, \"#4d9221\"], [1, \"#276419\"]], \"sequential\": [[0.0, \"#0d0887\"], [0.1111111111111111, \"#46039f\"], [0.2222222222222222, \"#7201a8\"], [0.3333333333333333, \"#9c179e\"], [0.4444444444444444, \"#bd3786\"], [0.5555555555555556, \"#d8576b\"], [0.6666666666666666, \"#ed7953\"], [0.7777777777777778, \"#fb9f3a\"], [0.8888888888888888, \"#fdca26\"], [1.0, \"#f0f921\"]], \"sequentialminus\": [[0.0, \"#0d0887\"], [0.1111111111111111, \"#46039f\"], [0.2222222222222222, \"#7201a8\"], [0.3333333333333333, \"#9c179e\"], [0.4444444444444444, \"#bd3786\"], [0.5555555555555556, \"#d8576b\"], [0.6666666666666666, \"#ed7953\"], [0.7777777777777778, \"#fb9f3a\"], [0.8888888888888888, \"#fdca26\"], [1.0, \"#f0f921\"]]}, \"colorway\": [\"#636efa\", \"#EF553B\", \"#00cc96\", \"#ab63fa\", \"#FFA15A\", \"#19d3f3\", \"#FF6692\", \"#B6E880\", \"#FF97FF\", \"#FECB52\"], \"font\": {\"color\": \"#2a3f5f\"}, \"geo\": {\"bgcolor\": \"white\", \"lakecolor\": \"white\", \"landcolor\": \"#E5ECF6\", \"showlakes\": true, \"showland\": true, \"subunitcolor\": \"white\"}, \"hoverlabel\": {\"align\": \"left\"}, \"hovermode\": \"closest\", \"mapbox\": {\"style\": \"light\"}, \"paper_bgcolor\": \"white\", \"plot_bgcolor\": \"#E5ECF6\", \"polar\": {\"angularaxis\": {\"gridcolor\": \"white\", \"linecolor\": \"white\", \"ticks\": \"\"}, \"bgcolor\": \"#E5ECF6\", \"radialaxis\": {\"gridcolor\": \"white\", \"linecolor\": \"white\", \"ticks\": \"\"}}, \"scene\": {\"xaxis\": {\"backgroundcolor\": \"#E5ECF6\", \"gridcolor\": \"white\", \"gridwidth\": 2, \"linecolor\": \"white\", \"showbackground\": true, \"ticks\": \"\", \"zerolinecolor\": \"white\"}, \"yaxis\": {\"backgroundcolor\": \"#E5ECF6\", \"gridcolor\": \"white\", \"gridwidth\": 2, \"linecolor\": \"white\", \"showbackground\": true, \"ticks\": \"\", \"zerolinecolor\": \"white\"}, \"zaxis\": {\"backgroundcolor\": \"#E5ECF6\", \"gridcolor\": \"white\", \"gridwidth\": 2, \"linecolor\": \"white\", \"showbackground\": true, \"ticks\": \"\", \"zerolinecolor\": \"white\"}}, \"shapedefaults\": {\"line\": {\"color\": \"#2a3f5f\"}}, \"ternary\": {\"aaxis\": {\"gridcolor\": \"white\", \"linecolor\": \"white\", \"ticks\": \"\"}, \"baxis\": {\"gridcolor\": \"white\", \"linecolor\": \"white\", \"ticks\": \"\"}, \"bgcolor\": \"#E5ECF6\", \"caxis\": {\"gridcolor\": \"white\", \"linecolor\": \"white\", \"ticks\": \"\"}}, \"title\": {\"x\": 0.05}, \"xaxis\": {\"automargin\": true, \"gridcolor\": \"white\", \"linecolor\": \"white\", \"ticks\": \"\", \"title\": {\"standoff\": 15}, \"zerolinecolor\": \"white\", \"zerolinewidth\": 2}, \"yaxis\": {\"automargin\": true, \"gridcolor\": \"white\", \"linecolor\": \"white\", \"ticks\": \"\", \"title\": {\"standoff\": 15}, \"zerolinecolor\": \"white\", \"zerolinewidth\": 2}}}, \"title\": {\"text\": \"Distribui\\u00e7\\u00e3o de vendas globais por genero na decada de 80\"}},                        {\"responsive\": true}                    ).then(function(){\n",
       "                            \n",
       "var gd = document.getElementById('7cc63adb-9397-436d-9d6d-b171baca426b');\n",
       "var x = new MutationObserver(function (mutations, observer) {{\n",
       "        var display = window.getComputedStyle(gd).display;\n",
       "        if (!display || display === 'none') {{\n",
       "            console.log([gd, 'removed!']);\n",
       "            Plotly.purge(gd);\n",
       "            observer.disconnect();\n",
       "        }}\n",
       "}});\n",
       "\n",
       "// Listen for the removal of the full notebook cells\n",
       "var notebookContainer = gd.closest('#notebook-container');\n",
       "if (notebookContainer) {{\n",
       "    x.observe(notebookContainer, {childList: true});\n",
       "}}\n",
       "\n",
       "// Listen for the clearing of the current output cell\n",
       "var outputEl = gd.closest('.output');\n",
       "if (outputEl) {{\n",
       "    x.observe(outputEl, {childList: true});\n",
       "}}\n",
       "\n",
       "                        })                };                });            </script>        </div>"
      ]
     },
     "metadata": {},
     "output_type": "display_data"
    },
    {
     "data": {
      "application/vnd.plotly.v1+json": {
       "config": {
        "plotlyServerURL": "https://plot.ly"
       },
       "data": [
        {
         "domain": {
          "x": [
           0,
           1
          ],
          "y": [
           0,
           1
          ]
         },
         "hovertemplate": "Genre=%{label}<br>Global_Sales=%{value}<extra></extra>",
         "labels": [
          "Platform",
          "Puzzle",
          "Shooter",
          "Platform",
          "Platform",
          "Puzzle",
          "Platform",
          "Action",
          "Puzzle",
          "Puzzle",
          "Platform",
          "Adventure",
          "Shooter",
          "Action",
          "Racing",
          "Sports",
          "Role-Playing",
          "Action",
          "Sports",
          "Sports",
          "Fighting",
          "Shooter",
          "Action",
          "Platform",
          "Role-Playing",
          "Role-Playing",
          "Sports",
          "Fighting",
          "Platform",
          "Action",
          "Sports",
          "Sports",
          "Sports",
          "Misc",
          "Racing",
          "Shooter",
          "Sports",
          "Sports",
          "Action",
          "Racing",
          "Sports",
          "Puzzle",
          "Action",
          "Platform",
          "Platform",
          "Puzzle",
          "Puzzle",
          "Action",
          "Sports",
          "Shooter",
          "Platform",
          "Platform",
          "Racing",
          "Shooter",
          "Action",
          "Platform",
          "Platform",
          "Platform",
          "Misc",
          "Platform",
          "Sports",
          "Shooter",
          "Shooter",
          "Puzzle",
          "Platform",
          "Misc",
          "Shooter",
          "Shooter",
          "Role-Playing",
          "Role-Playing",
          "Platform",
          "Puzzle",
          "Shooter",
          "Platform",
          "Shooter",
          "Racing",
          "Sports",
          "Misc",
          "Action",
          "Action",
          "Platform",
          "Shooter",
          "Platform",
          "Shooter",
          "Platform",
          "Puzzle",
          "Role-Playing",
          "Role-Playing",
          "Platform",
          "Platform",
          "Shooter",
          "Misc",
          "Platform",
          "Fighting",
          "Puzzle",
          "Shooter",
          "Platform",
          "Shooter",
          "Action",
          "Platform",
          "Platform",
          "Misc",
          "Platform",
          "Role-Playing",
          "Puzzle",
          "Action",
          "Platform",
          "Action",
          "Shooter",
          "Puzzle",
          "Shooter",
          "Action",
          "Fighting",
          "Action",
          "Role-Playing",
          "Shooter",
          "Platform",
          "Action",
          "Platform",
          "Action",
          "Action",
          "Action",
          "Action",
          "Shooter",
          "Action",
          "Puzzle",
          "Action",
          "Puzzle",
          "Action",
          "Sports",
          "Action",
          "Platform",
          "Platform",
          "Shooter",
          "Action",
          "Shooter",
          "Sports",
          "Action",
          "Action",
          "Sports",
          "Shooter",
          "Racing",
          "Action",
          "Action",
          "Action",
          "Puzzle",
          "Simulation",
          "Shooter",
          "Action",
          "Action",
          "Puzzle",
          "Adventure",
          "Action",
          "Action",
          "Racing",
          "Action",
          "Action",
          "Action",
          "Shooter",
          "Action",
          "Action",
          "Action",
          "Action",
          "Action",
          "Action",
          "Action",
          "Shooter",
          "Action",
          "Action",
          "Action",
          "Action",
          "Action",
          "Sports",
          "Action",
          "Action",
          "Action",
          "Action",
          "Racing",
          "Misc",
          "Sports",
          "Shooter",
          "Action",
          "Action",
          "Misc",
          "Action",
          "Shooter",
          "Shooter",
          "Action",
          "Action",
          "Action",
          "Sports",
          "Sports",
          "Action",
          "Action",
          "Action",
          "Puzzle",
          "Action",
          "Action",
          "Sports",
          "Sports",
          "Sports",
          "Puzzle",
          "Simulation",
          "Simulation",
          "Action"
         ],
         "legendgroup": "",
         "name": "",
         "showlegend": true,
         "type": "pie",
         "values": [
          40.24,
          30.26,
          28.31,
          18.14,
          17.28,
          7.81,
          7.46,
          6.51,
          5.58,
          5.34,
          4.5,
          4.38,
          4.31,
          4.17,
          4.16,
          4.01,
          3.87,
          3.5,
          3.2,
          3.08,
          3.02,
          2.76,
          2.73,
          2.65,
          2.56,
          2.52,
          2.42,
          2.4,
          2.28,
          2.2,
          2.2,
          2.17,
          2.15,
          2.14,
          2.14,
          2.13,
          2.12,
          1.99,
          1.97,
          1.96,
          1.96,
          1.94,
          1.85,
          1.76,
          1.67,
          1.65,
          1.64,
          1.64,
          1.61,
          1.6,
          1.59,
          1.56,
          1.52,
          1.52,
          1.51,
          1.5,
          1.5,
          1.46,
          1.45,
          1.43,
          1.42,
          1.36,
          1.36,
          1.32,
          1.31,
          1.28,
          1.27,
          1.27,
          1.25,
          1.25,
          1.23,
          1.22,
          1.2,
          1.2,
          1.2,
          1.18,
          1.18,
          1.15,
          1.15,
          1.14,
          1.13,
          1.12,
          1.11,
          1.1,
          1.1,
          1.1,
          1.1,
          1.1,
          1.1,
          1.08,
          1.05,
          1.05,
          1.05,
          1.05,
          1.03,
          1,
          0.97,
          0.96,
          0.93,
          0.93,
          0.92,
          0.87,
          0.85,
          0.84,
          0.82,
          0.82,
          0.81,
          0.79,
          0.78,
          0.78,
          0.77,
          0.77,
          0.77,
          0.77,
          0.76,
          0.73,
          0.72,
          0.69,
          0.69,
          0.67,
          0.66,
          0.65,
          0.63,
          0.62,
          0.62,
          0.59,
          0.59,
          0.58,
          0.57,
          0.55,
          0.54,
          0.54,
          0.51,
          0.51,
          0.5,
          0.5,
          0.5,
          0.5,
          0.5,
          0.49,
          0.48,
          0.48,
          0.47,
          0.47,
          0.46,
          0.45,
          0.45,
          0.45,
          0.45,
          0.43,
          0.41,
          0.4,
          0.4,
          0.4,
          0.39,
          0.39,
          0.39,
          0.38,
          0.37,
          0.37,
          0.36,
          0.34,
          0.34,
          0.34,
          0.34,
          0.34,
          0.34,
          0.33,
          0.33,
          0.32,
          0.31,
          0.31,
          0.29,
          0.29,
          0.29,
          0.28,
          0.27,
          0.27,
          0.27,
          0.26,
          0.26,
          0.25,
          0.24,
          0.24,
          0.24,
          0.24,
          0.22,
          0.22,
          0.22,
          0.22,
          0.21,
          0.19,
          0.17,
          0.17,
          0.17,
          0.15,
          0.15,
          0.14,
          0.13,
          0.08,
          0.07,
          0.06,
          0.03,
          0.03,
          0.02
         ]
        }
       ],
       "layout": {
        "legend": {
         "tracegroupgap": 0
        },
        "template": {
         "data": {
          "bar": [
           {
            "error_x": {
             "color": "#2a3f5f"
            },
            "error_y": {
             "color": "#2a3f5f"
            },
            "marker": {
             "line": {
              "color": "#E5ECF6",
              "width": 0.5
             }
            },
            "type": "bar"
           }
          ],
          "barpolar": [
           {
            "marker": {
             "line": {
              "color": "#E5ECF6",
              "width": 0.5
             }
            },
            "type": "barpolar"
           }
          ],
          "carpet": [
           {
            "aaxis": {
             "endlinecolor": "#2a3f5f",
             "gridcolor": "white",
             "linecolor": "white",
             "minorgridcolor": "white",
             "startlinecolor": "#2a3f5f"
            },
            "baxis": {
             "endlinecolor": "#2a3f5f",
             "gridcolor": "white",
             "linecolor": "white",
             "minorgridcolor": "white",
             "startlinecolor": "#2a3f5f"
            },
            "type": "carpet"
           }
          ],
          "choropleth": [
           {
            "colorbar": {
             "outlinewidth": 0,
             "ticks": ""
            },
            "type": "choropleth"
           }
          ],
          "contour": [
           {
            "colorbar": {
             "outlinewidth": 0,
             "ticks": ""
            },
            "colorscale": [
             [
              0,
              "#0d0887"
             ],
             [
              0.1111111111111111,
              "#46039f"
             ],
             [
              0.2222222222222222,
              "#7201a8"
             ],
             [
              0.3333333333333333,
              "#9c179e"
             ],
             [
              0.4444444444444444,
              "#bd3786"
             ],
             [
              0.5555555555555556,
              "#d8576b"
             ],
             [
              0.6666666666666666,
              "#ed7953"
             ],
             [
              0.7777777777777778,
              "#fb9f3a"
             ],
             [
              0.8888888888888888,
              "#fdca26"
             ],
             [
              1,
              "#f0f921"
             ]
            ],
            "type": "contour"
           }
          ],
          "contourcarpet": [
           {
            "colorbar": {
             "outlinewidth": 0,
             "ticks": ""
            },
            "type": "contourcarpet"
           }
          ],
          "heatmap": [
           {
            "colorbar": {
             "outlinewidth": 0,
             "ticks": ""
            },
            "colorscale": [
             [
              0,
              "#0d0887"
             ],
             [
              0.1111111111111111,
              "#46039f"
             ],
             [
              0.2222222222222222,
              "#7201a8"
             ],
             [
              0.3333333333333333,
              "#9c179e"
             ],
             [
              0.4444444444444444,
              "#bd3786"
             ],
             [
              0.5555555555555556,
              "#d8576b"
             ],
             [
              0.6666666666666666,
              "#ed7953"
             ],
             [
              0.7777777777777778,
              "#fb9f3a"
             ],
             [
              0.8888888888888888,
              "#fdca26"
             ],
             [
              1,
              "#f0f921"
             ]
            ],
            "type": "heatmap"
           }
          ],
          "heatmapgl": [
           {
            "colorbar": {
             "outlinewidth": 0,
             "ticks": ""
            },
            "colorscale": [
             [
              0,
              "#0d0887"
             ],
             [
              0.1111111111111111,
              "#46039f"
             ],
             [
              0.2222222222222222,
              "#7201a8"
             ],
             [
              0.3333333333333333,
              "#9c179e"
             ],
             [
              0.4444444444444444,
              "#bd3786"
             ],
             [
              0.5555555555555556,
              "#d8576b"
             ],
             [
              0.6666666666666666,
              "#ed7953"
             ],
             [
              0.7777777777777778,
              "#fb9f3a"
             ],
             [
              0.8888888888888888,
              "#fdca26"
             ],
             [
              1,
              "#f0f921"
             ]
            ],
            "type": "heatmapgl"
           }
          ],
          "histogram": [
           {
            "marker": {
             "colorbar": {
              "outlinewidth": 0,
              "ticks": ""
             }
            },
            "type": "histogram"
           }
          ],
          "histogram2d": [
           {
            "colorbar": {
             "outlinewidth": 0,
             "ticks": ""
            },
            "colorscale": [
             [
              0,
              "#0d0887"
             ],
             [
              0.1111111111111111,
              "#46039f"
             ],
             [
              0.2222222222222222,
              "#7201a8"
             ],
             [
              0.3333333333333333,
              "#9c179e"
             ],
             [
              0.4444444444444444,
              "#bd3786"
             ],
             [
              0.5555555555555556,
              "#d8576b"
             ],
             [
              0.6666666666666666,
              "#ed7953"
             ],
             [
              0.7777777777777778,
              "#fb9f3a"
             ],
             [
              0.8888888888888888,
              "#fdca26"
             ],
             [
              1,
              "#f0f921"
             ]
            ],
            "type": "histogram2d"
           }
          ],
          "histogram2dcontour": [
           {
            "colorbar": {
             "outlinewidth": 0,
             "ticks": ""
            },
            "colorscale": [
             [
              0,
              "#0d0887"
             ],
             [
              0.1111111111111111,
              "#46039f"
             ],
             [
              0.2222222222222222,
              "#7201a8"
             ],
             [
              0.3333333333333333,
              "#9c179e"
             ],
             [
              0.4444444444444444,
              "#bd3786"
             ],
             [
              0.5555555555555556,
              "#d8576b"
             ],
             [
              0.6666666666666666,
              "#ed7953"
             ],
             [
              0.7777777777777778,
              "#fb9f3a"
             ],
             [
              0.8888888888888888,
              "#fdca26"
             ],
             [
              1,
              "#f0f921"
             ]
            ],
            "type": "histogram2dcontour"
           }
          ],
          "mesh3d": [
           {
            "colorbar": {
             "outlinewidth": 0,
             "ticks": ""
            },
            "type": "mesh3d"
           }
          ],
          "parcoords": [
           {
            "line": {
             "colorbar": {
              "outlinewidth": 0,
              "ticks": ""
             }
            },
            "type": "parcoords"
           }
          ],
          "pie": [
           {
            "automargin": true,
            "type": "pie"
           }
          ],
          "scatter": [
           {
            "marker": {
             "colorbar": {
              "outlinewidth": 0,
              "ticks": ""
             }
            },
            "type": "scatter"
           }
          ],
          "scatter3d": [
           {
            "line": {
             "colorbar": {
              "outlinewidth": 0,
              "ticks": ""
             }
            },
            "marker": {
             "colorbar": {
              "outlinewidth": 0,
              "ticks": ""
             }
            },
            "type": "scatter3d"
           }
          ],
          "scattercarpet": [
           {
            "marker": {
             "colorbar": {
              "outlinewidth": 0,
              "ticks": ""
             }
            },
            "type": "scattercarpet"
           }
          ],
          "scattergeo": [
           {
            "marker": {
             "colorbar": {
              "outlinewidth": 0,
              "ticks": ""
             }
            },
            "type": "scattergeo"
           }
          ],
          "scattergl": [
           {
            "marker": {
             "colorbar": {
              "outlinewidth": 0,
              "ticks": ""
             }
            },
            "type": "scattergl"
           }
          ],
          "scattermapbox": [
           {
            "marker": {
             "colorbar": {
              "outlinewidth": 0,
              "ticks": ""
             }
            },
            "type": "scattermapbox"
           }
          ],
          "scatterpolar": [
           {
            "marker": {
             "colorbar": {
              "outlinewidth": 0,
              "ticks": ""
             }
            },
            "type": "scatterpolar"
           }
          ],
          "scatterpolargl": [
           {
            "marker": {
             "colorbar": {
              "outlinewidth": 0,
              "ticks": ""
             }
            },
            "type": "scatterpolargl"
           }
          ],
          "scatterternary": [
           {
            "marker": {
             "colorbar": {
              "outlinewidth": 0,
              "ticks": ""
             }
            },
            "type": "scatterternary"
           }
          ],
          "surface": [
           {
            "colorbar": {
             "outlinewidth": 0,
             "ticks": ""
            },
            "colorscale": [
             [
              0,
              "#0d0887"
             ],
             [
              0.1111111111111111,
              "#46039f"
             ],
             [
              0.2222222222222222,
              "#7201a8"
             ],
             [
              0.3333333333333333,
              "#9c179e"
             ],
             [
              0.4444444444444444,
              "#bd3786"
             ],
             [
              0.5555555555555556,
              "#d8576b"
             ],
             [
              0.6666666666666666,
              "#ed7953"
             ],
             [
              0.7777777777777778,
              "#fb9f3a"
             ],
             [
              0.8888888888888888,
              "#fdca26"
             ],
             [
              1,
              "#f0f921"
             ]
            ],
            "type": "surface"
           }
          ],
          "table": [
           {
            "cells": {
             "fill": {
              "color": "#EBF0F8"
             },
             "line": {
              "color": "white"
             }
            },
            "header": {
             "fill": {
              "color": "#C8D4E3"
             },
             "line": {
              "color": "white"
             }
            },
            "type": "table"
           }
          ]
         },
         "layout": {
          "annotationdefaults": {
           "arrowcolor": "#2a3f5f",
           "arrowhead": 0,
           "arrowwidth": 1
          },
          "coloraxis": {
           "colorbar": {
            "outlinewidth": 0,
            "ticks": ""
           }
          },
          "colorscale": {
           "diverging": [
            [
             0,
             "#8e0152"
            ],
            [
             0.1,
             "#c51b7d"
            ],
            [
             0.2,
             "#de77ae"
            ],
            [
             0.3,
             "#f1b6da"
            ],
            [
             0.4,
             "#fde0ef"
            ],
            [
             0.5,
             "#f7f7f7"
            ],
            [
             0.6,
             "#e6f5d0"
            ],
            [
             0.7,
             "#b8e186"
            ],
            [
             0.8,
             "#7fbc41"
            ],
            [
             0.9,
             "#4d9221"
            ],
            [
             1,
             "#276419"
            ]
           ],
           "sequential": [
            [
             0,
             "#0d0887"
            ],
            [
             0.1111111111111111,
             "#46039f"
            ],
            [
             0.2222222222222222,
             "#7201a8"
            ],
            [
             0.3333333333333333,
             "#9c179e"
            ],
            [
             0.4444444444444444,
             "#bd3786"
            ],
            [
             0.5555555555555556,
             "#d8576b"
            ],
            [
             0.6666666666666666,
             "#ed7953"
            ],
            [
             0.7777777777777778,
             "#fb9f3a"
            ],
            [
             0.8888888888888888,
             "#fdca26"
            ],
            [
             1,
             "#f0f921"
            ]
           ],
           "sequentialminus": [
            [
             0,
             "#0d0887"
            ],
            [
             0.1111111111111111,
             "#46039f"
            ],
            [
             0.2222222222222222,
             "#7201a8"
            ],
            [
             0.3333333333333333,
             "#9c179e"
            ],
            [
             0.4444444444444444,
             "#bd3786"
            ],
            [
             0.5555555555555556,
             "#d8576b"
            ],
            [
             0.6666666666666666,
             "#ed7953"
            ],
            [
             0.7777777777777778,
             "#fb9f3a"
            ],
            [
             0.8888888888888888,
             "#fdca26"
            ],
            [
             1,
             "#f0f921"
            ]
           ]
          },
          "colorway": [
           "#636efa",
           "#EF553B",
           "#00cc96",
           "#ab63fa",
           "#FFA15A",
           "#19d3f3",
           "#FF6692",
           "#B6E880",
           "#FF97FF",
           "#FECB52"
          ],
          "font": {
           "color": "#2a3f5f"
          },
          "geo": {
           "bgcolor": "white",
           "lakecolor": "white",
           "landcolor": "#E5ECF6",
           "showlakes": true,
           "showland": true,
           "subunitcolor": "white"
          },
          "hoverlabel": {
           "align": "left"
          },
          "hovermode": "closest",
          "mapbox": {
           "style": "light"
          },
          "paper_bgcolor": "white",
          "plot_bgcolor": "#E5ECF6",
          "polar": {
           "angularaxis": {
            "gridcolor": "white",
            "linecolor": "white",
            "ticks": ""
           },
           "bgcolor": "#E5ECF6",
           "radialaxis": {
            "gridcolor": "white",
            "linecolor": "white",
            "ticks": ""
           }
          },
          "scene": {
           "xaxis": {
            "backgroundcolor": "#E5ECF6",
            "gridcolor": "white",
            "gridwidth": 2,
            "linecolor": "white",
            "showbackground": true,
            "ticks": "",
            "zerolinecolor": "white"
           },
           "yaxis": {
            "backgroundcolor": "#E5ECF6",
            "gridcolor": "white",
            "gridwidth": 2,
            "linecolor": "white",
            "showbackground": true,
            "ticks": "",
            "zerolinecolor": "white"
           },
           "zaxis": {
            "backgroundcolor": "#E5ECF6",
            "gridcolor": "white",
            "gridwidth": 2,
            "linecolor": "white",
            "showbackground": true,
            "ticks": "",
            "zerolinecolor": "white"
           }
          },
          "shapedefaults": {
           "line": {
            "color": "#2a3f5f"
           }
          },
          "ternary": {
           "aaxis": {
            "gridcolor": "white",
            "linecolor": "white",
            "ticks": ""
           },
           "baxis": {
            "gridcolor": "white",
            "linecolor": "white",
            "ticks": ""
           },
           "bgcolor": "#E5ECF6",
           "caxis": {
            "gridcolor": "white",
            "linecolor": "white",
            "ticks": ""
           }
          },
          "title": {
           "x": 0.05
          },
          "xaxis": {
           "automargin": true,
           "gridcolor": "white",
           "linecolor": "white",
           "ticks": "",
           "title": {
            "standoff": 15
           },
           "zerolinecolor": "white",
           "zerolinewidth": 2
          },
          "yaxis": {
           "automargin": true,
           "gridcolor": "white",
           "linecolor": "white",
           "ticks": "",
           "title": {
            "standoff": 15
           },
           "zerolinecolor": "white",
           "zerolinewidth": 2
          }
         }
        },
        "title": {
         "text": "Distribuição de vendas globais por genero na decada de 80"
        }
       }
      },
      "text/html": [
       "<div>                            <div id=\"9a9411a0-83ba-4060-9ccf-81bdea7dc3ef\" class=\"plotly-graph-div\" style=\"height:525px; width:100%;\"></div>            <script type=\"text/javascript\">                require([\"plotly\"], function(Plotly) {                    window.PLOTLYENV=window.PLOTLYENV || {};                                    if (document.getElementById(\"9a9411a0-83ba-4060-9ccf-81bdea7dc3ef\")) {                    Plotly.newPlot(                        \"9a9411a0-83ba-4060-9ccf-81bdea7dc3ef\",                        [{\"domain\": {\"x\": [0.0, 1.0], \"y\": [0.0, 1.0]}, \"hovertemplate\": \"Genre=%{label}<br>Global_Sales=%{value}<extra></extra>\", \"labels\": [\"Platform\", \"Puzzle\", \"Shooter\", \"Platform\", \"Platform\", \"Puzzle\", \"Platform\", \"Action\", \"Puzzle\", \"Puzzle\", \"Platform\", \"Adventure\", \"Shooter\", \"Action\", \"Racing\", \"Sports\", \"Role-Playing\", \"Action\", \"Sports\", \"Sports\", \"Fighting\", \"Shooter\", \"Action\", \"Platform\", \"Role-Playing\", \"Role-Playing\", \"Sports\", \"Fighting\", \"Platform\", \"Action\", \"Sports\", \"Sports\", \"Sports\", \"Misc\", \"Racing\", \"Shooter\", \"Sports\", \"Sports\", \"Action\", \"Racing\", \"Sports\", \"Puzzle\", \"Action\", \"Platform\", \"Platform\", \"Puzzle\", \"Puzzle\", \"Action\", \"Sports\", \"Shooter\", \"Platform\", \"Platform\", \"Racing\", \"Shooter\", \"Action\", \"Platform\", \"Platform\", \"Platform\", \"Misc\", \"Platform\", \"Sports\", \"Shooter\", \"Shooter\", \"Puzzle\", \"Platform\", \"Misc\", \"Shooter\", \"Shooter\", \"Role-Playing\", \"Role-Playing\", \"Platform\", \"Puzzle\", \"Shooter\", \"Platform\", \"Shooter\", \"Racing\", \"Sports\", \"Misc\", \"Action\", \"Action\", \"Platform\", \"Shooter\", \"Platform\", \"Shooter\", \"Platform\", \"Puzzle\", \"Role-Playing\", \"Role-Playing\", \"Platform\", \"Platform\", \"Shooter\", \"Misc\", \"Platform\", \"Fighting\", \"Puzzle\", \"Shooter\", \"Platform\", \"Shooter\", \"Action\", \"Platform\", \"Platform\", \"Misc\", \"Platform\", \"Role-Playing\", \"Puzzle\", \"Action\", \"Platform\", \"Action\", \"Shooter\", \"Puzzle\", \"Shooter\", \"Action\", \"Fighting\", \"Action\", \"Role-Playing\", \"Shooter\", \"Platform\", \"Action\", \"Platform\", \"Action\", \"Action\", \"Action\", \"Action\", \"Shooter\", \"Action\", \"Puzzle\", \"Action\", \"Puzzle\", \"Action\", \"Sports\", \"Action\", \"Platform\", \"Platform\", \"Shooter\", \"Action\", \"Shooter\", \"Sports\", \"Action\", \"Action\", \"Sports\", \"Shooter\", \"Racing\", \"Action\", \"Action\", \"Action\", \"Puzzle\", \"Simulation\", \"Shooter\", \"Action\", \"Action\", \"Puzzle\", \"Adventure\", \"Action\", \"Action\", \"Racing\", \"Action\", \"Action\", \"Action\", \"Shooter\", \"Action\", \"Action\", \"Action\", \"Action\", \"Action\", \"Action\", \"Action\", \"Shooter\", \"Action\", \"Action\", \"Action\", \"Action\", \"Action\", \"Sports\", \"Action\", \"Action\", \"Action\", \"Action\", \"Racing\", \"Misc\", \"Sports\", \"Shooter\", \"Action\", \"Action\", \"Misc\", \"Action\", \"Shooter\", \"Shooter\", \"Action\", \"Action\", \"Action\", \"Sports\", \"Sports\", \"Action\", \"Action\", \"Action\", \"Puzzle\", \"Action\", \"Action\", \"Sports\", \"Sports\", \"Sports\", \"Puzzle\", \"Simulation\", \"Simulation\", \"Action\"], \"legendgroup\": \"\", \"name\": \"\", \"showlegend\": true, \"type\": \"pie\", \"values\": [40.24, 30.26, 28.31, 18.14, 17.28, 7.81, 7.46, 6.51, 5.58, 5.34, 4.5, 4.38, 4.31, 4.17, 4.16, 4.01, 3.87, 3.5, 3.2, 3.08, 3.02, 2.76, 2.73, 2.65, 2.56, 2.52, 2.42, 2.4, 2.28, 2.2, 2.2, 2.17, 2.15, 2.14, 2.14, 2.13, 2.12, 1.99, 1.97, 1.96, 1.96, 1.94, 1.85, 1.76, 1.67, 1.65, 1.64, 1.64, 1.61, 1.6, 1.59, 1.56, 1.52, 1.52, 1.51, 1.5, 1.5, 1.46, 1.45, 1.43, 1.42, 1.36, 1.36, 1.32, 1.31, 1.28, 1.27, 1.27, 1.25, 1.25, 1.23, 1.22, 1.2, 1.2, 1.2, 1.18, 1.18, 1.15, 1.15, 1.14, 1.13, 1.12, 1.11, 1.1, 1.1, 1.1, 1.1, 1.1, 1.1, 1.08, 1.05, 1.05, 1.05, 1.05, 1.03, 1.0, 0.97, 0.96, 0.93, 0.93, 0.92, 0.87, 0.85, 0.84, 0.82, 0.82, 0.81, 0.79, 0.78, 0.78, 0.77, 0.77, 0.77, 0.77, 0.76, 0.73, 0.72, 0.69, 0.69, 0.67, 0.66, 0.65, 0.63, 0.62, 0.62, 0.59, 0.59, 0.58, 0.57, 0.55, 0.54, 0.54, 0.51, 0.51, 0.5, 0.5, 0.5, 0.5, 0.5, 0.49, 0.48, 0.48, 0.47, 0.47, 0.46, 0.45, 0.45, 0.45, 0.45, 0.43, 0.41, 0.4, 0.4, 0.4, 0.39, 0.39, 0.39, 0.38, 0.37, 0.37, 0.36, 0.34, 0.34, 0.34, 0.34, 0.34, 0.34, 0.33, 0.33, 0.32, 0.31, 0.31, 0.29, 0.29, 0.29, 0.28, 0.27, 0.27, 0.27, 0.26, 0.26, 0.25, 0.24, 0.24, 0.24, 0.24, 0.22, 0.22, 0.22, 0.22, 0.21, 0.19, 0.17, 0.17, 0.17, 0.15, 0.15, 0.14, 0.13, 0.08, 0.07, 0.06, 0.03, 0.03, 0.02]}],                        {\"legend\": {\"tracegroupgap\": 0}, \"template\": {\"data\": {\"bar\": [{\"error_x\": {\"color\": \"#2a3f5f\"}, \"error_y\": {\"color\": \"#2a3f5f\"}, \"marker\": {\"line\": {\"color\": \"#E5ECF6\", \"width\": 0.5}}, \"type\": \"bar\"}], \"barpolar\": [{\"marker\": {\"line\": {\"color\": \"#E5ECF6\", \"width\": 0.5}}, \"type\": \"barpolar\"}], \"carpet\": [{\"aaxis\": {\"endlinecolor\": \"#2a3f5f\", \"gridcolor\": \"white\", \"linecolor\": \"white\", \"minorgridcolor\": \"white\", \"startlinecolor\": \"#2a3f5f\"}, \"baxis\": {\"endlinecolor\": \"#2a3f5f\", \"gridcolor\": \"white\", \"linecolor\": \"white\", \"minorgridcolor\": \"white\", \"startlinecolor\": \"#2a3f5f\"}, \"type\": \"carpet\"}], \"choropleth\": [{\"colorbar\": {\"outlinewidth\": 0, \"ticks\": \"\"}, \"type\": \"choropleth\"}], \"contour\": [{\"colorbar\": {\"outlinewidth\": 0, \"ticks\": \"\"}, \"colorscale\": [[0.0, \"#0d0887\"], [0.1111111111111111, \"#46039f\"], [0.2222222222222222, \"#7201a8\"], [0.3333333333333333, \"#9c179e\"], [0.4444444444444444, \"#bd3786\"], [0.5555555555555556, \"#d8576b\"], [0.6666666666666666, \"#ed7953\"], [0.7777777777777778, \"#fb9f3a\"], [0.8888888888888888, \"#fdca26\"], [1.0, \"#f0f921\"]], \"type\": \"contour\"}], \"contourcarpet\": [{\"colorbar\": {\"outlinewidth\": 0, \"ticks\": \"\"}, \"type\": \"contourcarpet\"}], \"heatmap\": [{\"colorbar\": {\"outlinewidth\": 0, \"ticks\": \"\"}, \"colorscale\": [[0.0, \"#0d0887\"], [0.1111111111111111, \"#46039f\"], [0.2222222222222222, \"#7201a8\"], [0.3333333333333333, \"#9c179e\"], [0.4444444444444444, \"#bd3786\"], [0.5555555555555556, \"#d8576b\"], [0.6666666666666666, \"#ed7953\"], [0.7777777777777778, \"#fb9f3a\"], [0.8888888888888888, \"#fdca26\"], [1.0, \"#f0f921\"]], \"type\": \"heatmap\"}], \"heatmapgl\": [{\"colorbar\": {\"outlinewidth\": 0, \"ticks\": \"\"}, \"colorscale\": [[0.0, \"#0d0887\"], [0.1111111111111111, \"#46039f\"], [0.2222222222222222, \"#7201a8\"], [0.3333333333333333, \"#9c179e\"], [0.4444444444444444, \"#bd3786\"], [0.5555555555555556, \"#d8576b\"], [0.6666666666666666, \"#ed7953\"], [0.7777777777777778, \"#fb9f3a\"], [0.8888888888888888, \"#fdca26\"], [1.0, \"#f0f921\"]], \"type\": \"heatmapgl\"}], \"histogram\": [{\"marker\": {\"colorbar\": {\"outlinewidth\": 0, \"ticks\": \"\"}}, \"type\": \"histogram\"}], \"histogram2d\": [{\"colorbar\": {\"outlinewidth\": 0, \"ticks\": \"\"}, \"colorscale\": [[0.0, \"#0d0887\"], [0.1111111111111111, \"#46039f\"], [0.2222222222222222, \"#7201a8\"], [0.3333333333333333, \"#9c179e\"], [0.4444444444444444, \"#bd3786\"], [0.5555555555555556, \"#d8576b\"], [0.6666666666666666, \"#ed7953\"], [0.7777777777777778, \"#fb9f3a\"], [0.8888888888888888, \"#fdca26\"], [1.0, \"#f0f921\"]], \"type\": \"histogram2d\"}], \"histogram2dcontour\": [{\"colorbar\": {\"outlinewidth\": 0, \"ticks\": \"\"}, \"colorscale\": [[0.0, \"#0d0887\"], [0.1111111111111111, \"#46039f\"], [0.2222222222222222, \"#7201a8\"], [0.3333333333333333, \"#9c179e\"], [0.4444444444444444, \"#bd3786\"], [0.5555555555555556, \"#d8576b\"], [0.6666666666666666, \"#ed7953\"], [0.7777777777777778, \"#fb9f3a\"], [0.8888888888888888, \"#fdca26\"], [1.0, \"#f0f921\"]], \"type\": \"histogram2dcontour\"}], \"mesh3d\": [{\"colorbar\": {\"outlinewidth\": 0, \"ticks\": \"\"}, \"type\": \"mesh3d\"}], \"parcoords\": [{\"line\": {\"colorbar\": {\"outlinewidth\": 0, \"ticks\": \"\"}}, \"type\": \"parcoords\"}], \"pie\": [{\"automargin\": true, \"type\": \"pie\"}], \"scatter\": [{\"marker\": {\"colorbar\": {\"outlinewidth\": 0, \"ticks\": \"\"}}, \"type\": \"scatter\"}], \"scatter3d\": [{\"line\": {\"colorbar\": {\"outlinewidth\": 0, \"ticks\": \"\"}}, \"marker\": {\"colorbar\": {\"outlinewidth\": 0, \"ticks\": \"\"}}, \"type\": \"scatter3d\"}], \"scattercarpet\": [{\"marker\": {\"colorbar\": {\"outlinewidth\": 0, \"ticks\": \"\"}}, \"type\": \"scattercarpet\"}], \"scattergeo\": [{\"marker\": {\"colorbar\": {\"outlinewidth\": 0, \"ticks\": \"\"}}, \"type\": \"scattergeo\"}], \"scattergl\": [{\"marker\": {\"colorbar\": {\"outlinewidth\": 0, \"ticks\": \"\"}}, \"type\": \"scattergl\"}], \"scattermapbox\": [{\"marker\": {\"colorbar\": {\"outlinewidth\": 0, \"ticks\": \"\"}}, \"type\": \"scattermapbox\"}], \"scatterpolar\": [{\"marker\": {\"colorbar\": {\"outlinewidth\": 0, \"ticks\": \"\"}}, \"type\": \"scatterpolar\"}], \"scatterpolargl\": [{\"marker\": {\"colorbar\": {\"outlinewidth\": 0, \"ticks\": \"\"}}, \"type\": \"scatterpolargl\"}], \"scatterternary\": [{\"marker\": {\"colorbar\": {\"outlinewidth\": 0, \"ticks\": \"\"}}, \"type\": \"scatterternary\"}], \"surface\": [{\"colorbar\": {\"outlinewidth\": 0, \"ticks\": \"\"}, \"colorscale\": [[0.0, \"#0d0887\"], [0.1111111111111111, \"#46039f\"], [0.2222222222222222, \"#7201a8\"], [0.3333333333333333, \"#9c179e\"], [0.4444444444444444, \"#bd3786\"], [0.5555555555555556, \"#d8576b\"], [0.6666666666666666, \"#ed7953\"], [0.7777777777777778, \"#fb9f3a\"], [0.8888888888888888, \"#fdca26\"], [1.0, \"#f0f921\"]], \"type\": \"surface\"}], \"table\": [{\"cells\": {\"fill\": {\"color\": \"#EBF0F8\"}, \"line\": {\"color\": \"white\"}}, \"header\": {\"fill\": {\"color\": \"#C8D4E3\"}, \"line\": {\"color\": \"white\"}}, \"type\": \"table\"}]}, \"layout\": {\"annotationdefaults\": {\"arrowcolor\": \"#2a3f5f\", \"arrowhead\": 0, \"arrowwidth\": 1}, \"coloraxis\": {\"colorbar\": {\"outlinewidth\": 0, \"ticks\": \"\"}}, \"colorscale\": {\"diverging\": [[0, \"#8e0152\"], [0.1, \"#c51b7d\"], [0.2, \"#de77ae\"], [0.3, \"#f1b6da\"], [0.4, \"#fde0ef\"], [0.5, \"#f7f7f7\"], [0.6, \"#e6f5d0\"], [0.7, \"#b8e186\"], [0.8, \"#7fbc41\"], [0.9, \"#4d9221\"], [1, \"#276419\"]], \"sequential\": [[0.0, \"#0d0887\"], [0.1111111111111111, \"#46039f\"], [0.2222222222222222, \"#7201a8\"], [0.3333333333333333, \"#9c179e\"], [0.4444444444444444, \"#bd3786\"], [0.5555555555555556, \"#d8576b\"], [0.6666666666666666, \"#ed7953\"], [0.7777777777777778, \"#fb9f3a\"], [0.8888888888888888, \"#fdca26\"], [1.0, \"#f0f921\"]], \"sequentialminus\": [[0.0, \"#0d0887\"], [0.1111111111111111, \"#46039f\"], [0.2222222222222222, \"#7201a8\"], [0.3333333333333333, \"#9c179e\"], [0.4444444444444444, \"#bd3786\"], [0.5555555555555556, \"#d8576b\"], [0.6666666666666666, \"#ed7953\"], [0.7777777777777778, \"#fb9f3a\"], [0.8888888888888888, \"#fdca26\"], [1.0, \"#f0f921\"]]}, \"colorway\": [\"#636efa\", \"#EF553B\", \"#00cc96\", \"#ab63fa\", \"#FFA15A\", \"#19d3f3\", \"#FF6692\", \"#B6E880\", \"#FF97FF\", \"#FECB52\"], \"font\": {\"color\": \"#2a3f5f\"}, \"geo\": {\"bgcolor\": \"white\", \"lakecolor\": \"white\", \"landcolor\": \"#E5ECF6\", \"showlakes\": true, \"showland\": true, \"subunitcolor\": \"white\"}, \"hoverlabel\": {\"align\": \"left\"}, \"hovermode\": \"closest\", \"mapbox\": {\"style\": \"light\"}, \"paper_bgcolor\": \"white\", \"plot_bgcolor\": \"#E5ECF6\", \"polar\": {\"angularaxis\": {\"gridcolor\": \"white\", \"linecolor\": \"white\", \"ticks\": \"\"}, \"bgcolor\": \"#E5ECF6\", \"radialaxis\": {\"gridcolor\": \"white\", \"linecolor\": \"white\", \"ticks\": \"\"}}, \"scene\": {\"xaxis\": {\"backgroundcolor\": \"#E5ECF6\", \"gridcolor\": \"white\", \"gridwidth\": 2, \"linecolor\": \"white\", \"showbackground\": true, \"ticks\": \"\", \"zerolinecolor\": \"white\"}, \"yaxis\": {\"backgroundcolor\": \"#E5ECF6\", \"gridcolor\": \"white\", \"gridwidth\": 2, \"linecolor\": \"white\", \"showbackground\": true, \"ticks\": \"\", \"zerolinecolor\": \"white\"}, \"zaxis\": {\"backgroundcolor\": \"#E5ECF6\", \"gridcolor\": \"white\", \"gridwidth\": 2, \"linecolor\": \"white\", \"showbackground\": true, \"ticks\": \"\", \"zerolinecolor\": \"white\"}}, \"shapedefaults\": {\"line\": {\"color\": \"#2a3f5f\"}}, \"ternary\": {\"aaxis\": {\"gridcolor\": \"white\", \"linecolor\": \"white\", \"ticks\": \"\"}, \"baxis\": {\"gridcolor\": \"white\", \"linecolor\": \"white\", \"ticks\": \"\"}, \"bgcolor\": \"#E5ECF6\", \"caxis\": {\"gridcolor\": \"white\", \"linecolor\": \"white\", \"ticks\": \"\"}}, \"title\": {\"x\": 0.05}, \"xaxis\": {\"automargin\": true, \"gridcolor\": \"white\", \"linecolor\": \"white\", \"ticks\": \"\", \"title\": {\"standoff\": 15}, \"zerolinecolor\": \"white\", \"zerolinewidth\": 2}, \"yaxis\": {\"automargin\": true, \"gridcolor\": \"white\", \"linecolor\": \"white\", \"ticks\": \"\", \"title\": {\"standoff\": 15}, \"zerolinecolor\": \"white\", \"zerolinewidth\": 2}}}, \"title\": {\"text\": \"Distribui\\u00e7\\u00e3o de vendas globais por genero na decada de 80\"}},                        {\"responsive\": true}                    ).then(function(){\n",
       "                            \n",
       "var gd = document.getElementById('9a9411a0-83ba-4060-9ccf-81bdea7dc3ef');\n",
       "var x = new MutationObserver(function (mutations, observer) {{\n",
       "        var display = window.getComputedStyle(gd).display;\n",
       "        if (!display || display === 'none') {{\n",
       "            console.log([gd, 'removed!']);\n",
       "            Plotly.purge(gd);\n",
       "            observer.disconnect();\n",
       "        }}\n",
       "}});\n",
       "\n",
       "// Listen for the removal of the full notebook cells\n",
       "var notebookContainer = gd.closest('#notebook-container');\n",
       "if (notebookContainer) {{\n",
       "    x.observe(notebookContainer, {childList: true});\n",
       "}}\n",
       "\n",
       "// Listen for the clearing of the current output cell\n",
       "var outputEl = gd.closest('.output');\n",
       "if (outputEl) {{\n",
       "    x.observe(outputEl, {childList: true});\n",
       "}}\n",
       "\n",
       "                        })                };                });            </script>        </div>"
      ]
     },
     "metadata": {},
     "output_type": "display_data"
    }
   ],
   "source": [
    "fig = go.Figure(data=[go.Bar(x=df_80['Genre'].unique(), y=df_80['Global_Sales'])])\n",
    "\n",
    "fig.update_traces(marker_color='rgb(158,202,225)', marker_line_color='rgb(8,48,107)',marker_line_width=1.5, opacity=0.6)\n",
    "fig.update_layout(title_text='Distribuição de vendas globais por genero na decada de 80')\n",
    "fig.show()\n",
    "\n",
    "fig = px.pie(df_80, values='Global_Sales', names='Genre', title='Distribuição de vendas globais por genero na decada de 80')\n",
    "fig.show()"
   ]
  },
  {
   "cell_type": "code",
   "execution_count": null,
   "metadata": {},
   "outputs": [],
   "source": []
  },
  {
   "cell_type": "code",
   "execution_count": null,
   "metadata": {},
   "outputs": [],
   "source": []
  },
  {
   "cell_type": "markdown",
   "metadata": {},
   "source": [
    "<h1>Analise da decada de 90 <h1>"
   ]
  },
  {
   "cell_type": "code",
   "execution_count": 108,
   "metadata": {},
   "outputs": [
    {
     "data": {
      "application/vnd.plotly.v1+json": {
       "config": {
        "plotlyServerURL": "https://plot.ly"
       },
       "data": [
        {
         "hovertext": [
          "159.01000000000002",
          "200.05",
          "180.86",
          "586.85",
          "28.36",
          "49.97999999999999",
          "27.550000000000004",
          "8.56",
          "33.59",
          "1.8700000000000003",
          "0.46",
          "1.4400000000000002",
          "0.16",
          "0.1",
          "0.04",
          "0.03"
         ],
         "marker": {
          "color": "rgb(158,202,225)",
          "line": {
           "color": "rgb(8,48,107)",
           "width": 1.5
          }
         },
         "opacity": 0.6,
         "type": "bar",
         "x": [
          "GB",
          "SNES",
          "N64",
          "PS",
          "GEN",
          "PC",
          "NES",
          "DC",
          "SAT",
          "SCD",
          "WS",
          "NG",
          "TG16",
          "3DO",
          "GG",
          "PCFX"
         ],
         "y": [
          159.01000000000002,
          200.05,
          180.86,
          586.85,
          28.36,
          49.97999999999999,
          27.550000000000004,
          8.56,
          33.59,
          1.8700000000000003,
          0.46,
          1.4400000000000002,
          0.16,
          0.1,
          0.04,
          0.03
         ]
        }
       ],
       "layout": {
        "template": {
         "data": {
          "bar": [
           {
            "error_x": {
             "color": "#2a3f5f"
            },
            "error_y": {
             "color": "#2a3f5f"
            },
            "marker": {
             "line": {
              "color": "#E5ECF6",
              "width": 0.5
             }
            },
            "type": "bar"
           }
          ],
          "barpolar": [
           {
            "marker": {
             "line": {
              "color": "#E5ECF6",
              "width": 0.5
             }
            },
            "type": "barpolar"
           }
          ],
          "carpet": [
           {
            "aaxis": {
             "endlinecolor": "#2a3f5f",
             "gridcolor": "white",
             "linecolor": "white",
             "minorgridcolor": "white",
             "startlinecolor": "#2a3f5f"
            },
            "baxis": {
             "endlinecolor": "#2a3f5f",
             "gridcolor": "white",
             "linecolor": "white",
             "minorgridcolor": "white",
             "startlinecolor": "#2a3f5f"
            },
            "type": "carpet"
           }
          ],
          "choropleth": [
           {
            "colorbar": {
             "outlinewidth": 0,
             "ticks": ""
            },
            "type": "choropleth"
           }
          ],
          "contour": [
           {
            "colorbar": {
             "outlinewidth": 0,
             "ticks": ""
            },
            "colorscale": [
             [
              0,
              "#0d0887"
             ],
             [
              0.1111111111111111,
              "#46039f"
             ],
             [
              0.2222222222222222,
              "#7201a8"
             ],
             [
              0.3333333333333333,
              "#9c179e"
             ],
             [
              0.4444444444444444,
              "#bd3786"
             ],
             [
              0.5555555555555556,
              "#d8576b"
             ],
             [
              0.6666666666666666,
              "#ed7953"
             ],
             [
              0.7777777777777778,
              "#fb9f3a"
             ],
             [
              0.8888888888888888,
              "#fdca26"
             ],
             [
              1,
              "#f0f921"
             ]
            ],
            "type": "contour"
           }
          ],
          "contourcarpet": [
           {
            "colorbar": {
             "outlinewidth": 0,
             "ticks": ""
            },
            "type": "contourcarpet"
           }
          ],
          "heatmap": [
           {
            "colorbar": {
             "outlinewidth": 0,
             "ticks": ""
            },
            "colorscale": [
             [
              0,
              "#0d0887"
             ],
             [
              0.1111111111111111,
              "#46039f"
             ],
             [
              0.2222222222222222,
              "#7201a8"
             ],
             [
              0.3333333333333333,
              "#9c179e"
             ],
             [
              0.4444444444444444,
              "#bd3786"
             ],
             [
              0.5555555555555556,
              "#d8576b"
             ],
             [
              0.6666666666666666,
              "#ed7953"
             ],
             [
              0.7777777777777778,
              "#fb9f3a"
             ],
             [
              0.8888888888888888,
              "#fdca26"
             ],
             [
              1,
              "#f0f921"
             ]
            ],
            "type": "heatmap"
           }
          ],
          "heatmapgl": [
           {
            "colorbar": {
             "outlinewidth": 0,
             "ticks": ""
            },
            "colorscale": [
             [
              0,
              "#0d0887"
             ],
             [
              0.1111111111111111,
              "#46039f"
             ],
             [
              0.2222222222222222,
              "#7201a8"
             ],
             [
              0.3333333333333333,
              "#9c179e"
             ],
             [
              0.4444444444444444,
              "#bd3786"
             ],
             [
              0.5555555555555556,
              "#d8576b"
             ],
             [
              0.6666666666666666,
              "#ed7953"
             ],
             [
              0.7777777777777778,
              "#fb9f3a"
             ],
             [
              0.8888888888888888,
              "#fdca26"
             ],
             [
              1,
              "#f0f921"
             ]
            ],
            "type": "heatmapgl"
           }
          ],
          "histogram": [
           {
            "marker": {
             "colorbar": {
              "outlinewidth": 0,
              "ticks": ""
             }
            },
            "type": "histogram"
           }
          ],
          "histogram2d": [
           {
            "colorbar": {
             "outlinewidth": 0,
             "ticks": ""
            },
            "colorscale": [
             [
              0,
              "#0d0887"
             ],
             [
              0.1111111111111111,
              "#46039f"
             ],
             [
              0.2222222222222222,
              "#7201a8"
             ],
             [
              0.3333333333333333,
              "#9c179e"
             ],
             [
              0.4444444444444444,
              "#bd3786"
             ],
             [
              0.5555555555555556,
              "#d8576b"
             ],
             [
              0.6666666666666666,
              "#ed7953"
             ],
             [
              0.7777777777777778,
              "#fb9f3a"
             ],
             [
              0.8888888888888888,
              "#fdca26"
             ],
             [
              1,
              "#f0f921"
             ]
            ],
            "type": "histogram2d"
           }
          ],
          "histogram2dcontour": [
           {
            "colorbar": {
             "outlinewidth": 0,
             "ticks": ""
            },
            "colorscale": [
             [
              0,
              "#0d0887"
             ],
             [
              0.1111111111111111,
              "#46039f"
             ],
             [
              0.2222222222222222,
              "#7201a8"
             ],
             [
              0.3333333333333333,
              "#9c179e"
             ],
             [
              0.4444444444444444,
              "#bd3786"
             ],
             [
              0.5555555555555556,
              "#d8576b"
             ],
             [
              0.6666666666666666,
              "#ed7953"
             ],
             [
              0.7777777777777778,
              "#fb9f3a"
             ],
             [
              0.8888888888888888,
              "#fdca26"
             ],
             [
              1,
              "#f0f921"
             ]
            ],
            "type": "histogram2dcontour"
           }
          ],
          "mesh3d": [
           {
            "colorbar": {
             "outlinewidth": 0,
             "ticks": ""
            },
            "type": "mesh3d"
           }
          ],
          "parcoords": [
           {
            "line": {
             "colorbar": {
              "outlinewidth": 0,
              "ticks": ""
             }
            },
            "type": "parcoords"
           }
          ],
          "pie": [
           {
            "automargin": true,
            "type": "pie"
           }
          ],
          "scatter": [
           {
            "marker": {
             "colorbar": {
              "outlinewidth": 0,
              "ticks": ""
             }
            },
            "type": "scatter"
           }
          ],
          "scatter3d": [
           {
            "line": {
             "colorbar": {
              "outlinewidth": 0,
              "ticks": ""
             }
            },
            "marker": {
             "colorbar": {
              "outlinewidth": 0,
              "ticks": ""
             }
            },
            "type": "scatter3d"
           }
          ],
          "scattercarpet": [
           {
            "marker": {
             "colorbar": {
              "outlinewidth": 0,
              "ticks": ""
             }
            },
            "type": "scattercarpet"
           }
          ],
          "scattergeo": [
           {
            "marker": {
             "colorbar": {
              "outlinewidth": 0,
              "ticks": ""
             }
            },
            "type": "scattergeo"
           }
          ],
          "scattergl": [
           {
            "marker": {
             "colorbar": {
              "outlinewidth": 0,
              "ticks": ""
             }
            },
            "type": "scattergl"
           }
          ],
          "scattermapbox": [
           {
            "marker": {
             "colorbar": {
              "outlinewidth": 0,
              "ticks": ""
             }
            },
            "type": "scattermapbox"
           }
          ],
          "scatterpolar": [
           {
            "marker": {
             "colorbar": {
              "outlinewidth": 0,
              "ticks": ""
             }
            },
            "type": "scatterpolar"
           }
          ],
          "scatterpolargl": [
           {
            "marker": {
             "colorbar": {
              "outlinewidth": 0,
              "ticks": ""
             }
            },
            "type": "scatterpolargl"
           }
          ],
          "scatterternary": [
           {
            "marker": {
             "colorbar": {
              "outlinewidth": 0,
              "ticks": ""
             }
            },
            "type": "scatterternary"
           }
          ],
          "surface": [
           {
            "colorbar": {
             "outlinewidth": 0,
             "ticks": ""
            },
            "colorscale": [
             [
              0,
              "#0d0887"
             ],
             [
              0.1111111111111111,
              "#46039f"
             ],
             [
              0.2222222222222222,
              "#7201a8"
             ],
             [
              0.3333333333333333,
              "#9c179e"
             ],
             [
              0.4444444444444444,
              "#bd3786"
             ],
             [
              0.5555555555555556,
              "#d8576b"
             ],
             [
              0.6666666666666666,
              "#ed7953"
             ],
             [
              0.7777777777777778,
              "#fb9f3a"
             ],
             [
              0.8888888888888888,
              "#fdca26"
             ],
             [
              1,
              "#f0f921"
             ]
            ],
            "type": "surface"
           }
          ],
          "table": [
           {
            "cells": {
             "fill": {
              "color": "#EBF0F8"
             },
             "line": {
              "color": "white"
             }
            },
            "header": {
             "fill": {
              "color": "#C8D4E3"
             },
             "line": {
              "color": "white"
             }
            },
            "type": "table"
           }
          ]
         },
         "layout": {
          "annotationdefaults": {
           "arrowcolor": "#2a3f5f",
           "arrowhead": 0,
           "arrowwidth": 1
          },
          "coloraxis": {
           "colorbar": {
            "outlinewidth": 0,
            "ticks": ""
           }
          },
          "colorscale": {
           "diverging": [
            [
             0,
             "#8e0152"
            ],
            [
             0.1,
             "#c51b7d"
            ],
            [
             0.2,
             "#de77ae"
            ],
            [
             0.3,
             "#f1b6da"
            ],
            [
             0.4,
             "#fde0ef"
            ],
            [
             0.5,
             "#f7f7f7"
            ],
            [
             0.6,
             "#e6f5d0"
            ],
            [
             0.7,
             "#b8e186"
            ],
            [
             0.8,
             "#7fbc41"
            ],
            [
             0.9,
             "#4d9221"
            ],
            [
             1,
             "#276419"
            ]
           ],
           "sequential": [
            [
             0,
             "#0d0887"
            ],
            [
             0.1111111111111111,
             "#46039f"
            ],
            [
             0.2222222222222222,
             "#7201a8"
            ],
            [
             0.3333333333333333,
             "#9c179e"
            ],
            [
             0.4444444444444444,
             "#bd3786"
            ],
            [
             0.5555555555555556,
             "#d8576b"
            ],
            [
             0.6666666666666666,
             "#ed7953"
            ],
            [
             0.7777777777777778,
             "#fb9f3a"
            ],
            [
             0.8888888888888888,
             "#fdca26"
            ],
            [
             1,
             "#f0f921"
            ]
           ],
           "sequentialminus": [
            [
             0,
             "#0d0887"
            ],
            [
             0.1111111111111111,
             "#46039f"
            ],
            [
             0.2222222222222222,
             "#7201a8"
            ],
            [
             0.3333333333333333,
             "#9c179e"
            ],
            [
             0.4444444444444444,
             "#bd3786"
            ],
            [
             0.5555555555555556,
             "#d8576b"
            ],
            [
             0.6666666666666666,
             "#ed7953"
            ],
            [
             0.7777777777777778,
             "#fb9f3a"
            ],
            [
             0.8888888888888888,
             "#fdca26"
            ],
            [
             1,
             "#f0f921"
            ]
           ]
          },
          "colorway": [
           "#636efa",
           "#EF553B",
           "#00cc96",
           "#ab63fa",
           "#FFA15A",
           "#19d3f3",
           "#FF6692",
           "#B6E880",
           "#FF97FF",
           "#FECB52"
          ],
          "font": {
           "color": "#2a3f5f"
          },
          "geo": {
           "bgcolor": "white",
           "lakecolor": "white",
           "landcolor": "#E5ECF6",
           "showlakes": true,
           "showland": true,
           "subunitcolor": "white"
          },
          "hoverlabel": {
           "align": "left"
          },
          "hovermode": "closest",
          "mapbox": {
           "style": "light"
          },
          "paper_bgcolor": "white",
          "plot_bgcolor": "#E5ECF6",
          "polar": {
           "angularaxis": {
            "gridcolor": "white",
            "linecolor": "white",
            "ticks": ""
           },
           "bgcolor": "#E5ECF6",
           "radialaxis": {
            "gridcolor": "white",
            "linecolor": "white",
            "ticks": ""
           }
          },
          "scene": {
           "xaxis": {
            "backgroundcolor": "#E5ECF6",
            "gridcolor": "white",
            "gridwidth": 2,
            "linecolor": "white",
            "showbackground": true,
            "ticks": "",
            "zerolinecolor": "white"
           },
           "yaxis": {
            "backgroundcolor": "#E5ECF6",
            "gridcolor": "white",
            "gridwidth": 2,
            "linecolor": "white",
            "showbackground": true,
            "ticks": "",
            "zerolinecolor": "white"
           },
           "zaxis": {
            "backgroundcolor": "#E5ECF6",
            "gridcolor": "white",
            "gridwidth": 2,
            "linecolor": "white",
            "showbackground": true,
            "ticks": "",
            "zerolinecolor": "white"
           }
          },
          "shapedefaults": {
           "line": {
            "color": "#2a3f5f"
           }
          },
          "ternary": {
           "aaxis": {
            "gridcolor": "white",
            "linecolor": "white",
            "ticks": ""
           },
           "baxis": {
            "gridcolor": "white",
            "linecolor": "white",
            "ticks": ""
           },
           "bgcolor": "#E5ECF6",
           "caxis": {
            "gridcolor": "white",
            "linecolor": "white",
            "ticks": ""
           }
          },
          "title": {
           "x": 0.05
          },
          "xaxis": {
           "automargin": true,
           "gridcolor": "white",
           "linecolor": "white",
           "ticks": "",
           "title": {
            "standoff": 15
           },
           "zerolinecolor": "white",
           "zerolinewidth": 2
          },
          "yaxis": {
           "automargin": true,
           "gridcolor": "white",
           "linecolor": "white",
           "ticks": "",
           "title": {
            "standoff": 15
           },
           "zerolinecolor": "white",
           "zerolinewidth": 2
          }
         }
        },
        "title": {
         "text": "Distribuição de vendas globais por console na decada de 90"
        },
        "xaxis": {
         "title": {
          "text": "Platform"
         }
        },
        "yaxis": {
         "title": {
          "text": "Global Sales in Millions"
         }
        }
       }
      },
      "text/html": [
       "<div>                            <div id=\"c6ea938b-c4a5-4587-b7a8-844676bf03ef\" class=\"plotly-graph-div\" style=\"height:525px; width:100%;\"></div>            <script type=\"text/javascript\">                require([\"plotly\"], function(Plotly) {                    window.PLOTLYENV=window.PLOTLYENV || {};                                    if (document.getElementById(\"c6ea938b-c4a5-4587-b7a8-844676bf03ef\")) {                    Plotly.newPlot(                        \"c6ea938b-c4a5-4587-b7a8-844676bf03ef\",                        [{\"hovertext\": [\"159.01000000000002\", \"200.05\", \"180.86\", \"586.85\", \"28.36\", \"49.97999999999999\", \"27.550000000000004\", \"8.56\", \"33.59\", \"1.8700000000000003\", \"0.46\", \"1.4400000000000002\", \"0.16\", \"0.1\", \"0.04\", \"0.03\"], \"marker\": {\"color\": \"rgb(158,202,225)\", \"line\": {\"color\": \"rgb(8,48,107)\", \"width\": 1.5}}, \"opacity\": 0.6, \"type\": \"bar\", \"x\": [\"GB\", \"SNES\", \"N64\", \"PS\", \"GEN\", \"PC\", \"NES\", \"DC\", \"SAT\", \"SCD\", \"WS\", \"NG\", \"TG16\", \"3DO\", \"GG\", \"PCFX\"], \"y\": [159.01000000000002, 200.05, 180.86, 586.85, 28.36, 49.97999999999999, 27.550000000000004, 8.56, 33.59, 1.8700000000000003, 0.46, 1.4400000000000002, 0.16, 0.1, 0.04, 0.03]}],                        {\"template\": {\"data\": {\"bar\": [{\"error_x\": {\"color\": \"#2a3f5f\"}, \"error_y\": {\"color\": \"#2a3f5f\"}, \"marker\": {\"line\": {\"color\": \"#E5ECF6\", \"width\": 0.5}}, \"type\": \"bar\"}], \"barpolar\": [{\"marker\": {\"line\": {\"color\": \"#E5ECF6\", \"width\": 0.5}}, \"type\": \"barpolar\"}], \"carpet\": [{\"aaxis\": {\"endlinecolor\": \"#2a3f5f\", \"gridcolor\": \"white\", \"linecolor\": \"white\", \"minorgridcolor\": \"white\", \"startlinecolor\": \"#2a3f5f\"}, \"baxis\": {\"endlinecolor\": \"#2a3f5f\", \"gridcolor\": \"white\", \"linecolor\": \"white\", \"minorgridcolor\": \"white\", \"startlinecolor\": \"#2a3f5f\"}, \"type\": \"carpet\"}], \"choropleth\": [{\"colorbar\": {\"outlinewidth\": 0, \"ticks\": \"\"}, \"type\": \"choropleth\"}], \"contour\": [{\"colorbar\": {\"outlinewidth\": 0, \"ticks\": \"\"}, \"colorscale\": [[0.0, \"#0d0887\"], [0.1111111111111111, \"#46039f\"], [0.2222222222222222, \"#7201a8\"], [0.3333333333333333, \"#9c179e\"], [0.4444444444444444, \"#bd3786\"], [0.5555555555555556, \"#d8576b\"], [0.6666666666666666, \"#ed7953\"], [0.7777777777777778, \"#fb9f3a\"], [0.8888888888888888, \"#fdca26\"], [1.0, \"#f0f921\"]], \"type\": \"contour\"}], \"contourcarpet\": [{\"colorbar\": {\"outlinewidth\": 0, \"ticks\": \"\"}, \"type\": \"contourcarpet\"}], \"heatmap\": [{\"colorbar\": {\"outlinewidth\": 0, \"ticks\": \"\"}, \"colorscale\": [[0.0, \"#0d0887\"], [0.1111111111111111, \"#46039f\"], [0.2222222222222222, \"#7201a8\"], [0.3333333333333333, \"#9c179e\"], [0.4444444444444444, \"#bd3786\"], [0.5555555555555556, \"#d8576b\"], [0.6666666666666666, \"#ed7953\"], [0.7777777777777778, \"#fb9f3a\"], [0.8888888888888888, \"#fdca26\"], [1.0, \"#f0f921\"]], \"type\": \"heatmap\"}], \"heatmapgl\": [{\"colorbar\": {\"outlinewidth\": 0, \"ticks\": \"\"}, \"colorscale\": [[0.0, \"#0d0887\"], [0.1111111111111111, \"#46039f\"], [0.2222222222222222, \"#7201a8\"], [0.3333333333333333, \"#9c179e\"], [0.4444444444444444, \"#bd3786\"], [0.5555555555555556, \"#d8576b\"], [0.6666666666666666, \"#ed7953\"], [0.7777777777777778, \"#fb9f3a\"], [0.8888888888888888, \"#fdca26\"], [1.0, \"#f0f921\"]], \"type\": \"heatmapgl\"}], \"histogram\": [{\"marker\": {\"colorbar\": {\"outlinewidth\": 0, \"ticks\": \"\"}}, \"type\": \"histogram\"}], \"histogram2d\": [{\"colorbar\": {\"outlinewidth\": 0, \"ticks\": \"\"}, \"colorscale\": [[0.0, \"#0d0887\"], [0.1111111111111111, \"#46039f\"], [0.2222222222222222, \"#7201a8\"], [0.3333333333333333, \"#9c179e\"], [0.4444444444444444, \"#bd3786\"], [0.5555555555555556, \"#d8576b\"], [0.6666666666666666, \"#ed7953\"], [0.7777777777777778, \"#fb9f3a\"], [0.8888888888888888, \"#fdca26\"], [1.0, \"#f0f921\"]], \"type\": \"histogram2d\"}], \"histogram2dcontour\": [{\"colorbar\": {\"outlinewidth\": 0, \"ticks\": \"\"}, \"colorscale\": [[0.0, \"#0d0887\"], [0.1111111111111111, \"#46039f\"], [0.2222222222222222, \"#7201a8\"], [0.3333333333333333, \"#9c179e\"], [0.4444444444444444, \"#bd3786\"], [0.5555555555555556, \"#d8576b\"], [0.6666666666666666, \"#ed7953\"], [0.7777777777777778, \"#fb9f3a\"], [0.8888888888888888, \"#fdca26\"], [1.0, \"#f0f921\"]], \"type\": \"histogram2dcontour\"}], \"mesh3d\": [{\"colorbar\": {\"outlinewidth\": 0, \"ticks\": \"\"}, \"type\": \"mesh3d\"}], \"parcoords\": [{\"line\": {\"colorbar\": {\"outlinewidth\": 0, \"ticks\": \"\"}}, \"type\": \"parcoords\"}], \"pie\": [{\"automargin\": true, \"type\": \"pie\"}], \"scatter\": [{\"marker\": {\"colorbar\": {\"outlinewidth\": 0, \"ticks\": \"\"}}, \"type\": \"scatter\"}], \"scatter3d\": [{\"line\": {\"colorbar\": {\"outlinewidth\": 0, \"ticks\": \"\"}}, \"marker\": {\"colorbar\": {\"outlinewidth\": 0, \"ticks\": \"\"}}, \"type\": \"scatter3d\"}], \"scattercarpet\": [{\"marker\": {\"colorbar\": {\"outlinewidth\": 0, \"ticks\": \"\"}}, \"type\": \"scattercarpet\"}], \"scattergeo\": [{\"marker\": {\"colorbar\": {\"outlinewidth\": 0, \"ticks\": \"\"}}, \"type\": \"scattergeo\"}], \"scattergl\": [{\"marker\": {\"colorbar\": {\"outlinewidth\": 0, \"ticks\": \"\"}}, \"type\": \"scattergl\"}], \"scattermapbox\": [{\"marker\": {\"colorbar\": {\"outlinewidth\": 0, \"ticks\": \"\"}}, \"type\": \"scattermapbox\"}], \"scatterpolar\": [{\"marker\": {\"colorbar\": {\"outlinewidth\": 0, \"ticks\": \"\"}}, \"type\": \"scatterpolar\"}], \"scatterpolargl\": [{\"marker\": {\"colorbar\": {\"outlinewidth\": 0, \"ticks\": \"\"}}, \"type\": \"scatterpolargl\"}], \"scatterternary\": [{\"marker\": {\"colorbar\": {\"outlinewidth\": 0, \"ticks\": \"\"}}, \"type\": \"scatterternary\"}], \"surface\": [{\"colorbar\": {\"outlinewidth\": 0, \"ticks\": \"\"}, \"colorscale\": [[0.0, \"#0d0887\"], [0.1111111111111111, \"#46039f\"], [0.2222222222222222, \"#7201a8\"], [0.3333333333333333, \"#9c179e\"], [0.4444444444444444, \"#bd3786\"], [0.5555555555555556, \"#d8576b\"], [0.6666666666666666, \"#ed7953\"], [0.7777777777777778, \"#fb9f3a\"], [0.8888888888888888, \"#fdca26\"], [1.0, \"#f0f921\"]], \"type\": \"surface\"}], \"table\": [{\"cells\": {\"fill\": {\"color\": \"#EBF0F8\"}, \"line\": {\"color\": \"white\"}}, \"header\": {\"fill\": {\"color\": \"#C8D4E3\"}, \"line\": {\"color\": \"white\"}}, \"type\": \"table\"}]}, \"layout\": {\"annotationdefaults\": {\"arrowcolor\": \"#2a3f5f\", \"arrowhead\": 0, \"arrowwidth\": 1}, \"coloraxis\": {\"colorbar\": {\"outlinewidth\": 0, \"ticks\": \"\"}}, \"colorscale\": {\"diverging\": [[0, \"#8e0152\"], [0.1, \"#c51b7d\"], [0.2, \"#de77ae\"], [0.3, \"#f1b6da\"], [0.4, \"#fde0ef\"], [0.5, \"#f7f7f7\"], [0.6, \"#e6f5d0\"], [0.7, \"#b8e186\"], [0.8, \"#7fbc41\"], [0.9, \"#4d9221\"], [1, \"#276419\"]], \"sequential\": [[0.0, \"#0d0887\"], [0.1111111111111111, \"#46039f\"], [0.2222222222222222, \"#7201a8\"], [0.3333333333333333, \"#9c179e\"], [0.4444444444444444, \"#bd3786\"], [0.5555555555555556, \"#d8576b\"], [0.6666666666666666, \"#ed7953\"], [0.7777777777777778, \"#fb9f3a\"], [0.8888888888888888, \"#fdca26\"], [1.0, \"#f0f921\"]], \"sequentialminus\": [[0.0, \"#0d0887\"], [0.1111111111111111, \"#46039f\"], [0.2222222222222222, \"#7201a8\"], [0.3333333333333333, \"#9c179e\"], [0.4444444444444444, \"#bd3786\"], [0.5555555555555556, \"#d8576b\"], [0.6666666666666666, \"#ed7953\"], [0.7777777777777778, \"#fb9f3a\"], [0.8888888888888888, \"#fdca26\"], [1.0, \"#f0f921\"]]}, \"colorway\": [\"#636efa\", \"#EF553B\", \"#00cc96\", \"#ab63fa\", \"#FFA15A\", \"#19d3f3\", \"#FF6692\", \"#B6E880\", \"#FF97FF\", \"#FECB52\"], \"font\": {\"color\": \"#2a3f5f\"}, \"geo\": {\"bgcolor\": \"white\", \"lakecolor\": \"white\", \"landcolor\": \"#E5ECF6\", \"showlakes\": true, \"showland\": true, \"subunitcolor\": \"white\"}, \"hoverlabel\": {\"align\": \"left\"}, \"hovermode\": \"closest\", \"mapbox\": {\"style\": \"light\"}, \"paper_bgcolor\": \"white\", \"plot_bgcolor\": \"#E5ECF6\", \"polar\": {\"angularaxis\": {\"gridcolor\": \"white\", \"linecolor\": \"white\", \"ticks\": \"\"}, \"bgcolor\": \"#E5ECF6\", \"radialaxis\": {\"gridcolor\": \"white\", \"linecolor\": \"white\", \"ticks\": \"\"}}, \"scene\": {\"xaxis\": {\"backgroundcolor\": \"#E5ECF6\", \"gridcolor\": \"white\", \"gridwidth\": 2, \"linecolor\": \"white\", \"showbackground\": true, \"ticks\": \"\", \"zerolinecolor\": \"white\"}, \"yaxis\": {\"backgroundcolor\": \"#E5ECF6\", \"gridcolor\": \"white\", \"gridwidth\": 2, \"linecolor\": \"white\", \"showbackground\": true, \"ticks\": \"\", \"zerolinecolor\": \"white\"}, \"zaxis\": {\"backgroundcolor\": \"#E5ECF6\", \"gridcolor\": \"white\", \"gridwidth\": 2, \"linecolor\": \"white\", \"showbackground\": true, \"ticks\": \"\", \"zerolinecolor\": \"white\"}}, \"shapedefaults\": {\"line\": {\"color\": \"#2a3f5f\"}}, \"ternary\": {\"aaxis\": {\"gridcolor\": \"white\", \"linecolor\": \"white\", \"ticks\": \"\"}, \"baxis\": {\"gridcolor\": \"white\", \"linecolor\": \"white\", \"ticks\": \"\"}, \"bgcolor\": \"#E5ECF6\", \"caxis\": {\"gridcolor\": \"white\", \"linecolor\": \"white\", \"ticks\": \"\"}}, \"title\": {\"x\": 0.05}, \"xaxis\": {\"automargin\": true, \"gridcolor\": \"white\", \"linecolor\": \"white\", \"ticks\": \"\", \"title\": {\"standoff\": 15}, \"zerolinecolor\": \"white\", \"zerolinewidth\": 2}, \"yaxis\": {\"automargin\": true, \"gridcolor\": \"white\", \"linecolor\": \"white\", \"ticks\": \"\", \"title\": {\"standoff\": 15}, \"zerolinecolor\": \"white\", \"zerolinewidth\": 2}}}, \"title\": {\"text\": \"Distribui\\u00e7\\u00e3o de vendas globais por console na decada de 90\"}, \"xaxis\": {\"title\": {\"text\": \"Platform\"}}, \"yaxis\": {\"title\": {\"text\": \"Global Sales in Millions\"}}},                        {\"responsive\": true}                    ).then(function(){\n",
       "                            \n",
       "var gd = document.getElementById('c6ea938b-c4a5-4587-b7a8-844676bf03ef');\n",
       "var x = new MutationObserver(function (mutations, observer) {{\n",
       "        var display = window.getComputedStyle(gd).display;\n",
       "        if (!display || display === 'none') {{\n",
       "            console.log([gd, 'removed!']);\n",
       "            Plotly.purge(gd);\n",
       "            observer.disconnect();\n",
       "        }}\n",
       "}});\n",
       "\n",
       "// Listen for the removal of the full notebook cells\n",
       "var notebookContainer = gd.closest('#notebook-container');\n",
       "if (notebookContainer) {{\n",
       "    x.observe(notebookContainer, {childList: true});\n",
       "}}\n",
       "\n",
       "// Listen for the clearing of the current output cell\n",
       "var outputEl = gd.closest('.output');\n",
       "if (outputEl) {{\n",
       "    x.observe(outputEl, {childList: true});\n",
       "}}\n",
       "\n",
       "                        })                };                });            </script>        </div>"
      ]
     },
     "metadata": {},
     "output_type": "display_data"
    },
    {
     "data": {
      "application/vnd.plotly.v1+json": {
       "config": {
        "plotlyServerURL": "https://plot.ly"
       },
       "data": [
        {
         "domain": {
          "x": [
           0,
           1
          ],
          "y": [
           0,
           1
          ]
         },
         "hovertemplate": "Genre=%{label}<br>Global_Sales=%{value}<extra></extra>",
         "labels": [
          "Platform",
          "Puzzle",
          "Shooter",
          "Platform",
          "Platform",
          "Puzzle",
          "Platform",
          "Action",
          "Puzzle",
          "Puzzle",
          "Platform",
          "Adventure",
          "Shooter",
          "Action",
          "Racing",
          "Sports",
          "Role-Playing",
          "Action",
          "Sports",
          "Sports",
          "Fighting",
          "Shooter",
          "Action",
          "Platform",
          "Role-Playing",
          "Role-Playing",
          "Sports",
          "Fighting",
          "Platform",
          "Action",
          "Sports",
          "Sports",
          "Sports",
          "Misc",
          "Racing",
          "Shooter",
          "Sports",
          "Sports",
          "Action",
          "Racing",
          "Sports",
          "Puzzle",
          "Action",
          "Platform",
          "Platform",
          "Puzzle",
          "Puzzle",
          "Action",
          "Sports",
          "Shooter",
          "Platform",
          "Platform",
          "Racing",
          "Shooter",
          "Action",
          "Platform",
          "Platform",
          "Platform",
          "Misc",
          "Platform",
          "Sports",
          "Shooter",
          "Shooter",
          "Puzzle",
          "Platform",
          "Misc",
          "Shooter",
          "Shooter",
          "Role-Playing",
          "Role-Playing",
          "Platform",
          "Puzzle",
          "Shooter",
          "Platform",
          "Shooter",
          "Racing",
          "Sports",
          "Misc",
          "Action",
          "Action",
          "Platform",
          "Shooter",
          "Platform",
          "Shooter",
          "Platform",
          "Puzzle",
          "Role-Playing",
          "Role-Playing",
          "Platform",
          "Platform",
          "Shooter",
          "Misc",
          "Platform",
          "Fighting",
          "Puzzle",
          "Shooter",
          "Platform",
          "Shooter",
          "Action",
          "Platform",
          "Platform",
          "Misc",
          "Platform",
          "Role-Playing",
          "Puzzle",
          "Action",
          "Platform",
          "Action",
          "Shooter",
          "Puzzle",
          "Shooter",
          "Action",
          "Fighting",
          "Action",
          "Role-Playing",
          "Shooter",
          "Platform",
          "Action",
          "Platform",
          "Action",
          "Action",
          "Action",
          "Action",
          "Shooter",
          "Action",
          "Puzzle",
          "Action",
          "Puzzle",
          "Action",
          "Sports",
          "Action",
          "Platform",
          "Platform",
          "Shooter",
          "Action",
          "Shooter",
          "Sports",
          "Action",
          "Action",
          "Sports",
          "Shooter",
          "Racing",
          "Action",
          "Action",
          "Action",
          "Puzzle",
          "Simulation",
          "Shooter",
          "Action",
          "Action",
          "Puzzle",
          "Adventure",
          "Action",
          "Action",
          "Racing",
          "Action",
          "Action",
          "Action",
          "Shooter",
          "Action",
          "Action",
          "Action",
          "Action",
          "Action",
          "Action",
          "Action",
          "Shooter",
          "Action",
          "Action",
          "Action",
          "Action",
          "Action",
          "Sports",
          "Action",
          "Action",
          "Action",
          "Action",
          "Racing",
          "Misc",
          "Sports",
          "Shooter",
          "Action",
          "Action",
          "Misc",
          "Action",
          "Shooter",
          "Shooter",
          "Action",
          "Action",
          "Action",
          "Sports",
          "Sports",
          "Action",
          "Action",
          "Action",
          "Puzzle",
          "Action",
          "Action",
          "Sports",
          "Sports",
          "Sports",
          "Puzzle",
          "Simulation",
          "Simulation",
          "Action"
         ],
         "legendgroup": "",
         "name": "",
         "showlegend": true,
         "type": "pie",
         "values": [
          40.24,
          30.26,
          28.31,
          18.14,
          17.28,
          7.81,
          7.46,
          6.51,
          5.58,
          5.34,
          4.5,
          4.38,
          4.31,
          4.17,
          4.16,
          4.01,
          3.87,
          3.5,
          3.2,
          3.08,
          3.02,
          2.76,
          2.73,
          2.65,
          2.56,
          2.52,
          2.42,
          2.4,
          2.28,
          2.2,
          2.2,
          2.17,
          2.15,
          2.14,
          2.14,
          2.13,
          2.12,
          1.99,
          1.97,
          1.96,
          1.96,
          1.94,
          1.85,
          1.76,
          1.67,
          1.65,
          1.64,
          1.64,
          1.61,
          1.6,
          1.59,
          1.56,
          1.52,
          1.52,
          1.51,
          1.5,
          1.5,
          1.46,
          1.45,
          1.43,
          1.42,
          1.36,
          1.36,
          1.32,
          1.31,
          1.28,
          1.27,
          1.27,
          1.25,
          1.25,
          1.23,
          1.22,
          1.2,
          1.2,
          1.2,
          1.18,
          1.18,
          1.15,
          1.15,
          1.14,
          1.13,
          1.12,
          1.11,
          1.1,
          1.1,
          1.1,
          1.1,
          1.1,
          1.1,
          1.08,
          1.05,
          1.05,
          1.05,
          1.05,
          1.03,
          1,
          0.97,
          0.96,
          0.93,
          0.93,
          0.92,
          0.87,
          0.85,
          0.84,
          0.82,
          0.82,
          0.81,
          0.79,
          0.78,
          0.78,
          0.77,
          0.77,
          0.77,
          0.77,
          0.76,
          0.73,
          0.72,
          0.69,
          0.69,
          0.67,
          0.66,
          0.65,
          0.63,
          0.62,
          0.62,
          0.59,
          0.59,
          0.58,
          0.57,
          0.55,
          0.54,
          0.54,
          0.51,
          0.51,
          0.5,
          0.5,
          0.5,
          0.5,
          0.5,
          0.49,
          0.48,
          0.48,
          0.47,
          0.47,
          0.46,
          0.45,
          0.45,
          0.45,
          0.45,
          0.43,
          0.41,
          0.4,
          0.4,
          0.4,
          0.39,
          0.39,
          0.39,
          0.38,
          0.37,
          0.37,
          0.36,
          0.34,
          0.34,
          0.34,
          0.34,
          0.34,
          0.34,
          0.33,
          0.33,
          0.32,
          0.31,
          0.31,
          0.29,
          0.29,
          0.29,
          0.28,
          0.27,
          0.27,
          0.27,
          0.26,
          0.26,
          0.25,
          0.24,
          0.24,
          0.24,
          0.24,
          0.22,
          0.22,
          0.22,
          0.22,
          0.21,
          0.19,
          0.17,
          0.17,
          0.17,
          0.15,
          0.15,
          0.14,
          0.13,
          0.08,
          0.07,
          0.06,
          0.03,
          0.03,
          0.02
         ]
        }
       ],
       "layout": {
        "legend": {
         "tracegroupgap": 0
        },
        "template": {
         "data": {
          "bar": [
           {
            "error_x": {
             "color": "#2a3f5f"
            },
            "error_y": {
             "color": "#2a3f5f"
            },
            "marker": {
             "line": {
              "color": "#E5ECF6",
              "width": 0.5
             }
            },
            "type": "bar"
           }
          ],
          "barpolar": [
           {
            "marker": {
             "line": {
              "color": "#E5ECF6",
              "width": 0.5
             }
            },
            "type": "barpolar"
           }
          ],
          "carpet": [
           {
            "aaxis": {
             "endlinecolor": "#2a3f5f",
             "gridcolor": "white",
             "linecolor": "white",
             "minorgridcolor": "white",
             "startlinecolor": "#2a3f5f"
            },
            "baxis": {
             "endlinecolor": "#2a3f5f",
             "gridcolor": "white",
             "linecolor": "white",
             "minorgridcolor": "white",
             "startlinecolor": "#2a3f5f"
            },
            "type": "carpet"
           }
          ],
          "choropleth": [
           {
            "colorbar": {
             "outlinewidth": 0,
             "ticks": ""
            },
            "type": "choropleth"
           }
          ],
          "contour": [
           {
            "colorbar": {
             "outlinewidth": 0,
             "ticks": ""
            },
            "colorscale": [
             [
              0,
              "#0d0887"
             ],
             [
              0.1111111111111111,
              "#46039f"
             ],
             [
              0.2222222222222222,
              "#7201a8"
             ],
             [
              0.3333333333333333,
              "#9c179e"
             ],
             [
              0.4444444444444444,
              "#bd3786"
             ],
             [
              0.5555555555555556,
              "#d8576b"
             ],
             [
              0.6666666666666666,
              "#ed7953"
             ],
             [
              0.7777777777777778,
              "#fb9f3a"
             ],
             [
              0.8888888888888888,
              "#fdca26"
             ],
             [
              1,
              "#f0f921"
             ]
            ],
            "type": "contour"
           }
          ],
          "contourcarpet": [
           {
            "colorbar": {
             "outlinewidth": 0,
             "ticks": ""
            },
            "type": "contourcarpet"
           }
          ],
          "heatmap": [
           {
            "colorbar": {
             "outlinewidth": 0,
             "ticks": ""
            },
            "colorscale": [
             [
              0,
              "#0d0887"
             ],
             [
              0.1111111111111111,
              "#46039f"
             ],
             [
              0.2222222222222222,
              "#7201a8"
             ],
             [
              0.3333333333333333,
              "#9c179e"
             ],
             [
              0.4444444444444444,
              "#bd3786"
             ],
             [
              0.5555555555555556,
              "#d8576b"
             ],
             [
              0.6666666666666666,
              "#ed7953"
             ],
             [
              0.7777777777777778,
              "#fb9f3a"
             ],
             [
              0.8888888888888888,
              "#fdca26"
             ],
             [
              1,
              "#f0f921"
             ]
            ],
            "type": "heatmap"
           }
          ],
          "heatmapgl": [
           {
            "colorbar": {
             "outlinewidth": 0,
             "ticks": ""
            },
            "colorscale": [
             [
              0,
              "#0d0887"
             ],
             [
              0.1111111111111111,
              "#46039f"
             ],
             [
              0.2222222222222222,
              "#7201a8"
             ],
             [
              0.3333333333333333,
              "#9c179e"
             ],
             [
              0.4444444444444444,
              "#bd3786"
             ],
             [
              0.5555555555555556,
              "#d8576b"
             ],
             [
              0.6666666666666666,
              "#ed7953"
             ],
             [
              0.7777777777777778,
              "#fb9f3a"
             ],
             [
              0.8888888888888888,
              "#fdca26"
             ],
             [
              1,
              "#f0f921"
             ]
            ],
            "type": "heatmapgl"
           }
          ],
          "histogram": [
           {
            "marker": {
             "colorbar": {
              "outlinewidth": 0,
              "ticks": ""
             }
            },
            "type": "histogram"
           }
          ],
          "histogram2d": [
           {
            "colorbar": {
             "outlinewidth": 0,
             "ticks": ""
            },
            "colorscale": [
             [
              0,
              "#0d0887"
             ],
             [
              0.1111111111111111,
              "#46039f"
             ],
             [
              0.2222222222222222,
              "#7201a8"
             ],
             [
              0.3333333333333333,
              "#9c179e"
             ],
             [
              0.4444444444444444,
              "#bd3786"
             ],
             [
              0.5555555555555556,
              "#d8576b"
             ],
             [
              0.6666666666666666,
              "#ed7953"
             ],
             [
              0.7777777777777778,
              "#fb9f3a"
             ],
             [
              0.8888888888888888,
              "#fdca26"
             ],
             [
              1,
              "#f0f921"
             ]
            ],
            "type": "histogram2d"
           }
          ],
          "histogram2dcontour": [
           {
            "colorbar": {
             "outlinewidth": 0,
             "ticks": ""
            },
            "colorscale": [
             [
              0,
              "#0d0887"
             ],
             [
              0.1111111111111111,
              "#46039f"
             ],
             [
              0.2222222222222222,
              "#7201a8"
             ],
             [
              0.3333333333333333,
              "#9c179e"
             ],
             [
              0.4444444444444444,
              "#bd3786"
             ],
             [
              0.5555555555555556,
              "#d8576b"
             ],
             [
              0.6666666666666666,
              "#ed7953"
             ],
             [
              0.7777777777777778,
              "#fb9f3a"
             ],
             [
              0.8888888888888888,
              "#fdca26"
             ],
             [
              1,
              "#f0f921"
             ]
            ],
            "type": "histogram2dcontour"
           }
          ],
          "mesh3d": [
           {
            "colorbar": {
             "outlinewidth": 0,
             "ticks": ""
            },
            "type": "mesh3d"
           }
          ],
          "parcoords": [
           {
            "line": {
             "colorbar": {
              "outlinewidth": 0,
              "ticks": ""
             }
            },
            "type": "parcoords"
           }
          ],
          "pie": [
           {
            "automargin": true,
            "type": "pie"
           }
          ],
          "scatter": [
           {
            "marker": {
             "colorbar": {
              "outlinewidth": 0,
              "ticks": ""
             }
            },
            "type": "scatter"
           }
          ],
          "scatter3d": [
           {
            "line": {
             "colorbar": {
              "outlinewidth": 0,
              "ticks": ""
             }
            },
            "marker": {
             "colorbar": {
              "outlinewidth": 0,
              "ticks": ""
             }
            },
            "type": "scatter3d"
           }
          ],
          "scattercarpet": [
           {
            "marker": {
             "colorbar": {
              "outlinewidth": 0,
              "ticks": ""
             }
            },
            "type": "scattercarpet"
           }
          ],
          "scattergeo": [
           {
            "marker": {
             "colorbar": {
              "outlinewidth": 0,
              "ticks": ""
             }
            },
            "type": "scattergeo"
           }
          ],
          "scattergl": [
           {
            "marker": {
             "colorbar": {
              "outlinewidth": 0,
              "ticks": ""
             }
            },
            "type": "scattergl"
           }
          ],
          "scattermapbox": [
           {
            "marker": {
             "colorbar": {
              "outlinewidth": 0,
              "ticks": ""
             }
            },
            "type": "scattermapbox"
           }
          ],
          "scatterpolar": [
           {
            "marker": {
             "colorbar": {
              "outlinewidth": 0,
              "ticks": ""
             }
            },
            "type": "scatterpolar"
           }
          ],
          "scatterpolargl": [
           {
            "marker": {
             "colorbar": {
              "outlinewidth": 0,
              "ticks": ""
             }
            },
            "type": "scatterpolargl"
           }
          ],
          "scatterternary": [
           {
            "marker": {
             "colorbar": {
              "outlinewidth": 0,
              "ticks": ""
             }
            },
            "type": "scatterternary"
           }
          ],
          "surface": [
           {
            "colorbar": {
             "outlinewidth": 0,
             "ticks": ""
            },
            "colorscale": [
             [
              0,
              "#0d0887"
             ],
             [
              0.1111111111111111,
              "#46039f"
             ],
             [
              0.2222222222222222,
              "#7201a8"
             ],
             [
              0.3333333333333333,
              "#9c179e"
             ],
             [
              0.4444444444444444,
              "#bd3786"
             ],
             [
              0.5555555555555556,
              "#d8576b"
             ],
             [
              0.6666666666666666,
              "#ed7953"
             ],
             [
              0.7777777777777778,
              "#fb9f3a"
             ],
             [
              0.8888888888888888,
              "#fdca26"
             ],
             [
              1,
              "#f0f921"
             ]
            ],
            "type": "surface"
           }
          ],
          "table": [
           {
            "cells": {
             "fill": {
              "color": "#EBF0F8"
             },
             "line": {
              "color": "white"
             }
            },
            "header": {
             "fill": {
              "color": "#C8D4E3"
             },
             "line": {
              "color": "white"
             }
            },
            "type": "table"
           }
          ]
         },
         "layout": {
          "annotationdefaults": {
           "arrowcolor": "#2a3f5f",
           "arrowhead": 0,
           "arrowwidth": 1
          },
          "coloraxis": {
           "colorbar": {
            "outlinewidth": 0,
            "ticks": ""
           }
          },
          "colorscale": {
           "diverging": [
            [
             0,
             "#8e0152"
            ],
            [
             0.1,
             "#c51b7d"
            ],
            [
             0.2,
             "#de77ae"
            ],
            [
             0.3,
             "#f1b6da"
            ],
            [
             0.4,
             "#fde0ef"
            ],
            [
             0.5,
             "#f7f7f7"
            ],
            [
             0.6,
             "#e6f5d0"
            ],
            [
             0.7,
             "#b8e186"
            ],
            [
             0.8,
             "#7fbc41"
            ],
            [
             0.9,
             "#4d9221"
            ],
            [
             1,
             "#276419"
            ]
           ],
           "sequential": [
            [
             0,
             "#0d0887"
            ],
            [
             0.1111111111111111,
             "#46039f"
            ],
            [
             0.2222222222222222,
             "#7201a8"
            ],
            [
             0.3333333333333333,
             "#9c179e"
            ],
            [
             0.4444444444444444,
             "#bd3786"
            ],
            [
             0.5555555555555556,
             "#d8576b"
            ],
            [
             0.6666666666666666,
             "#ed7953"
            ],
            [
             0.7777777777777778,
             "#fb9f3a"
            ],
            [
             0.8888888888888888,
             "#fdca26"
            ],
            [
             1,
             "#f0f921"
            ]
           ],
           "sequentialminus": [
            [
             0,
             "#0d0887"
            ],
            [
             0.1111111111111111,
             "#46039f"
            ],
            [
             0.2222222222222222,
             "#7201a8"
            ],
            [
             0.3333333333333333,
             "#9c179e"
            ],
            [
             0.4444444444444444,
             "#bd3786"
            ],
            [
             0.5555555555555556,
             "#d8576b"
            ],
            [
             0.6666666666666666,
             "#ed7953"
            ],
            [
             0.7777777777777778,
             "#fb9f3a"
            ],
            [
             0.8888888888888888,
             "#fdca26"
            ],
            [
             1,
             "#f0f921"
            ]
           ]
          },
          "colorway": [
           "#636efa",
           "#EF553B",
           "#00cc96",
           "#ab63fa",
           "#FFA15A",
           "#19d3f3",
           "#FF6692",
           "#B6E880",
           "#FF97FF",
           "#FECB52"
          ],
          "font": {
           "color": "#2a3f5f"
          },
          "geo": {
           "bgcolor": "white",
           "lakecolor": "white",
           "landcolor": "#E5ECF6",
           "showlakes": true,
           "showland": true,
           "subunitcolor": "white"
          },
          "hoverlabel": {
           "align": "left"
          },
          "hovermode": "closest",
          "mapbox": {
           "style": "light"
          },
          "paper_bgcolor": "white",
          "plot_bgcolor": "#E5ECF6",
          "polar": {
           "angularaxis": {
            "gridcolor": "white",
            "linecolor": "white",
            "ticks": ""
           },
           "bgcolor": "#E5ECF6",
           "radialaxis": {
            "gridcolor": "white",
            "linecolor": "white",
            "ticks": ""
           }
          },
          "scene": {
           "xaxis": {
            "backgroundcolor": "#E5ECF6",
            "gridcolor": "white",
            "gridwidth": 2,
            "linecolor": "white",
            "showbackground": true,
            "ticks": "",
            "zerolinecolor": "white"
           },
           "yaxis": {
            "backgroundcolor": "#E5ECF6",
            "gridcolor": "white",
            "gridwidth": 2,
            "linecolor": "white",
            "showbackground": true,
            "ticks": "",
            "zerolinecolor": "white"
           },
           "zaxis": {
            "backgroundcolor": "#E5ECF6",
            "gridcolor": "white",
            "gridwidth": 2,
            "linecolor": "white",
            "showbackground": true,
            "ticks": "",
            "zerolinecolor": "white"
           }
          },
          "shapedefaults": {
           "line": {
            "color": "#2a3f5f"
           }
          },
          "ternary": {
           "aaxis": {
            "gridcolor": "white",
            "linecolor": "white",
            "ticks": ""
           },
           "baxis": {
            "gridcolor": "white",
            "linecolor": "white",
            "ticks": ""
           },
           "bgcolor": "#E5ECF6",
           "caxis": {
            "gridcolor": "white",
            "linecolor": "white",
            "ticks": ""
           }
          },
          "title": {
           "x": 0.05
          },
          "xaxis": {
           "automargin": true,
           "gridcolor": "white",
           "linecolor": "white",
           "ticks": "",
           "title": {
            "standoff": 15
           },
           "zerolinecolor": "white",
           "zerolinewidth": 2
          },
          "yaxis": {
           "automargin": true,
           "gridcolor": "white",
           "linecolor": "white",
           "ticks": "",
           "title": {
            "standoff": 15
           },
           "zerolinecolor": "white",
           "zerolinewidth": 2
          }
         }
        },
        "title": {
         "text": "Distribuição de vendas globais por genero na decada de 90"
        }
       }
      },
      "text/html": [
       "<div>                            <div id=\"da14ee79-ceb2-4235-81ce-b5324ee03000\" class=\"plotly-graph-div\" style=\"height:525px; width:100%;\"></div>            <script type=\"text/javascript\">                require([\"plotly\"], function(Plotly) {                    window.PLOTLYENV=window.PLOTLYENV || {};                                    if (document.getElementById(\"da14ee79-ceb2-4235-81ce-b5324ee03000\")) {                    Plotly.newPlot(                        \"da14ee79-ceb2-4235-81ce-b5324ee03000\",                        [{\"domain\": {\"x\": [0.0, 1.0], \"y\": [0.0, 1.0]}, \"hovertemplate\": \"Genre=%{label}<br>Global_Sales=%{value}<extra></extra>\", \"labels\": [\"Platform\", \"Puzzle\", \"Shooter\", \"Platform\", \"Platform\", \"Puzzle\", \"Platform\", \"Action\", \"Puzzle\", \"Puzzle\", \"Platform\", \"Adventure\", \"Shooter\", \"Action\", \"Racing\", \"Sports\", \"Role-Playing\", \"Action\", \"Sports\", \"Sports\", \"Fighting\", \"Shooter\", \"Action\", \"Platform\", \"Role-Playing\", \"Role-Playing\", \"Sports\", \"Fighting\", \"Platform\", \"Action\", \"Sports\", \"Sports\", \"Sports\", \"Misc\", \"Racing\", \"Shooter\", \"Sports\", \"Sports\", \"Action\", \"Racing\", \"Sports\", \"Puzzle\", \"Action\", \"Platform\", \"Platform\", \"Puzzle\", \"Puzzle\", \"Action\", \"Sports\", \"Shooter\", \"Platform\", \"Platform\", \"Racing\", \"Shooter\", \"Action\", \"Platform\", \"Platform\", \"Platform\", \"Misc\", \"Platform\", \"Sports\", \"Shooter\", \"Shooter\", \"Puzzle\", \"Platform\", \"Misc\", \"Shooter\", \"Shooter\", \"Role-Playing\", \"Role-Playing\", \"Platform\", \"Puzzle\", \"Shooter\", \"Platform\", \"Shooter\", \"Racing\", \"Sports\", \"Misc\", \"Action\", \"Action\", \"Platform\", \"Shooter\", \"Platform\", \"Shooter\", \"Platform\", \"Puzzle\", \"Role-Playing\", \"Role-Playing\", \"Platform\", \"Platform\", \"Shooter\", \"Misc\", \"Platform\", \"Fighting\", \"Puzzle\", \"Shooter\", \"Platform\", \"Shooter\", \"Action\", \"Platform\", \"Platform\", \"Misc\", \"Platform\", \"Role-Playing\", \"Puzzle\", \"Action\", \"Platform\", \"Action\", \"Shooter\", \"Puzzle\", \"Shooter\", \"Action\", \"Fighting\", \"Action\", \"Role-Playing\", \"Shooter\", \"Platform\", \"Action\", \"Platform\", \"Action\", \"Action\", \"Action\", \"Action\", \"Shooter\", \"Action\", \"Puzzle\", \"Action\", \"Puzzle\", \"Action\", \"Sports\", \"Action\", \"Platform\", \"Platform\", \"Shooter\", \"Action\", \"Shooter\", \"Sports\", \"Action\", \"Action\", \"Sports\", \"Shooter\", \"Racing\", \"Action\", \"Action\", \"Action\", \"Puzzle\", \"Simulation\", \"Shooter\", \"Action\", \"Action\", \"Puzzle\", \"Adventure\", \"Action\", \"Action\", \"Racing\", \"Action\", \"Action\", \"Action\", \"Shooter\", \"Action\", \"Action\", \"Action\", \"Action\", \"Action\", \"Action\", \"Action\", \"Shooter\", \"Action\", \"Action\", \"Action\", \"Action\", \"Action\", \"Sports\", \"Action\", \"Action\", \"Action\", \"Action\", \"Racing\", \"Misc\", \"Sports\", \"Shooter\", \"Action\", \"Action\", \"Misc\", \"Action\", \"Shooter\", \"Shooter\", \"Action\", \"Action\", \"Action\", \"Sports\", \"Sports\", \"Action\", \"Action\", \"Action\", \"Puzzle\", \"Action\", \"Action\", \"Sports\", \"Sports\", \"Sports\", \"Puzzle\", \"Simulation\", \"Simulation\", \"Action\"], \"legendgroup\": \"\", \"name\": \"\", \"showlegend\": true, \"type\": \"pie\", \"values\": [40.24, 30.26, 28.31, 18.14, 17.28, 7.81, 7.46, 6.51, 5.58, 5.34, 4.5, 4.38, 4.31, 4.17, 4.16, 4.01, 3.87, 3.5, 3.2, 3.08, 3.02, 2.76, 2.73, 2.65, 2.56, 2.52, 2.42, 2.4, 2.28, 2.2, 2.2, 2.17, 2.15, 2.14, 2.14, 2.13, 2.12, 1.99, 1.97, 1.96, 1.96, 1.94, 1.85, 1.76, 1.67, 1.65, 1.64, 1.64, 1.61, 1.6, 1.59, 1.56, 1.52, 1.52, 1.51, 1.5, 1.5, 1.46, 1.45, 1.43, 1.42, 1.36, 1.36, 1.32, 1.31, 1.28, 1.27, 1.27, 1.25, 1.25, 1.23, 1.22, 1.2, 1.2, 1.2, 1.18, 1.18, 1.15, 1.15, 1.14, 1.13, 1.12, 1.11, 1.1, 1.1, 1.1, 1.1, 1.1, 1.1, 1.08, 1.05, 1.05, 1.05, 1.05, 1.03, 1.0, 0.97, 0.96, 0.93, 0.93, 0.92, 0.87, 0.85, 0.84, 0.82, 0.82, 0.81, 0.79, 0.78, 0.78, 0.77, 0.77, 0.77, 0.77, 0.76, 0.73, 0.72, 0.69, 0.69, 0.67, 0.66, 0.65, 0.63, 0.62, 0.62, 0.59, 0.59, 0.58, 0.57, 0.55, 0.54, 0.54, 0.51, 0.51, 0.5, 0.5, 0.5, 0.5, 0.5, 0.49, 0.48, 0.48, 0.47, 0.47, 0.46, 0.45, 0.45, 0.45, 0.45, 0.43, 0.41, 0.4, 0.4, 0.4, 0.39, 0.39, 0.39, 0.38, 0.37, 0.37, 0.36, 0.34, 0.34, 0.34, 0.34, 0.34, 0.34, 0.33, 0.33, 0.32, 0.31, 0.31, 0.29, 0.29, 0.29, 0.28, 0.27, 0.27, 0.27, 0.26, 0.26, 0.25, 0.24, 0.24, 0.24, 0.24, 0.22, 0.22, 0.22, 0.22, 0.21, 0.19, 0.17, 0.17, 0.17, 0.15, 0.15, 0.14, 0.13, 0.08, 0.07, 0.06, 0.03, 0.03, 0.02]}],                        {\"legend\": {\"tracegroupgap\": 0}, \"template\": {\"data\": {\"bar\": [{\"error_x\": {\"color\": \"#2a3f5f\"}, \"error_y\": {\"color\": \"#2a3f5f\"}, \"marker\": {\"line\": {\"color\": \"#E5ECF6\", \"width\": 0.5}}, \"type\": \"bar\"}], \"barpolar\": [{\"marker\": {\"line\": {\"color\": \"#E5ECF6\", \"width\": 0.5}}, \"type\": \"barpolar\"}], \"carpet\": [{\"aaxis\": {\"endlinecolor\": \"#2a3f5f\", \"gridcolor\": \"white\", \"linecolor\": \"white\", \"minorgridcolor\": \"white\", \"startlinecolor\": \"#2a3f5f\"}, \"baxis\": {\"endlinecolor\": \"#2a3f5f\", \"gridcolor\": \"white\", \"linecolor\": \"white\", \"minorgridcolor\": \"white\", \"startlinecolor\": \"#2a3f5f\"}, \"type\": \"carpet\"}], \"choropleth\": [{\"colorbar\": {\"outlinewidth\": 0, \"ticks\": \"\"}, \"type\": \"choropleth\"}], \"contour\": [{\"colorbar\": {\"outlinewidth\": 0, \"ticks\": \"\"}, \"colorscale\": [[0.0, \"#0d0887\"], [0.1111111111111111, \"#46039f\"], [0.2222222222222222, \"#7201a8\"], [0.3333333333333333, \"#9c179e\"], [0.4444444444444444, \"#bd3786\"], [0.5555555555555556, \"#d8576b\"], [0.6666666666666666, \"#ed7953\"], [0.7777777777777778, \"#fb9f3a\"], [0.8888888888888888, \"#fdca26\"], [1.0, \"#f0f921\"]], \"type\": \"contour\"}], \"contourcarpet\": [{\"colorbar\": {\"outlinewidth\": 0, \"ticks\": \"\"}, \"type\": \"contourcarpet\"}], \"heatmap\": [{\"colorbar\": {\"outlinewidth\": 0, \"ticks\": \"\"}, \"colorscale\": [[0.0, \"#0d0887\"], [0.1111111111111111, \"#46039f\"], [0.2222222222222222, \"#7201a8\"], [0.3333333333333333, \"#9c179e\"], [0.4444444444444444, \"#bd3786\"], [0.5555555555555556, \"#d8576b\"], [0.6666666666666666, \"#ed7953\"], [0.7777777777777778, \"#fb9f3a\"], [0.8888888888888888, \"#fdca26\"], [1.0, \"#f0f921\"]], \"type\": \"heatmap\"}], \"heatmapgl\": [{\"colorbar\": {\"outlinewidth\": 0, \"ticks\": \"\"}, \"colorscale\": [[0.0, \"#0d0887\"], [0.1111111111111111, \"#46039f\"], [0.2222222222222222, \"#7201a8\"], [0.3333333333333333, \"#9c179e\"], [0.4444444444444444, \"#bd3786\"], [0.5555555555555556, \"#d8576b\"], [0.6666666666666666, \"#ed7953\"], [0.7777777777777778, \"#fb9f3a\"], [0.8888888888888888, \"#fdca26\"], [1.0, \"#f0f921\"]], \"type\": \"heatmapgl\"}], \"histogram\": [{\"marker\": {\"colorbar\": {\"outlinewidth\": 0, \"ticks\": \"\"}}, \"type\": \"histogram\"}], \"histogram2d\": [{\"colorbar\": {\"outlinewidth\": 0, \"ticks\": \"\"}, \"colorscale\": [[0.0, \"#0d0887\"], [0.1111111111111111, \"#46039f\"], [0.2222222222222222, \"#7201a8\"], [0.3333333333333333, \"#9c179e\"], [0.4444444444444444, \"#bd3786\"], [0.5555555555555556, \"#d8576b\"], [0.6666666666666666, \"#ed7953\"], [0.7777777777777778, \"#fb9f3a\"], [0.8888888888888888, \"#fdca26\"], [1.0, \"#f0f921\"]], \"type\": \"histogram2d\"}], \"histogram2dcontour\": [{\"colorbar\": {\"outlinewidth\": 0, \"ticks\": \"\"}, \"colorscale\": [[0.0, \"#0d0887\"], [0.1111111111111111, \"#46039f\"], [0.2222222222222222, \"#7201a8\"], [0.3333333333333333, \"#9c179e\"], [0.4444444444444444, \"#bd3786\"], [0.5555555555555556, \"#d8576b\"], [0.6666666666666666, \"#ed7953\"], [0.7777777777777778, \"#fb9f3a\"], [0.8888888888888888, \"#fdca26\"], [1.0, \"#f0f921\"]], \"type\": \"histogram2dcontour\"}], \"mesh3d\": [{\"colorbar\": {\"outlinewidth\": 0, \"ticks\": \"\"}, \"type\": \"mesh3d\"}], \"parcoords\": [{\"line\": {\"colorbar\": {\"outlinewidth\": 0, \"ticks\": \"\"}}, \"type\": \"parcoords\"}], \"pie\": [{\"automargin\": true, \"type\": \"pie\"}], \"scatter\": [{\"marker\": {\"colorbar\": {\"outlinewidth\": 0, \"ticks\": \"\"}}, \"type\": \"scatter\"}], \"scatter3d\": [{\"line\": {\"colorbar\": {\"outlinewidth\": 0, \"ticks\": \"\"}}, \"marker\": {\"colorbar\": {\"outlinewidth\": 0, \"ticks\": \"\"}}, \"type\": \"scatter3d\"}], \"scattercarpet\": [{\"marker\": {\"colorbar\": {\"outlinewidth\": 0, \"ticks\": \"\"}}, \"type\": \"scattercarpet\"}], \"scattergeo\": [{\"marker\": {\"colorbar\": {\"outlinewidth\": 0, \"ticks\": \"\"}}, \"type\": \"scattergeo\"}], \"scattergl\": [{\"marker\": {\"colorbar\": {\"outlinewidth\": 0, \"ticks\": \"\"}}, \"type\": \"scattergl\"}], \"scattermapbox\": [{\"marker\": {\"colorbar\": {\"outlinewidth\": 0, \"ticks\": \"\"}}, \"type\": \"scattermapbox\"}], \"scatterpolar\": [{\"marker\": {\"colorbar\": {\"outlinewidth\": 0, \"ticks\": \"\"}}, \"type\": \"scatterpolar\"}], \"scatterpolargl\": [{\"marker\": {\"colorbar\": {\"outlinewidth\": 0, \"ticks\": \"\"}}, \"type\": \"scatterpolargl\"}], \"scatterternary\": [{\"marker\": {\"colorbar\": {\"outlinewidth\": 0, \"ticks\": \"\"}}, \"type\": \"scatterternary\"}], \"surface\": [{\"colorbar\": {\"outlinewidth\": 0, \"ticks\": \"\"}, \"colorscale\": [[0.0, \"#0d0887\"], [0.1111111111111111, \"#46039f\"], [0.2222222222222222, \"#7201a8\"], [0.3333333333333333, \"#9c179e\"], [0.4444444444444444, \"#bd3786\"], [0.5555555555555556, \"#d8576b\"], [0.6666666666666666, \"#ed7953\"], [0.7777777777777778, \"#fb9f3a\"], [0.8888888888888888, \"#fdca26\"], [1.0, \"#f0f921\"]], \"type\": \"surface\"}], \"table\": [{\"cells\": {\"fill\": {\"color\": \"#EBF0F8\"}, \"line\": {\"color\": \"white\"}}, \"header\": {\"fill\": {\"color\": \"#C8D4E3\"}, \"line\": {\"color\": \"white\"}}, \"type\": \"table\"}]}, \"layout\": {\"annotationdefaults\": {\"arrowcolor\": \"#2a3f5f\", \"arrowhead\": 0, \"arrowwidth\": 1}, \"coloraxis\": {\"colorbar\": {\"outlinewidth\": 0, \"ticks\": \"\"}}, \"colorscale\": {\"diverging\": [[0, \"#8e0152\"], [0.1, \"#c51b7d\"], [0.2, \"#de77ae\"], [0.3, \"#f1b6da\"], [0.4, \"#fde0ef\"], [0.5, \"#f7f7f7\"], [0.6, \"#e6f5d0\"], [0.7, \"#b8e186\"], [0.8, \"#7fbc41\"], [0.9, \"#4d9221\"], [1, \"#276419\"]], \"sequential\": [[0.0, \"#0d0887\"], [0.1111111111111111, \"#46039f\"], [0.2222222222222222, \"#7201a8\"], [0.3333333333333333, \"#9c179e\"], [0.4444444444444444, \"#bd3786\"], [0.5555555555555556, \"#d8576b\"], [0.6666666666666666, \"#ed7953\"], [0.7777777777777778, \"#fb9f3a\"], [0.8888888888888888, \"#fdca26\"], [1.0, \"#f0f921\"]], \"sequentialminus\": [[0.0, \"#0d0887\"], [0.1111111111111111, \"#46039f\"], [0.2222222222222222, \"#7201a8\"], [0.3333333333333333, \"#9c179e\"], [0.4444444444444444, \"#bd3786\"], [0.5555555555555556, \"#d8576b\"], [0.6666666666666666, \"#ed7953\"], [0.7777777777777778, \"#fb9f3a\"], [0.8888888888888888, \"#fdca26\"], [1.0, \"#f0f921\"]]}, \"colorway\": [\"#636efa\", \"#EF553B\", \"#00cc96\", \"#ab63fa\", \"#FFA15A\", \"#19d3f3\", \"#FF6692\", \"#B6E880\", \"#FF97FF\", \"#FECB52\"], \"font\": {\"color\": \"#2a3f5f\"}, \"geo\": {\"bgcolor\": \"white\", \"lakecolor\": \"white\", \"landcolor\": \"#E5ECF6\", \"showlakes\": true, \"showland\": true, \"subunitcolor\": \"white\"}, \"hoverlabel\": {\"align\": \"left\"}, \"hovermode\": \"closest\", \"mapbox\": {\"style\": \"light\"}, \"paper_bgcolor\": \"white\", \"plot_bgcolor\": \"#E5ECF6\", \"polar\": {\"angularaxis\": {\"gridcolor\": \"white\", \"linecolor\": \"white\", \"ticks\": \"\"}, \"bgcolor\": \"#E5ECF6\", \"radialaxis\": {\"gridcolor\": \"white\", \"linecolor\": \"white\", \"ticks\": \"\"}}, \"scene\": {\"xaxis\": {\"backgroundcolor\": \"#E5ECF6\", \"gridcolor\": \"white\", \"gridwidth\": 2, \"linecolor\": \"white\", \"showbackground\": true, \"ticks\": \"\", \"zerolinecolor\": \"white\"}, \"yaxis\": {\"backgroundcolor\": \"#E5ECF6\", \"gridcolor\": \"white\", \"gridwidth\": 2, \"linecolor\": \"white\", \"showbackground\": true, \"ticks\": \"\", \"zerolinecolor\": \"white\"}, \"zaxis\": {\"backgroundcolor\": \"#E5ECF6\", \"gridcolor\": \"white\", \"gridwidth\": 2, \"linecolor\": \"white\", \"showbackground\": true, \"ticks\": \"\", \"zerolinecolor\": \"white\"}}, \"shapedefaults\": {\"line\": {\"color\": \"#2a3f5f\"}}, \"ternary\": {\"aaxis\": {\"gridcolor\": \"white\", \"linecolor\": \"white\", \"ticks\": \"\"}, \"baxis\": {\"gridcolor\": \"white\", \"linecolor\": \"white\", \"ticks\": \"\"}, \"bgcolor\": \"#E5ECF6\", \"caxis\": {\"gridcolor\": \"white\", \"linecolor\": \"white\", \"ticks\": \"\"}}, \"title\": {\"x\": 0.05}, \"xaxis\": {\"automargin\": true, \"gridcolor\": \"white\", \"linecolor\": \"white\", \"ticks\": \"\", \"title\": {\"standoff\": 15}, \"zerolinecolor\": \"white\", \"zerolinewidth\": 2}, \"yaxis\": {\"automargin\": true, \"gridcolor\": \"white\", \"linecolor\": \"white\", \"ticks\": \"\", \"title\": {\"standoff\": 15}, \"zerolinecolor\": \"white\", \"zerolinewidth\": 2}}}, \"title\": {\"text\": \"Distribui\\u00e7\\u00e3o de vendas globais por genero na decada de 90\"}},                        {\"responsive\": true}                    ).then(function(){\n",
       "                            \n",
       "var gd = document.getElementById('da14ee79-ceb2-4235-81ce-b5324ee03000');\n",
       "var x = new MutationObserver(function (mutations, observer) {{\n",
       "        var display = window.getComputedStyle(gd).display;\n",
       "        if (!display || display === 'none') {{\n",
       "            console.log([gd, 'removed!']);\n",
       "            Plotly.purge(gd);\n",
       "            observer.disconnect();\n",
       "        }}\n",
       "}});\n",
       "\n",
       "// Listen for the removal of the full notebook cells\n",
       "var notebookContainer = gd.closest('#notebook-container');\n",
       "if (notebookContainer) {{\n",
       "    x.observe(notebookContainer, {childList: true});\n",
       "}}\n",
       "\n",
       "// Listen for the clearing of the current output cell\n",
       "var outputEl = gd.closest('.output');\n",
       "if (outputEl) {{\n",
       "    x.observe(outputEl, {childList: true});\n",
       "}}\n",
       "\n",
       "                        })                };                });            </script>        </div>"
      ]
     },
     "metadata": {},
     "output_type": "display_data"
    }
   ],
   "source": [
    "df_90 = data.loc[(data['Year'] >= 1990) & (data['Year']<2000)]\n",
    "fig = go.Figure(data=[go.Bar(x=df_90['Platform'].unique(), y=global_sales_console(df_90), hovertext=global_sales_console(df_90))])\n",
    "# Customize aspect\n",
    "fig.update_traces(marker_color='rgb(158,202,225)', marker_line_color='rgb(8,48,107)',\n",
    "                  marker_line_width=1.5, opacity=0.6)\n",
    "fig.update_layout(title_text='Distribuição de vendas globais por console na decada de 90',\n",
    "                  xaxis_title=\"Platform\",\n",
    "                  yaxis_title=\"Global Sales in Millions\")\n",
    "fig.show()\n",
    "\n",
    "fig = px.pie(df_80, values='Global_Sales', names='Genre', title='Distribuição de vendas globais por genero na decada de 90')\n",
    "fig.show()"
   ]
  },
  {
   "cell_type": "code",
   "execution_count": 107,
   "metadata": {},
   "outputs": [
    {
     "data": {
      "application/vnd.plotly.v1+json": {
       "config": {
        "plotlyServerURL": "https://plot.ly"
       },
       "data": [
        {
         "hovertext": [
          "677.4800000000001",
          "689.2500000000001",
          "1227.36",
          "305.61999999999995",
          "412.65",
          "346.91",
          "252.09000000000003",
          "84.88000000000001",
          "227.44",
          "197.14000000000004",
          "29.0",
          "140.54000000000002",
          "37.349999999999994",
          "7.409999999999999",
          "0.9600000000000001"
         ],
         "marker": {
          "color": "rgb(158,202,225)",
          "line": {
           "color": "rgb(8,48,107)",
           "width": 1.5
          }
         },
         "opacity": 0.6,
         "type": "bar",
         "x": [
          "Wii",
          "DS",
          "PS2",
          "GBA",
          "X360",
          "PS3",
          "XB",
          "PC",
          "PSP",
          "GC",
          "GB",
          "PS",
          "N64",
          "DC",
          "WS"
         ],
         "y": [
          677.4800000000001,
          689.2500000000001,
          1227.36,
          305.61999999999995,
          412.65,
          346.91,
          252.09000000000003,
          84.88000000000001,
          227.44,
          197.14000000000004,
          29,
          140.54000000000002,
          37.349999999999994,
          7.409999999999999,
          0.9600000000000001
         ]
        }
       ],
       "layout": {
        "template": {
         "data": {
          "bar": [
           {
            "error_x": {
             "color": "#2a3f5f"
            },
            "error_y": {
             "color": "#2a3f5f"
            },
            "marker": {
             "line": {
              "color": "#E5ECF6",
              "width": 0.5
             }
            },
            "type": "bar"
           }
          ],
          "barpolar": [
           {
            "marker": {
             "line": {
              "color": "#E5ECF6",
              "width": 0.5
             }
            },
            "type": "barpolar"
           }
          ],
          "carpet": [
           {
            "aaxis": {
             "endlinecolor": "#2a3f5f",
             "gridcolor": "white",
             "linecolor": "white",
             "minorgridcolor": "white",
             "startlinecolor": "#2a3f5f"
            },
            "baxis": {
             "endlinecolor": "#2a3f5f",
             "gridcolor": "white",
             "linecolor": "white",
             "minorgridcolor": "white",
             "startlinecolor": "#2a3f5f"
            },
            "type": "carpet"
           }
          ],
          "choropleth": [
           {
            "colorbar": {
             "outlinewidth": 0,
             "ticks": ""
            },
            "type": "choropleth"
           }
          ],
          "contour": [
           {
            "colorbar": {
             "outlinewidth": 0,
             "ticks": ""
            },
            "colorscale": [
             [
              0,
              "#0d0887"
             ],
             [
              0.1111111111111111,
              "#46039f"
             ],
             [
              0.2222222222222222,
              "#7201a8"
             ],
             [
              0.3333333333333333,
              "#9c179e"
             ],
             [
              0.4444444444444444,
              "#bd3786"
             ],
             [
              0.5555555555555556,
              "#d8576b"
             ],
             [
              0.6666666666666666,
              "#ed7953"
             ],
             [
              0.7777777777777778,
              "#fb9f3a"
             ],
             [
              0.8888888888888888,
              "#fdca26"
             ],
             [
              1,
              "#f0f921"
             ]
            ],
            "type": "contour"
           }
          ],
          "contourcarpet": [
           {
            "colorbar": {
             "outlinewidth": 0,
             "ticks": ""
            },
            "type": "contourcarpet"
           }
          ],
          "heatmap": [
           {
            "colorbar": {
             "outlinewidth": 0,
             "ticks": ""
            },
            "colorscale": [
             [
              0,
              "#0d0887"
             ],
             [
              0.1111111111111111,
              "#46039f"
             ],
             [
              0.2222222222222222,
              "#7201a8"
             ],
             [
              0.3333333333333333,
              "#9c179e"
             ],
             [
              0.4444444444444444,
              "#bd3786"
             ],
             [
              0.5555555555555556,
              "#d8576b"
             ],
             [
              0.6666666666666666,
              "#ed7953"
             ],
             [
              0.7777777777777778,
              "#fb9f3a"
             ],
             [
              0.8888888888888888,
              "#fdca26"
             ],
             [
              1,
              "#f0f921"
             ]
            ],
            "type": "heatmap"
           }
          ],
          "heatmapgl": [
           {
            "colorbar": {
             "outlinewidth": 0,
             "ticks": ""
            },
            "colorscale": [
             [
              0,
              "#0d0887"
             ],
             [
              0.1111111111111111,
              "#46039f"
             ],
             [
              0.2222222222222222,
              "#7201a8"
             ],
             [
              0.3333333333333333,
              "#9c179e"
             ],
             [
              0.4444444444444444,
              "#bd3786"
             ],
             [
              0.5555555555555556,
              "#d8576b"
             ],
             [
              0.6666666666666666,
              "#ed7953"
             ],
             [
              0.7777777777777778,
              "#fb9f3a"
             ],
             [
              0.8888888888888888,
              "#fdca26"
             ],
             [
              1,
              "#f0f921"
             ]
            ],
            "type": "heatmapgl"
           }
          ],
          "histogram": [
           {
            "marker": {
             "colorbar": {
              "outlinewidth": 0,
              "ticks": ""
             }
            },
            "type": "histogram"
           }
          ],
          "histogram2d": [
           {
            "colorbar": {
             "outlinewidth": 0,
             "ticks": ""
            },
            "colorscale": [
             [
              0,
              "#0d0887"
             ],
             [
              0.1111111111111111,
              "#46039f"
             ],
             [
              0.2222222222222222,
              "#7201a8"
             ],
             [
              0.3333333333333333,
              "#9c179e"
             ],
             [
              0.4444444444444444,
              "#bd3786"
             ],
             [
              0.5555555555555556,
              "#d8576b"
             ],
             [
              0.6666666666666666,
              "#ed7953"
             ],
             [
              0.7777777777777778,
              "#fb9f3a"
             ],
             [
              0.8888888888888888,
              "#fdca26"
             ],
             [
              1,
              "#f0f921"
             ]
            ],
            "type": "histogram2d"
           }
          ],
          "histogram2dcontour": [
           {
            "colorbar": {
             "outlinewidth": 0,
             "ticks": ""
            },
            "colorscale": [
             [
              0,
              "#0d0887"
             ],
             [
              0.1111111111111111,
              "#46039f"
             ],
             [
              0.2222222222222222,
              "#7201a8"
             ],
             [
              0.3333333333333333,
              "#9c179e"
             ],
             [
              0.4444444444444444,
              "#bd3786"
             ],
             [
              0.5555555555555556,
              "#d8576b"
             ],
             [
              0.6666666666666666,
              "#ed7953"
             ],
             [
              0.7777777777777778,
              "#fb9f3a"
             ],
             [
              0.8888888888888888,
              "#fdca26"
             ],
             [
              1,
              "#f0f921"
             ]
            ],
            "type": "histogram2dcontour"
           }
          ],
          "mesh3d": [
           {
            "colorbar": {
             "outlinewidth": 0,
             "ticks": ""
            },
            "type": "mesh3d"
           }
          ],
          "parcoords": [
           {
            "line": {
             "colorbar": {
              "outlinewidth": 0,
              "ticks": ""
             }
            },
            "type": "parcoords"
           }
          ],
          "pie": [
           {
            "automargin": true,
            "type": "pie"
           }
          ],
          "scatter": [
           {
            "marker": {
             "colorbar": {
              "outlinewidth": 0,
              "ticks": ""
             }
            },
            "type": "scatter"
           }
          ],
          "scatter3d": [
           {
            "line": {
             "colorbar": {
              "outlinewidth": 0,
              "ticks": ""
             }
            },
            "marker": {
             "colorbar": {
              "outlinewidth": 0,
              "ticks": ""
             }
            },
            "type": "scatter3d"
           }
          ],
          "scattercarpet": [
           {
            "marker": {
             "colorbar": {
              "outlinewidth": 0,
              "ticks": ""
             }
            },
            "type": "scattercarpet"
           }
          ],
          "scattergeo": [
           {
            "marker": {
             "colorbar": {
              "outlinewidth": 0,
              "ticks": ""
             }
            },
            "type": "scattergeo"
           }
          ],
          "scattergl": [
           {
            "marker": {
             "colorbar": {
              "outlinewidth": 0,
              "ticks": ""
             }
            },
            "type": "scattergl"
           }
          ],
          "scattermapbox": [
           {
            "marker": {
             "colorbar": {
              "outlinewidth": 0,
              "ticks": ""
             }
            },
            "type": "scattermapbox"
           }
          ],
          "scatterpolar": [
           {
            "marker": {
             "colorbar": {
              "outlinewidth": 0,
              "ticks": ""
             }
            },
            "type": "scatterpolar"
           }
          ],
          "scatterpolargl": [
           {
            "marker": {
             "colorbar": {
              "outlinewidth": 0,
              "ticks": ""
             }
            },
            "type": "scatterpolargl"
           }
          ],
          "scatterternary": [
           {
            "marker": {
             "colorbar": {
              "outlinewidth": 0,
              "ticks": ""
             }
            },
            "type": "scatterternary"
           }
          ],
          "surface": [
           {
            "colorbar": {
             "outlinewidth": 0,
             "ticks": ""
            },
            "colorscale": [
             [
              0,
              "#0d0887"
             ],
             [
              0.1111111111111111,
              "#46039f"
             ],
             [
              0.2222222222222222,
              "#7201a8"
             ],
             [
              0.3333333333333333,
              "#9c179e"
             ],
             [
              0.4444444444444444,
              "#bd3786"
             ],
             [
              0.5555555555555556,
              "#d8576b"
             ],
             [
              0.6666666666666666,
              "#ed7953"
             ],
             [
              0.7777777777777778,
              "#fb9f3a"
             ],
             [
              0.8888888888888888,
              "#fdca26"
             ],
             [
              1,
              "#f0f921"
             ]
            ],
            "type": "surface"
           }
          ],
          "table": [
           {
            "cells": {
             "fill": {
              "color": "#EBF0F8"
             },
             "line": {
              "color": "white"
             }
            },
            "header": {
             "fill": {
              "color": "#C8D4E3"
             },
             "line": {
              "color": "white"
             }
            },
            "type": "table"
           }
          ]
         },
         "layout": {
          "annotationdefaults": {
           "arrowcolor": "#2a3f5f",
           "arrowhead": 0,
           "arrowwidth": 1
          },
          "coloraxis": {
           "colorbar": {
            "outlinewidth": 0,
            "ticks": ""
           }
          },
          "colorscale": {
           "diverging": [
            [
             0,
             "#8e0152"
            ],
            [
             0.1,
             "#c51b7d"
            ],
            [
             0.2,
             "#de77ae"
            ],
            [
             0.3,
             "#f1b6da"
            ],
            [
             0.4,
             "#fde0ef"
            ],
            [
             0.5,
             "#f7f7f7"
            ],
            [
             0.6,
             "#e6f5d0"
            ],
            [
             0.7,
             "#b8e186"
            ],
            [
             0.8,
             "#7fbc41"
            ],
            [
             0.9,
             "#4d9221"
            ],
            [
             1,
             "#276419"
            ]
           ],
           "sequential": [
            [
             0,
             "#0d0887"
            ],
            [
             0.1111111111111111,
             "#46039f"
            ],
            [
             0.2222222222222222,
             "#7201a8"
            ],
            [
             0.3333333333333333,
             "#9c179e"
            ],
            [
             0.4444444444444444,
             "#bd3786"
            ],
            [
             0.5555555555555556,
             "#d8576b"
            ],
            [
             0.6666666666666666,
             "#ed7953"
            ],
            [
             0.7777777777777778,
             "#fb9f3a"
            ],
            [
             0.8888888888888888,
             "#fdca26"
            ],
            [
             1,
             "#f0f921"
            ]
           ],
           "sequentialminus": [
            [
             0,
             "#0d0887"
            ],
            [
             0.1111111111111111,
             "#46039f"
            ],
            [
             0.2222222222222222,
             "#7201a8"
            ],
            [
             0.3333333333333333,
             "#9c179e"
            ],
            [
             0.4444444444444444,
             "#bd3786"
            ],
            [
             0.5555555555555556,
             "#d8576b"
            ],
            [
             0.6666666666666666,
             "#ed7953"
            ],
            [
             0.7777777777777778,
             "#fb9f3a"
            ],
            [
             0.8888888888888888,
             "#fdca26"
            ],
            [
             1,
             "#f0f921"
            ]
           ]
          },
          "colorway": [
           "#636efa",
           "#EF553B",
           "#00cc96",
           "#ab63fa",
           "#FFA15A",
           "#19d3f3",
           "#FF6692",
           "#B6E880",
           "#FF97FF",
           "#FECB52"
          ],
          "font": {
           "color": "#2a3f5f"
          },
          "geo": {
           "bgcolor": "white",
           "lakecolor": "white",
           "landcolor": "#E5ECF6",
           "showlakes": true,
           "showland": true,
           "subunitcolor": "white"
          },
          "hoverlabel": {
           "align": "left"
          },
          "hovermode": "closest",
          "mapbox": {
           "style": "light"
          },
          "paper_bgcolor": "white",
          "plot_bgcolor": "#E5ECF6",
          "polar": {
           "angularaxis": {
            "gridcolor": "white",
            "linecolor": "white",
            "ticks": ""
           },
           "bgcolor": "#E5ECF6",
           "radialaxis": {
            "gridcolor": "white",
            "linecolor": "white",
            "ticks": ""
           }
          },
          "scene": {
           "xaxis": {
            "backgroundcolor": "#E5ECF6",
            "gridcolor": "white",
            "gridwidth": 2,
            "linecolor": "white",
            "showbackground": true,
            "ticks": "",
            "zerolinecolor": "white"
           },
           "yaxis": {
            "backgroundcolor": "#E5ECF6",
            "gridcolor": "white",
            "gridwidth": 2,
            "linecolor": "white",
            "showbackground": true,
            "ticks": "",
            "zerolinecolor": "white"
           },
           "zaxis": {
            "backgroundcolor": "#E5ECF6",
            "gridcolor": "white",
            "gridwidth": 2,
            "linecolor": "white",
            "showbackground": true,
            "ticks": "",
            "zerolinecolor": "white"
           }
          },
          "shapedefaults": {
           "line": {
            "color": "#2a3f5f"
           }
          },
          "ternary": {
           "aaxis": {
            "gridcolor": "white",
            "linecolor": "white",
            "ticks": ""
           },
           "baxis": {
            "gridcolor": "white",
            "linecolor": "white",
            "ticks": ""
           },
           "bgcolor": "#E5ECF6",
           "caxis": {
            "gridcolor": "white",
            "linecolor": "white",
            "ticks": ""
           }
          },
          "title": {
           "x": 0.05
          },
          "xaxis": {
           "automargin": true,
           "gridcolor": "white",
           "linecolor": "white",
           "ticks": "",
           "title": {
            "standoff": 15
           },
           "zerolinecolor": "white",
           "zerolinewidth": 2
          },
          "yaxis": {
           "automargin": true,
           "gridcolor": "white",
           "linecolor": "white",
           "ticks": "",
           "title": {
            "standoff": 15
           },
           "zerolinecolor": "white",
           "zerolinewidth": 2
          }
         }
        },
        "title": {
         "text": "Distribuição de vendas globais por console na decada de 00"
        },
        "xaxis": {
         "title": {
          "text": "Platform"
         }
        },
        "yaxis": {
         "title": {
          "text": "Global Sales in Millions"
         }
        }
       }
      },
      "text/html": [
       "<div>                            <div id=\"c1f2e503-e57b-4a6f-bdb4-ef5c8806d8b7\" class=\"plotly-graph-div\" style=\"height:525px; width:100%;\"></div>            <script type=\"text/javascript\">                require([\"plotly\"], function(Plotly) {                    window.PLOTLYENV=window.PLOTLYENV || {};                                    if (document.getElementById(\"c1f2e503-e57b-4a6f-bdb4-ef5c8806d8b7\")) {                    Plotly.newPlot(                        \"c1f2e503-e57b-4a6f-bdb4-ef5c8806d8b7\",                        [{\"hovertext\": [\"677.4800000000001\", \"689.2500000000001\", \"1227.36\", \"305.61999999999995\", \"412.65\", \"346.91\", \"252.09000000000003\", \"84.88000000000001\", \"227.44\", \"197.14000000000004\", \"29.0\", \"140.54000000000002\", \"37.349999999999994\", \"7.409999999999999\", \"0.9600000000000001\"], \"marker\": {\"color\": \"rgb(158,202,225)\", \"line\": {\"color\": \"rgb(8,48,107)\", \"width\": 1.5}}, \"opacity\": 0.6, \"type\": \"bar\", \"x\": [\"Wii\", \"DS\", \"PS2\", \"GBA\", \"X360\", \"PS3\", \"XB\", \"PC\", \"PSP\", \"GC\", \"GB\", \"PS\", \"N64\", \"DC\", \"WS\"], \"y\": [677.4800000000001, 689.2500000000001, 1227.36, 305.61999999999995, 412.65, 346.91, 252.09000000000003, 84.88000000000001, 227.44, 197.14000000000004, 29.0, 140.54000000000002, 37.349999999999994, 7.409999999999999, 0.9600000000000001]}],                        {\"template\": {\"data\": {\"bar\": [{\"error_x\": {\"color\": \"#2a3f5f\"}, \"error_y\": {\"color\": \"#2a3f5f\"}, \"marker\": {\"line\": {\"color\": \"#E5ECF6\", \"width\": 0.5}}, \"type\": \"bar\"}], \"barpolar\": [{\"marker\": {\"line\": {\"color\": \"#E5ECF6\", \"width\": 0.5}}, \"type\": \"barpolar\"}], \"carpet\": [{\"aaxis\": {\"endlinecolor\": \"#2a3f5f\", \"gridcolor\": \"white\", \"linecolor\": \"white\", \"minorgridcolor\": \"white\", \"startlinecolor\": \"#2a3f5f\"}, \"baxis\": {\"endlinecolor\": \"#2a3f5f\", \"gridcolor\": \"white\", \"linecolor\": \"white\", \"minorgridcolor\": \"white\", \"startlinecolor\": \"#2a3f5f\"}, \"type\": \"carpet\"}], \"choropleth\": [{\"colorbar\": {\"outlinewidth\": 0, \"ticks\": \"\"}, \"type\": \"choropleth\"}], \"contour\": [{\"colorbar\": {\"outlinewidth\": 0, \"ticks\": \"\"}, \"colorscale\": [[0.0, \"#0d0887\"], [0.1111111111111111, \"#46039f\"], [0.2222222222222222, \"#7201a8\"], [0.3333333333333333, \"#9c179e\"], [0.4444444444444444, \"#bd3786\"], [0.5555555555555556, \"#d8576b\"], [0.6666666666666666, \"#ed7953\"], [0.7777777777777778, \"#fb9f3a\"], [0.8888888888888888, \"#fdca26\"], [1.0, \"#f0f921\"]], \"type\": \"contour\"}], \"contourcarpet\": [{\"colorbar\": {\"outlinewidth\": 0, \"ticks\": \"\"}, \"type\": \"contourcarpet\"}], \"heatmap\": [{\"colorbar\": {\"outlinewidth\": 0, \"ticks\": \"\"}, \"colorscale\": [[0.0, \"#0d0887\"], [0.1111111111111111, \"#46039f\"], [0.2222222222222222, \"#7201a8\"], [0.3333333333333333, \"#9c179e\"], [0.4444444444444444, \"#bd3786\"], [0.5555555555555556, \"#d8576b\"], [0.6666666666666666, \"#ed7953\"], [0.7777777777777778, \"#fb9f3a\"], [0.8888888888888888, \"#fdca26\"], [1.0, \"#f0f921\"]], \"type\": \"heatmap\"}], \"heatmapgl\": [{\"colorbar\": {\"outlinewidth\": 0, \"ticks\": \"\"}, \"colorscale\": [[0.0, \"#0d0887\"], [0.1111111111111111, \"#46039f\"], [0.2222222222222222, \"#7201a8\"], [0.3333333333333333, \"#9c179e\"], [0.4444444444444444, \"#bd3786\"], [0.5555555555555556, \"#d8576b\"], [0.6666666666666666, \"#ed7953\"], [0.7777777777777778, \"#fb9f3a\"], [0.8888888888888888, \"#fdca26\"], [1.0, \"#f0f921\"]], \"type\": \"heatmapgl\"}], \"histogram\": [{\"marker\": {\"colorbar\": {\"outlinewidth\": 0, \"ticks\": \"\"}}, \"type\": \"histogram\"}], \"histogram2d\": [{\"colorbar\": {\"outlinewidth\": 0, \"ticks\": \"\"}, \"colorscale\": [[0.0, \"#0d0887\"], [0.1111111111111111, \"#46039f\"], [0.2222222222222222, \"#7201a8\"], [0.3333333333333333, \"#9c179e\"], [0.4444444444444444, \"#bd3786\"], [0.5555555555555556, \"#d8576b\"], [0.6666666666666666, \"#ed7953\"], [0.7777777777777778, \"#fb9f3a\"], [0.8888888888888888, \"#fdca26\"], [1.0, \"#f0f921\"]], \"type\": \"histogram2d\"}], \"histogram2dcontour\": [{\"colorbar\": {\"outlinewidth\": 0, \"ticks\": \"\"}, \"colorscale\": [[0.0, \"#0d0887\"], [0.1111111111111111, \"#46039f\"], [0.2222222222222222, \"#7201a8\"], [0.3333333333333333, \"#9c179e\"], [0.4444444444444444, \"#bd3786\"], [0.5555555555555556, \"#d8576b\"], [0.6666666666666666, \"#ed7953\"], [0.7777777777777778, \"#fb9f3a\"], [0.8888888888888888, \"#fdca26\"], [1.0, \"#f0f921\"]], \"type\": \"histogram2dcontour\"}], \"mesh3d\": [{\"colorbar\": {\"outlinewidth\": 0, \"ticks\": \"\"}, \"type\": \"mesh3d\"}], \"parcoords\": [{\"line\": {\"colorbar\": {\"outlinewidth\": 0, \"ticks\": \"\"}}, \"type\": \"parcoords\"}], \"pie\": [{\"automargin\": true, \"type\": \"pie\"}], \"scatter\": [{\"marker\": {\"colorbar\": {\"outlinewidth\": 0, \"ticks\": \"\"}}, \"type\": \"scatter\"}], \"scatter3d\": [{\"line\": {\"colorbar\": {\"outlinewidth\": 0, \"ticks\": \"\"}}, \"marker\": {\"colorbar\": {\"outlinewidth\": 0, \"ticks\": \"\"}}, \"type\": \"scatter3d\"}], \"scattercarpet\": [{\"marker\": {\"colorbar\": {\"outlinewidth\": 0, \"ticks\": \"\"}}, \"type\": \"scattercarpet\"}], \"scattergeo\": [{\"marker\": {\"colorbar\": {\"outlinewidth\": 0, \"ticks\": \"\"}}, \"type\": \"scattergeo\"}], \"scattergl\": [{\"marker\": {\"colorbar\": {\"outlinewidth\": 0, \"ticks\": \"\"}}, \"type\": \"scattergl\"}], \"scattermapbox\": [{\"marker\": {\"colorbar\": {\"outlinewidth\": 0, \"ticks\": \"\"}}, \"type\": \"scattermapbox\"}], \"scatterpolar\": [{\"marker\": {\"colorbar\": {\"outlinewidth\": 0, \"ticks\": \"\"}}, \"type\": \"scatterpolar\"}], \"scatterpolargl\": [{\"marker\": {\"colorbar\": {\"outlinewidth\": 0, \"ticks\": \"\"}}, \"type\": \"scatterpolargl\"}], \"scatterternary\": [{\"marker\": {\"colorbar\": {\"outlinewidth\": 0, \"ticks\": \"\"}}, \"type\": \"scatterternary\"}], \"surface\": [{\"colorbar\": {\"outlinewidth\": 0, \"ticks\": \"\"}, \"colorscale\": [[0.0, \"#0d0887\"], [0.1111111111111111, \"#46039f\"], [0.2222222222222222, \"#7201a8\"], [0.3333333333333333, \"#9c179e\"], [0.4444444444444444, \"#bd3786\"], [0.5555555555555556, \"#d8576b\"], [0.6666666666666666, \"#ed7953\"], [0.7777777777777778, \"#fb9f3a\"], [0.8888888888888888, \"#fdca26\"], [1.0, \"#f0f921\"]], \"type\": \"surface\"}], \"table\": [{\"cells\": {\"fill\": {\"color\": \"#EBF0F8\"}, \"line\": {\"color\": \"white\"}}, \"header\": {\"fill\": {\"color\": \"#C8D4E3\"}, \"line\": {\"color\": \"white\"}}, \"type\": \"table\"}]}, \"layout\": {\"annotationdefaults\": {\"arrowcolor\": \"#2a3f5f\", \"arrowhead\": 0, \"arrowwidth\": 1}, \"coloraxis\": {\"colorbar\": {\"outlinewidth\": 0, \"ticks\": \"\"}}, \"colorscale\": {\"diverging\": [[0, \"#8e0152\"], [0.1, \"#c51b7d\"], [0.2, \"#de77ae\"], [0.3, \"#f1b6da\"], [0.4, \"#fde0ef\"], [0.5, \"#f7f7f7\"], [0.6, \"#e6f5d0\"], [0.7, \"#b8e186\"], [0.8, \"#7fbc41\"], [0.9, \"#4d9221\"], [1, \"#276419\"]], \"sequential\": [[0.0, \"#0d0887\"], [0.1111111111111111, \"#46039f\"], [0.2222222222222222, \"#7201a8\"], [0.3333333333333333, \"#9c179e\"], [0.4444444444444444, \"#bd3786\"], [0.5555555555555556, \"#d8576b\"], [0.6666666666666666, \"#ed7953\"], [0.7777777777777778, \"#fb9f3a\"], [0.8888888888888888, \"#fdca26\"], [1.0, \"#f0f921\"]], \"sequentialminus\": [[0.0, \"#0d0887\"], [0.1111111111111111, \"#46039f\"], [0.2222222222222222, \"#7201a8\"], [0.3333333333333333, \"#9c179e\"], [0.4444444444444444, \"#bd3786\"], [0.5555555555555556, \"#d8576b\"], [0.6666666666666666, \"#ed7953\"], [0.7777777777777778, \"#fb9f3a\"], [0.8888888888888888, \"#fdca26\"], [1.0, \"#f0f921\"]]}, \"colorway\": [\"#636efa\", \"#EF553B\", \"#00cc96\", \"#ab63fa\", \"#FFA15A\", \"#19d3f3\", \"#FF6692\", \"#B6E880\", \"#FF97FF\", \"#FECB52\"], \"font\": {\"color\": \"#2a3f5f\"}, \"geo\": {\"bgcolor\": \"white\", \"lakecolor\": \"white\", \"landcolor\": \"#E5ECF6\", \"showlakes\": true, \"showland\": true, \"subunitcolor\": \"white\"}, \"hoverlabel\": {\"align\": \"left\"}, \"hovermode\": \"closest\", \"mapbox\": {\"style\": \"light\"}, \"paper_bgcolor\": \"white\", \"plot_bgcolor\": \"#E5ECF6\", \"polar\": {\"angularaxis\": {\"gridcolor\": \"white\", \"linecolor\": \"white\", \"ticks\": \"\"}, \"bgcolor\": \"#E5ECF6\", \"radialaxis\": {\"gridcolor\": \"white\", \"linecolor\": \"white\", \"ticks\": \"\"}}, \"scene\": {\"xaxis\": {\"backgroundcolor\": \"#E5ECF6\", \"gridcolor\": \"white\", \"gridwidth\": 2, \"linecolor\": \"white\", \"showbackground\": true, \"ticks\": \"\", \"zerolinecolor\": \"white\"}, \"yaxis\": {\"backgroundcolor\": \"#E5ECF6\", \"gridcolor\": \"white\", \"gridwidth\": 2, \"linecolor\": \"white\", \"showbackground\": true, \"ticks\": \"\", \"zerolinecolor\": \"white\"}, \"zaxis\": {\"backgroundcolor\": \"#E5ECF6\", \"gridcolor\": \"white\", \"gridwidth\": 2, \"linecolor\": \"white\", \"showbackground\": true, \"ticks\": \"\", \"zerolinecolor\": \"white\"}}, \"shapedefaults\": {\"line\": {\"color\": \"#2a3f5f\"}}, \"ternary\": {\"aaxis\": {\"gridcolor\": \"white\", \"linecolor\": \"white\", \"ticks\": \"\"}, \"baxis\": {\"gridcolor\": \"white\", \"linecolor\": \"white\", \"ticks\": \"\"}, \"bgcolor\": \"#E5ECF6\", \"caxis\": {\"gridcolor\": \"white\", \"linecolor\": \"white\", \"ticks\": \"\"}}, \"title\": {\"x\": 0.05}, \"xaxis\": {\"automargin\": true, \"gridcolor\": \"white\", \"linecolor\": \"white\", \"ticks\": \"\", \"title\": {\"standoff\": 15}, \"zerolinecolor\": \"white\", \"zerolinewidth\": 2}, \"yaxis\": {\"automargin\": true, \"gridcolor\": \"white\", \"linecolor\": \"white\", \"ticks\": \"\", \"title\": {\"standoff\": 15}, \"zerolinecolor\": \"white\", \"zerolinewidth\": 2}}}, \"title\": {\"text\": \"Distribui\\u00e7\\u00e3o de vendas globais por console na decada de 00\"}, \"xaxis\": {\"title\": {\"text\": \"Platform\"}}, \"yaxis\": {\"title\": {\"text\": \"Global Sales in Millions\"}}},                        {\"responsive\": true}                    ).then(function(){\n",
       "                            \n",
       "var gd = document.getElementById('c1f2e503-e57b-4a6f-bdb4-ef5c8806d8b7');\n",
       "var x = new MutationObserver(function (mutations, observer) {{\n",
       "        var display = window.getComputedStyle(gd).display;\n",
       "        if (!display || display === 'none') {{\n",
       "            console.log([gd, 'removed!']);\n",
       "            Plotly.purge(gd);\n",
       "            observer.disconnect();\n",
       "        }}\n",
       "}});\n",
       "\n",
       "// Listen for the removal of the full notebook cells\n",
       "var notebookContainer = gd.closest('#notebook-container');\n",
       "if (notebookContainer) {{\n",
       "    x.observe(notebookContainer, {childList: true});\n",
       "}}\n",
       "\n",
       "// Listen for the clearing of the current output cell\n",
       "var outputEl = gd.closest('.output');\n",
       "if (outputEl) {{\n",
       "    x.observe(outputEl, {childList: true});\n",
       "}}\n",
       "\n",
       "                        })                };                });            </script>        </div>"
      ]
     },
     "metadata": {},
     "output_type": "display_data"
    }
   ],
   "source": [
    "df_00 = data.loc[(data['Year'] >= 2000) & (data['Year']<2010)]\n",
    "fig = go.Figure(data=[go.Bar(x=df_00['Platform'].unique(), y=global_sales_console(df_00), hovertext=global_sales_console(df_00))])\n",
    "# Customize aspect\n",
    "fig.update_traces(marker_color='rgb(158,202,225)', marker_line_color='rgb(8,48,107)',\n",
    "                  marker_line_width=1.5, opacity=0.6)\n",
    "fig.update_layout(title_text='Distribuição de vendas globais por console na decada de 00',\n",
    "                  xaxis_title=\"Platform\",\n",
    "                  yaxis_title=\"Global Sales in Millions\")\n",
    "fig.show()\n"
   ]
  },
  {
   "cell_type": "code",
   "execution_count": 40,
   "metadata": {},
   "outputs": [
    {
     "data": {
      "application/vnd.plotly.v1+json": {
       "config": {
        "plotlyServerURL": "https://plot.ly"
       },
       "data": [
        {
         "marker": {
          "color": "rgb(158,202,225)",
          "line": {
           "color": "rgb(8,48,107)",
           "width": 1.5
          }
         },
         "opacity": 0.6,
         "type": "bar",
         "x": [
          "X360",
          "PS3",
          "X360",
          "DS",
          "X360",
          "X360",
          "3DS",
          "PS4",
          "PS3",
          "X360",
          "PS3",
          "PS3",
          "3DS",
          "PS4",
          "3DS",
          "3DS",
          "PS3",
          "Wii",
          "X360",
          "X360",
          "3DS",
          "X360",
          "PS3",
          "Wii",
          "X360",
          "3DS",
          "X360",
          "PS4",
          "Wii",
          "DS",
          "PS3",
          "Wii",
          "PS4",
          "PS4",
          "3DS",
          "X360",
          "XOne",
          "PS3",
          "WiiU",
          "PS4",
          "Wii",
          "PS3",
          "PS3",
          "Wii",
          "PS3",
          "PS3",
          "PS4",
          "Wii",
          "PS3",
          "PS3",
          "X360",
          "X360",
          "X360",
          "PS3",
          "PS4",
          "PS3",
          "PS3",
          "X360",
          "PC",
          "WiiU",
          "X360",
          "3DS",
          "X360",
          "XOne",
          "XOne",
          "PS3",
          "WiiU",
          "PSP",
          "PS3",
          "PC",
          "PS3",
          "PS4",
          "X360",
          "X360",
          "3DS",
          "WiiU",
          "PS4",
          "PS4",
          "PS3",
          "WiiU",
          "Wii",
          "X360",
          "X360",
          "XOne",
          "WiiU",
          "PS3",
          "3DS",
          "PS4",
          "X360",
          "X360",
          "PS4",
          "Wii",
          "XOne",
          "X360",
          "PS4",
          "PS4",
          "PS4",
          "PS3",
          "3DS",
          "PC",
          "PS3",
          "PS4",
          "3DS",
          "PS4",
          "Wii",
          "Wii",
          "PS4",
          "PS3",
          "PS3",
          "PS4",
          "PS4",
          "X360",
          "X360",
          "X360",
          "XOne",
          "X360",
          "XOne",
          "PS3",
          "3DS",
          "PS4",
          "PS3",
          "PS4",
          "X360",
          "Wii",
          "PS4",
          "XOne",
          "3DS",
          "XOne",
          "PS3",
          "PS4",
          "3DS",
          "X360",
          "WiiU",
          "PS3",
          "PS3",
          "XOne",
          "PS3",
          "X360",
          "X360",
          "X360",
          "3DS",
          "X360",
          "X360",
          "Wii",
          "XOne",
          "X360",
          "PS4",
          "3DS",
          "PS3",
          "PC",
          "PC",
          "PS4",
          "XOne",
          "PS3",
          "Wii",
          "XOne",
          "X360",
          "PS3",
          "Wii",
          "PS3",
          "PS3",
          "PS3",
          "PS3",
          "PS3",
          "PC",
          "3DS",
          "PS4",
          "X360",
          "PS4",
          "X360",
          "PS4",
          "X360",
          "X360",
          "DS",
          "X360",
          "3DS",
          "PS3",
          "Wii",
          "X360",
          "X360",
          "Wii",
          "PS4",
          "DS",
          "PS3",
          "PS3",
          "PS3",
          "Wii",
          "PS3",
          "X360",
          "Wii",
          "X360",
          "PS3",
          "XOne",
          "XOne",
          "PS4",
          "X360",
          "PS3",
          "X360",
          "X360",
          "PS4",
          "PS4",
          "PS3",
          "X360",
          "DS",
          "Wii",
          "X360",
          "3DS",
          "XOne",
          "Wii",
          "X360",
          "PC",
          "PS3",
          "PS3",
          "Wii",
          "3DS",
          "PS3",
          "3DS",
          "PSV",
          "PS3",
          "WiiU",
          "X360",
          "X360",
          "XOne",
          "PS3",
          "PS3",
          "XOne",
          "X360",
          "X360",
          "PS4",
          "XOne",
          "PS4",
          "DS",
          "Wii",
          "PS3",
          "Wii",
          "X360",
          "X360",
          "X360",
          "PS4",
          "PSP",
          "PC",
          "PS3",
          "PS3",
          "PSP",
          "PS3",
          "PS3",
          "X360",
          "3DS",
          "PS3",
          "PS3",
          "X360",
          "PS3",
          "PS4",
          "X360",
          "X360",
          "X360",
          "XOne",
          "PS3",
          "3DS",
          "PS4",
          "XOne",
          "X360",
          "PS4",
          "DS",
          "X360",
          "X360",
          "X360",
          "PS3",
          "X360",
          "PS4",
          "Wii",
          "PS3",
          "PS4",
          "3DS",
          "3DS",
          "PS4",
          "Wii",
          "3DS",
          "PS3",
          "PC",
          "PS4",
          "3DS",
          "DS",
          "PS4",
          "PS3",
          "PS3",
          "PS3",
          "X360",
          "3DS",
          "PS3",
          "PS3",
          "WiiU",
          "WiiU",
          "PS3",
          "PS3",
          "X360",
          "X360",
          "PS3",
          "PS3",
          "XOne",
          "Wii",
          "PS4",
          "PSV",
          "PS3",
          "PS4",
          "Wii",
          "X360",
          "PS4",
          "PS4",
          "PC",
          "PC",
          "PS4",
          "Wii",
          "XOne",
          "X360",
          "X360",
          "PC",
          "PSV",
          "X360",
          "PS4",
          "PC",
          "PS4",
          "X360",
          "Wii",
          "Wii",
          "X360",
          "PS4",
          "PS3",
          "X360",
          "X360",
          "X360",
          "X360",
          "XOne",
          "DS",
          "PS4",
          "X360",
          "PS4",
          "X360",
          "3DS",
          "PS3",
          "PS4",
          "PS4",
          "X360",
          "PS3",
          "PS3",
          "XOne",
          "PS3",
          "PS3",
          "DS",
          "WiiU",
          "XOne",
          "3DS",
          "PC",
          "XOne",
          "WiiU",
          "X360",
          "PS3",
          "XOne",
          "Wii",
          "X360",
          "PC",
          "3DS",
          "PS3",
          "PC",
          "DS",
          "X360",
          "Wii",
          "PS3",
          "PSV",
          "PS3",
          "X360",
          "PSV",
          "X360",
          "X360",
          "PS3",
          "Wii",
          "PS3",
          "3DS",
          "X360",
          "XOne",
          "PC",
          "DS",
          "PC",
          "PS3",
          "X360",
          "PS3",
          "PS3",
          "X360",
          "3DS",
          "PS3",
          "X360",
          "PS4",
          "Wii",
          "X360",
          "PS3",
          "Wii",
          "Wii",
          "PC",
          "PS4",
          "PS3",
          "PS3",
          "X360",
          "3DS",
          "X360",
          "PSV",
          "PS3",
          "X360",
          "PS3",
          "XOne",
          "DS",
          "PS3",
          "PS3",
          "3DS",
          "XOne",
          "PS3",
          "PS3",
          "X360",
          "XOne",
          "X360",
          "PS3",
          "X360",
          "PS3",
          "X360",
          "PS4",
          "X360",
          "PS3",
          "DS",
          "XOne",
          "PS3",
          "PS3",
          "X360",
          "PS3",
          "DS",
          "X360",
          "PS3",
          "PS3",
          "Wii",
          "XOne",
          "WiiU",
          "PS3",
          "XOne",
          "X360",
          "PS4",
          "XOne",
          "X360",
          "3DS",
          "3DS",
          "X360",
          "XOne",
          "3DS",
          "PC",
          "WiiU",
          "X360",
          "PS3",
          "PS3",
          "XOne",
          "PS3",
          "PC",
          "PS4",
          "PC",
          "PS3",
          "PS3",
          "PS3",
          "3DS",
          "PSP",
          "PS3",
          "Wii",
          "XOne",
          "PS4",
          "PS3",
          "PS3",
          "WiiU",
          "3DS",
          "XOne",
          "PS4",
          "3DS",
          "X360",
          "PS3",
          "PS3",
          "DS",
          "X360",
          "X360",
          "PS4",
          "PC",
          "XOne",
          "PC",
          "PSV",
          "DS",
          "X360",
          "PS3",
          "X360",
          "PS3",
          "PS3",
          "PS3",
          "PS3",
          "3DS",
          "PS3",
          "3DS",
          "3DS",
          "PS4",
          "X360",
          "PS4",
          "X360",
          "X360",
          "PS3",
          "PS3",
          "X360",
          "X360",
          "PS4",
          "XOne",
          "WiiU",
          "PS3",
          "3DS",
          "PS3",
          "PS3",
          "PS3",
          "PS3",
          "DS",
          "PS3",
          "X360",
          "PC",
          "X360",
          "Wii",
          "PS3",
          "WiiU",
          "X360",
          "X360",
          "X360",
          "PS3",
          "PS3",
          "Wii",
          "X360",
          "X360",
          "X360",
          "PS3",
          "PS4",
          "X360",
          "Wii",
          "PS3",
          "Wii",
          "PS3",
          "PS4",
          "DS",
          "DS",
          "X360",
          "PS4",
          "DS",
          "XOne",
          "DS",
          "PS4",
          "PS3",
          "Wii",
          "X360",
          "WiiU",
          "PS3",
          "PS3",
          "WiiU",
          "PSP",
          "3DS",
          "Wii",
          "PS3",
          "PS4",
          "X360",
          "PSV",
          "PS3",
          "PS3",
          "Wii",
          "PS3",
          "X360",
          "X360",
          "X360",
          "X360",
          "PS3",
          "PC",
          "PC",
          "Wii",
          "X360",
          "PS3",
          "DS",
          "PS3",
          "PS3",
          "PS3",
          "X360",
          "PS3",
          "PS3",
          "X360",
          "PS4",
          "PC",
          "X360",
          "Wii",
          "X360",
          "Wii",
          "PSV",
          "PS3",
          "DS",
          "Wii",
          "DS",
          "PS3",
          "3DS",
          "PS3",
          "PC",
          "3DS",
          "PS3",
          "X360",
          "X360",
          "Wii",
          "PS3",
          "PS4",
          "X360",
          "X360",
          "Wii",
          "PS3",
          "3DS",
          "X360",
          "PC",
          "3DS",
          "X360",
          "WiiU",
          "Wii",
          "PC",
          "PS3",
          "PS3",
          "X360",
          "DS",
          "WiiU",
          "X360",
          "X360",
          "PS3",
          "X360",
          "X360",
          "3DS",
          "X360",
          "PS4",
          "PS3",
          "PS3",
          "PS3",
          "PS4",
          "PS3",
          "3DS",
          "X360",
          "XOne",
          "PS3",
          "PS3",
          "PS3",
          "PC",
          "PS3",
          "X360",
          "PS4",
          "PS3",
          "PS4",
          "PSP",
          "3DS",
          "X360",
          "WiiU",
          "X360",
          "Wii",
          "X360",
          "X360",
          "X360",
          "X360",
          "3DS",
          "XOne",
          "PS3",
          "XOne",
          "Wii",
          "Wii",
          "PS3",
          "PS3",
          "PS4",
          "X360",
          "PS3",
          "3DS",
          "PS3",
          "3DS",
          "X360",
          "X360",
          "XOne",
          "PS3",
          "PS3",
          "XOne",
          "3DS",
          "Wii",
          "X360",
          "PS4",
          "DS",
          "PS3",
          "PS3",
          "PS4",
          "WiiU",
          "PS3",
          "PS3",
          "PS3",
          "X360",
          "PS4",
          "PSV",
          "X360",
          "PSV",
          "X360",
          "PS3",
          "PS3",
          "PS3",
          "XOne",
          "X360",
          "PS4",
          "PS3",
          "3DS",
          "PS3",
          "Wii",
          "PS3",
          "PS4",
          "PS3",
          "Wii",
          "PS4",
          "PSP",
          "PS3",
          "3DS",
          "XOne",
          "PS3",
          "X360",
          "Wii",
          "X360",
          "X360",
          "X360",
          "PS3",
          "PS3",
          "X360",
          "X360",
          "PS3",
          "Wii",
          "WiiU",
          "PS3",
          "PSP",
          "PS3",
          "X360",
          "3DS",
          "X360",
          "Wii",
          "X360",
          "Wii",
          "3DS",
          "PS3",
          "DS",
          "PS4",
          "X360",
          "X360",
          "X360",
          "XOne",
          "PS3",
          "PSV",
          "DS",
          "PS3",
          "Wii",
          "3DS",
          "PSV",
          "X360",
          "PS3",
          "PC",
          "PS4",
          "PS2",
          "PC",
          "Wii",
          "X360",
          "Wii",
          "PC",
          "XOne",
          "PSV",
          "PS3",
          "PS3",
          "X360",
          "PS3",
          "WiiU",
          "X360",
          "PS3",
          "X360",
          "PS3",
          "PS3",
          "X360",
          "3DS",
          "3DS",
          "PS3",
          "WiiU",
          "PS3",
          "PC",
          "PS3",
          "PS3",
          "PS3",
          "PC",
          "X360",
          "X360",
          "PC",
          "X360",
          "Wii",
          "PS3",
          "X360",
          "3DS",
          "PC",
          "Wii",
          "PSP",
          "PS4",
          "X360",
          "PS3",
          "X360",
          "WiiU",
          "PS3",
          "DS",
          "PC",
          "PS3",
          "X360",
          "PS4",
          "PS3",
          "3DS",
          "PS4",
          "PS3",
          "3DS",
          "PSP",
          "PC",
          "PSP",
          "XOne",
          "PS3",
          "PS3",
          "PS3",
          "X360",
          "DS",
          "DS",
          "WiiU",
          "PS3",
          "PS3",
          "PS3",
          "X360",
          "X360",
          "3DS",
          "Wii",
          "PS3",
          "PS3",
          "PS3",
          "PS3",
          "PC",
          "PS3",
          "3DS",
          "DS",
          "PC",
          "XOne",
          "Wii",
          "Wii",
          "PS4",
          "WiiU",
          "PS4",
          "DS",
          "PS4",
          "XOne",
          "XOne",
          "Wii",
          "XOne",
          "PS3",
          "DS",
          "XOne",
          "Wii",
          "PC",
          "PS4",
          "PC",
          "X360",
          "PC",
          "PS4",
          "DS",
          "Wii",
          "DS",
          "X360",
          "PS3",
          "PC",
          "WiiU",
          "Wii",
          "PS3",
          "PC",
          "PC",
          "PS3",
          "PSP",
          "PSV",
          "PSP",
          "PS4",
          "WiiU",
          "PS3",
          "XOne",
          "PS4",
          "Wii",
          "PS3",
          "PS3",
          "Wii",
          "PS3",
          "PC",
          "XOne",
          "PS3",
          "X360",
          "XOne",
          "X360",
          "3DS",
          "PS4",
          "PC",
          "PS3",
          "PSV",
          "PS3",
          "PS4",
          "PS3",
          "X360",
          "PS3",
          "Wii",
          "X360",
          "PS3",
          "PS3",
          "3DS",
          "Wii",
          "3DS",
          "PS3",
          "DS",
          "PS4",
          "PC",
          "XOne",
          "3DS",
          "X360",
          "X360",
          "XOne",
          "X360",
          "PS3",
          "PC",
          "3DS",
          "PS3",
          "XOne",
          "PS3",
          "PS3",
          "PSV",
          "DS",
          "PS3",
          "PS3",
          "PS4",
          "3DS",
          "DS",
          "PS4",
          "PS4",
          "PS3",
          "Wii",
          "Wii",
          "WiiU",
          "3DS",
          "Wii",
          "X360",
          "PS3",
          "Wii",
          "X360",
          "X360",
          "PSV",
          "PSP",
          "Wii",
          "WiiU",
          "3DS",
          "PS3",
          "PS4",
          "XOne",
          "WiiU",
          "PS3",
          "X360",
          "3DS",
          "PS3",
          "X360",
          "PS4",
          "PS3",
          "PSV",
          "X360",
          "Wii",
          "PC",
          "PS3",
          "PC",
          "PS3",
          "X360",
          "X360",
          "PS3",
          "PS3",
          "PS2",
          "X360",
          "PS4",
          "PC",
          "PS3",
          "PS3",
          "WiiU",
          "Wii",
          "PS4",
          "XOne",
          "Wii",
          "XOne",
          "PC",
          "3DS",
          "X360",
          "DS",
          "PS3",
          "PS3",
          "PS3",
          "PS3",
          "PS3",
          "DS",
          "Wii",
          "3DS",
          "X360",
          "PS3",
          "X360",
          "PC",
          "X360",
          "PSP",
          "Wii",
          "3DS",
          "PS3",
          "PS3",
          "X360",
          "DS",
          "Wii",
          "3DS",
          "Wii",
          "PSP",
          "XOne",
          "PSV",
          "Wii",
          "Wii",
          "PS3",
          "X360",
          "PS3",
          "DS",
          "X360",
          "PS3",
          "Wii",
          "PS3",
          "3DS",
          "PSV",
          "Wii",
          "PC",
          "PS4",
          "PS3",
          "X360",
          "3DS",
          "PS3",
          "X360",
          "PS3",
          "PSP",
          "X360",
          "PS3",
          "PS3",
          "PS3",
          "DS",
          "XOne",
          "PS4",
          "DS",
          "PS3",
          "X360",
          "PS3",
          "X360",
          "PSP",
          "X360",
          "Wii",
          "PS3",
          "DS",
          "3DS",
          "PS4",
          "X360",
          "PC",
          "PS3",
          "PSP",
          "WiiU",
          "X360",
          "PS3",
          "WiiU",
          "PSP",
          "PC",
          "WiiU",
          "Wii",
          "DS",
          "PS3",
          "X360",
          "PSV",
          "PS3",
          "XOne",
          "PS3",
          "3DS",
          "PSV",
          "Wii",
          "X360",
          "XOne",
          "PSP",
          "PS3",
          "PC",
          "X360",
          "PS4",
          "X360",
          "X360",
          "PS3",
          "PS3",
          "WiiU",
          "XOne",
          "Wii",
          "PS4",
          "PC",
          "XOne",
          "PS3",
          "X360",
          "X360",
          "X360",
          "PS3",
          "X360",
          "X360",
          "Wii",
          "3DS",
          "PS3",
          "Wii",
          "DS",
          "PSV",
          "X360",
          "PS2",
          "X360",
          "XOne",
          "X360",
          "PS3",
          "X360",
          "3DS",
          "X360",
          "3DS",
          "3DS",
          "PS3",
          "PS3",
          "PSV",
          "X360",
          "X360",
          "3DS",
          "3DS",
          "DS",
          "PC",
          "X360",
          "PS3",
          "3DS",
          "DS",
          "PS3",
          "3DS",
          "3DS",
          "PS3",
          "PSV",
          "PSV",
          "3DS",
          "X360",
          "PC",
          "DS",
          "PSP",
          "WiiU",
          "PS3",
          "PC",
          "Wii",
          "WiiU",
          "DS",
          "Wii",
          "X360",
          "3DS",
          "X360",
          "X360",
          "PS3",
          "PS3",
          "PS3",
          "X360",
          "Wii",
          "Wii",
          "WiiU",
          "PSV",
          "PSV",
          "DS",
          "PS3",
          "PC",
          "X360",
          "XOne",
          "PC",
          "X360",
          "PC",
          "X360",
          "3DS",
          "Wii",
          "PS3",
          "Wii",
          "PS3",
          "PC",
          "PS3",
          "3DS",
          "Wii",
          "DS",
          "3DS",
          "X360",
          "PS3",
          "XOne",
          "PS3",
          "Wii",
          "XOne",
          "DS",
          "X360",
          "Wii",
          "PSV",
          "X360",
          "PS3",
          "3DS",
          "X360",
          "Wii",
          "PS3",
          "PS3",
          "PSV",
          "XOne",
          "PSV",
          "3DS",
          "PS4",
          "DS",
          "PSV",
          "Wii",
          "3DS",
          "PC",
          "X360",
          "PS3",
          "X360",
          "PS4",
          "PS3",
          "PSV",
          "PS4",
          "3DS",
          "X360",
          "PSP",
          "X360",
          "WiiU",
          "XOne",
          "PS3",
          "X360",
          "WiiU",
          "X360",
          "PS3",
          "X360",
          "XOne",
          "X360",
          "PS3",
          "X360",
          "PS3",
          "DS",
          "DS",
          "PS3",
          "X360",
          "DS",
          "Wii",
          "PS3",
          "3DS",
          "PC",
          "PS4",
          "DS",
          "PC",
          "XOne",
          "Wii",
          "WiiU",
          "PS4",
          "Wii",
          "PS3",
          "X360",
          "Wii",
          "PC",
          "Wii",
          "PS3",
          "XOne",
          "WiiU",
          "PS3",
          "DS",
          "PS4",
          "PSP",
          "3DS",
          "X360",
          "PSV",
          "DS",
          "X360",
          "DS",
          "PS3",
          "PS4",
          "XOne",
          "DS",
          "PS3",
          "PSP",
          "WiiU",
          "3DS",
          "PS3",
          "Wii",
          "PS3",
          "PSP",
          "3DS",
          "PSV",
          "PS2",
          "PS2",
          "PS3",
          "X360",
          "X360",
          "X360",
          "PS3",
          "PS3",
          "PSV",
          "Wii",
          "X360",
          "PSV",
          "X360",
          "PS3",
          "PC",
          "Wii",
          "PS3",
          "WiiU",
          "Wii",
          "PS2",
          "PSP",
          "X360",
          "X360",
          "PC",
          "PSP",
          "XOne",
          "X360",
          "PC",
          "PS3",
          "3DS",
          "Wii",
          "PSV",
          "WiiU",
          "Wii",
          "PS3",
          "XOne",
          "XOne",
          "XOne",
          "PS3",
          "PSP",
          "X360",
          "PC",
          "X360",
          "WiiU",
          "WiiU",
          "PS3",
          "PS3",
          "PC",
          "DS",
          "X360",
          "X360",
          "PS3",
          "PS3",
          "3DS",
          "PS3",
          "PS3",
          "PSP",
          "PSP",
          "3DS",
          "X360",
          "PS4",
          "PS3",
          "3DS",
          "X360",
          "PSV",
          "Wii",
          "X360",
          "3DS",
          "Wii",
          "PS3",
          "Wii",
          "WiiU",
          "WiiU",
          "PS3",
          "X360",
          "3DS",
          "PS3",
          "3DS",
          "PS4",
          "3DS",
          "PSV",
          "WiiU",
          "PSV",
          "PS3",
          "X360",
          "3DS",
          "PS3",
          "XOne",
          "3DS",
          "PS2",
          "PS4",
          "3DS",
          "Wii",
          "PS3",
          "PSP",
          "PSP",
          "3DS",
          "WiiU",
          "PS3",
          "PC",
          "PS4",
          "Wii",
          "Wii",
          "DS",
          "PSV",
          "PS3",
          "PS2",
          "PC",
          "3DS",
          "3DS",
          "PS3",
          "WiiU",
          "PS3",
          "DS",
          "PS4",
          "PC",
          "PSP",
          "XOne",
          "PSP",
          "PSP",
          "Wii",
          "PC",
          "X360",
          "PSP",
          "PS4",
          "3DS",
          "PC",
          "PC",
          "PS3",
          "PS4",
          "PSV",
          "PS4",
          "X360",
          "PS4",
          "DS",
          "X360",
          "X360",
          "X360",
          "PS3",
          "WiiU",
          "PSV",
          "PC",
          "WiiU",
          "Wii",
          "X360",
          "X360",
          "PS3",
          "PS3",
          "PSP",
          "Wii",
          "PC",
          "PS3",
          "Wii",
          "Wii",
          "X360",
          "PSP",
          "DS",
          "XOne",
          "PS3",
          "Wii",
          "3DS",
          "PS3",
          "X360",
          "3DS",
          "WiiU",
          "DS",
          "PS3",
          "Wii",
          "Wii",
          "PS3",
          "PS3",
          "Wii",
          "X360",
          "X360",
          "PS3",
          "PSP",
          "PS4",
          "DS",
          "PS3",
          "PSP",
          "PS4",
          "PSP",
          "PSP",
          "XOne",
          "DS",
          "Wii",
          "X360",
          "DS",
          "X360",
          "Wii",
          "Wii",
          "PS3",
          "3DS",
          "PS3",
          "XOne",
          "X360",
          "3DS",
          "XOne",
          "PC",
          "PS3",
          "PS4",
          "PSV",
          "DS",
          "X360",
          "PS3",
          "PS3",
          "Wii",
          "PS3",
          "X360",
          "Wii",
          "Wii",
          "Wii",
          "PS3",
          "PSV",
          "Wii",
          "X360",
          "PS4",
          "PS3",
          "PC",
          "WiiU",
          "PSV",
          "X360",
          "PS4",
          "PS3",
          "PSP",
          "PS3",
          "X360",
          "PS3",
          "X360",
          "X360",
          "DS",
          "PS3",
          "Wii",
          "DS",
          "X360",
          "PS3",
          "3DS",
          "XOne",
          "PS3",
          "DS",
          "PSV",
          "WiiU",
          "PSV",
          "PC",
          "PS3",
          "PS3",
          "PSP",
          "PC",
          "PS3",
          "PSV",
          "X360",
          "DS",
          "XOne",
          "PSP",
          "DS",
          "PS4",
          "X360",
          "PC",
          "PS4",
          "X360",
          "PS4",
          "DS",
          "PS4",
          "Wii",
          "X360",
          "X360",
          "X360",
          "XOne",
          "PS3",
          "PC",
          "XOne",
          "PC",
          "Wii",
          "PSP",
          "Wii",
          "DS",
          "PS3",
          "3DS",
          "3DS",
          "3DS",
          "DS",
          "PS4",
          "XOne",
          "X360",
          "X360",
          "PSP",
          "PC",
          "X360",
          "XOne",
          "3DS",
          "Wii",
          "DS",
          "Wii",
          "PC",
          "PSP",
          "PS3",
          "DS",
          "PS3",
          "PSV",
          "PSP",
          "XOne",
          "PSP",
          "3DS",
          "PS3",
          "X360",
          "Wii",
          "PS3",
          "WiiU",
          "DS",
          "X360",
          "X360",
          "Wii",
          "PSP",
          "DS",
          "PS3",
          "3DS",
          "PS4",
          "PS4",
          "PSV",
          "Wii",
          "PS4",
          "PS4",
          "3DS",
          "PSP",
          "X360",
          "3DS",
          "PC",
          "Wii",
          "DS",
          "PSV",
          "PS4",
          "PS3",
          "Wii",
          "X360",
          "PSV",
          "PS3",
          "Wii",
          "X360",
          "Wii",
          "DS",
          "PS3",
          "X360",
          "DS",
          "PSV",
          "WiiU",
          "PS3",
          "PSP",
          "PS3",
          "PS3",
          "Wii",
          "X360",
          "Wii",
          "PS3",
          "Wii",
          "Wii",
          "PSP",
          "PS3",
          "X360",
          "PSV",
          "3DS",
          "PC",
          "DS",
          "3DS",
          "X360",
          "3DS",
          "Wii",
          "X360",
          "PS3",
          "X360",
          "X360",
          "X360",
          "3DS",
          "3DS",
          "PC",
          "PS3",
          "Wii",
          "DS",
          "PC",
          "PS3",
          "PS3",
          "DS",
          "DS",
          "X360",
          "X360",
          "PS3",
          "XOne",
          "X360",
          "Wii",
          "PS4",
          "PS3",
          "PS4",
          "DS",
          "WiiU",
          "PS3",
          "XOne",
          "PSV",
          "PSP",
          "Wii",
          "PS3",
          "PS3",
          "DS",
          "WiiU",
          "DS",
          "DS",
          "PS3",
          "PS3",
          "X360",
          "PS4",
          "3DS",
          "PS4",
          "PSV",
          "DS",
          "PSP",
          "DS",
          "Wii",
          "WiiU",
          "DS",
          "PC",
          "PS3",
          "Wii",
          "X360",
          "PSP",
          "PC",
          "3DS",
          "PSP",
          "PS4",
          "Wii",
          "PS3",
          "Wii",
          "X360",
          "PS4",
          "X360",
          "PS3",
          "PSP",
          "PC",
          "3DS",
          "X360",
          "PS3",
          "PS4",
          "DS",
          "PS3",
          "PS4",
          "PC",
          "X360",
          "3DS",
          "DS",
          "PC",
          "DS",
          "XOne",
          "X360",
          "Wii",
          "PS3",
          "X360",
          "DS",
          "DS",
          "PS4",
          "X360",
          "PS2",
          "3DS",
          "3DS",
          "X360",
          "DS",
          "PS4",
          "3DS",
          "DS",
          "PS3",
          "PSV",
          "PSV",
          "PS3",
          "XOne",
          "PS3",
          "PS3",
          "X360",
          "PSP",
          "Wii",
          "X360",
          "Wii",
          "PS3",
          "Wii",
          "PS3",
          "PS3",
          "PSV",
          "3DS",
          "Wii",
          "PSV",
          "PS3",
          "3DS",
          "DS",
          "Wii",
          "PS3",
          "Wii",
          "PSV",
          "DS",
          "Wii",
          "Wii",
          "PS3",
          "3DS",
          "X360",
          "3DS",
          "PSV",
          "PS3",
          "X360",
          "X360",
          "PS3",
          "X360",
          "DS",
          "PS3",
          "X360",
          "X360",
          "PS3",
          "PS3",
          "PS3",
          "WiiU",
          "PC",
          "PC",
          "Wii",
          "DS",
          "PS3",
          "PS4",
          "3DS",
          "PS3",
          "PS3",
          "PSP",
          "X360",
          "X360",
          "PS3",
          "PS3",
          "3DS",
          "X360",
          "PS4",
          "Wii",
          "XOne",
          "PC",
          "PC",
          "3DS",
          "PS3",
          "X360",
          "PS3",
          "PS3",
          "Wii",
          "PS3",
          "Wii",
          "PC",
          "PS3",
          "X360",
          "3DS",
          "X360",
          "DS",
          "X360",
          "DS",
          "XOne",
          "PSV",
          "PS3",
          "DS",
          "X360",
          "WiiU",
          "PSV",
          "PC",
          "3DS",
          "PSP",
          "PS3",
          "Wii",
          "PS3",
          "Wii",
          "XOne",
          "3DS",
          "Wii",
          "PSV",
          "PSP",
          "PC",
          "3DS",
          "PSP",
          "Wii",
          "Wii",
          "PS3",
          "DS",
          "PS3",
          "3DS",
          "PS4",
          "X360",
          "X360",
          "Wii",
          "3DS",
          "DS",
          "X360",
          "XOne",
          "PC",
          "PS3",
          "X360",
          "WiiU",
          "PS4",
          "X360",
          "PSV",
          "Wii",
          "PS3",
          "PSP",
          "DS",
          "X360",
          "Wii",
          "PSV",
          "PS4",
          "WiiU",
          "PC",
          "DS",
          "WiiU",
          "DS",
          "DS",
          "3DS",
          "DS",
          "PSV",
          "DS",
          "XOne",
          "PS3",
          "3DS",
          "X360",
          "DS",
          "PS3",
          "PSV",
          "PC",
          "X360",
          "PS3",
          "PSV",
          "PS3",
          "PS4",
          "Wii",
          "XOne",
          "WiiU",
          "PSP",
          "DS",
          "X360",
          "Wii",
          "XOne",
          "PS2",
          "PC",
          "PS3",
          "PS4",
          "PC",
          "PSV",
          "X360",
          "PSP",
          "3DS",
          "PS4",
          "3DS",
          "Wii",
          "PS3",
          "Wii",
          "PS3",
          "Wii",
          "PS3",
          "Wii",
          "DS",
          "PSV",
          "PS3",
          "3DS",
          "PC",
          "PS3",
          "PSP",
          "PS3",
          "X360",
          "DS",
          "PSP",
          "Wii",
          "XOne",
          "PS2",
          "3DS",
          "PSP",
          "PS3",
          "PS3",
          "PS3",
          "PS4",
          "PS3",
          "DS",
          "3DS",
          "Wii",
          "PC",
          "PS3",
          "PS3",
          "Wii",
          "Wii",
          "PS3",
          "PC",
          "PSV",
          "PS3",
          "PS4",
          "X360",
          "X360",
          "PS4",
          "X360",
          "PS4",
          "Wii",
          "PS3",
          "PC",
          "WiiU",
          "3DS",
          "PS4",
          "PS3",
          "3DS",
          "PS3",
          "PS4",
          "X360",
          "PS3",
          "PSV",
          "X360",
          "PSP",
          "PS4",
          "XOne",
          "Wii",
          "PSV",
          "PS3",
          "3DS",
          "Wii",
          "Wii",
          "PSV",
          "XOne",
          "X360",
          "PSP",
          "3DS",
          "PS3",
          "PS3",
          "X360",
          "PS3",
          "Wii",
          "DS",
          "X360",
          "X360",
          "PS4",
          "3DS",
          "PS3",
          "Wii",
          "Wii",
          "PSP",
          "WiiU",
          "3DS",
          "X360",
          "PS3",
          "Wii",
          "DS",
          "PSP",
          "Wii",
          "PSV",
          "PSV",
          "DS",
          "X360",
          "X360",
          "PS3",
          "PS3",
          "Wii",
          "DS",
          "3DS",
          "PS3",
          "PC",
          "PSP",
          "3DS",
          "PS3",
          "PS3",
          "PS4",
          "Wii",
          "PS4",
          "Wii",
          "Wii",
          "X360",
          "XOne",
          "3DS",
          "X360",
          "PC",
          "PS3",
          "Wii",
          "PC",
          "PSP",
          "PS3",
          "PS3",
          "PS3",
          "3DS",
          "X360",
          "PSP",
          "XOne",
          "PS3",
          "PC",
          "PC",
          "PS3",
          "PS3",
          "PS3",
          "PSV",
          "PS4",
          "DS",
          "PSP",
          "PSP",
          "PS4",
          "X360",
          "X360",
          "X360",
          "PSP",
          "PS3",
          "DS",
          "XOne",
          "WiiU",
          "DS",
          "PSP",
          "DS",
          "3DS",
          "PS4",
          "PS3",
          "Wii",
          "Wii",
          "PS3",
          "PC",
          "PS3",
          "PS4",
          "PS3",
          "Wii",
          "X360",
          "PSP",
          "PSV",
          "Wii",
          "PSP",
          "3DS",
          "PC",
          "XOne",
          "WiiU",
          "Wii",
          "PSP",
          "PSP",
          "PSP",
          "3DS",
          "Wii",
          "3DS",
          "3DS",
          "PSV",
          "PS4",
          "PS3",
          "WiiU",
          "PC",
          "X360",
          "PS4",
          "PS3",
          "PSP",
          "PC",
          "PSP",
          "PC",
          "3DS",
          "PS3",
          "PS3",
          "Wii",
          "DS",
          "3DS",
          "DS",
          "DS",
          "3DS",
          "PSP",
          "PS3",
          "PSV",
          "PC",
          "X360",
          "3DS",
          "PS3",
          "3DS",
          "X360",
          "DS",
          "PS3",
          "XOne",
          "DS",
          "PC",
          "PS3",
          "X360",
          "XOne",
          "Wii",
          "X360",
          "Wii",
          "PSV",
          "3DS",
          "PC",
          "PS3",
          "3DS",
          "PSV",
          "3DS",
          "Wii",
          "PC",
          "XOne",
          "PSP",
          "X360",
          "PC",
          "PS3",
          "DS",
          "PSV",
          "PS3",
          "PS3",
          "PS4",
          "PS3",
          "Wii",
          "PSV",
          "DS",
          "Wii",
          "DS",
          "3DS",
          "PSV",
          "WiiU",
          "PS3",
          "PC",
          "X360",
          "DS",
          "PC",
          "DS",
          "PS3",
          "Wii",
          "Wii",
          "PS4",
          "Wii",
          "PSV",
          "Wii",
          "X360",
          "PS3",
          "3DS",
          "X360",
          "3DS",
          "DS",
          "3DS",
          "XOne",
          "PSP",
          "WiiU",
          "PSV",
          "X360",
          "X360",
          "PSP",
          "PS3",
          "PC",
          "PS3",
          "DS",
          "X360",
          "X360",
          "DS",
          "PS4",
          "PSV",
          "PS4",
          "PC",
          "Wii",
          "X360",
          "XOne",
          "PS3",
          "X360",
          "X360",
          "PC",
          "3DS",
          "Wii",
          "3DS",
          "Wii",
          "DS",
          "Wii",
          "DS",
          "PSV",
          "PC",
          "3DS",
          "PS3",
          "PS3",
          "X360",
          "PSV",
          "PS4",
          "PC",
          "PC",
          "PSV",
          "WiiU",
          "PS3",
          "DS",
          "PC",
          "X360",
          "PS3",
          "PC",
          "3DS",
          "X360",
          "X360",
          "Wii",
          "PC",
          "DS",
          "PC",
          "X360",
          "PC",
          "PS3",
          "PC",
          "DS",
          "3DS",
          "PS4",
          "PSP",
          "PSV",
          "PS3",
          "Wii",
          "Wii",
          "X360",
          "DS",
          "Wii",
          "X360",
          "DS",
          "PS3",
          "PS3",
          "DS",
          "PSP",
          "PS3",
          "3DS",
          "PS3",
          "PC",
          "PS3",
          "PSV",
          "PSV",
          "PS4",
          "XOne",
          "DS",
          "PS3",
          "DS",
          "PC",
          "X360",
          "PS4",
          "PC",
          "PS3",
          "PSP",
          "DS",
          "PSV",
          "PSP",
          "3DS",
          "PS3",
          "X360",
          "Wii",
          "Wii",
          "PSP",
          "3DS",
          "X360",
          "X360",
          "PS3",
          "PSP",
          "PSP",
          "Wii",
          "PS4",
          "X360",
          "DS",
          "X360",
          "Wii",
          "PS4",
          "3DS",
          "PSV",
          "Wii",
          "PS4",
          "X360",
          "PS4",
          "PS4",
          "PS3",
          "DS",
          "3DS",
          "XOne",
          "3DS",
          "X360",
          "PC",
          "3DS",
          "X360",
          "PS3",
          "PS4",
          "PC",
          "X360",
          "3DS",
          "PS3",
          "PS3",
          "PSV",
          "Wii",
          "PS3",
          "PSV",
          "PS3",
          "3DS",
          "DS",
          "Wii",
          "PS3",
          "DS",
          "X360",
          "Wii",
          "X360",
          "DS",
          "PS3",
          "Wii",
          "Wii",
          "3DS",
          "PSP",
          "X360",
          "Wii",
          "X360",
          "PS4",
          "3DS",
          "X360",
          "DS",
          "X360",
          "PS3",
          "PSP",
          "DS",
          "XOne",
          "Wii",
          "PSP",
          "PC",
          "DS",
          "PC",
          "DS",
          "PS3",
          "PS3",
          "Wii",
          "PSV",
          "PC",
          "X360",
          "PSP",
          "X360",
          "X360",
          "DS",
          "PS3",
          "Wii",
          "PSV",
          "DS",
          "WiiU",
          "Wii",
          "Wii",
          "Wii",
          "PC",
          "PS3",
          "PS3",
          "PS4",
          "X360",
          "PSP",
          "XOne",
          "Wii",
          "PS4",
          "DS",
          "3DS",
          "PC",
          "3DS",
          "X360",
          "DS",
          "Wii",
          "PSP",
          "XOne",
          "PSP",
          "3DS",
          "PC",
          "PS3",
          "PS3",
          "3DS",
          "X360",
          "PS4",
          "Wii",
          "DS",
          "Wii",
          "PC",
          "X360",
          "3DS",
          "PS3",
          "PC",
          "3DS",
          "XOne",
          "X360",
          "3DS",
          "DS",
          "PS3",
          "XOne",
          "PSP",
          "X360",
          "PS3",
          "PC",
          "Wii",
          "3DS",
          "DS",
          "3DS",
          "Wii",
          "PS3",
          "DS",
          "PSP",
          "PSV",
          "DS",
          "PC",
          "X360",
          "DS",
          "DS",
          "PSV",
          "X360",
          "PS3",
          "PS4",
          "PC",
          "3DS",
          "PS3",
          "XOne",
          "PSV",
          "PSP",
          "PSV",
          "PSP",
          "3DS",
          "XOne",
          "PSV",
          "PSV",
          "Wii",
          "PS3",
          "Wii",
          "PS3",
          "PS4",
          "PS3",
          "PSP",
          "PSV",
          "PC",
          "X360",
          "PS4",
          "PSV",
          "PSV",
          "3DS",
          "XOne",
          "3DS",
          "X360",
          "X360",
          "PC",
          "PS3",
          "DS",
          "3DS",
          "Wii",
          "DS",
          "X360",
          "DS",
          "PSP",
          "PSP",
          "Wii",
          "DS",
          "PSV",
          "DS",
          "PSP",
          "PSV",
          "3DS",
          "3DS",
          "PSV",
          "Wii",
          "DS",
          "X360",
          "Wii",
          "PS3",
          "XOne",
          "PC",
          "PSV",
          "DS",
          "PSP",
          "DS",
          "3DS",
          "PS3",
          "PS3",
          "PSP",
          "3DS",
          "PSP",
          "DS",
          "PS3",
          "PS3",
          "PS3",
          "3DS",
          "WiiU",
          "3DS",
          "PSP",
          "PC",
          "PSP",
          "X360",
          "WiiU",
          "PS3",
          "PSV",
          "DS",
          "X360",
          "PSP",
          "3DS",
          "X360",
          "3DS",
          "PS3",
          "DS",
          "XOne",
          "PC",
          "X360",
          "X360",
          "Wii",
          "PS3",
          "WiiU",
          "X360",
          "PSV",
          "PS3",
          "DS",
          "PS3",
          "WiiU",
          "Wii",
          "PC",
          "PSP",
          "PSP",
          "DS",
          "3DS",
          "DS",
          "Wii",
          "PC",
          "PC",
          "X360",
          "PS4",
          "PS3",
          "PS3",
          "DS",
          "PSV",
          "3DS",
          "PSV",
          "PSV",
          "PC",
          "PS3",
          "DS",
          "DS",
          "PC",
          "WiiU",
          "X360",
          "Wii",
          "DS",
          "XOne",
          "PC",
          "Wii",
          "Wii",
          "Wii",
          "PSP",
          "PSP",
          "Wii",
          "PS3",
          "3DS",
          "Wii",
          "PSP",
          "3DS",
          "PSV",
          "DS",
          "3DS",
          "X360",
          "XOne",
          "PC",
          "XOne",
          "WiiU",
          "DS",
          "DS",
          "X360",
          "WiiU",
          "PS3",
          "PS2",
          "PSP",
          "Wii",
          "3DS",
          "PSV",
          "PSP",
          "PSP",
          "3DS",
          "X360",
          "DS",
          "PSV",
          "DS",
          "DS",
          "PSV",
          "DS",
          "PSP",
          "3DS",
          "PS3",
          "X360",
          "PS3",
          "PSP",
          "PS3",
          "X360",
          "DS",
          "3DS",
          "DS",
          "XOne",
          "PS3",
          "PSP",
          "Wii",
          "X360",
          "X360",
          "PSP",
          "DS",
          "PSV",
          "X360",
          "X360",
          "PS4",
          "PSP",
          "Wii",
          "3DS",
          "PSP",
          "X360",
          "Wii",
          "DS",
          "3DS",
          "PS3",
          "X360",
          "3DS",
          "3DS",
          "PC",
          "PS3",
          "DS",
          "X360",
          "Wii",
          "DS",
          "X360",
          "PC",
          "Wii",
          "PS4",
          "3DS",
          "WiiU",
          "DS",
          "Wii",
          "PS3",
          "X360",
          "X360",
          "PS3",
          "PS3",
          "DS",
          "PSP",
          "Wii",
          "PSV",
          "3DS",
          "X360",
          "3DS",
          "DS",
          "PSV",
          "PS3",
          "PSP",
          "XOne",
          "DS",
          "Wii",
          "PS3",
          "PSP",
          "WiiU",
          "PS3",
          "PC",
          "PS3",
          "PS3",
          "PSV",
          "PS3",
          "X360",
          "XOne",
          "Wii",
          "PSV",
          "DS",
          "XOne",
          "WiiU",
          "PSP",
          "DS",
          "DS",
          "PSV",
          "PS4",
          "3DS",
          "PSV",
          "PSP",
          "PS3",
          "PS3",
          "PSP",
          "DS",
          "PS3",
          "PS3",
          "PSP",
          "X360",
          "PS3",
          "3DS",
          "DS",
          "X360",
          "PSP",
          "3DS",
          "PS3",
          "X360",
          "PSV",
          "PC",
          "PS3",
          "DS",
          "X360",
          "Wii",
          "Wii",
          "PSP",
          "DS",
          "PSV",
          "PSP",
          "3DS",
          "X360",
          "PSP",
          "PSP",
          "PSP",
          "DS",
          "PS3",
          "PSP",
          "3DS",
          "DS",
          "X360",
          "PS3",
          "Wii",
          "Wii",
          "PSP",
          "PS4",
          "X360",
          "PS3",
          "X360",
          "WiiU",
          "PSP",
          "PC",
          "X360",
          "3DS",
          "DS",
          "X360",
          "3DS",
          "PSV",
          "PSV",
          "PC",
          "PSP",
          "PS3",
          "WiiU",
          "Wii",
          "3DS",
          "PSV",
          "DS",
          "PS4",
          "PSV",
          "3DS",
          "PS3",
          "PS3",
          "WiiU",
          "PS3",
          "3DS",
          "PSV",
          "X360",
          "PSP",
          "Wii",
          "PSV",
          "PC",
          "DS",
          "Wii",
          "DS",
          "PSV",
          "XOne",
          "DS",
          "PSV",
          "PC",
          "X360",
          "PS3",
          "PS3",
          "3DS",
          "DS",
          "PS4",
          "Wii",
          "PS4",
          "PS3",
          "Wii",
          "X360",
          "PS3",
          "PSP",
          "PS3",
          "XOne",
          "3DS",
          "XOne",
          "DS",
          "PS3",
          "XOne",
          "PSP",
          "WiiU",
          "3DS",
          "PC",
          "Wii",
          "DS",
          "PS3",
          "WiiU",
          "PS3",
          "X360",
          "PS3",
          "X360",
          "3DS",
          "X360",
          "PS3",
          "PS4",
          "Wii",
          "PC",
          "Wii",
          "PSP",
          "DS",
          "Wii",
          "PS4",
          "PS3",
          "PS3",
          "X360",
          "DS",
          "3DS",
          "PSP",
          "PSV",
          "PS2",
          "X360",
          "Wii",
          "PS3",
          "3DS",
          "PS3",
          "PC",
          "3DS",
          "PC",
          "DS",
          "PS3",
          "PS3",
          "3DS",
          "DS",
          "DS",
          "3DS",
          "DS",
          "PS3",
          "Wii",
          "PSP",
          "X360",
          "DS",
          "PSP",
          "Wii",
          "PC",
          "PS3",
          "PSP",
          "PS3",
          "PSV",
          "PSP",
          "PS3",
          "3DS",
          "X360",
          "3DS",
          "PC",
          "PSV",
          "PSV",
          "PSV",
          "PC",
          "PSP",
          "PSP",
          "DS",
          "PS4",
          "PS3",
          "3DS",
          "Wii",
          "X360",
          "X360",
          "Wii",
          "PS4",
          "DS",
          "3DS",
          "PS3",
          "Wii",
          "WiiU",
          "XOne",
          "X360",
          "WiiU",
          "X360",
          "PC",
          "3DS",
          "PSP",
          "3DS",
          "X360",
          "Wii",
          "PS3",
          "3DS",
          "PSP",
          "Wii",
          "PSV",
          "PSV",
          "PSV",
          "PSP",
          "WiiU",
          "PSP",
          "X360",
          "PSP",
          "PSV",
          "PS3",
          "PSP",
          "PSP",
          "Wii",
          "DS",
          "PS2",
          "DS",
          "PSP",
          "PS3",
          "PS3",
          "PSV",
          "Wii",
          "Wii",
          "Wii",
          "X360",
          "PSV",
          "DS",
          "PS2",
          "PS3",
          "Wii",
          "PS3",
          "PS3",
          "DS",
          "DS",
          "3DS",
          "Wii",
          "X360",
          "PS3",
          "X360",
          "3DS",
          "PS3",
          "DS",
          "XOne",
          "3DS",
          "PSP",
          "DS",
          "PS3",
          "PS4",
          "PSP",
          "Wii",
          "PSP",
          "DS",
          "Wii",
          "PS3",
          "XOne",
          "DS",
          "PS3",
          "X360",
          "PSP",
          "X360",
          "PS4",
          "X360",
          "DS",
          "PC",
          "PSP",
          "PC",
          "X360",
          "PS3",
          "PSV",
          "DS",
          "DS",
          "XOne",
          "PSP",
          "X360",
          "X360",
          "PS3",
          "PC",
          "PS3",
          "PC",
          "PS3",
          "PS4",
          "3DS",
          "PS3",
          "PS3",
          "PS4",
          "Wii",
          "Wii",
          "PS3",
          "PS3",
          "PSV",
          "3DS",
          "X360",
          "PC",
          "PC",
          "PSV",
          "3DS",
          "DS",
          "DS",
          "XOne",
          "X360",
          "X360",
          "X360",
          "X360",
          "PSP",
          "Wii",
          "X360",
          "PS4",
          "3DS",
          "PC",
          "3DS",
          "PS3",
          "3DS",
          "X360",
          "DS",
          "XOne",
          "DS",
          "PC",
          "X360",
          "PS3",
          "PSV",
          "PSV",
          "Wii",
          "PC",
          "PSV",
          "X360",
          "PSP",
          "DS",
          "DS",
          "DS",
          "X360",
          "3DS",
          "DS",
          "3DS",
          "PS4",
          "DS",
          "3DS",
          "X360",
          "XOne",
          "X360",
          "PSV",
          "Wii",
          "PSP",
          "3DS",
          "Wii",
          "PC",
          "PC",
          "PS3",
          "PC",
          "PC",
          "PS3",
          "PS4",
          "Wii",
          "PS4",
          "PSP",
          "3DS",
          "3DS",
          "WiiU",
          "PSP",
          "X360",
          "X360",
          "PSV",
          "WiiU",
          "PS4",
          "PSP",
          "DS",
          "3DS",
          "PSP",
          "PS4",
          "Wii",
          "PSV",
          "PSV",
          "PSP",
          "DS",
          "3DS",
          "Wii",
          "X360",
          "PS3",
          "PS3",
          "PS2",
          "PC",
          "PS4",
          "Wii",
          "PS3",
          "X360",
          "DS",
          "DS",
          "PS3",
          "3DS",
          "PC",
          "DS",
          "3DS",
          "X360",
          "DS",
          "DS",
          "DS",
          "DS",
          "PSV",
          "3DS",
          "Wii",
          "PS3",
          "DS",
          "Wii",
          "X360",
          "DS",
          "Wii",
          "3DS",
          "PS3",
          "WiiU",
          "X360",
          "X360",
          "3DS",
          "3DS",
          "PS3",
          "PSP",
          "PS4",
          "PSP",
          "PS4",
          "PS3",
          "Wii",
          "X360",
          "Wii",
          "PSP",
          "Wii",
          "Wii",
          "PSV",
          "PS3",
          "DS",
          "DS",
          "DS",
          "X360",
          "DS",
          "Wii",
          "PS3",
          "PS3",
          "PSV",
          "Wii",
          "PSV",
          "3DS",
          "XOne",
          "PSP",
          "PS3",
          "WiiU",
          "3DS",
          "DS",
          "X360",
          "WiiU",
          "X360",
          "PS3",
          "X360",
          "PC",
          "PS4",
          "PS3",
          "PS3",
          "Wii",
          "PSP",
          "X360",
          "Wii",
          "PS3",
          "PC",
          "PC",
          "PC",
          "PS3",
          "DS",
          "PS2",
          "PC",
          "Wii",
          "WiiU",
          "PS3",
          "XOne",
          "PSV",
          "3DS",
          "3DS",
          "PS3",
          "PSV",
          "PS4",
          "PSP",
          "PS3",
          "Wii",
          "DS",
          "X360",
          "DS",
          "DS",
          "PS4",
          "X360",
          "X360",
          "X360",
          "XOne",
          "PC",
          "DS",
          "PC",
          "WiiU",
          "PSP",
          "3DS",
          "DS",
          "DS",
          "3DS",
          "DS",
          "PSP",
          "3DS",
          "PC",
          "DS",
          "Wii",
          "3DS",
          "3DS",
          "PS3",
          "PS3",
          "X360",
          "PC",
          "PS3",
          "PC",
          "PS4",
          "3DS",
          "3DS",
          "DS",
          "PC",
          "3DS",
          "Wii",
          "Wii",
          "DS",
          "X360",
          "PS4",
          "3DS",
          "3DS",
          "DS",
          "X360",
          "DS",
          "X360",
          "DS",
          "PS3",
          "DS",
          "3DS",
          "DS",
          "Wii",
          "PC",
          "PC",
          "DS",
          "X360",
          "DS",
          "PSP",
          "PSP",
          "PS4",
          "PC",
          "X360",
          "Wii",
          "PS3",
          "PSP",
          "PS3",
          "DS",
          "PS2",
          "PSP",
          "X360",
          "3DS",
          "PC",
          "PS4",
          "3DS",
          "3DS",
          "PS3",
          "PSV",
          "XOne",
          "DS",
          "Wii",
          "PSV",
          "PC",
          "PS3",
          "XOne",
          "DS",
          "WiiU",
          "PSV",
          "X360",
          "X360",
          "PS3",
          "DS",
          "PS2",
          "Wii",
          "PSP",
          "PS4",
          "PS3",
          "PC",
          "DS",
          "PS3",
          "PS4",
          "PC",
          "3DS",
          "Wii",
          "Wii",
          "DS",
          "PSP",
          "3DS",
          "3DS",
          "PS4",
          "PSP",
          "DS",
          "DS",
          "X360",
          "PSP",
          "Wii",
          "DS",
          "X360",
          "PC",
          "3DS",
          "PS3",
          "DS",
          "PSV",
          "PC",
          "PS3",
          "X360",
          "PSP",
          "PSV",
          "Wii",
          "PS3",
          "PS4",
          "DS",
          "3DS",
          "PSP",
          "PS4",
          "DS",
          "PS4",
          "PSV",
          "PSP",
          "PS3",
          "DS",
          "3DS",
          "PSP",
          "Wii",
          "PSV",
          "PS3",
          "PS3",
          "DS",
          "3DS",
          "3DS",
          "DS",
          "3DS",
          "3DS",
          "DS",
          "PSV",
          "PSV",
          "PSV",
          "PSP",
          "PS3",
          "PC",
          "3DS",
          "PSP",
          "DS",
          "XOne",
          "X360",
          "DS",
          "PC",
          "DS",
          "X360",
          "X360",
          "PSP",
          "PS3",
          "PS3",
          "PS4",
          "PSV",
          "XOne",
          "PSV",
          "3DS",
          "Wii",
          "DS",
          "PS3",
          "3DS",
          "Wii",
          "DS",
          "X360",
          "PC",
          "Wii",
          "PS3",
          "3DS",
          "PC",
          "PSP",
          "X360",
          "Wii",
          "3DS",
          "PS4",
          "PSV",
          "3DS",
          "PC",
          "WiiU",
          "3DS",
          "DS",
          "PC",
          "DS",
          "3DS",
          "PC",
          "3DS",
          "PSV",
          "PSP",
          "PS3",
          "PSP",
          "PSV",
          "PS3",
          "X360",
          "DS",
          "3DS",
          "PC",
          "3DS",
          "PSV",
          "DS",
          "PS3",
          "PS3",
          "X360",
          "PC",
          "Wii",
          "PS3",
          "3DS",
          "DS",
          "PSV",
          "Wii",
          "3DS",
          "PSV",
          "DS",
          "DS",
          "PS3",
          "PC",
          "Wii",
          "Wii",
          "DS",
          "XOne",
          "PSP",
          "WiiU",
          "DS",
          "3DS",
          "XOne",
          "PS4",
          "PS3",
          "PS3",
          "3DS",
          "PSV",
          "Wii",
          "PC",
          "PS4",
          "PS3",
          "PC",
          "Wii",
          "3DS",
          "XOne",
          "Wii",
          "PS3",
          "PS4",
          "Wii",
          "X360",
          "3DS",
          "PSP",
          "DS",
          "PC",
          "PSP",
          "DS",
          "PS4",
          "3DS",
          "PSP",
          "3DS",
          "PSP",
          "DS",
          "PS3",
          "PS3",
          "WiiU",
          "PS2",
          "PS3",
          "PSV",
          "X360",
          "PS4",
          "DS",
          "PC",
          "PS3",
          "PSV",
          "DS",
          "X360",
          "WiiU",
          "3DS",
          "PS3",
          "PC",
          "PSV",
          "DS",
          "DS",
          "3DS",
          "3DS",
          "X360",
          "3DS",
          "DS",
          "PSV",
          "X360",
          "PSV",
          "PC",
          "Wii",
          "PS4",
          "DS",
          "DS",
          "PSP",
          "PSV",
          "DS",
          "PSP",
          "X360",
          "PSP",
          "DS",
          "DS",
          "PSV",
          "PSV",
          "3DS",
          "PC",
          "PS4",
          "PS3",
          "PC",
          "XOne",
          "PS3",
          "PSV",
          "PSP",
          "X360",
          "PSV",
          "3DS",
          "PC",
          "DS",
          "DS",
          "3DS",
          "PSP",
          "3DS",
          "PSP",
          "PSP",
          "PC",
          "X360",
          "PS4",
          "PSV",
          "DS",
          "DS",
          "WiiU",
          "PC",
          "PS4",
          "X360",
          "3DS",
          "DS",
          "3DS",
          "PS3",
          "PC",
          "X360",
          "3DS",
          "WiiU",
          "X360",
          "Wii",
          "3DS",
          "Wii",
          "PS3",
          "X360",
          "PS4",
          "3DS",
          "Wii",
          "PS4",
          "PSP",
          "DS",
          "PSV",
          "X360",
          "DS",
          "DS",
          "PS3",
          "PSP",
          "PC",
          "3DS",
          "X360",
          "PS3",
          "PS2",
          "PC",
          "PSP",
          "PC",
          "PS3",
          "DS",
          "Wii",
          "PSV",
          "XOne",
          "3DS",
          "PS4",
          "X360",
          "PSP",
          "Wii",
          "Wii",
          "3DS",
          "XOne",
          "PC",
          "Wii",
          "X360",
          "3DS",
          "PSV",
          "Wii",
          "PS3",
          "DS",
          "DS",
          "WiiU",
          "PSV",
          "PSP",
          "DS",
          "XOne",
          "Wii",
          "Wii",
          "PSV",
          "X360",
          "PSP",
          "3DS",
          "DS",
          "3DS",
          "PC",
          "PSV",
          "3DS",
          "PSV",
          "3DS",
          "Wii",
          "3DS",
          "DS",
          "PSP",
          "Wii",
          "PS3",
          "PSP",
          "DS",
          "PS3",
          "X360",
          "DS",
          "PS4",
          "PS2",
          "PSP",
          "DS",
          "X360",
          "PSP",
          "DS",
          "DS",
          "WiiU",
          "PSV",
          "3DS",
          "PC",
          "PS4",
          "DS",
          "PS4",
          "X360",
          "DS",
          "PS3",
          "PSV",
          "PSP",
          "PS4",
          "PS4",
          "PSV",
          "PS3",
          "PSP",
          "PSV",
          "3DS",
          "PS3",
          "PSV",
          "DS",
          "PSP",
          "Wii",
          "PS2",
          "PC",
          "PSP",
          "PC",
          "PC",
          "PS4",
          "3DS",
          "3DS",
          "PSP",
          "PS3",
          "PS4",
          "PS4",
          "PS4",
          "3DS",
          "Wii",
          "PSP",
          "WiiU",
          "PSP",
          "PC",
          "X360",
          "PS4",
          "PC",
          "DS",
          "PSV",
          "PS3",
          "PSV",
          "DS",
          "PSV",
          "PSV",
          "DS",
          "DS",
          "PS2",
          "X360",
          "PSP",
          "PC",
          "PSP",
          "PSP",
          "WiiU",
          "3DS",
          "PSV",
          "DS",
          "PC",
          "PC",
          "X360",
          "DS",
          "DS",
          "X360",
          "PSP",
          "PSV",
          "Wii",
          "3DS",
          "3DS",
          "PSV",
          "DS",
          "PS4",
          "PS3",
          "PSV",
          "PSV",
          "DS",
          "PC",
          "3DS",
          "PS3",
          "X360",
          "PC",
          "PS3",
          "PS4",
          "PSP",
          "PC",
          "3DS",
          "Wii",
          "XOne",
          "PSV",
          "PC",
          "X360",
          "PS4",
          "DS",
          "PSP",
          "X360",
          "PS3",
          "X360",
          "PSV",
          "DS",
          "DS",
          "PS4",
          "PS4",
          "PSP",
          "PSV",
          "PSV",
          "PSP",
          "PC",
          "PSV",
          "PSP",
          "PS4",
          "PS3",
          "PSP",
          "PC",
          "X360",
          "PC",
          "PC",
          "DS",
          "DS",
          "PS3",
          "DS",
          "PS4",
          "PSP",
          "Wii",
          "PSV",
          "PSV",
          "PSV",
          "PSP",
          "PSV",
          "PS4",
          "PSV",
          "PC",
          "PC",
          "WiiU",
          "PS3",
          "DS",
          "PS4",
          "XOne",
          "PS3",
          "DS",
          "PSV",
          "PC",
          "DS",
          "PS4",
          "PSP",
          "DS",
          "X360",
          "3DS",
          "X360",
          "PSP",
          "PSP",
          "Wii",
          "3DS",
          "PS4",
          "XOne",
          "3DS",
          "Wii",
          "PSP",
          "PC",
          "PS2",
          "PS3",
          "DS",
          "PS3",
          "Wii",
          "XOne",
          "Wii",
          "PS2",
          "DS",
          "3DS",
          "PC",
          "PS3",
          "PSV",
          "DS",
          "PS4",
          "PSV",
          "PSP",
          "PC",
          "DS",
          "3DS",
          "PSP",
          "PSP",
          "PS4",
          "PS3",
          "XOne",
          "PS3",
          "PC",
          "PC",
          "PS3",
          "DS",
          "X360",
          "3DS",
          "X360",
          "PS3",
          "PSP",
          "PC",
          "PS3",
          "PS3",
          "PS3",
          "PC",
          "Wii",
          "DS",
          "PS4",
          "DS",
          "X360",
          "X360",
          "PC",
          "DS",
          "PSV",
          "PSV",
          "PS3",
          "PSV",
          "PSV",
          "PSP",
          "PSV",
          "X360",
          "PSV",
          "PSP",
          "3DS",
          "X360",
          "PSP",
          "PSV",
          "3DS",
          "3DS",
          "PSV",
          "PS3",
          "X360",
          "PS3",
          "PC",
          "PSP",
          "3DS",
          "PS4",
          "PC",
          "PS3",
          "X360",
          "3DS",
          "PSV",
          "DS",
          "DS",
          "WiiU",
          "PC",
          "DS",
          "DS",
          "PSV",
          "PSV",
          "DS",
          "PSV",
          "Wii",
          "PS4",
          "XOne",
          "PS3",
          "3DS",
          "PC",
          "DS",
          "Wii",
          "PS4",
          "PSV",
          "PS3",
          "XOne",
          "3DS",
          "PC",
          "PSP",
          "Wii",
          "PS3",
          "PS3",
          "X360",
          "DS",
          "PC",
          "PS3",
          "3DS",
          "PSP",
          "PSP",
          "PC",
          "PS3",
          "PC",
          "PSV",
          "Wii",
          "PSP",
          "3DS",
          "Wii",
          "PS3",
          "DS",
          "3DS",
          "3DS",
          "PSV",
          "DS",
          "PS3",
          "X360",
          "PS4",
          "3DS",
          "PS3",
          "PSV",
          "DS",
          "PC",
          "Wii",
          "Wii",
          "PSP",
          "DS",
          "Wii",
          "PSP",
          "PS4",
          "PS3",
          "XOne",
          "3DS",
          "3DS",
          "PSP",
          "PC",
          "PSP",
          "PC",
          "PS4",
          "PSP",
          "X360",
          "3DS",
          "PSP",
          "PC",
          "DS",
          "DS",
          "X360",
          "PSP",
          "PS4",
          "PSP",
          "PC",
          "PS3",
          "DS",
          "PSV",
          "PS3",
          "PSP",
          "PC",
          "PSP",
          "3DS",
          "Wii",
          "X360",
          "DS",
          "X360",
          "Wii",
          "Wii",
          "PSP",
          "PSP",
          "PC",
          "PSP",
          "DS",
          "PS3",
          "PS4",
          "PSP",
          "XOne",
          "PSP",
          "XOne",
          "3DS",
          "PS3",
          "DS",
          "PS4",
          "PC",
          "PS3",
          "PS3",
          "PS3",
          "PC",
          "PSP",
          "PSP",
          "DS",
          "PC",
          "Wii",
          "PS3",
          "X360",
          "Wii",
          "3DS",
          "PC",
          "PS3",
          "PC",
          "PS3",
          "PC",
          "PSV",
          "PC",
          "PSP",
          "PS2",
          "3DS",
          "PS4",
          "XOne",
          "PSP",
          "PSP",
          "PSV",
          "3DS",
          "PSV",
          "XOne",
          "Wii",
          "X360",
          "PS4",
          "PS4",
          "PSV",
          "3DS",
          "DS",
          "DS",
          "DS",
          "DS",
          "PC",
          "WiiU",
          "PC",
          "3DS",
          "PSP",
          "PSP",
          "XOne",
          "PS3",
          "PC",
          "3DS",
          "PSP",
          "PSV",
          "X360",
          "PC",
          "XOne",
          "PSV",
          "XOne",
          "3DS",
          "PS3",
          "PSP",
          "DS",
          "X360",
          "PSV",
          "PSV",
          "PSP",
          "PSP",
          "PSV",
          "PC",
          "3DS",
          "PC",
          "PS3",
          "PS3",
          "PC",
          "PS3",
          "XOne",
          "3DS",
          "PS3",
          "PSP",
          "DS",
          "PSP",
          "DS",
          "PSV",
          "PSP",
          "DS",
          "X360",
          "3DS",
          "3DS",
          "PS3",
          "PC",
          "WiiU",
          "3DS",
          "DS",
          "DS",
          "PC",
          "PSP",
          "DS",
          "PSV",
          "PC",
          "PSV",
          "PS4",
          "PC",
          "PS3",
          "PSP",
          "PS4",
          "DS",
          "PC",
          "PSP",
          "3DS",
          "DS",
          "WiiU",
          "PS3",
          "PS3",
          "Wii",
          "3DS",
          "PS3",
          "PC",
          "PS3",
          "PS3",
          "PS3",
          "PC",
          "3DS",
          "PSP",
          "Wii",
          "PS4",
          "PS4",
          "PS3",
          "PSV",
          "3DS",
          "PS3",
          "3DS",
          "3DS",
          "3DS",
          "PSV",
          "DS",
          "PSV",
          "PS3",
          "DS",
          "PS3",
          "PC",
          "XOne",
          "3DS",
          "PS3",
          "X360",
          "PSP",
          "PSV",
          "PSP",
          "3DS",
          "PS3",
          "Wii",
          "X360",
          "3DS",
          "PS4",
          "3DS",
          "PS4",
          "PC",
          "DS",
          "PS3",
          "Wii",
          "PC",
          "PS3",
          "PS3",
          "PC",
          "Wii",
          "3DS",
          "3DS",
          "PC",
          "DS",
          "WiiU",
          "DS",
          "PC",
          "PS3",
          "PS3",
          "DS",
          "3DS",
          "PC",
          "PC",
          "PSV",
          "3DS",
          "DS",
          "PS3",
          "3DS",
          "3DS",
          "PC",
          "DS",
          "DS",
          "PSV",
          "3DS",
          "Wii",
          "3DS",
          "PC",
          "X360",
          "PC",
          "PSP",
          "PSP",
          "PS3",
          "DS",
          "PSV",
          "DS",
          "PS3",
          "PSV",
          "PS3",
          "PSV",
          "DS",
          "X360",
          "PSV",
          "3DS",
          "PSP",
          "PC",
          "PSP",
          "PS3",
          "PS3",
          "3DS",
          "PSV",
          "PC",
          "Wii",
          "PSP",
          "PSP",
          "PS4",
          "DS",
          "PSV",
          "PSV",
          "PSP",
          "PS3",
          "Wii",
          "PS2",
          "3DS",
          "PS3",
          "PC",
          "PC",
          "XOne",
          "PC",
          "PSP",
          "PSP",
          "PS4",
          "PSV",
          "PSP",
          "PSP",
          "PSV",
          "PSV",
          "PC",
          "PSP",
          "PS3",
          "DS",
          "DS",
          "DS",
          "Wii",
          "3DS",
          "PSV",
          "PSV",
          "X360",
          "3DS",
          "DS",
          "PC",
          "PSV",
          "WiiU",
          "3DS",
          "3DS",
          "3DS",
          "X360",
          "PS3",
          "PSP",
          "X360",
          "PSP",
          "DS",
          "PSP",
          "PS3",
          "PS2",
          "PC",
          "PSP",
          "PC",
          "DS",
          "PS3",
          "PC",
          "PC",
          "X360",
          "PSP",
          "Wii",
          "PC",
          "X360",
          "DS",
          "PSV",
          "PS3",
          "3DS",
          "PC",
          "Wii",
          "PSV",
          "PSP",
          "DS",
          "PSP",
          "DS",
          "3DS",
          "PS3",
          "X360",
          "PSV",
          "3DS",
          "PSP",
          "XOne",
          "PS3",
          "PSV",
          "DS",
          "PSP",
          "PSP",
          "XOne",
          "3DS",
          "DS",
          "3DS",
          "PSV",
          "PSV",
          "PS3",
          "X360",
          "X360",
          "Wii",
          "WiiU",
          "PS4",
          "X360",
          "3DS",
          "PSP",
          "PC",
          "DS",
          "PC",
          "PSP",
          "X360",
          "PSV",
          "PC",
          "WiiU",
          "PC",
          "PSV",
          "PSP",
          "PSP",
          "X360",
          "PC",
          "PSP",
          "PSP",
          "X360",
          "PC",
          "PSP",
          "PSP",
          "PSP",
          "PSP",
          "PS3",
          "PC",
          "PS4",
          "DS",
          "PSV",
          "PSV",
          "PS3",
          "Wii",
          "PSV",
          "X360",
          "PSV",
          "3DS",
          "PC",
          "PC",
          "PSP",
          "X360",
          "PSP",
          "PS3",
          "PSP",
          "PC",
          "DS",
          "PSP",
          "DS",
          "XOne",
          "DS",
          "PSP",
          "3DS",
          "PS3",
          "PSV",
          "PC",
          "PS4",
          "XOne",
          "Wii",
          "PS3",
          "X360",
          "3DS",
          "PSP",
          "DS",
          "3DS",
          "PC",
          "PC",
          "PC",
          "PC",
          "PSV",
          "PS3",
          "PSP",
          "PSP",
          "PS3",
          "X360",
          "PSV",
          "PS4",
          "PSV",
          "3DS",
          "WiiU",
          "PS3",
          "PC",
          "Wii",
          "WiiU",
          "3DS",
          "PSV",
          "PS4",
          "DS",
          "PC",
          "PSV",
          "WiiU",
          "DS",
          "PSP",
          "PSV",
          "PSV",
          "X360",
          "X360",
          "PSV",
          "Wii",
          "PSP",
          "X360",
          "PSP",
          "PSP",
          "PS4",
          "PC",
          "WiiU",
          "X360",
          "DS",
          "PS3",
          "PSP",
          "PS4",
          "PSV",
          "PSV",
          "PSV",
          "Wii",
          "XOne",
          "PC",
          "PSP",
          "PS2",
          "PSV",
          "DS",
          "PS3",
          "Wii",
          "PSP",
          "X360",
          "PSP",
          "PS3",
          "PS3",
          "PSP",
          "PC",
          "PC",
          "3DS",
          "DS",
          "PS4",
          "PS3",
          "PS3",
          "PSP",
          "PS3",
          "PS4",
          "DS",
          "PC",
          "X360",
          "X360",
          "PSV",
          "PSP",
          "PC",
          "PSV",
          "PSV",
          "X360",
          "PS3",
          "PC",
          "X360",
          "Wii",
          "PSP",
          "PSP",
          "PSP",
          "PSP",
          "PC",
          "X360",
          "PS4",
          "X360",
          "PSV",
          "PSP",
          "PC",
          "PSP",
          "DS",
          "XOne",
          "X360",
          "PS3",
          "PC",
          "DS",
          "PC",
          "PSV",
          "3DS",
          "Wii",
          "X360",
          "PSP",
          "DS",
          "PC",
          "PS4",
          "PSP",
          "PS4",
          "PSV",
          "PSP",
          "PSP",
          "Wii",
          "PS3",
          "Wii",
          "PSP",
          "PS2",
          "PSV",
          "PSP",
          "PSP",
          "PC",
          "PC",
          "PSV",
          "PS3",
          "PC",
          "PSP",
          "PC",
          "XOne",
          "PS3",
          "DS",
          "PSV",
          "PC",
          "PS4",
          "PS3",
          "DS",
          "PS3",
          "PS3",
          "PSV",
          "DS",
          "PSP",
          "PS3",
          "PS3",
          "DS",
          "PS3",
          "PC",
          "XOne",
          "PS3",
          "X360",
          "PSP",
          "PSP",
          "PSP",
          "PSP",
          "PS3",
          "PSV",
          "Wii",
          "3DS",
          "PS3",
          "PSP",
          "DS",
          "PS3",
          "DS",
          "DS",
          "PS3",
          "PSV",
          "X360",
          "DS",
          "PS3",
          "PSP",
          "PC",
          "PS3",
          "WiiU",
          "Wii",
          "PSP",
          "3DS",
          "PSV",
          "PSP",
          "PS3",
          "X360",
          "PSV",
          "PS2",
          "3DS",
          "PSP",
          "PC",
          "X360",
          "DS",
          "PC",
          "DS",
          "PS3",
          "PSP",
          "X360",
          "X360",
          "DS",
          "PSP",
          "PS3",
          "PS3",
          "Wii",
          "DS",
          "DS",
          "3DS",
          "PS4",
          "PC",
          "PSP",
          "XOne",
          "PS3",
          "PC",
          "PS3",
          "PC",
          "WiiU",
          "PSV",
          "PSP",
          "PSP",
          "3DS",
          "DS",
          "PSP",
          "Wii",
          "PSV",
          "DS",
          "DS",
          "DS",
          "PSP",
          "PSV",
          "PS3",
          "PSP",
          "PSP",
          "PC",
          "PSP",
          "3DS",
          "PSV",
          "PS4",
          "PSP",
          "PS3",
          "PSV",
          "PS4",
          "PS2",
          "PSP",
          "WiiU",
          "Wii",
          "PC",
          "PSP",
          "PC",
          "PSP",
          "PC",
          "PSP",
          "PS3",
          "PSV",
          "PSP",
          "3DS",
          "PC",
          "Wii",
          "PC",
          "X360",
          "PC",
          "3DS",
          "PS4",
          "PS3",
          "PSV",
          "Wii",
          "PSV",
          "DS",
          "PC",
          "PSP",
          "PS3",
          "PS2",
          "PS4",
          "WiiU",
          "PC",
          "PS3",
          "PC",
          "PSV",
          "PS4",
          "PS4",
          "PSP",
          "PSP",
          "PS4",
          "PS3",
          "PSV",
          "3DS",
          "PSV",
          "PC",
          "PSV",
          "3DS",
          "PSP",
          "X360",
          "PSP",
          "PS3",
          "PSV",
          "X360",
          "PSP",
          "PC",
          "PC",
          "X360",
          "DS",
          "X360",
          "Wii",
          "PS3",
          "WiiU",
          "PS4",
          "3DS",
          "Wii",
          "PSP",
          "PSP",
          "PSP",
          "PSV",
          "3DS",
          "PSV",
          "Wii",
          "PS3",
          "PSV",
          "PC",
          "PSP",
          "PS3",
          "PSP",
          "3DS",
          "PC",
          "PC",
          "PSV",
          "PSP",
          "3DS",
          "PSV",
          "DS",
          "PS2",
          "DS",
          "PSP",
          "X360",
          "PS3",
          "DS",
          "PSP",
          "PC",
          "PC",
          "X360",
          "XOne",
          "PS3",
          "PSP",
          "3DS",
          "DS",
          "3DS",
          "DS",
          "PSP",
          "Wii",
          "PSP",
          "PC",
          "PC",
          "PSV",
          "PSP",
          "PS3",
          "Wii",
          "PC",
          "PC",
          "PSP",
          "PS3",
          "PS4",
          "PSP",
          "PS3",
          "3DS",
          "PS4",
          "PS3",
          "Wii",
          "PSV",
          "PSV",
          "DS",
          "PC",
          "PSP",
          "3DS",
          "PSP",
          "XOne",
          "PSP",
          "DS",
          "PS3",
          "PS4",
          "PSV",
          "Wii",
          "PS2",
          "XOne",
          "PSP",
          "PSP",
          "PC",
          "PC",
          "XOne",
          "PSP",
          "PSP",
          "X360",
          "PS3",
          "PC",
          "PSP",
          "Wii",
          "DS",
          "PSV",
          "PSP",
          "PSP",
          "Wii",
          "DS",
          "PC",
          "X360",
          "DS",
          "PSV",
          "PS2",
          "PSV",
          "X360",
          "PSP",
          "PSV",
          "Wii",
          "PC",
          "PSV",
          "X360",
          "XOne",
          "X360",
          "X360",
          "PSP",
          "PC",
          "PSV",
          "PC",
          "X360",
          "PSP",
          "WiiU",
          "PC",
          "3DS",
          "DS",
          "Wii",
          "PC",
          "PS3",
          "PSP",
          "DS",
          "PS2",
          "DS",
          "PSV",
          "X360",
          "PSV",
          "DS",
          "PS4",
          "DS",
          "PSP",
          "PSV",
          "PC",
          "Wii",
          "PC",
          "PSP",
          "PSV",
          "3DS",
          "PS3",
          "3DS",
          "PSP",
          "3DS",
          "PSV",
          "Wii",
          "PSV",
          "PS4",
          "WiiU",
          "DS",
          "PC",
          "PSV",
          "3DS",
          "PSP",
          "PSP",
          "DS",
          "DS",
          "PSP",
          "PC",
          "PS4",
          "PSP",
          "PS3",
          "PSV",
          "PSP",
          "PSV",
          "PS3",
          "PS4",
          "PSP",
          "PSV",
          "PSV",
          "PS4",
          "PS3",
          "PSP",
          "PSV",
          "X360",
          "PSP",
          "PSV",
          "DS",
          "PC",
          "PS3",
          "PC",
          "PSV",
          "PS2",
          "PSP",
          "PSP",
          "PSP",
          "PS3",
          "PSV",
          "3DS",
          "PSP",
          "X360",
          "PSP",
          "PSP",
          "Wii",
          "3DS",
          "DS",
          "PSP",
          "PSP",
          "PSV",
          "PS3",
          "PC",
          "PS4",
          "PSV",
          "PSP",
          "PSP",
          "PSV",
          "PSP",
          "PS3",
          "XOne",
          "PS4",
          "X360",
          "PS4",
          "PSP",
          "PC",
          "PC",
          "PS2",
          "PC",
          "X360",
          "3DS",
          "PS2",
          "3DS",
          "PSV",
          "PS3",
          "PSP",
          "PSP",
          "PS3",
          "PSP",
          "DS",
          "DS",
          "PS4",
          "PSP",
          "X360",
          "PSV",
          "DS",
          "PSP",
          "WiiU",
          "PS3",
          "PSV",
          "PC",
          "X360",
          "PS2",
          "PSP",
          "XOne",
          "PSP",
          "DS",
          "PSV",
          "PSV",
          "Wii",
          "3DS",
          "X360",
          "PS3",
          "PC",
          "PSP",
          "PSP",
          "PSV",
          "PS4",
          "PSV",
          "PC",
          "DS",
          "PC",
          "PSV",
          "DS",
          "PSP",
          "X360",
          "PSP",
          "PS2",
          "DS",
          "PSV",
          "PSP",
          "3DS",
          "PSV",
          "PC",
          "Wii",
          "PS4",
          "PS3",
          "PS3",
          "PSP",
          "PSP",
          "PC",
          "Wii",
          "PSV",
          "X360",
          "DS",
          "PSV",
          "PSV",
          "X360",
          "PSP",
          "PS3",
          "PSP",
          "PS4",
          "XOne",
          "PSV",
          "PSV",
          "PSP",
          "XOne",
          "PSV",
          "PS3",
          "PSP",
          "3DS",
          "PSV",
          "PC",
          "PS3",
          "WiiU",
          "X360",
          "PS4",
          "PSP",
          "PSP",
          "PSV",
          "PSP",
          "PSV",
          "PSV",
          "PC",
          "XOne",
          "Wii",
          "X360",
          "PC",
          "PS2",
          "PC",
          "PSV",
          "PSP",
          "PSP",
          "WiiU",
          "PS3",
          "PSP",
          "PSP",
          "DS",
          "PSV",
          "PSV",
          "PSV",
          "DS",
          "PSP",
          "3DS",
          "PSV",
          "PSV",
          "PC",
          "PSV",
          "WiiU",
          "DS",
          "PSP",
          "PS4",
          "PC",
          "PC",
          "PSP",
          "WiiU",
          "PSP",
          "PSP",
          "PC",
          "PC",
          "PC",
          "Wii",
          "PSP",
          "PSP",
          "3DS",
          "PSP",
          "X360",
          "PC",
          "PSV",
          "X360",
          "PS2",
          "PC",
          "PSV",
          "PC",
          "PSP",
          "PS3",
          "3DS",
          "DS",
          "PS3",
          "3DS",
          "DS",
          "PSP",
          "Wii",
          "XOne",
          "PSV",
          "PSV",
          "PSP",
          "PSV",
          "Wii",
          "PSV",
          "X360",
          "PSP",
          "XOne",
          "PS3",
          "PS3",
          "XOne",
          "3DS",
          "WiiU",
          "PC",
          "3DS",
          "3DS",
          "3DS",
          "PSV",
          "X360",
          "3DS",
          "PC",
          "X360",
          "PSV",
          "DS",
          "PS3",
          "DS",
          "X360",
          "PSP",
          "PSP",
          "PSP",
          "PSP",
          "PSV",
          "PSP",
          "PC",
          "PSP",
          "XOne",
          "PSP",
          "3DS",
          "PSV",
          "PSP",
          "PS3",
          "PSP",
          "3DS",
          "XOne",
          "XOne",
          "PC",
          "X360",
          "PSP",
          "3DS",
          "PC",
          "PC",
          "3DS",
          "PC",
          "PSP",
          "PSV",
          "PS4",
          "PC",
          "PSV",
          "PSV",
          "XOne",
          "PSV",
          "PC",
          "3DS",
          "XOne",
          "PS4",
          "PSP",
          "XOne",
          "3DS",
          "Wii",
          "PC",
          "PSV",
          "DS"
         ],
         "y": [
          21.82,
          21.4,
          16.38,
          15.32,
          14.76,
          14.64,
          14.35,
          14.24,
          14.03,
          13.73,
          13.46,
          12.73,
          12.21,
          11.98,
          11.33,
          10.79,
          10.77,
          10.26,
          10.21,
          9.88,
          9.82,
          9.76,
          9.59,
          9.52,
          9.2,
          9.09,
          8.84,
          8.49,
          8.49,
          8.33,
          8.24,
          7.69,
          7.67,
          7.6,
          7.45,
          7.34,
          7.3,
          7.23,
          6.96,
          6.96,
          6.91,
          6.9,
          6.83,
          6.81,
          6.69,
          6.6,
          6.59,
          6.59,
          6.56,
          6.5,
          6.34,
          6.24,
          6.24,
          5.99,
          5.65,
          5.53,
          5.42,
          5.3,
          5.2,
          5.19,
          5.18,
          5.15,
          5.13,
          5.13,
          5.08,
          5.08,
          5.02,
          4.87,
          4.84,
          4.83,
          4.82,
          4.77,
          4.76,
          4.64,
          4.58,
          4.57,
          4.55,
          4.47,
          4.45,
          4.44,
          4.42,
          4.31,
          4.31,
          4.26,
          4.25,
          4.24,
          4.21,
          4.2,
          4.19,
          4.19,
          4.14,
          4.1,
          4.09,
          4.08,
          4.03,
          4.02,
          3.92,
          3.89,
          3.89,
          3.88,
          3.87,
          3.85,
          3.81,
          3.79,
          3.78,
          3.76,
          3.73,
          3.69,
          3.64,
          3.63,
          3.61,
          3.53,
          3.53,
          3.5,
          3.49,
          3.48,
          3.46,
          3.45,
          3.44,
          3.43,
          3.42,
          3.38,
          3.34,
          3.32,
          3.28,
          3.28,
          3.26,
          3.23,
          3.23,
          3.22,
          3.22,
          3.19,
          3.18,
          3.17,
          3.15,
          3.15,
          3.12,
          3.11,
          3.11,
          3.07,
          3.07,
          3.07,
          3.04,
          3.04,
          3,
          3,
          2.99,
          2.98,
          2.97,
          2.97,
          2.97,
          2.9,
          2.9,
          2.89,
          2.88,
          2.86,
          2.86,
          2.85,
          2.85,
          2.85,
          2.84,
          2.83,
          2.81,
          2.79,
          2.79,
          2.79,
          2.78,
          2.77,
          2.74,
          2.72,
          2.7,
          2.69,
          2.69,
          2.69,
          2.68,
          2.68,
          2.68,
          2.65,
          2.62,
          2.62,
          2.6,
          2.58,
          2.57,
          2.56,
          2.51,
          2.49,
          2.49,
          2.48,
          2.47,
          2.46,
          2.44,
          2.42,
          2.41,
          2.4,
          2.39,
          2.39,
          2.39,
          2.39,
          2.38,
          2.38,
          2.38,
          2.38,
          2.36,
          2.35,
          2.34,
          2.33,
          2.32,
          2.32,
          2.32,
          2.3,
          2.3,
          2.29,
          2.29,
          2.28,
          2.28,
          2.28,
          2.27,
          2.25,
          2.25,
          2.22,
          2.22,
          2.21,
          2.21,
          2.19,
          2.19,
          2.18,
          2.18,
          2.17,
          2.15,
          2.15,
          2.13,
          2.12,
          2.12,
          2.11,
          2.11,
          2.11,
          2.1,
          2.09,
          2.09,
          2.09,
          2.08,
          2.08,
          2.08,
          2.07,
          2.07,
          2.06,
          2.06,
          2.06,
          2.05,
          2.05,
          2.04,
          2.04,
          2.03,
          2.03,
          2.02,
          2.02,
          2.01,
          2,
          2,
          2,
          1.98,
          1.98,
          1.97,
          1.97,
          1.96,
          1.95,
          1.93,
          1.93,
          1.92,
          1.91,
          1.91,
          1.9,
          1.89,
          1.89,
          1.87,
          1.86,
          1.86,
          1.85,
          1.85,
          1.83,
          1.83,
          1.82,
          1.81,
          1.81,
          1.8,
          1.79,
          1.79,
          1.78,
          1.78,
          1.78,
          1.78,
          1.77,
          1.77,
          1.77,
          1.76,
          1.76,
          1.76,
          1.75,
          1.74,
          1.74,
          1.74,
          1.74,
          1.74,
          1.73,
          1.73,
          1.73,
          1.73,
          1.72,
          1.72,
          1.72,
          1.71,
          1.7,
          1.7,
          1.69,
          1.69,
          1.69,
          1.69,
          1.69,
          1.68,
          1.67,
          1.67,
          1.66,
          1.66,
          1.65,
          1.64,
          1.64,
          1.64,
          1.63,
          1.63,
          1.62,
          1.62,
          1.61,
          1.61,
          1.6,
          1.6,
          1.59,
          1.58,
          1.58,
          1.58,
          1.56,
          1.56,
          1.56,
          1.55,
          1.55,
          1.55,
          1.55,
          1.55,
          1.55,
          1.55,
          1.55,
          1.54,
          1.54,
          1.53,
          1.53,
          1.52,
          1.52,
          1.52,
          1.51,
          1.51,
          1.51,
          1.51,
          1.51,
          1.5,
          1.5,
          1.5,
          1.5,
          1.49,
          1.48,
          1.47,
          1.47,
          1.47,
          1.47,
          1.46,
          1.46,
          1.46,
          1.46,
          1.46,
          1.46,
          1.45,
          1.45,
          1.45,
          1.45,
          1.44,
          1.44,
          1.44,
          1.44,
          1.44,
          1.43,
          1.42,
          1.42,
          1.42,
          1.41,
          1.41,
          1.41,
          1.41,
          1.41,
          1.4,
          1.4,
          1.39,
          1.39,
          1.39,
          1.39,
          1.38,
          1.38,
          1.38,
          1.38,
          1.38,
          1.37,
          1.37,
          1.37,
          1.37,
          1.36,
          1.36,
          1.36,
          1.35,
          1.35,
          1.35,
          1.35,
          1.35,
          1.35,
          1.33,
          1.33,
          1.33,
          1.33,
          1.33,
          1.33,
          1.33,
          1.32,
          1.32,
          1.32,
          1.32,
          1.32,
          1.32,
          1.32,
          1.3,
          1.3,
          1.3,
          1.3,
          1.29,
          1.29,
          1.29,
          1.28,
          1.28,
          1.28,
          1.28,
          1.28,
          1.27,
          1.27,
          1.27,
          1.27,
          1.26,
          1.26,
          1.26,
          1.25,
          1.24,
          1.24,
          1.23,
          1.23,
          1.23,
          1.23,
          1.22,
          1.22,
          1.22,
          1.22,
          1.21,
          1.2,
          1.2,
          1.2,
          1.2,
          1.2,
          1.19,
          1.19,
          1.19,
          1.19,
          1.19,
          1.19,
          1.19,
          1.18,
          1.18,
          1.18,
          1.17,
          1.17,
          1.17,
          1.17,
          1.17,
          1.16,
          1.16,
          1.16,
          1.16,
          1.16,
          1.16,
          1.15,
          1.15,
          1.15,
          1.15,
          1.14,
          1.13,
          1.13,
          1.13,
          1.13,
          1.13,
          1.13,
          1.12,
          1.12,
          1.12,
          1.12,
          1.12,
          1.12,
          1.11,
          1.11,
          1.11,
          1.11,
          1.1,
          1.1,
          1.1,
          1.1,
          1.09,
          1.09,
          1.09,
          1.09,
          1.08,
          1.08,
          1.08,
          1.08,
          1.08,
          1.08,
          1.07,
          1.07,
          1.07,
          1.07,
          1.07,
          1.07,
          1.06,
          1.06,
          1.06,
          1.06,
          1.05,
          1.05,
          1.05,
          1.05,
          1.05,
          1.05,
          1.05,
          1.04,
          1.04,
          1.04,
          1.04,
          1.04,
          1.04,
          1.04,
          1.03,
          1.03,
          1.02,
          1.02,
          1.02,
          1.02,
          1.01,
          1.01,
          1.01,
          1.01,
          1.01,
          1.01,
          1,
          1,
          1,
          1,
          1,
          1,
          1,
          0.99,
          0.99,
          0.99,
          0.99,
          0.99,
          0.98,
          0.98,
          0.98,
          0.98,
          0.98,
          0.98,
          0.98,
          0.98,
          0.98,
          0.98,
          0.98,
          0.98,
          0.97,
          0.97,
          0.97,
          0.97,
          0.97,
          0.97,
          0.97,
          0.96,
          0.96,
          0.96,
          0.96,
          0.96,
          0.96,
          0.96,
          0.96,
          0.96,
          0.96,
          0.95,
          0.95,
          0.95,
          0.95,
          0.95,
          0.95,
          0.95,
          0.95,
          0.94,
          0.94,
          0.94,
          0.94,
          0.94,
          0.94,
          0.94,
          0.93,
          0.93,
          0.93,
          0.93,
          0.93,
          0.93,
          0.93,
          0.92,
          0.92,
          0.92,
          0.92,
          0.92,
          0.92,
          0.92,
          0.92,
          0.92,
          0.92,
          0.92,
          0.92,
          0.91,
          0.91,
          0.91,
          0.91,
          0.9,
          0.9,
          0.9,
          0.9,
          0.9,
          0.9,
          0.89,
          0.89,
          0.89,
          0.89,
          0.89,
          0.89,
          0.89,
          0.89,
          0.89,
          0.88,
          0.88,
          0.88,
          0.88,
          0.88,
          0.88,
          0.88,
          0.87,
          0.87,
          0.87,
          0.87,
          0.87,
          0.87,
          0.87,
          0.87,
          0.86,
          0.86,
          0.86,
          0.86,
          0.85,
          0.85,
          0.85,
          0.85,
          0.85,
          0.85,
          0.85,
          0.85,
          0.84,
          0.84,
          0.84,
          0.84,
          0.84,
          0.84,
          0.84,
          0.84,
          0.84,
          0.84,
          0.84,
          0.84,
          0.84,
          0.83,
          0.83,
          0.83,
          0.83,
          0.83,
          0.82,
          0.82,
          0.82,
          0.82,
          0.82,
          0.82,
          0.82,
          0.82,
          0.82,
          0.82,
          0.81,
          0.81,
          0.81,
          0.81,
          0.81,
          0.81,
          0.8,
          0.8,
          0.8,
          0.8,
          0.8,
          0.8,
          0.8,
          0.8,
          0.8,
          0.8,
          0.8,
          0.8,
          0.8,
          0.8,
          0.79,
          0.79,
          0.79,
          0.79,
          0.79,
          0.79,
          0.79,
          0.79,
          0.78,
          0.78,
          0.78,
          0.78,
          0.78,
          0.78,
          0.78,
          0.77,
          0.77,
          0.77,
          0.77,
          0.76,
          0.76,
          0.76,
          0.76,
          0.76,
          0.76,
          0.76,
          0.76,
          0.76,
          0.76,
          0.76,
          0.76,
          0.76,
          0.76,
          0.75,
          0.75,
          0.75,
          0.75,
          0.75,
          0.75,
          0.75,
          0.75,
          0.75,
          0.75,
          0.74,
          0.74,
          0.74,
          0.74,
          0.74,
          0.74,
          0.74,
          0.74,
          0.74,
          0.74,
          0.74,
          0.73,
          0.73,
          0.73,
          0.73,
          0.73,
          0.73,
          0.73,
          0.73,
          0.72,
          0.72,
          0.72,
          0.72,
          0.72,
          0.72,
          0.72,
          0.72,
          0.72,
          0.72,
          0.72,
          0.72,
          0.71,
          0.71,
          0.71,
          0.71,
          0.71,
          0.71,
          0.71,
          0.71,
          0.71,
          0.71,
          0.71,
          0.71,
          0.71,
          0.71,
          0.71,
          0.7,
          0.7,
          0.7,
          0.7,
          0.7,
          0.7,
          0.7,
          0.7,
          0.7,
          0.69,
          0.69,
          0.69,
          0.69,
          0.69,
          0.69,
          0.69,
          0.69,
          0.69,
          0.69,
          0.69,
          0.69,
          0.68,
          0.68,
          0.68,
          0.68,
          0.68,
          0.68,
          0.68,
          0.68,
          0.68,
          0.68,
          0.68,
          0.67,
          0.67,
          0.67,
          0.67,
          0.67,
          0.67,
          0.67,
          0.67,
          0.67,
          0.67,
          0.67,
          0.67,
          0.67,
          0.67,
          0.67,
          0.67,
          0.67,
          0.66,
          0.66,
          0.66,
          0.66,
          0.66,
          0.66,
          0.66,
          0.66,
          0.66,
          0.66,
          0.65,
          0.65,
          0.65,
          0.65,
          0.65,
          0.65,
          0.65,
          0.65,
          0.65,
          0.64,
          0.64,
          0.64,
          0.64,
          0.64,
          0.64,
          0.64,
          0.64,
          0.64,
          0.64,
          0.64,
          0.64,
          0.64,
          0.64,
          0.64,
          0.64,
          0.63,
          0.63,
          0.63,
          0.63,
          0.63,
          0.63,
          0.63,
          0.63,
          0.63,
          0.63,
          0.63,
          0.63,
          0.63,
          0.63,
          0.63,
          0.63,
          0.62,
          0.62,
          0.62,
          0.62,
          0.62,
          0.62,
          0.62,
          0.62,
          0.62,
          0.62,
          0.62,
          0.62,
          0.62,
          0.62,
          0.62,
          0.61,
          0.61,
          0.61,
          0.61,
          0.61,
          0.61,
          0.61,
          0.61,
          0.61,
          0.61,
          0.61,
          0.61,
          0.61,
          0.6,
          0.6,
          0.6,
          0.6,
          0.6,
          0.6,
          0.6,
          0.6,
          0.6,
          0.6,
          0.6,
          0.6,
          0.6,
          0.6,
          0.6,
          0.6,
          0.59,
          0.59,
          0.59,
          0.59,
          0.59,
          0.59,
          0.59,
          0.59,
          0.59,
          0.59,
          0.59,
          0.59,
          0.59,
          0.59,
          0.59,
          0.59,
          0.59,
          0.58,
          0.58,
          0.58,
          0.58,
          0.58,
          0.58,
          0.58,
          0.58,
          0.58,
          0.58,
          0.58,
          0.58,
          0.58,
          0.58,
          0.58,
          0.58,
          0.58,
          0.57,
          0.57,
          0.57,
          0.57,
          0.57,
          0.57,
          0.57,
          0.57,
          0.57,
          0.57,
          0.57,
          0.56,
          0.56,
          0.56,
          0.56,
          0.56,
          0.56,
          0.56,
          0.56,
          0.56,
          0.56,
          0.56,
          0.56,
          0.55,
          0.55,
          0.55,
          0.55,
          0.55,
          0.55,
          0.55,
          0.55,
          0.55,
          0.55,
          0.55,
          0.55,
          0.55,
          0.55,
          0.55,
          0.55,
          0.54,
          0.54,
          0.54,
          0.54,
          0.54,
          0.54,
          0.54,
          0.54,
          0.54,
          0.54,
          0.54,
          0.54,
          0.54,
          0.54,
          0.54,
          0.54,
          0.54,
          0.54,
          0.54,
          0.54,
          0.54,
          0.54,
          0.54,
          0.53,
          0.53,
          0.53,
          0.53,
          0.53,
          0.53,
          0.53,
          0.53,
          0.53,
          0.53,
          0.53,
          0.53,
          0.53,
          0.53,
          0.53,
          0.53,
          0.52,
          0.52,
          0.52,
          0.52,
          0.51,
          0.51,
          0.51,
          0.51,
          0.51,
          0.51,
          0.51,
          0.51,
          0.51,
          0.51,
          0.51,
          0.51,
          0.51,
          0.51,
          0.51,
          0.51,
          0.51,
          0.51,
          0.5,
          0.5,
          0.5,
          0.5,
          0.5,
          0.5,
          0.5,
          0.5,
          0.5,
          0.5,
          0.5,
          0.5,
          0.5,
          0.5,
          0.5,
          0.5,
          0.5,
          0.5,
          0.5,
          0.5,
          0.49,
          0.49,
          0.49,
          0.49,
          0.49,
          0.49,
          0.49,
          0.49,
          0.49,
          0.49,
          0.49,
          0.49,
          0.49,
          0.49,
          0.49,
          0.49,
          0.49,
          0.49,
          0.49,
          0.49,
          0.48,
          0.48,
          0.48,
          0.48,
          0.48,
          0.48,
          0.48,
          0.48,
          0.48,
          0.48,
          0.48,
          0.48,
          0.48,
          0.48,
          0.48,
          0.47,
          0.47,
          0.47,
          0.47,
          0.47,
          0.47,
          0.47,
          0.47,
          0.47,
          0.47,
          0.47,
          0.47,
          0.47,
          0.47,
          0.47,
          0.47,
          0.47,
          0.47,
          0.47,
          0.47,
          0.47,
          0.47,
          0.47,
          0.47,
          0.46,
          0.46,
          0.46,
          0.46,
          0.46,
          0.46,
          0.46,
          0.46,
          0.46,
          0.46,
          0.46,
          0.46,
          0.46,
          0.46,
          0.46,
          0.46,
          0.46,
          0.46,
          0.46,
          0.46,
          0.46,
          0.46,
          0.46,
          0.46,
          0.46,
          0.46,
          0.45,
          0.45,
          0.45,
          0.45,
          0.45,
          0.45,
          0.45,
          0.45,
          0.45,
          0.45,
          0.45,
          0.45,
          0.45,
          0.45,
          0.45,
          0.45,
          0.45,
          0.45,
          0.45,
          0.45,
          0.45,
          0.45,
          0.44,
          0.44,
          0.44,
          0.44,
          0.44,
          0.44,
          0.44,
          0.44,
          0.44,
          0.44,
          0.44,
          0.44,
          0.44,
          0.44,
          0.44,
          0.44,
          0.44,
          0.43,
          0.43,
          0.43,
          0.43,
          0.43,
          0.43,
          0.43,
          0.43,
          0.43,
          0.43,
          0.43,
          0.43,
          0.43,
          0.43,
          0.43,
          0.43,
          0.43,
          0.43,
          0.43,
          0.43,
          0.43,
          0.43,
          0.42,
          0.42,
          0.42,
          0.42,
          0.42,
          0.42,
          0.42,
          0.42,
          0.42,
          0.42,
          0.42,
          0.42,
          0.42,
          0.42,
          0.42,
          0.42,
          0.42,
          0.42,
          0.42,
          0.41,
          0.41,
          0.41,
          0.41,
          0.41,
          0.41,
          0.41,
          0.41,
          0.41,
          0.41,
          0.41,
          0.41,
          0.41,
          0.41,
          0.41,
          0.41,
          0.41,
          0.41,
          0.41,
          0.41,
          0.41,
          0.41,
          0.41,
          0.41,
          0.41,
          0.41,
          0.41,
          0.41,
          0.41,
          0.41,
          0.41,
          0.4,
          0.4,
          0.4,
          0.4,
          0.4,
          0.4,
          0.4,
          0.4,
          0.4,
          0.4,
          0.4,
          0.4,
          0.4,
          0.4,
          0.4,
          0.4,
          0.4,
          0.4,
          0.4,
          0.4,
          0.4,
          0.4,
          0.39,
          0.39,
          0.39,
          0.39,
          0.39,
          0.39,
          0.39,
          0.39,
          0.39,
          0.39,
          0.39,
          0.39,
          0.39,
          0.39,
          0.39,
          0.39,
          0.39,
          0.39,
          0.39,
          0.39,
          0.39,
          0.39,
          0.39,
          0.39,
          0.39,
          0.39,
          0.39,
          0.38,
          0.38,
          0.38,
          0.38,
          0.38,
          0.38,
          0.38,
          0.38,
          0.38,
          0.38,
          0.38,
          0.38,
          0.38,
          0.38,
          0.38,
          0.38,
          0.38,
          0.38,
          0.38,
          0.38,
          0.38,
          0.38,
          0.38,
          0.38,
          0.38,
          0.38,
          0.38,
          0.38,
          0.38,
          0.38,
          0.38,
          0.38,
          0.38,
          0.37,
          0.37,
          0.37,
          0.37,
          0.37,
          0.37,
          0.37,
          0.37,
          0.37,
          0.37,
          0.37,
          0.37,
          0.37,
          0.37,
          0.37,
          0.37,
          0.37,
          0.37,
          0.37,
          0.37,
          0.37,
          0.36,
          0.36,
          0.36,
          0.36,
          0.36,
          0.36,
          0.36,
          0.36,
          0.36,
          0.36,
          0.36,
          0.36,
          0.36,
          0.36,
          0.36,
          0.36,
          0.36,
          0.36,
          0.36,
          0.36,
          0.36,
          0.36,
          0.36,
          0.36,
          0.36,
          0.35,
          0.35,
          0.35,
          0.35,
          0.35,
          0.35,
          0.35,
          0.35,
          0.35,
          0.35,
          0.35,
          0.35,
          0.35,
          0.35,
          0.35,
          0.35,
          0.35,
          0.35,
          0.35,
          0.35,
          0.35,
          0.35,
          0.35,
          0.35,
          0.34,
          0.34,
          0.34,
          0.34,
          0.34,
          0.34,
          0.34,
          0.34,
          0.34,
          0.34,
          0.34,
          0.34,
          0.34,
          0.34,
          0.34,
          0.34,
          0.34,
          0.34,
          0.34,
          0.34,
          0.34,
          0.34,
          0.34,
          0.33,
          0.33,
          0.33,
          0.33,
          0.33,
          0.33,
          0.33,
          0.33,
          0.33,
          0.33,
          0.33,
          0.33,
          0.33,
          0.33,
          0.33,
          0.33,
          0.33,
          0.33,
          0.33,
          0.33,
          0.33,
          0.33,
          0.33,
          0.33,
          0.33,
          0.33,
          0.33,
          0.33,
          0.33,
          0.33,
          0.33,
          0.33,
          0.33,
          0.33,
          0.33,
          0.33,
          0.33,
          0.33,
          0.33,
          0.33,
          0.33,
          0.32,
          0.32,
          0.32,
          0.32,
          0.32,
          0.32,
          0.32,
          0.32,
          0.32,
          0.32,
          0.32,
          0.32,
          0.32,
          0.32,
          0.32,
          0.32,
          0.32,
          0.32,
          0.32,
          0.32,
          0.32,
          0.32,
          0.32,
          0.32,
          0.32,
          0.31,
          0.31,
          0.31,
          0.31,
          0.31,
          0.31,
          0.31,
          0.31,
          0.31,
          0.31,
          0.31,
          0.31,
          0.31,
          0.31,
          0.31,
          0.31,
          0.31,
          0.31,
          0.31,
          0.31,
          0.31,
          0.31,
          0.31,
          0.31,
          0.31,
          0.31,
          0.31,
          0.31,
          0.31,
          0.31,
          0.31,
          0.31,
          0.31,
          0.3,
          0.3,
          0.3,
          0.3,
          0.3,
          0.3,
          0.3,
          0.3,
          0.3,
          0.3,
          0.3,
          0.3,
          0.3,
          0.3,
          0.3,
          0.3,
          0.3,
          0.3,
          0.3,
          0.3,
          0.3,
          0.3,
          0.3,
          0.3,
          0.3,
          0.3,
          0.3,
          0.3,
          0.3,
          0.3,
          0.3,
          0.3,
          0.3,
          0.3,
          0.3,
          0.29,
          0.29,
          0.29,
          0.29,
          0.29,
          0.29,
          0.29,
          0.29,
          0.29,
          0.29,
          0.29,
          0.29,
          0.29,
          0.29,
          0.29,
          0.29,
          0.29,
          0.29,
          0.29,
          0.29,
          0.29,
          0.29,
          0.29,
          0.29,
          0.29,
          0.29,
          0.29,
          0.29,
          0.29,
          0.29,
          0.29,
          0.29,
          0.29,
          0.29,
          0.29,
          0.29,
          0.29,
          0.29,
          0.29,
          0.29,
          0.29,
          0.29,
          0.29,
          0.29,
          0.29,
          0.28,
          0.28,
          0.28,
          0.28,
          0.28,
          0.28,
          0.28,
          0.28,
          0.28,
          0.28,
          0.28,
          0.28,
          0.28,
          0.28,
          0.28,
          0.28,
          0.28,
          0.28,
          0.28,
          0.28,
          0.28,
          0.28,
          0.28,
          0.28,
          0.28,
          0.28,
          0.28,
          0.28,
          0.28,
          0.28,
          0.28,
          0.28,
          0.28,
          0.28,
          0.28,
          0.28,
          0.28,
          0.28,
          0.28,
          0.28,
          0.28,
          0.28,
          0.28,
          0.27,
          0.27,
          0.27,
          0.27,
          0.27,
          0.27,
          0.27,
          0.27,
          0.27,
          0.27,
          0.27,
          0.27,
          0.27,
          0.27,
          0.27,
          0.27,
          0.27,
          0.27,
          0.27,
          0.27,
          0.27,
          0.27,
          0.27,
          0.27,
          0.27,
          0.27,
          0.27,
          0.27,
          0.27,
          0.27,
          0.27,
          0.27,
          0.27,
          0.27,
          0.27,
          0.27,
          0.27,
          0.27,
          0.27,
          0.27,
          0.27,
          0.27,
          0.27,
          0.27,
          0.27,
          0.27,
          0.27,
          0.27,
          0.26,
          0.26,
          0.26,
          0.26,
          0.26,
          0.26,
          0.26,
          0.26,
          0.26,
          0.26,
          0.26,
          0.26,
          0.26,
          0.26,
          0.26,
          0.26,
          0.26,
          0.26,
          0.26,
          0.26,
          0.26,
          0.26,
          0.26,
          0.26,
          0.26,
          0.26,
          0.26,
          0.26,
          0.26,
          0.26,
          0.26,
          0.26,
          0.26,
          0.26,
          0.26,
          0.26,
          0.26,
          0.26,
          0.26,
          0.26,
          0.26,
          0.26,
          0.25,
          0.25,
          0.25,
          0.25,
          0.25,
          0.25,
          0.25,
          0.25,
          0.25,
          0.25,
          0.25,
          0.25,
          0.25,
          0.25,
          0.25,
          0.25,
          0.25,
          0.25,
          0.25,
          0.25,
          0.25,
          0.25,
          0.25,
          0.25,
          0.25,
          0.25,
          0.25,
          0.25,
          0.25,
          0.25,
          0.25,
          0.25,
          0.24,
          0.24,
          0.24,
          0.24,
          0.24,
          0.24,
          0.24,
          0.24,
          0.24,
          0.24,
          0.24,
          0.24,
          0.24,
          0.24,
          0.24,
          0.24,
          0.24,
          0.24,
          0.24,
          0.24,
          0.24,
          0.24,
          0.24,
          0.24,
          0.24,
          0.24,
          0.24,
          0.24,
          0.24,
          0.24,
          0.24,
          0.24,
          0.24,
          0.24,
          0.24,
          0.24,
          0.24,
          0.24,
          0.24,
          0.24,
          0.24,
          0.24,
          0.24,
          0.24,
          0.24,
          0.24,
          0.24,
          0.24,
          0.24,
          0.24,
          0.24,
          0.24,
          0.24,
          0.24,
          0.24,
          0.23,
          0.23,
          0.23,
          0.23,
          0.23,
          0.23,
          0.23,
          0.23,
          0.23,
          0.23,
          0.23,
          0.23,
          0.23,
          0.23,
          0.23,
          0.23,
          0.23,
          0.23,
          0.23,
          0.23,
          0.23,
          0.23,
          0.23,
          0.23,
          0.23,
          0.23,
          0.23,
          0.23,
          0.23,
          0.23,
          0.23,
          0.23,
          0.23,
          0.23,
          0.23,
          0.23,
          0.23,
          0.23,
          0.23,
          0.23,
          0.23,
          0.23,
          0.23,
          0.23,
          0.23,
          0.23,
          0.23,
          0.23,
          0.23,
          0.23,
          0.23,
          0.23,
          0.22,
          0.22,
          0.22,
          0.22,
          0.22,
          0.22,
          0.22,
          0.22,
          0.22,
          0.22,
          0.22,
          0.22,
          0.22,
          0.22,
          0.22,
          0.22,
          0.22,
          0.22,
          0.22,
          0.22,
          0.22,
          0.22,
          0.22,
          0.22,
          0.22,
          0.22,
          0.22,
          0.22,
          0.22,
          0.22,
          0.22,
          0.22,
          0.22,
          0.22,
          0.22,
          0.22,
          0.22,
          0.22,
          0.22,
          0.22,
          0.22,
          0.22,
          0.22,
          0.22,
          0.22,
          0.22,
          0.22,
          0.22,
          0.22,
          0.22,
          0.22,
          0.21,
          0.21,
          0.21,
          0.21,
          0.21,
          0.21,
          0.21,
          0.21,
          0.21,
          0.21,
          0.21,
          0.21,
          0.21,
          0.21,
          0.21,
          0.21,
          0.21,
          0.21,
          0.21,
          0.21,
          0.21,
          0.21,
          0.21,
          0.21,
          0.21,
          0.21,
          0.21,
          0.21,
          0.21,
          0.21,
          0.21,
          0.21,
          0.21,
          0.21,
          0.21,
          0.21,
          0.21,
          0.21,
          0.21,
          0.21,
          0.21,
          0.21,
          0.21,
          0.21,
          0.21,
          0.21,
          0.21,
          0.21,
          0.21,
          0.21,
          0.2,
          0.2,
          0.2,
          0.2,
          0.2,
          0.2,
          0.2,
          0.2,
          0.2,
          0.2,
          0.2,
          0.2,
          0.2,
          0.2,
          0.2,
          0.2,
          0.2,
          0.2,
          0.2,
          0.2,
          0.2,
          0.2,
          0.2,
          0.2,
          0.2,
          0.2,
          0.2,
          0.2,
          0.2,
          0.2,
          0.2,
          0.2,
          0.2,
          0.2,
          0.2,
          0.2,
          0.2,
          0.2,
          0.2,
          0.2,
          0.2,
          0.2,
          0.2,
          0.2,
          0.2,
          0.2,
          0.2,
          0.2,
          0.2,
          0.2,
          0.2,
          0.2,
          0.2,
          0.2,
          0.2,
          0.2,
          0.2,
          0.2,
          0.2,
          0.2,
          0.2,
          0.2,
          0.2,
          0.2,
          0.2,
          0.2,
          0.2,
          0.2,
          0.2,
          0.2,
          0.2,
          0.2,
          0.2,
          0.19,
          0.19,
          0.19,
          0.19,
          0.19,
          0.19,
          0.19,
          0.19,
          0.19,
          0.19,
          0.19,
          0.19,
          0.19,
          0.19,
          0.19,
          0.19,
          0.19,
          0.19,
          0.19,
          0.19,
          0.19,
          0.19,
          0.19,
          0.19,
          0.19,
          0.19,
          0.19,
          0.19,
          0.19,
          0.19,
          0.19,
          0.19,
          0.19,
          0.19,
          0.19,
          0.19,
          0.19,
          0.19,
          0.19,
          0.19,
          0.19,
          0.19,
          0.19,
          0.19,
          0.19,
          0.19,
          0.19,
          0.19,
          0.19,
          0.19,
          0.19,
          0.19,
          0.19,
          0.19,
          0.19,
          0.19,
          0.19,
          0.19,
          0.19,
          0.19,
          0.19,
          0.19,
          0.19,
          0.19,
          0.19,
          0.19,
          0.19,
          0.19,
          0.19,
          0.19,
          0.19,
          0.19,
          0.19,
          0.19,
          0.19,
          0.19,
          0.19,
          0.19,
          0.19,
          0.19,
          0.19,
          0.19,
          0.19,
          0.19,
          0.19,
          0.19,
          0.19,
          0.19,
          0.19,
          0.19,
          0.19,
          0.19,
          0.19,
          0.19,
          0.19,
          0.18,
          0.18,
          0.18,
          0.18,
          0.18,
          0.18,
          0.18,
          0.18,
          0.18,
          0.18,
          0.18,
          0.18,
          0.18,
          0.18,
          0.18,
          0.18,
          0.18,
          0.18,
          0.18,
          0.18,
          0.18,
          0.18,
          0.18,
          0.18,
          0.18,
          0.18,
          0.18,
          0.18,
          0.18,
          0.18,
          0.18,
          0.18,
          0.18,
          0.18,
          0.18,
          0.18,
          0.18,
          0.18,
          0.18,
          0.18,
          0.18,
          0.18,
          0.18,
          0.18,
          0.18,
          0.18,
          0.18,
          0.18,
          0.18,
          0.18,
          0.18,
          0.18,
          0.18,
          0.18,
          0.18,
          0.18,
          0.18,
          0.18,
          0.18,
          0.18,
          0.18,
          0.18,
          0.18,
          0.18,
          0.18,
          0.18,
          0.18,
          0.18,
          0.18,
          0.17,
          0.17,
          0.17,
          0.17,
          0.17,
          0.17,
          0.17,
          0.17,
          0.17,
          0.17,
          0.17,
          0.17,
          0.17,
          0.17,
          0.17,
          0.17,
          0.17,
          0.17,
          0.17,
          0.17,
          0.17,
          0.17,
          0.17,
          0.17,
          0.17,
          0.17,
          0.17,
          0.17,
          0.17,
          0.17,
          0.17,
          0.17,
          0.17,
          0.17,
          0.17,
          0.17,
          0.17,
          0.17,
          0.17,
          0.17,
          0.17,
          0.17,
          0.17,
          0.17,
          0.17,
          0.17,
          0.17,
          0.17,
          0.17,
          0.17,
          0.17,
          0.17,
          0.17,
          0.17,
          0.17,
          0.17,
          0.17,
          0.17,
          0.17,
          0.17,
          0.17,
          0.17,
          0.17,
          0.16,
          0.16,
          0.16,
          0.16,
          0.16,
          0.16,
          0.16,
          0.16,
          0.16,
          0.16,
          0.16,
          0.16,
          0.16,
          0.16,
          0.16,
          0.16,
          0.16,
          0.16,
          0.16,
          0.16,
          0.16,
          0.16,
          0.16,
          0.16,
          0.16,
          0.16,
          0.16,
          0.16,
          0.16,
          0.16,
          0.16,
          0.16,
          0.16,
          0.16,
          0.16,
          0.16,
          0.16,
          0.16,
          0.16,
          0.16,
          0.16,
          0.16,
          0.16,
          0.16,
          0.16,
          0.16,
          0.16,
          0.16,
          0.16,
          0.16,
          0.16,
          0.16,
          0.16,
          0.16,
          0.16,
          0.16,
          0.16,
          0.16,
          0.16,
          0.16,
          0.16,
          0.16,
          0.16,
          0.16,
          0.16,
          0.16,
          0.16,
          0.16,
          0.16,
          0.16,
          0.16,
          0.16,
          0.16,
          0.16,
          0.16,
          0.16,
          0.16,
          0.16,
          0.16,
          0.16,
          0.16,
          0.16,
          0.16,
          0.16,
          0.15,
          0.15,
          0.15,
          0.15,
          0.15,
          0.15,
          0.15,
          0.15,
          0.15,
          0.15,
          0.15,
          0.15,
          0.15,
          0.15,
          0.15,
          0.15,
          0.15,
          0.15,
          0.15,
          0.15,
          0.15,
          0.15,
          0.15,
          0.15,
          0.15,
          0.15,
          0.15,
          0.15,
          0.15,
          0.15,
          0.15,
          0.15,
          0.15,
          0.15,
          0.15,
          0.15,
          0.15,
          0.15,
          0.15,
          0.15,
          0.15,
          0.15,
          0.15,
          0.15,
          0.15,
          0.15,
          0.15,
          0.15,
          0.15,
          0.15,
          0.15,
          0.15,
          0.15,
          0.15,
          0.15,
          0.15,
          0.15,
          0.15,
          0.15,
          0.15,
          0.15,
          0.15,
          0.15,
          0.15,
          0.15,
          0.15,
          0.15,
          0.15,
          0.15,
          0.15,
          0.15,
          0.15,
          0.15,
          0.15,
          0.15,
          0.15,
          0.15,
          0.15,
          0.15,
          0.14,
          0.14,
          0.14,
          0.14,
          0.14,
          0.14,
          0.14,
          0.14,
          0.14,
          0.14,
          0.14,
          0.14,
          0.14,
          0.14,
          0.14,
          0.14,
          0.14,
          0.14,
          0.14,
          0.14,
          0.14,
          0.14,
          0.14,
          0.14,
          0.14,
          0.14,
          0.14,
          0.14,
          0.14,
          0.14,
          0.14,
          0.14,
          0.14,
          0.14,
          0.14,
          0.14,
          0.14,
          0.14,
          0.14,
          0.14,
          0.14,
          0.14,
          0.14,
          0.14,
          0.14,
          0.14,
          0.14,
          0.14,
          0.14,
          0.14,
          0.14,
          0.14,
          0.14,
          0.14,
          0.14,
          0.14,
          0.14,
          0.14,
          0.14,
          0.14,
          0.14,
          0.14,
          0.14,
          0.14,
          0.14,
          0.14,
          0.14,
          0.14,
          0.14,
          0.14,
          0.14,
          0.14,
          0.14,
          0.14,
          0.14,
          0.14,
          0.14,
          0.14,
          0.14,
          0.14,
          0.14,
          0.14,
          0.14,
          0.14,
          0.14,
          0.14,
          0.14,
          0.14,
          0.14,
          0.14,
          0.14,
          0.14,
          0.13,
          0.13,
          0.13,
          0.13,
          0.13,
          0.13,
          0.13,
          0.13,
          0.13,
          0.13,
          0.13,
          0.13,
          0.13,
          0.13,
          0.13,
          0.13,
          0.13,
          0.13,
          0.13,
          0.13,
          0.13,
          0.13,
          0.13,
          0.13,
          0.13,
          0.13,
          0.13,
          0.13,
          0.13,
          0.13,
          0.13,
          0.13,
          0.13,
          0.13,
          0.13,
          0.13,
          0.13,
          0.13,
          0.13,
          0.13,
          0.13,
          0.13,
          0.13,
          0.13,
          0.13,
          0.13,
          0.13,
          0.13,
          0.13,
          0.13,
          0.13,
          0.13,
          0.13,
          0.13,
          0.13,
          0.13,
          0.13,
          0.13,
          0.13,
          0.13,
          0.13,
          0.13,
          0.13,
          0.13,
          0.13,
          0.13,
          0.13,
          0.13,
          0.13,
          0.13,
          0.13,
          0.13,
          0.13,
          0.13,
          0.13,
          0.13,
          0.13,
          0.13,
          0.13,
          0.13,
          0.13,
          0.13,
          0.13,
          0.13,
          0.13,
          0.13,
          0.13,
          0.13,
          0.13,
          0.13,
          0.13,
          0.13,
          0.13,
          0.13,
          0.13,
          0.13,
          0.13,
          0.13,
          0.13,
          0.13,
          0.13,
          0.13,
          0.13,
          0.12,
          0.12,
          0.12,
          0.12,
          0.12,
          0.12,
          0.12,
          0.12,
          0.12,
          0.12,
          0.12,
          0.12,
          0.12,
          0.12,
          0.12,
          0.12,
          0.12,
          0.12,
          0.12,
          0.12,
          0.12,
          0.12,
          0.12,
          0.12,
          0.12,
          0.12,
          0.12,
          0.12,
          0.12,
          0.12,
          0.12,
          0.12,
          0.12,
          0.12,
          0.12,
          0.12,
          0.12,
          0.12,
          0.12,
          0.12,
          0.12,
          0.12,
          0.12,
          0.12,
          0.12,
          0.12,
          0.12,
          0.12,
          0.12,
          0.12,
          0.12,
          0.12,
          0.12,
          0.12,
          0.12,
          0.12,
          0.12,
          0.12,
          0.12,
          0.12,
          0.12,
          0.12,
          0.12,
          0.12,
          0.12,
          0.12,
          0.12,
          0.12,
          0.12,
          0.12,
          0.12,
          0.12,
          0.12,
          0.12,
          0.12,
          0.12,
          0.12,
          0.12,
          0.12,
          0.12,
          0.12,
          0.12,
          0.12,
          0.12,
          0.12,
          0.12,
          0.12,
          0.12,
          0.12,
          0.12,
          0.12,
          0.12,
          0.12,
          0.12,
          0.12,
          0.12,
          0.12,
          0.12,
          0.12,
          0.12,
          0.12,
          0.12,
          0.12,
          0.12,
          0.12,
          0.12,
          0.12,
          0.12,
          0.12,
          0.12,
          0.12,
          0.12,
          0.12,
          0.12,
          0.12,
          0.12,
          0.12,
          0.11,
          0.11,
          0.11,
          0.11,
          0.11,
          0.11,
          0.11,
          0.11,
          0.11,
          0.11,
          0.11,
          0.11,
          0.11,
          0.11,
          0.11,
          0.11,
          0.11,
          0.11,
          0.11,
          0.11,
          0.11,
          0.11,
          0.11,
          0.11,
          0.11,
          0.11,
          0.11,
          0.11,
          0.11,
          0.11,
          0.11,
          0.11,
          0.11,
          0.11,
          0.11,
          0.11,
          0.11,
          0.11,
          0.11,
          0.11,
          0.11,
          0.11,
          0.11,
          0.11,
          0.11,
          0.11,
          0.11,
          0.11,
          0.11,
          0.11,
          0.11,
          0.11,
          0.11,
          0.11,
          0.11,
          0.11,
          0.11,
          0.11,
          0.11,
          0.11,
          0.11,
          0.11,
          0.11,
          0.11,
          0.11,
          0.11,
          0.11,
          0.11,
          0.11,
          0.11,
          0.11,
          0.11,
          0.11,
          0.11,
          0.11,
          0.11,
          0.11,
          0.11,
          0.11,
          0.11,
          0.11,
          0.11,
          0.11,
          0.11,
          0.11,
          0.11,
          0.11,
          0.11,
          0.11,
          0.11,
          0.11,
          0.11,
          0.11,
          0.11,
          0.11,
          0.11,
          0.11,
          0.11,
          0.11,
          0.11,
          0.11,
          0.11,
          0.11,
          0.11,
          0.11,
          0.11,
          0.11,
          0.11,
          0.11,
          0.11,
          0.11,
          0.11,
          0.11,
          0.11,
          0.11,
          0.11,
          0.11,
          0.11,
          0.11,
          0.11,
          0.11,
          0.11,
          0.11,
          0.11,
          0.1,
          0.1,
          0.1,
          0.1,
          0.1,
          0.1,
          0.1,
          0.1,
          0.1,
          0.1,
          0.1,
          0.1,
          0.1,
          0.1,
          0.1,
          0.1,
          0.1,
          0.1,
          0.1,
          0.1,
          0.1,
          0.1,
          0.1,
          0.1,
          0.1,
          0.1,
          0.1,
          0.1,
          0.1,
          0.1,
          0.1,
          0.1,
          0.1,
          0.1,
          0.1,
          0.1,
          0.1,
          0.1,
          0.1,
          0.1,
          0.1,
          0.1,
          0.1,
          0.1,
          0.1,
          0.1,
          0.1,
          0.1,
          0.1,
          0.1,
          0.1,
          0.1,
          0.1,
          0.1,
          0.1,
          0.1,
          0.1,
          0.1,
          0.1,
          0.1,
          0.1,
          0.1,
          0.1,
          0.1,
          0.1,
          0.1,
          0.1,
          0.1,
          0.1,
          0.1,
          0.1,
          0.1,
          0.1,
          0.1,
          0.1,
          0.1,
          0.1,
          0.1,
          0.1,
          0.1,
          0.1,
          0.1,
          0.1,
          0.1,
          0.1,
          0.1,
          0.1,
          0.1,
          0.1,
          0.1,
          0.1,
          0.1,
          0.1,
          0.1,
          0.1,
          0.1,
          0.1,
          0.1,
          0.1,
          0.1,
          0.1,
          0.1,
          0.1,
          0.1,
          0.1,
          0.1,
          0.1,
          0.1,
          0.1,
          0.1,
          0.1,
          0.1,
          0.1,
          0.1,
          0.1,
          0.1,
          0.1,
          0.1,
          0.1,
          0.1,
          0.1,
          0.1,
          0.1,
          0.1,
          0.09,
          0.09,
          0.09,
          0.09,
          0.09,
          0.09,
          0.09,
          0.09,
          0.09,
          0.09,
          0.09,
          0.09,
          0.09,
          0.09,
          0.09,
          0.09,
          0.09,
          0.09,
          0.09,
          0.09,
          0.09,
          0.09,
          0.09,
          0.09,
          0.09,
          0.09,
          0.09,
          0.09,
          0.09,
          0.09,
          0.09,
          0.09,
          0.09,
          0.09,
          0.09,
          0.09,
          0.09,
          0.09,
          0.09,
          0.09,
          0.09,
          0.09,
          0.09,
          0.09,
          0.09,
          0.09,
          0.09,
          0.09,
          0.09,
          0.09,
          0.09,
          0.09,
          0.09,
          0.09,
          0.09,
          0.09,
          0.09,
          0.09,
          0.09,
          0.09,
          0.09,
          0.09,
          0.09,
          0.09,
          0.09,
          0.09,
          0.09,
          0.09,
          0.09,
          0.09,
          0.09,
          0.09,
          0.09,
          0.09,
          0.09,
          0.09,
          0.09,
          0.09,
          0.09,
          0.09,
          0.09,
          0.09,
          0.09,
          0.09,
          0.09,
          0.09,
          0.09,
          0.09,
          0.09,
          0.09,
          0.09,
          0.09,
          0.09,
          0.09,
          0.09,
          0.09,
          0.09,
          0.09,
          0.09,
          0.09,
          0.09,
          0.09,
          0.09,
          0.09,
          0.09,
          0.09,
          0.09,
          0.09,
          0.09,
          0.09,
          0.09,
          0.09,
          0.09,
          0.09,
          0.09,
          0.09,
          0.09,
          0.09,
          0.09,
          0.09,
          0.09,
          0.09,
          0.09,
          0.09,
          0.09,
          0.09,
          0.09,
          0.09,
          0.09,
          0.09,
          0.09,
          0.09,
          0.09,
          0.08,
          0.08,
          0.08,
          0.08,
          0.08,
          0.08,
          0.08,
          0.08,
          0.08,
          0.08,
          0.08,
          0.08,
          0.08,
          0.08,
          0.08,
          0.08,
          0.08,
          0.08,
          0.08,
          0.08,
          0.08,
          0.08,
          0.08,
          0.08,
          0.08,
          0.08,
          0.08,
          0.08,
          0.08,
          0.08,
          0.08,
          0.08,
          0.08,
          0.08,
          0.08,
          0.08,
          0.08,
          0.08,
          0.08,
          0.08,
          0.08,
          0.08,
          0.08,
          0.08,
          0.08,
          0.08,
          0.08,
          0.08,
          0.08,
          0.08,
          0.08,
          0.08,
          0.08,
          0.08,
          0.08,
          0.08,
          0.08,
          0.08,
          0.08,
          0.08,
          0.08,
          0.08,
          0.08,
          0.08,
          0.08,
          0.08,
          0.08,
          0.08,
          0.08,
          0.08,
          0.08,
          0.08,
          0.08,
          0.08,
          0.08,
          0.08,
          0.08,
          0.08,
          0.08,
          0.08,
          0.08,
          0.08,
          0.08,
          0.08,
          0.08,
          0.08,
          0.08,
          0.08,
          0.08,
          0.08,
          0.08,
          0.08,
          0.08,
          0.08,
          0.08,
          0.08,
          0.08,
          0.08,
          0.08,
          0.08,
          0.08,
          0.08,
          0.08,
          0.08,
          0.08,
          0.08,
          0.08,
          0.08,
          0.08,
          0.08,
          0.08,
          0.08,
          0.08,
          0.08,
          0.08,
          0.08,
          0.08,
          0.08,
          0.08,
          0.08,
          0.08,
          0.08,
          0.08,
          0.08,
          0.08,
          0.08,
          0.08,
          0.08,
          0.08,
          0.08,
          0.08,
          0.08,
          0.08,
          0.08,
          0.08,
          0.08,
          0.08,
          0.08,
          0.08,
          0.08,
          0.08,
          0.08,
          0.08,
          0.08,
          0.07,
          0.07,
          0.07,
          0.07,
          0.07,
          0.07,
          0.07,
          0.07,
          0.07,
          0.07,
          0.07,
          0.07,
          0.07,
          0.07,
          0.07,
          0.07,
          0.07,
          0.07,
          0.07,
          0.07,
          0.07,
          0.07,
          0.07,
          0.07,
          0.07,
          0.07,
          0.07,
          0.07,
          0.07,
          0.07,
          0.07,
          0.07,
          0.07,
          0.07,
          0.07,
          0.07,
          0.07,
          0.07,
          0.07,
          0.07,
          0.07,
          0.07,
          0.07,
          0.07,
          0.07,
          0.07,
          0.07,
          0.07,
          0.07,
          0.07,
          0.07,
          0.07,
          0.07,
          0.07,
          0.07,
          0.07,
          0.07,
          0.07,
          0.07,
          0.07,
          0.07,
          0.07,
          0.07,
          0.07,
          0.07,
          0.07,
          0.07,
          0.07,
          0.07,
          0.07,
          0.07,
          0.07,
          0.07,
          0.07,
          0.07,
          0.07,
          0.07,
          0.07,
          0.07,
          0.07,
          0.07,
          0.07,
          0.07,
          0.07,
          0.07,
          0.07,
          0.07,
          0.07,
          0.07,
          0.07,
          0.07,
          0.07,
          0.07,
          0.07,
          0.07,
          0.07,
          0.07,
          0.07,
          0.07,
          0.07,
          0.07,
          0.07,
          0.07,
          0.07,
          0.07,
          0.07,
          0.07,
          0.07,
          0.07,
          0.07,
          0.07,
          0.07,
          0.07,
          0.07,
          0.07,
          0.07,
          0.07,
          0.07,
          0.07,
          0.07,
          0.07,
          0.07,
          0.07,
          0.07,
          0.07,
          0.07,
          0.07,
          0.07,
          0.07,
          0.07,
          0.07,
          0.07,
          0.07,
          0.07,
          0.07,
          0.07,
          0.07,
          0.07,
          0.07,
          0.07,
          0.07,
          0.07,
          0.07,
          0.07,
          0.07,
          0.07,
          0.07,
          0.07,
          0.07,
          0.07,
          0.07,
          0.07,
          0.07,
          0.07,
          0.07,
          0.07,
          0.07,
          0.07,
          0.07,
          0.07,
          0.07,
          0.07,
          0.07,
          0.07,
          0.06,
          0.06,
          0.06,
          0.06,
          0.06,
          0.06,
          0.06,
          0.06,
          0.06,
          0.06,
          0.06,
          0.06,
          0.06,
          0.06,
          0.06,
          0.06,
          0.06,
          0.06,
          0.06,
          0.06,
          0.06,
          0.06,
          0.06,
          0.06,
          0.06,
          0.06,
          0.06,
          0.06,
          0.06,
          0.06,
          0.06,
          0.06,
          0.06,
          0.06,
          0.06,
          0.06,
          0.06,
          0.06,
          0.06,
          0.06,
          0.06,
          0.06,
          0.06,
          0.06,
          0.06,
          0.06,
          0.06,
          0.06,
          0.06,
          0.06,
          0.06,
          0.06,
          0.06,
          0.06,
          0.06,
          0.06,
          0.06,
          0.06,
          0.06,
          0.06,
          0.06,
          0.06,
          0.06,
          0.06,
          0.06,
          0.06,
          0.06,
          0.06,
          0.06,
          0.06,
          0.06,
          0.06,
          0.06,
          0.06,
          0.06,
          0.06,
          0.06,
          0.06,
          0.06,
          0.06,
          0.06,
          0.06,
          0.06,
          0.06,
          0.06,
          0.06,
          0.06,
          0.06,
          0.06,
          0.06,
          0.06,
          0.06,
          0.06,
          0.06,
          0.06,
          0.06,
          0.06,
          0.06,
          0.06,
          0.06,
          0.06,
          0.06,
          0.06,
          0.06,
          0.06,
          0.06,
          0.06,
          0.06,
          0.06,
          0.06,
          0.06,
          0.06,
          0.06,
          0.06,
          0.06,
          0.06,
          0.06,
          0.06,
          0.06,
          0.06,
          0.06,
          0.06,
          0.06,
          0.06,
          0.06,
          0.06,
          0.06,
          0.06,
          0.06,
          0.06,
          0.06,
          0.06,
          0.06,
          0.06,
          0.06,
          0.06,
          0.06,
          0.06,
          0.06,
          0.06,
          0.06,
          0.06,
          0.06,
          0.06,
          0.06,
          0.06,
          0.06,
          0.06,
          0.06,
          0.06,
          0.06,
          0.06,
          0.06,
          0.06,
          0.06,
          0.06,
          0.06,
          0.06,
          0.06,
          0.06,
          0.06,
          0.06,
          0.06,
          0.06,
          0.06,
          0.06,
          0.06,
          0.06,
          0.06,
          0.06,
          0.06,
          0.06,
          0.06,
          0.06,
          0.06,
          0.06,
          0.06,
          0.06,
          0.06,
          0.06,
          0.06,
          0.06,
          0.05,
          0.05,
          0.05,
          0.05,
          0.05,
          0.05,
          0.05,
          0.05,
          0.05,
          0.05,
          0.05,
          0.05,
          0.05,
          0.05,
          0.05,
          0.05,
          0.05,
          0.05,
          0.05,
          0.05,
          0.05,
          0.05,
          0.05,
          0.05,
          0.05,
          0.05,
          0.05,
          0.05,
          0.05,
          0.05,
          0.05,
          0.05,
          0.05,
          0.05,
          0.05,
          0.05,
          0.05,
          0.05,
          0.05,
          0.05,
          0.05,
          0.05,
          0.05,
          0.05,
          0.05,
          0.05,
          0.05,
          0.05,
          0.05,
          0.05,
          0.05,
          0.05,
          0.05,
          0.05,
          0.05,
          0.05,
          0.05,
          0.05,
          0.05,
          0.05,
          0.05,
          0.05,
          0.05,
          0.05,
          0.05,
          0.05,
          0.05,
          0.05,
          0.05,
          0.05,
          0.05,
          0.05,
          0.05,
          0.05,
          0.05,
          0.05,
          0.05,
          0.05,
          0.05,
          0.05,
          0.05,
          0.05,
          0.05,
          0.05,
          0.05,
          0.05,
          0.05,
          0.05,
          0.05,
          0.05,
          0.05,
          0.05,
          0.05,
          0.05,
          0.05,
          0.05,
          0.05,
          0.05,
          0.05,
          0.05,
          0.05,
          0.05,
          0.05,
          0.05,
          0.05,
          0.05,
          0.05,
          0.05,
          0.05,
          0.05,
          0.05,
          0.05,
          0.05,
          0.05,
          0.05,
          0.05,
          0.05,
          0.05,
          0.05,
          0.05,
          0.05,
          0.05,
          0.05,
          0.05,
          0.05,
          0.05,
          0.05,
          0.05,
          0.05,
          0.05,
          0.05,
          0.05,
          0.05,
          0.05,
          0.05,
          0.05,
          0.05,
          0.05,
          0.05,
          0.05,
          0.05,
          0.05,
          0.05,
          0.05,
          0.05,
          0.05,
          0.05,
          0.05,
          0.05,
          0.05,
          0.05,
          0.05,
          0.05,
          0.05,
          0.05,
          0.05,
          0.05,
          0.05,
          0.05,
          0.05,
          0.05,
          0.05,
          0.05,
          0.05,
          0.05,
          0.05,
          0.05,
          0.05,
          0.05,
          0.05,
          0.05,
          0.05,
          0.05,
          0.05,
          0.05,
          0.05,
          0.05,
          0.05,
          0.05,
          0.05,
          0.05,
          0.05,
          0.05,
          0.05,
          0.05,
          0.05,
          0.05,
          0.05,
          0.05,
          0.05,
          0.05,
          0.05,
          0.05,
          0.05,
          0.05,
          0.05,
          0.05,
          0.05,
          0.05,
          0.05,
          0.05,
          0.05,
          0.05,
          0.05,
          0.05,
          0.04,
          0.04,
          0.04,
          0.04,
          0.04,
          0.04,
          0.04,
          0.04,
          0.04,
          0.04,
          0.04,
          0.04,
          0.04,
          0.04,
          0.04,
          0.04,
          0.04,
          0.04,
          0.04,
          0.04,
          0.04,
          0.04,
          0.04,
          0.04,
          0.04,
          0.04,
          0.04,
          0.04,
          0.04,
          0.04,
          0.04,
          0.04,
          0.04,
          0.04,
          0.04,
          0.04,
          0.04,
          0.04,
          0.04,
          0.04,
          0.04,
          0.04,
          0.04,
          0.04,
          0.04,
          0.04,
          0.04,
          0.04,
          0.04,
          0.04,
          0.04,
          0.04,
          0.04,
          0.04,
          0.04,
          0.04,
          0.04,
          0.04,
          0.04,
          0.04,
          0.04,
          0.04,
          0.04,
          0.04,
          0.04,
          0.04,
          0.04,
          0.04,
          0.04,
          0.04,
          0.04,
          0.04,
          0.04,
          0.04,
          0.04,
          0.04,
          0.04,
          0.04,
          0.04,
          0.04,
          0.04,
          0.04,
          0.04,
          0.04,
          0.04,
          0.04,
          0.04,
          0.04,
          0.04,
          0.04,
          0.04,
          0.04,
          0.04,
          0.04,
          0.04,
          0.04,
          0.04,
          0.04,
          0.04,
          0.04,
          0.04,
          0.04,
          0.04,
          0.04,
          0.04,
          0.04,
          0.04,
          0.04,
          0.04,
          0.04,
          0.04,
          0.04,
          0.04,
          0.04,
          0.04,
          0.04,
          0.04,
          0.04,
          0.04,
          0.04,
          0.04,
          0.04,
          0.04,
          0.04,
          0.04,
          0.04,
          0.04,
          0.04,
          0.04,
          0.04,
          0.04,
          0.04,
          0.04,
          0.04,
          0.04,
          0.04,
          0.04,
          0.04,
          0.04,
          0.04,
          0.04,
          0.04,
          0.04,
          0.04,
          0.04,
          0.04,
          0.04,
          0.04,
          0.04,
          0.04,
          0.04,
          0.04,
          0.04,
          0.04,
          0.04,
          0.04,
          0.04,
          0.04,
          0.04,
          0.04,
          0.04,
          0.04,
          0.04,
          0.04,
          0.04,
          0.04,
          0.04,
          0.04,
          0.04,
          0.04,
          0.04,
          0.04,
          0.04,
          0.04,
          0.04,
          0.04,
          0.04,
          0.04,
          0.04,
          0.04,
          0.04,
          0.04,
          0.04,
          0.04,
          0.04,
          0.04,
          0.04,
          0.04,
          0.04,
          0.04,
          0.04,
          0.04,
          0.04,
          0.04,
          0.04,
          0.04,
          0.04,
          0.04,
          0.04,
          0.04,
          0.04,
          0.04,
          0.04,
          0.04,
          0.04,
          0.04,
          0.04,
          0.04,
          0.04,
          0.04,
          0.04,
          0.04,
          0.04,
          0.04,
          0.04,
          0.04,
          0.04,
          0.04,
          0.04,
          0.04,
          0.03,
          0.03,
          0.03,
          0.03,
          0.03,
          0.03,
          0.03,
          0.03,
          0.03,
          0.03,
          0.03,
          0.03,
          0.03,
          0.03,
          0.03,
          0.03,
          0.03,
          0.03,
          0.03,
          0.03,
          0.03,
          0.03,
          0.03,
          0.03,
          0.03,
          0.03,
          0.03,
          0.03,
          0.03,
          0.03,
          0.03,
          0.03,
          0.03,
          0.03,
          0.03,
          0.03,
          0.03,
          0.03,
          0.03,
          0.03,
          0.03,
          0.03,
          0.03,
          0.03,
          0.03,
          0.03,
          0.03,
          0.03,
          0.03,
          0.03,
          0.03,
          0.03,
          0.03,
          0.03,
          0.03,
          0.03,
          0.03,
          0.03,
          0.03,
          0.03,
          0.03,
          0.03,
          0.03,
          0.03,
          0.03,
          0.03,
          0.03,
          0.03,
          0.03,
          0.03,
          0.03,
          0.03,
          0.03,
          0.03,
          0.03,
          0.03,
          0.03,
          0.03,
          0.03,
          0.03,
          0.03,
          0.03,
          0.03,
          0.03,
          0.03,
          0.03,
          0.03,
          0.03,
          0.03,
          0.03,
          0.03,
          0.03,
          0.03,
          0.03,
          0.03,
          0.03,
          0.03,
          0.03,
          0.03,
          0.03,
          0.03,
          0.03,
          0.03,
          0.03,
          0.03,
          0.03,
          0.03,
          0.03,
          0.03,
          0.03,
          0.03,
          0.03,
          0.03,
          0.03,
          0.03,
          0.03,
          0.03,
          0.03,
          0.03,
          0.03,
          0.03,
          0.03,
          0.03,
          0.03,
          0.03,
          0.03,
          0.03,
          0.03,
          0.03,
          0.03,
          0.03,
          0.03,
          0.03,
          0.03,
          0.03,
          0.03,
          0.03,
          0.03,
          0.03,
          0.03,
          0.03,
          0.03,
          0.03,
          0.03,
          0.03,
          0.03,
          0.03,
          0.03,
          0.03,
          0.03,
          0.03,
          0.03,
          0.03,
          0.03,
          0.03,
          0.03,
          0.03,
          0.03,
          0.03,
          0.03,
          0.03,
          0.03,
          0.03,
          0.03,
          0.03,
          0.03,
          0.03,
          0.03,
          0.03,
          0.03,
          0.03,
          0.03,
          0.03,
          0.03,
          0.03,
          0.03,
          0.03,
          0.03,
          0.03,
          0.03,
          0.03,
          0.03,
          0.03,
          0.03,
          0.03,
          0.03,
          0.03,
          0.03,
          0.03,
          0.03,
          0.03,
          0.03,
          0.03,
          0.03,
          0.03,
          0.03,
          0.03,
          0.03,
          0.03,
          0.03,
          0.03,
          0.03,
          0.03,
          0.03,
          0.03,
          0.03,
          0.03,
          0.03,
          0.03,
          0.03,
          0.03,
          0.03,
          0.03,
          0.03,
          0.03,
          0.03,
          0.03,
          0.03,
          0.03,
          0.03,
          0.03,
          0.03,
          0.03,
          0.03,
          0.03,
          0.03,
          0.03,
          0.03,
          0.03,
          0.03,
          0.03,
          0.03,
          0.03,
          0.03,
          0.03,
          0.03,
          0.03,
          0.03,
          0.03,
          0.03,
          0.03,
          0.03,
          0.03,
          0.03,
          0.03,
          0.03,
          0.03,
          0.03,
          0.03,
          0.03,
          0.03,
          0.03,
          0.03,
          0.03,
          0.03,
          0.03,
          0.03,
          0.03,
          0.03,
          0.03,
          0.03,
          0.03,
          0.03,
          0.03,
          0.03,
          0.03,
          0.03,
          0.03,
          0.03,
          0.03,
          0.03,
          0.03,
          0.03,
          0.03,
          0.03,
          0.03,
          0.03,
          0.03,
          0.03,
          0.03,
          0.03,
          0.03,
          0.03,
          0.03,
          0.03,
          0.03,
          0.03,
          0.03,
          0.03,
          0.03,
          0.03,
          0.03,
          0.03,
          0.03,
          0.03,
          0.03,
          0.03,
          0.03,
          0.03,
          0.03,
          0.03,
          0.03,
          0.03,
          0.03,
          0.03,
          0.03,
          0.03,
          0.03,
          0.03,
          0.03,
          0.03,
          0.03,
          0.03,
          0.03,
          0.03,
          0.03,
          0.03,
          0.03,
          0.02,
          0.02,
          0.02,
          0.02,
          0.02,
          0.02,
          0.02,
          0.02,
          0.02,
          0.02,
          0.02,
          0.02,
          0.02,
          0.02,
          0.02,
          0.02,
          0.02,
          0.02,
          0.02,
          0.02,
          0.02,
          0.02,
          0.02,
          0.02,
          0.02,
          0.02,
          0.02,
          0.02,
          0.02,
          0.02,
          0.02,
          0.02,
          0.02,
          0.02,
          0.02,
          0.02,
          0.02,
          0.02,
          0.02,
          0.02,
          0.02,
          0.02,
          0.02,
          0.02,
          0.02,
          0.02,
          0.02,
          0.02,
          0.02,
          0.02,
          0.02,
          0.02,
          0.02,
          0.02,
          0.02,
          0.02,
          0.02,
          0.02,
          0.02,
          0.02,
          0.02,
          0.02,
          0.02,
          0.02,
          0.02,
          0.02,
          0.02,
          0.02,
          0.02,
          0.02,
          0.02,
          0.02,
          0.02,
          0.02,
          0.02,
          0.02,
          0.02,
          0.02,
          0.02,
          0.02,
          0.02,
          0.02,
          0.02,
          0.02,
          0.02,
          0.02,
          0.02,
          0.02,
          0.02,
          0.02,
          0.02,
          0.02,
          0.02,
          0.02,
          0.02,
          0.02,
          0.02,
          0.02,
          0.02,
          0.02,
          0.02,
          0.02,
          0.02,
          0.02,
          0.02,
          0.02,
          0.02,
          0.02,
          0.02,
          0.02,
          0.02,
          0.02,
          0.02,
          0.02,
          0.02,
          0.02,
          0.02,
          0.02,
          0.02,
          0.02,
          0.02,
          0.02,
          0.02,
          0.02,
          0.02,
          0.02,
          0.02,
          0.02,
          0.02,
          0.02,
          0.02,
          0.02,
          0.02,
          0.02,
          0.02,
          0.02,
          0.02,
          0.02,
          0.02,
          0.02,
          0.02,
          0.02,
          0.02,
          0.02,
          0.02,
          0.02,
          0.02,
          0.02,
          0.02,
          0.02,
          0.02,
          0.02,
          0.02,
          0.02,
          0.02,
          0.02,
          0.02,
          0.02,
          0.02,
          0.02,
          0.02,
          0.02,
          0.02,
          0.02,
          0.02,
          0.02,
          0.02,
          0.02,
          0.02,
          0.02,
          0.02,
          0.02,
          0.02,
          0.02,
          0.02,
          0.02,
          0.02,
          0.02,
          0.02,
          0.02,
          0.02,
          0.02,
          0.02,
          0.02,
          0.02,
          0.02,
          0.02,
          0.02,
          0.02,
          0.02,
          0.02,
          0.02,
          0.02,
          0.02,
          0.02,
          0.02,
          0.02,
          0.02,
          0.02,
          0.02,
          0.02,
          0.02,
          0.02,
          0.02,
          0.02,
          0.02,
          0.02,
          0.02,
          0.02,
          0.02,
          0.02,
          0.02,
          0.02,
          0.02,
          0.02,
          0.02,
          0.02,
          0.02,
          0.02,
          0.02,
          0.02,
          0.02,
          0.02,
          0.02,
          0.02,
          0.02,
          0.02,
          0.02,
          0.02,
          0.02,
          0.02,
          0.02,
          0.02,
          0.02,
          0.02,
          0.02,
          0.02,
          0.02,
          0.02,
          0.02,
          0.02,
          0.02,
          0.02,
          0.02,
          0.02,
          0.02,
          0.02,
          0.02,
          0.02,
          0.02,
          0.02,
          0.02,
          0.02,
          0.02,
          0.02,
          0.02,
          0.02,
          0.02,
          0.02,
          0.02,
          0.02,
          0.02,
          0.02,
          0.02,
          0.02,
          0.02,
          0.02,
          0.02,
          0.02,
          0.02,
          0.02,
          0.02,
          0.02,
          0.02,
          0.02,
          0.02,
          0.02,
          0.02,
          0.02,
          0.02,
          0.02,
          0.02,
          0.02,
          0.02,
          0.02,
          0.02,
          0.02,
          0.02,
          0.02,
          0.02,
          0.02,
          0.02,
          0.02,
          0.02,
          0.02,
          0.02,
          0.02,
          0.02,
          0.02,
          0.02,
          0.02,
          0.02,
          0.02,
          0.02,
          0.02,
          0.02,
          0.02,
          0.02,
          0.02,
          0.02,
          0.02,
          0.02,
          0.02,
          0.02,
          0.02,
          0.02,
          0.02,
          0.02,
          0.02,
          0.02,
          0.02,
          0.02,
          0.02,
          0.02,
          0.02,
          0.02,
          0.02,
          0.02,
          0.02,
          0.02,
          0.02,
          0.02,
          0.02,
          0.02,
          0.02,
          0.02,
          0.02,
          0.02,
          0.02,
          0.02,
          0.02,
          0.02,
          0.02,
          0.02,
          0.02,
          0.02,
          0.02,
          0.02,
          0.02,
          0.02,
          0.02,
          0.02,
          0.02,
          0.02,
          0.02,
          0.02,
          0.02,
          0.02,
          0.02,
          0.02,
          0.02,
          0.02,
          0.02,
          0.02,
          0.02,
          0.02,
          0.02,
          0.02,
          0.02,
          0.02,
          0.02,
          0.02,
          0.02,
          0.02,
          0.02,
          0.02,
          0.02,
          0.02,
          0.02,
          0.02,
          0.02,
          0.02,
          0.02,
          0.02,
          0.02,
          0.02,
          0.02,
          0.02,
          0.02,
          0.02,
          0.02,
          0.02,
          0.02,
          0.02,
          0.02,
          0.02,
          0.02,
          0.02,
          0.02,
          0.02,
          0.02,
          0.02,
          0.02,
          0.02,
          0.02,
          0.02,
          0.02,
          0.02,
          0.02,
          0.02,
          0.02,
          0.02,
          0.02,
          0.02,
          0.02,
          0.02,
          0.02,
          0.02,
          0.02,
          0.02,
          0.02,
          0.02,
          0.02,
          0.02,
          0.02,
          0.02,
          0.02,
          0.02,
          0.02,
          0.02,
          0.02,
          0.02,
          0.02,
          0.02,
          0.02,
          0.02,
          0.02,
          0.02,
          0.02,
          0.02,
          0.02,
          0.02,
          0.02,
          0.02,
          0.02,
          0.02,
          0.01,
          0.01,
          0.01,
          0.01,
          0.01,
          0.01,
          0.01,
          0.01,
          0.01,
          0.01,
          0.01,
          0.01,
          0.01,
          0.01,
          0.01,
          0.01,
          0.01,
          0.01,
          0.01,
          0.01,
          0.01,
          0.01,
          0.01,
          0.01,
          0.01,
          0.01,
          0.01,
          0.01,
          0.01,
          0.01,
          0.01,
          0.01,
          0.01,
          0.01,
          0.01,
          0.01,
          0.01,
          0.01,
          0.01,
          0.01,
          0.01,
          0.01,
          0.01,
          0.01,
          0.01,
          0.01,
          0.01,
          0.01,
          0.01,
          0.01,
          0.01,
          0.01,
          0.01,
          0.01,
          0.01,
          0.01,
          0.01,
          0.01,
          0.01,
          0.01,
          0.01,
          0.01,
          0.01,
          0.01,
          0.01,
          0.01,
          0.01,
          0.01,
          0.01,
          0.01,
          0.01,
          0.01,
          0.01,
          0.01,
          0.01,
          0.01,
          0.01,
          0.01,
          0.01,
          0.01,
          0.01,
          0.01,
          0.01,
          0.01,
          0.01,
          0.01,
          0.01,
          0.01,
          0.01,
          0.01,
          0.01,
          0.01,
          0.01,
          0.01,
          0.01,
          0.01,
          0.01,
          0.01,
          0.01,
          0.01,
          0.01,
          0.01,
          0.01,
          0.01,
          0.01,
          0.01,
          0.01,
          0.01,
          0.01,
          0.01,
          0.01,
          0.01,
          0.01,
          0.01,
          0.01,
          0.01,
          0.01,
          0.01,
          0.01,
          0.01,
          0.01,
          0.01,
          0.01,
          0.01,
          0.01,
          0.01,
          0.01,
          0.01,
          0.01,
          0.01,
          0.01,
          0.01,
          0.01,
          0.01,
          0.01,
          0.01,
          0.01,
          0.01,
          0.01,
          0.01,
          0.01,
          0.01,
          0.01,
          0.01,
          0.01,
          0.01,
          0.01,
          0.01,
          0.01,
          0.01,
          0.01,
          0.01,
          0.01,
          0.01,
          0.01,
          0.01,
          0.01,
          0.01,
          0.01,
          0.01,
          0.01,
          0.01,
          0.01,
          0.01,
          0.01,
          0.01,
          0.01,
          0.01,
          0.01,
          0.01,
          0.01,
          0.01,
          0.01,
          0.01,
          0.01,
          0.01,
          0.01,
          0.01,
          0.01,
          0.01,
          0.01,
          0.01,
          0.01,
          0.01,
          0.01,
          0.01,
          0.01,
          0.01,
          0.01,
          0.01,
          0.01,
          0.01,
          0.01,
          0.01,
          0.01,
          0.01,
          0.01,
          0.01,
          0.01,
          0.01,
          0.01,
          0.01,
          0.01,
          0.01,
          0.01,
          0.01,
          0.01,
          0.01,
          0.01,
          0.01,
          0.01,
          0.01,
          0.01,
          0.01,
          0.01,
          0.01,
          0.01,
          0.01,
          0.01,
          0.01,
          0.01,
          0.01,
          0.01,
          0.01,
          0.01,
          0.01,
          0.01,
          0.01,
          0.01,
          0.01,
          0.01,
          0.01,
          0.01,
          0.01,
          0.01,
          0.01,
          0.01,
          0.01,
          0.01,
          0.01,
          0.01,
          0.01,
          0.01,
          0.01,
          0.01,
          0.01,
          0.01,
          0.01,
          0.01,
          0.01,
          0.01,
          0.01,
          0.01,
          0.01,
          0.01,
          0.01,
          0.01,
          0.01
         ]
        }
       ],
       "layout": {
        "template": {
         "data": {
          "bar": [
           {
            "error_x": {
             "color": "#2a3f5f"
            },
            "error_y": {
             "color": "#2a3f5f"
            },
            "marker": {
             "line": {
              "color": "#E5ECF6",
              "width": 0.5
             }
            },
            "type": "bar"
           }
          ],
          "barpolar": [
           {
            "marker": {
             "line": {
              "color": "#E5ECF6",
              "width": 0.5
             }
            },
            "type": "barpolar"
           }
          ],
          "carpet": [
           {
            "aaxis": {
             "endlinecolor": "#2a3f5f",
             "gridcolor": "white",
             "linecolor": "white",
             "minorgridcolor": "white",
             "startlinecolor": "#2a3f5f"
            },
            "baxis": {
             "endlinecolor": "#2a3f5f",
             "gridcolor": "white",
             "linecolor": "white",
             "minorgridcolor": "white",
             "startlinecolor": "#2a3f5f"
            },
            "type": "carpet"
           }
          ],
          "choropleth": [
           {
            "colorbar": {
             "outlinewidth": 0,
             "ticks": ""
            },
            "type": "choropleth"
           }
          ],
          "contour": [
           {
            "colorbar": {
             "outlinewidth": 0,
             "ticks": ""
            },
            "colorscale": [
             [
              0,
              "#0d0887"
             ],
             [
              0.1111111111111111,
              "#46039f"
             ],
             [
              0.2222222222222222,
              "#7201a8"
             ],
             [
              0.3333333333333333,
              "#9c179e"
             ],
             [
              0.4444444444444444,
              "#bd3786"
             ],
             [
              0.5555555555555556,
              "#d8576b"
             ],
             [
              0.6666666666666666,
              "#ed7953"
             ],
             [
              0.7777777777777778,
              "#fb9f3a"
             ],
             [
              0.8888888888888888,
              "#fdca26"
             ],
             [
              1,
              "#f0f921"
             ]
            ],
            "type": "contour"
           }
          ],
          "contourcarpet": [
           {
            "colorbar": {
             "outlinewidth": 0,
             "ticks": ""
            },
            "type": "contourcarpet"
           }
          ],
          "heatmap": [
           {
            "colorbar": {
             "outlinewidth": 0,
             "ticks": ""
            },
            "colorscale": [
             [
              0,
              "#0d0887"
             ],
             [
              0.1111111111111111,
              "#46039f"
             ],
             [
              0.2222222222222222,
              "#7201a8"
             ],
             [
              0.3333333333333333,
              "#9c179e"
             ],
             [
              0.4444444444444444,
              "#bd3786"
             ],
             [
              0.5555555555555556,
              "#d8576b"
             ],
             [
              0.6666666666666666,
              "#ed7953"
             ],
             [
              0.7777777777777778,
              "#fb9f3a"
             ],
             [
              0.8888888888888888,
              "#fdca26"
             ],
             [
              1,
              "#f0f921"
             ]
            ],
            "type": "heatmap"
           }
          ],
          "heatmapgl": [
           {
            "colorbar": {
             "outlinewidth": 0,
             "ticks": ""
            },
            "colorscale": [
             [
              0,
              "#0d0887"
             ],
             [
              0.1111111111111111,
              "#46039f"
             ],
             [
              0.2222222222222222,
              "#7201a8"
             ],
             [
              0.3333333333333333,
              "#9c179e"
             ],
             [
              0.4444444444444444,
              "#bd3786"
             ],
             [
              0.5555555555555556,
              "#d8576b"
             ],
             [
              0.6666666666666666,
              "#ed7953"
             ],
             [
              0.7777777777777778,
              "#fb9f3a"
             ],
             [
              0.8888888888888888,
              "#fdca26"
             ],
             [
              1,
              "#f0f921"
             ]
            ],
            "type": "heatmapgl"
           }
          ],
          "histogram": [
           {
            "marker": {
             "colorbar": {
              "outlinewidth": 0,
              "ticks": ""
             }
            },
            "type": "histogram"
           }
          ],
          "histogram2d": [
           {
            "colorbar": {
             "outlinewidth": 0,
             "ticks": ""
            },
            "colorscale": [
             [
              0,
              "#0d0887"
             ],
             [
              0.1111111111111111,
              "#46039f"
             ],
             [
              0.2222222222222222,
              "#7201a8"
             ],
             [
              0.3333333333333333,
              "#9c179e"
             ],
             [
              0.4444444444444444,
              "#bd3786"
             ],
             [
              0.5555555555555556,
              "#d8576b"
             ],
             [
              0.6666666666666666,
              "#ed7953"
             ],
             [
              0.7777777777777778,
              "#fb9f3a"
             ],
             [
              0.8888888888888888,
              "#fdca26"
             ],
             [
              1,
              "#f0f921"
             ]
            ],
            "type": "histogram2d"
           }
          ],
          "histogram2dcontour": [
           {
            "colorbar": {
             "outlinewidth": 0,
             "ticks": ""
            },
            "colorscale": [
             [
              0,
              "#0d0887"
             ],
             [
              0.1111111111111111,
              "#46039f"
             ],
             [
              0.2222222222222222,
              "#7201a8"
             ],
             [
              0.3333333333333333,
              "#9c179e"
             ],
             [
              0.4444444444444444,
              "#bd3786"
             ],
             [
              0.5555555555555556,
              "#d8576b"
             ],
             [
              0.6666666666666666,
              "#ed7953"
             ],
             [
              0.7777777777777778,
              "#fb9f3a"
             ],
             [
              0.8888888888888888,
              "#fdca26"
             ],
             [
              1,
              "#f0f921"
             ]
            ],
            "type": "histogram2dcontour"
           }
          ],
          "mesh3d": [
           {
            "colorbar": {
             "outlinewidth": 0,
             "ticks": ""
            },
            "type": "mesh3d"
           }
          ],
          "parcoords": [
           {
            "line": {
             "colorbar": {
              "outlinewidth": 0,
              "ticks": ""
             }
            },
            "type": "parcoords"
           }
          ],
          "pie": [
           {
            "automargin": true,
            "type": "pie"
           }
          ],
          "scatter": [
           {
            "marker": {
             "colorbar": {
              "outlinewidth": 0,
              "ticks": ""
             }
            },
            "type": "scatter"
           }
          ],
          "scatter3d": [
           {
            "line": {
             "colorbar": {
              "outlinewidth": 0,
              "ticks": ""
             }
            },
            "marker": {
             "colorbar": {
              "outlinewidth": 0,
              "ticks": ""
             }
            },
            "type": "scatter3d"
           }
          ],
          "scattercarpet": [
           {
            "marker": {
             "colorbar": {
              "outlinewidth": 0,
              "ticks": ""
             }
            },
            "type": "scattercarpet"
           }
          ],
          "scattergeo": [
           {
            "marker": {
             "colorbar": {
              "outlinewidth": 0,
              "ticks": ""
             }
            },
            "type": "scattergeo"
           }
          ],
          "scattergl": [
           {
            "marker": {
             "colorbar": {
              "outlinewidth": 0,
              "ticks": ""
             }
            },
            "type": "scattergl"
           }
          ],
          "scattermapbox": [
           {
            "marker": {
             "colorbar": {
              "outlinewidth": 0,
              "ticks": ""
             }
            },
            "type": "scattermapbox"
           }
          ],
          "scatterpolar": [
           {
            "marker": {
             "colorbar": {
              "outlinewidth": 0,
              "ticks": ""
             }
            },
            "type": "scatterpolar"
           }
          ],
          "scatterpolargl": [
           {
            "marker": {
             "colorbar": {
              "outlinewidth": 0,
              "ticks": ""
             }
            },
            "type": "scatterpolargl"
           }
          ],
          "scatterternary": [
           {
            "marker": {
             "colorbar": {
              "outlinewidth": 0,
              "ticks": ""
             }
            },
            "type": "scatterternary"
           }
          ],
          "surface": [
           {
            "colorbar": {
             "outlinewidth": 0,
             "ticks": ""
            },
            "colorscale": [
             [
              0,
              "#0d0887"
             ],
             [
              0.1111111111111111,
              "#46039f"
             ],
             [
              0.2222222222222222,
              "#7201a8"
             ],
             [
              0.3333333333333333,
              "#9c179e"
             ],
             [
              0.4444444444444444,
              "#bd3786"
             ],
             [
              0.5555555555555556,
              "#d8576b"
             ],
             [
              0.6666666666666666,
              "#ed7953"
             ],
             [
              0.7777777777777778,
              "#fb9f3a"
             ],
             [
              0.8888888888888888,
              "#fdca26"
             ],
             [
              1,
              "#f0f921"
             ]
            ],
            "type": "surface"
           }
          ],
          "table": [
           {
            "cells": {
             "fill": {
              "color": "#EBF0F8"
             },
             "line": {
              "color": "white"
             }
            },
            "header": {
             "fill": {
              "color": "#C8D4E3"
             },
             "line": {
              "color": "white"
             }
            },
            "type": "table"
           }
          ]
         },
         "layout": {
          "annotationdefaults": {
           "arrowcolor": "#2a3f5f",
           "arrowhead": 0,
           "arrowwidth": 1
          },
          "coloraxis": {
           "colorbar": {
            "outlinewidth": 0,
            "ticks": ""
           }
          },
          "colorscale": {
           "diverging": [
            [
             0,
             "#8e0152"
            ],
            [
             0.1,
             "#c51b7d"
            ],
            [
             0.2,
             "#de77ae"
            ],
            [
             0.3,
             "#f1b6da"
            ],
            [
             0.4,
             "#fde0ef"
            ],
            [
             0.5,
             "#f7f7f7"
            ],
            [
             0.6,
             "#e6f5d0"
            ],
            [
             0.7,
             "#b8e186"
            ],
            [
             0.8,
             "#7fbc41"
            ],
            [
             0.9,
             "#4d9221"
            ],
            [
             1,
             "#276419"
            ]
           ],
           "sequential": [
            [
             0,
             "#0d0887"
            ],
            [
             0.1111111111111111,
             "#46039f"
            ],
            [
             0.2222222222222222,
             "#7201a8"
            ],
            [
             0.3333333333333333,
             "#9c179e"
            ],
            [
             0.4444444444444444,
             "#bd3786"
            ],
            [
             0.5555555555555556,
             "#d8576b"
            ],
            [
             0.6666666666666666,
             "#ed7953"
            ],
            [
             0.7777777777777778,
             "#fb9f3a"
            ],
            [
             0.8888888888888888,
             "#fdca26"
            ],
            [
             1,
             "#f0f921"
            ]
           ],
           "sequentialminus": [
            [
             0,
             "#0d0887"
            ],
            [
             0.1111111111111111,
             "#46039f"
            ],
            [
             0.2222222222222222,
             "#7201a8"
            ],
            [
             0.3333333333333333,
             "#9c179e"
            ],
            [
             0.4444444444444444,
             "#bd3786"
            ],
            [
             0.5555555555555556,
             "#d8576b"
            ],
            [
             0.6666666666666666,
             "#ed7953"
            ],
            [
             0.7777777777777778,
             "#fb9f3a"
            ],
            [
             0.8888888888888888,
             "#fdca26"
            ],
            [
             1,
             "#f0f921"
            ]
           ]
          },
          "colorway": [
           "#636efa",
           "#EF553B",
           "#00cc96",
           "#ab63fa",
           "#FFA15A",
           "#19d3f3",
           "#FF6692",
           "#B6E880",
           "#FF97FF",
           "#FECB52"
          ],
          "font": {
           "color": "#2a3f5f"
          },
          "geo": {
           "bgcolor": "white",
           "lakecolor": "white",
           "landcolor": "#E5ECF6",
           "showlakes": true,
           "showland": true,
           "subunitcolor": "white"
          },
          "hoverlabel": {
           "align": "left"
          },
          "hovermode": "closest",
          "mapbox": {
           "style": "light"
          },
          "paper_bgcolor": "white",
          "plot_bgcolor": "#E5ECF6",
          "polar": {
           "angularaxis": {
            "gridcolor": "white",
            "linecolor": "white",
            "ticks": ""
           },
           "bgcolor": "#E5ECF6",
           "radialaxis": {
            "gridcolor": "white",
            "linecolor": "white",
            "ticks": ""
           }
          },
          "scene": {
           "xaxis": {
            "backgroundcolor": "#E5ECF6",
            "gridcolor": "white",
            "gridwidth": 2,
            "linecolor": "white",
            "showbackground": true,
            "ticks": "",
            "zerolinecolor": "white"
           },
           "yaxis": {
            "backgroundcolor": "#E5ECF6",
            "gridcolor": "white",
            "gridwidth": 2,
            "linecolor": "white",
            "showbackground": true,
            "ticks": "",
            "zerolinecolor": "white"
           },
           "zaxis": {
            "backgroundcolor": "#E5ECF6",
            "gridcolor": "white",
            "gridwidth": 2,
            "linecolor": "white",
            "showbackground": true,
            "ticks": "",
            "zerolinecolor": "white"
           }
          },
          "shapedefaults": {
           "line": {
            "color": "#2a3f5f"
           }
          },
          "ternary": {
           "aaxis": {
            "gridcolor": "white",
            "linecolor": "white",
            "ticks": ""
           },
           "baxis": {
            "gridcolor": "white",
            "linecolor": "white",
            "ticks": ""
           },
           "bgcolor": "#E5ECF6",
           "caxis": {
            "gridcolor": "white",
            "linecolor": "white",
            "ticks": ""
           }
          },
          "title": {
           "x": 0.05
          },
          "xaxis": {
           "automargin": true,
           "gridcolor": "white",
           "linecolor": "white",
           "ticks": "",
           "title": {
            "standoff": 15
           },
           "zerolinecolor": "white",
           "zerolinewidth": 2
          },
          "yaxis": {
           "automargin": true,
           "gridcolor": "white",
           "linecolor": "white",
           "ticks": "",
           "title": {
            "standoff": 15
           },
           "zerolinecolor": "white",
           "zerolinewidth": 2
          }
         }
        },
        "title": {
         "text": "Distribuição de vendas globais por console na decada de 10"
        }
       }
      },
      "text/html": [
       "<div>                            <div id=\"c073f32c-3dfc-479c-925f-f8e9a0f2551f\" class=\"plotly-graph-div\" style=\"height:525px; width:100%;\"></div>            <script type=\"text/javascript\">                require([\"plotly\"], function(Plotly) {                    window.PLOTLYENV=window.PLOTLYENV || {};                                    if (document.getElementById(\"c073f32c-3dfc-479c-925f-f8e9a0f2551f\")) {                    Plotly.newPlot(                        \"c073f32c-3dfc-479c-925f-f8e9a0f2551f\",                        [{\"marker\": {\"color\": \"rgb(158,202,225)\", \"line\": {\"color\": \"rgb(8,48,107)\", \"width\": 1.5}}, \"opacity\": 0.6, \"type\": \"bar\", \"x\": [\"X360\", \"PS3\", \"X360\", \"DS\", \"X360\", \"X360\", \"3DS\", \"PS4\", \"PS3\", \"X360\", \"PS3\", \"PS3\", \"3DS\", \"PS4\", \"3DS\", \"3DS\", \"PS3\", \"Wii\", \"X360\", \"X360\", \"3DS\", \"X360\", \"PS3\", \"Wii\", \"X360\", \"3DS\", \"X360\", \"PS4\", \"Wii\", \"DS\", \"PS3\", \"Wii\", \"PS4\", \"PS4\", \"3DS\", \"X360\", \"XOne\", \"PS3\", \"WiiU\", \"PS4\", \"Wii\", \"PS3\", \"PS3\", \"Wii\", \"PS3\", \"PS3\", \"PS4\", \"Wii\", \"PS3\", \"PS3\", \"X360\", \"X360\", \"X360\", \"PS3\", \"PS4\", \"PS3\", \"PS3\", \"X360\", \"PC\", \"WiiU\", \"X360\", \"3DS\", \"X360\", \"XOne\", \"XOne\", \"PS3\", \"WiiU\", \"PSP\", \"PS3\", \"PC\", \"PS3\", \"PS4\", \"X360\", \"X360\", \"3DS\", \"WiiU\", \"PS4\", \"PS4\", \"PS3\", \"WiiU\", \"Wii\", \"X360\", \"X360\", \"XOne\", \"WiiU\", \"PS3\", \"3DS\", \"PS4\", \"X360\", \"X360\", \"PS4\", \"Wii\", \"XOne\", \"X360\", \"PS4\", \"PS4\", \"PS4\", \"PS3\", \"3DS\", \"PC\", \"PS3\", \"PS4\", \"3DS\", \"PS4\", \"Wii\", \"Wii\", \"PS4\", \"PS3\", \"PS3\", \"PS4\", \"PS4\", \"X360\", \"X360\", \"X360\", \"XOne\", \"X360\", \"XOne\", \"PS3\", \"3DS\", \"PS4\", \"PS3\", \"PS4\", \"X360\", \"Wii\", \"PS4\", \"XOne\", \"3DS\", \"XOne\", \"PS3\", \"PS4\", \"3DS\", \"X360\", \"WiiU\", \"PS3\", \"PS3\", \"XOne\", \"PS3\", \"X360\", \"X360\", \"X360\", \"3DS\", \"X360\", \"X360\", \"Wii\", \"XOne\", \"X360\", \"PS4\", \"3DS\", \"PS3\", \"PC\", \"PC\", \"PS4\", \"XOne\", \"PS3\", \"Wii\", \"XOne\", \"X360\", \"PS3\", \"Wii\", \"PS3\", \"PS3\", \"PS3\", \"PS3\", \"PS3\", \"PC\", \"3DS\", \"PS4\", \"X360\", \"PS4\", \"X360\", \"PS4\", \"X360\", \"X360\", \"DS\", \"X360\", \"3DS\", \"PS3\", \"Wii\", \"X360\", \"X360\", \"Wii\", \"PS4\", \"DS\", \"PS3\", \"PS3\", \"PS3\", \"Wii\", \"PS3\", \"X360\", \"Wii\", \"X360\", \"PS3\", \"XOne\", \"XOne\", \"PS4\", \"X360\", \"PS3\", \"X360\", \"X360\", \"PS4\", \"PS4\", \"PS3\", \"X360\", \"DS\", \"Wii\", \"X360\", \"3DS\", \"XOne\", \"Wii\", \"X360\", \"PC\", \"PS3\", \"PS3\", \"Wii\", \"3DS\", \"PS3\", \"3DS\", \"PSV\", \"PS3\", \"WiiU\", \"X360\", \"X360\", \"XOne\", \"PS3\", \"PS3\", \"XOne\", \"X360\", \"X360\", \"PS4\", \"XOne\", \"PS4\", \"DS\", \"Wii\", \"PS3\", \"Wii\", \"X360\", \"X360\", \"X360\", \"PS4\", \"PSP\", \"PC\", \"PS3\", \"PS3\", \"PSP\", \"PS3\", \"PS3\", \"X360\", \"3DS\", \"PS3\", \"PS3\", \"X360\", \"PS3\", \"PS4\", \"X360\", \"X360\", \"X360\", \"XOne\", \"PS3\", \"3DS\", \"PS4\", \"XOne\", \"X360\", \"PS4\", \"DS\", \"X360\", \"X360\", \"X360\", \"PS3\", \"X360\", \"PS4\", \"Wii\", \"PS3\", \"PS4\", \"3DS\", \"3DS\", \"PS4\", \"Wii\", \"3DS\", \"PS3\", \"PC\", \"PS4\", \"3DS\", \"DS\", \"PS4\", \"PS3\", \"PS3\", \"PS3\", \"X360\", \"3DS\", \"PS3\", \"PS3\", \"WiiU\", \"WiiU\", \"PS3\", \"PS3\", \"X360\", \"X360\", \"PS3\", \"PS3\", \"XOne\", \"Wii\", \"PS4\", \"PSV\", \"PS3\", \"PS4\", \"Wii\", \"X360\", \"PS4\", \"PS4\", \"PC\", \"PC\", \"PS4\", \"Wii\", \"XOne\", \"X360\", \"X360\", \"PC\", \"PSV\", \"X360\", \"PS4\", \"PC\", \"PS4\", \"X360\", \"Wii\", \"Wii\", \"X360\", \"PS4\", \"PS3\", \"X360\", \"X360\", \"X360\", \"X360\", \"XOne\", \"DS\", \"PS4\", \"X360\", \"PS4\", \"X360\", \"3DS\", \"PS3\", \"PS4\", \"PS4\", \"X360\", \"PS3\", \"PS3\", \"XOne\", \"PS3\", \"PS3\", \"DS\", \"WiiU\", \"XOne\", \"3DS\", \"PC\", \"XOne\", \"WiiU\", \"X360\", \"PS3\", \"XOne\", \"Wii\", \"X360\", \"PC\", \"3DS\", \"PS3\", \"PC\", \"DS\", \"X360\", \"Wii\", \"PS3\", \"PSV\", \"PS3\", \"X360\", \"PSV\", \"X360\", \"X360\", \"PS3\", \"Wii\", \"PS3\", \"3DS\", \"X360\", \"XOne\", \"PC\", \"DS\", \"PC\", \"PS3\", \"X360\", \"PS3\", \"PS3\", \"X360\", \"3DS\", \"PS3\", \"X360\", \"PS4\", \"Wii\", \"X360\", \"PS3\", \"Wii\", \"Wii\", \"PC\", \"PS4\", \"PS3\", \"PS3\", \"X360\", \"3DS\", \"X360\", \"PSV\", \"PS3\", \"X360\", \"PS3\", \"XOne\", \"DS\", \"PS3\", \"PS3\", \"3DS\", \"XOne\", \"PS3\", \"PS3\", \"X360\", \"XOne\", \"X360\", \"PS3\", \"X360\", \"PS3\", \"X360\", \"PS4\", \"X360\", \"PS3\", \"DS\", \"XOne\", \"PS3\", \"PS3\", \"X360\", \"PS3\", \"DS\", \"X360\", \"PS3\", \"PS3\", \"Wii\", \"XOne\", \"WiiU\", \"PS3\", \"XOne\", \"X360\", \"PS4\", \"XOne\", \"X360\", \"3DS\", \"3DS\", \"X360\", \"XOne\", \"3DS\", \"PC\", \"WiiU\", \"X360\", \"PS3\", \"PS3\", \"XOne\", \"PS3\", \"PC\", \"PS4\", \"PC\", \"PS3\", \"PS3\", \"PS3\", \"3DS\", \"PSP\", \"PS3\", \"Wii\", \"XOne\", \"PS4\", \"PS3\", \"PS3\", \"WiiU\", \"3DS\", \"XOne\", \"PS4\", \"3DS\", \"X360\", \"PS3\", \"PS3\", \"DS\", \"X360\", \"X360\", \"PS4\", \"PC\", \"XOne\", \"PC\", \"PSV\", \"DS\", \"X360\", \"PS3\", \"X360\", \"PS3\", \"PS3\", \"PS3\", \"PS3\", \"3DS\", \"PS3\", \"3DS\", \"3DS\", \"PS4\", \"X360\", \"PS4\", \"X360\", \"X360\", \"PS3\", \"PS3\", \"X360\", \"X360\", \"PS4\", \"XOne\", \"WiiU\", \"PS3\", \"3DS\", \"PS3\", \"PS3\", \"PS3\", \"PS3\", \"DS\", \"PS3\", \"X360\", \"PC\", \"X360\", \"Wii\", \"PS3\", \"WiiU\", \"X360\", \"X360\", \"X360\", \"PS3\", \"PS3\", \"Wii\", \"X360\", \"X360\", \"X360\", \"PS3\", \"PS4\", \"X360\", \"Wii\", \"PS3\", \"Wii\", \"PS3\", \"PS4\", \"DS\", \"DS\", \"X360\", \"PS4\", \"DS\", \"XOne\", \"DS\", \"PS4\", \"PS3\", \"Wii\", \"X360\", \"WiiU\", \"PS3\", \"PS3\", \"WiiU\", \"PSP\", \"3DS\", \"Wii\", \"PS3\", \"PS4\", \"X360\", \"PSV\", \"PS3\", \"PS3\", \"Wii\", \"PS3\", \"X360\", \"X360\", \"X360\", \"X360\", \"PS3\", \"PC\", \"PC\", \"Wii\", \"X360\", \"PS3\", \"DS\", \"PS3\", \"PS3\", \"PS3\", \"X360\", \"PS3\", \"PS3\", \"X360\", \"PS4\", \"PC\", \"X360\", \"Wii\", \"X360\", \"Wii\", \"PSV\", \"PS3\", \"DS\", \"Wii\", \"DS\", \"PS3\", \"3DS\", \"PS3\", \"PC\", \"3DS\", \"PS3\", \"X360\", \"X360\", \"Wii\", \"PS3\", \"PS4\", \"X360\", \"X360\", \"Wii\", \"PS3\", \"3DS\", \"X360\", \"PC\", \"3DS\", \"X360\", \"WiiU\", \"Wii\", \"PC\", \"PS3\", \"PS3\", \"X360\", \"DS\", \"WiiU\", \"X360\", \"X360\", \"PS3\", \"X360\", \"X360\", \"3DS\", \"X360\", \"PS4\", \"PS3\", \"PS3\", \"PS3\", \"PS4\", \"PS3\", \"3DS\", \"X360\", \"XOne\", \"PS3\", \"PS3\", \"PS3\", \"PC\", \"PS3\", \"X360\", \"PS4\", \"PS3\", \"PS4\", \"PSP\", \"3DS\", \"X360\", \"WiiU\", \"X360\", \"Wii\", \"X360\", \"X360\", \"X360\", \"X360\", \"3DS\", \"XOne\", \"PS3\", \"XOne\", \"Wii\", \"Wii\", \"PS3\", \"PS3\", \"PS4\", \"X360\", \"PS3\", \"3DS\", \"PS3\", \"3DS\", \"X360\", \"X360\", \"XOne\", \"PS3\", \"PS3\", \"XOne\", \"3DS\", \"Wii\", \"X360\", \"PS4\", \"DS\", \"PS3\", \"PS3\", \"PS4\", \"WiiU\", \"PS3\", \"PS3\", \"PS3\", \"X360\", \"PS4\", \"PSV\", \"X360\", \"PSV\", \"X360\", \"PS3\", \"PS3\", \"PS3\", \"XOne\", \"X360\", \"PS4\", \"PS3\", \"3DS\", \"PS3\", \"Wii\", \"PS3\", \"PS4\", \"PS3\", \"Wii\", \"PS4\", \"PSP\", \"PS3\", \"3DS\", \"XOne\", \"PS3\", \"X360\", \"Wii\", \"X360\", \"X360\", \"X360\", \"PS3\", \"PS3\", \"X360\", \"X360\", \"PS3\", \"Wii\", \"WiiU\", \"PS3\", \"PSP\", \"PS3\", \"X360\", \"3DS\", \"X360\", \"Wii\", \"X360\", \"Wii\", \"3DS\", \"PS3\", \"DS\", \"PS4\", \"X360\", \"X360\", \"X360\", \"XOne\", \"PS3\", \"PSV\", \"DS\", \"PS3\", \"Wii\", \"3DS\", \"PSV\", \"X360\", \"PS3\", \"PC\", \"PS4\", \"PS2\", \"PC\", \"Wii\", \"X360\", \"Wii\", \"PC\", \"XOne\", \"PSV\", \"PS3\", \"PS3\", \"X360\", \"PS3\", \"WiiU\", \"X360\", \"PS3\", \"X360\", \"PS3\", \"PS3\", \"X360\", \"3DS\", \"3DS\", \"PS3\", \"WiiU\", \"PS3\", \"PC\", \"PS3\", \"PS3\", \"PS3\", \"PC\", \"X360\", \"X360\", \"PC\", \"X360\", \"Wii\", \"PS3\", \"X360\", \"3DS\", \"PC\", \"Wii\", \"PSP\", \"PS4\", \"X360\", \"PS3\", \"X360\", \"WiiU\", \"PS3\", \"DS\", \"PC\", \"PS3\", \"X360\", \"PS4\", \"PS3\", \"3DS\", \"PS4\", \"PS3\", \"3DS\", \"PSP\", \"PC\", \"PSP\", \"XOne\", \"PS3\", \"PS3\", \"PS3\", \"X360\", \"DS\", \"DS\", \"WiiU\", \"PS3\", \"PS3\", \"PS3\", \"X360\", \"X360\", \"3DS\", \"Wii\", \"PS3\", \"PS3\", \"PS3\", \"PS3\", \"PC\", \"PS3\", \"3DS\", \"DS\", \"PC\", \"XOne\", \"Wii\", \"Wii\", \"PS4\", \"WiiU\", \"PS4\", \"DS\", \"PS4\", \"XOne\", \"XOne\", \"Wii\", \"XOne\", \"PS3\", \"DS\", \"XOne\", \"Wii\", \"PC\", \"PS4\", \"PC\", \"X360\", \"PC\", \"PS4\", \"DS\", \"Wii\", \"DS\", \"X360\", \"PS3\", \"PC\", \"WiiU\", \"Wii\", \"PS3\", \"PC\", \"PC\", \"PS3\", \"PSP\", \"PSV\", \"PSP\", \"PS4\", \"WiiU\", \"PS3\", \"XOne\", \"PS4\", \"Wii\", \"PS3\", \"PS3\", \"Wii\", \"PS3\", \"PC\", \"XOne\", \"PS3\", \"X360\", \"XOne\", \"X360\", \"3DS\", \"PS4\", \"PC\", \"PS3\", \"PSV\", \"PS3\", \"PS4\", \"PS3\", \"X360\", \"PS3\", \"Wii\", \"X360\", \"PS3\", \"PS3\", \"3DS\", \"Wii\", \"3DS\", \"PS3\", \"DS\", \"PS4\", \"PC\", \"XOne\", \"3DS\", \"X360\", \"X360\", \"XOne\", \"X360\", \"PS3\", \"PC\", \"3DS\", \"PS3\", \"XOne\", \"PS3\", \"PS3\", \"PSV\", \"DS\", \"PS3\", \"PS3\", \"PS4\", \"3DS\", \"DS\", \"PS4\", \"PS4\", \"PS3\", \"Wii\", \"Wii\", \"WiiU\", \"3DS\", \"Wii\", \"X360\", \"PS3\", \"Wii\", \"X360\", \"X360\", \"PSV\", \"PSP\", \"Wii\", \"WiiU\", \"3DS\", \"PS3\", \"PS4\", \"XOne\", \"WiiU\", \"PS3\", \"X360\", \"3DS\", \"PS3\", \"X360\", \"PS4\", \"PS3\", \"PSV\", \"X360\", \"Wii\", \"PC\", \"PS3\", \"PC\", \"PS3\", \"X360\", \"X360\", \"PS3\", \"PS3\", \"PS2\", \"X360\", \"PS4\", \"PC\", \"PS3\", \"PS3\", \"WiiU\", \"Wii\", \"PS4\", \"XOne\", \"Wii\", \"XOne\", \"PC\", \"3DS\", \"X360\", \"DS\", \"PS3\", \"PS3\", \"PS3\", \"PS3\", \"PS3\", \"DS\", \"Wii\", \"3DS\", \"X360\", \"PS3\", \"X360\", \"PC\", \"X360\", \"PSP\", \"Wii\", \"3DS\", \"PS3\", \"PS3\", \"X360\", \"DS\", \"Wii\", \"3DS\", \"Wii\", \"PSP\", \"XOne\", \"PSV\", \"Wii\", \"Wii\", \"PS3\", \"X360\", \"PS3\", \"DS\", \"X360\", \"PS3\", \"Wii\", \"PS3\", \"3DS\", \"PSV\", \"Wii\", \"PC\", \"PS4\", \"PS3\", \"X360\", \"3DS\", \"PS3\", \"X360\", \"PS3\", \"PSP\", \"X360\", \"PS3\", \"PS3\", \"PS3\", \"DS\", \"XOne\", \"PS4\", \"DS\", \"PS3\", \"X360\", \"PS3\", \"X360\", \"PSP\", \"X360\", \"Wii\", \"PS3\", \"DS\", \"3DS\", \"PS4\", \"X360\", \"PC\", \"PS3\", \"PSP\", \"WiiU\", \"X360\", \"PS3\", \"WiiU\", \"PSP\", \"PC\", \"WiiU\", \"Wii\", \"DS\", \"PS3\", \"X360\", \"PSV\", \"PS3\", \"XOne\", \"PS3\", \"3DS\", \"PSV\", \"Wii\", \"X360\", \"XOne\", \"PSP\", \"PS3\", \"PC\", \"X360\", \"PS4\", \"X360\", \"X360\", \"PS3\", \"PS3\", \"WiiU\", \"XOne\", \"Wii\", \"PS4\", \"PC\", \"XOne\", \"PS3\", \"X360\", \"X360\", \"X360\", \"PS3\", \"X360\", \"X360\", \"Wii\", \"3DS\", \"PS3\", \"Wii\", \"DS\", \"PSV\", \"X360\", \"PS2\", \"X360\", \"XOne\", \"X360\", \"PS3\", \"X360\", \"3DS\", \"X360\", \"3DS\", \"3DS\", \"PS3\", \"PS3\", \"PSV\", \"X360\", \"X360\", \"3DS\", \"3DS\", \"DS\", \"PC\", \"X360\", \"PS3\", \"3DS\", \"DS\", \"PS3\", \"3DS\", \"3DS\", \"PS3\", \"PSV\", \"PSV\", \"3DS\", \"X360\", \"PC\", \"DS\", \"PSP\", \"WiiU\", \"PS3\", \"PC\", \"Wii\", \"WiiU\", \"DS\", \"Wii\", \"X360\", \"3DS\", \"X360\", \"X360\", \"PS3\", \"PS3\", \"PS3\", \"X360\", \"Wii\", \"Wii\", \"WiiU\", \"PSV\", \"PSV\", \"DS\", \"PS3\", \"PC\", \"X360\", \"XOne\", \"PC\", \"X360\", \"PC\", \"X360\", \"3DS\", \"Wii\", \"PS3\", \"Wii\", \"PS3\", \"PC\", \"PS3\", \"3DS\", \"Wii\", \"DS\", \"3DS\", \"X360\", \"PS3\", \"XOne\", \"PS3\", \"Wii\", \"XOne\", \"DS\", \"X360\", \"Wii\", \"PSV\", \"X360\", \"PS3\", \"3DS\", \"X360\", \"Wii\", \"PS3\", \"PS3\", \"PSV\", \"XOne\", \"PSV\", \"3DS\", \"PS4\", \"DS\", \"PSV\", \"Wii\", \"3DS\", \"PC\", \"X360\", \"PS3\", \"X360\", \"PS4\", \"PS3\", \"PSV\", \"PS4\", \"3DS\", \"X360\", \"PSP\", \"X360\", \"WiiU\", \"XOne\", \"PS3\", \"X360\", \"WiiU\", \"X360\", \"PS3\", \"X360\", \"XOne\", \"X360\", \"PS3\", \"X360\", \"PS3\", \"DS\", \"DS\", \"PS3\", \"X360\", \"DS\", \"Wii\", \"PS3\", \"3DS\", \"PC\", \"PS4\", \"DS\", \"PC\", \"XOne\", \"Wii\", \"WiiU\", \"PS4\", \"Wii\", \"PS3\", \"X360\", \"Wii\", \"PC\", \"Wii\", \"PS3\", \"XOne\", \"WiiU\", \"PS3\", \"DS\", \"PS4\", \"PSP\", \"3DS\", \"X360\", \"PSV\", \"DS\", \"X360\", \"DS\", \"PS3\", \"PS4\", \"XOne\", \"DS\", \"PS3\", \"PSP\", \"WiiU\", \"3DS\", \"PS3\", \"Wii\", \"PS3\", \"PSP\", \"3DS\", \"PSV\", \"PS2\", \"PS2\", \"PS3\", \"X360\", \"X360\", \"X360\", \"PS3\", \"PS3\", \"PSV\", \"Wii\", \"X360\", \"PSV\", \"X360\", \"PS3\", \"PC\", \"Wii\", \"PS3\", \"WiiU\", \"Wii\", \"PS2\", \"PSP\", \"X360\", \"X360\", \"PC\", \"PSP\", \"XOne\", \"X360\", \"PC\", \"PS3\", \"3DS\", \"Wii\", \"PSV\", \"WiiU\", \"Wii\", \"PS3\", \"XOne\", \"XOne\", \"XOne\", \"PS3\", \"PSP\", \"X360\", \"PC\", \"X360\", \"WiiU\", \"WiiU\", \"PS3\", \"PS3\", \"PC\", \"DS\", \"X360\", \"X360\", \"PS3\", \"PS3\", \"3DS\", \"PS3\", \"PS3\", \"PSP\", \"PSP\", \"3DS\", \"X360\", \"PS4\", \"PS3\", \"3DS\", \"X360\", \"PSV\", \"Wii\", \"X360\", \"3DS\", \"Wii\", \"PS3\", \"Wii\", \"WiiU\", \"WiiU\", \"PS3\", \"X360\", \"3DS\", \"PS3\", \"3DS\", \"PS4\", \"3DS\", \"PSV\", \"WiiU\", \"PSV\", \"PS3\", \"X360\", \"3DS\", \"PS3\", \"XOne\", \"3DS\", \"PS2\", \"PS4\", \"3DS\", \"Wii\", \"PS3\", \"PSP\", \"PSP\", \"3DS\", \"WiiU\", \"PS3\", \"PC\", \"PS4\", \"Wii\", \"Wii\", \"DS\", \"PSV\", \"PS3\", \"PS2\", \"PC\", \"3DS\", \"3DS\", \"PS3\", \"WiiU\", \"PS3\", \"DS\", \"PS4\", \"PC\", \"PSP\", \"XOne\", \"PSP\", \"PSP\", \"Wii\", \"PC\", \"X360\", \"PSP\", \"PS4\", \"3DS\", \"PC\", \"PC\", \"PS3\", \"PS4\", \"PSV\", \"PS4\", \"X360\", \"PS4\", \"DS\", \"X360\", \"X360\", \"X360\", \"PS3\", \"WiiU\", \"PSV\", \"PC\", \"WiiU\", \"Wii\", \"X360\", \"X360\", \"PS3\", \"PS3\", \"PSP\", \"Wii\", \"PC\", \"PS3\", \"Wii\", \"Wii\", \"X360\", \"PSP\", \"DS\", \"XOne\", \"PS3\", \"Wii\", \"3DS\", \"PS3\", \"X360\", \"3DS\", \"WiiU\", \"DS\", \"PS3\", \"Wii\", \"Wii\", \"PS3\", \"PS3\", \"Wii\", \"X360\", \"X360\", \"PS3\", \"PSP\", \"PS4\", \"DS\", \"PS3\", \"PSP\", \"PS4\", \"PSP\", \"PSP\", \"XOne\", \"DS\", \"Wii\", \"X360\", \"DS\", \"X360\", \"Wii\", \"Wii\", \"PS3\", \"3DS\", \"PS3\", \"XOne\", \"X360\", \"3DS\", \"XOne\", \"PC\", \"PS3\", \"PS4\", \"PSV\", \"DS\", \"X360\", \"PS3\", \"PS3\", \"Wii\", \"PS3\", \"X360\", \"Wii\", \"Wii\", \"Wii\", \"PS3\", \"PSV\", \"Wii\", \"X360\", \"PS4\", \"PS3\", \"PC\", \"WiiU\", \"PSV\", \"X360\", \"PS4\", \"PS3\", \"PSP\", \"PS3\", \"X360\", \"PS3\", \"X360\", \"X360\", \"DS\", \"PS3\", \"Wii\", \"DS\", \"X360\", \"PS3\", \"3DS\", \"XOne\", \"PS3\", \"DS\", \"PSV\", \"WiiU\", \"PSV\", \"PC\", \"PS3\", \"PS3\", \"PSP\", \"PC\", \"PS3\", \"PSV\", \"X360\", \"DS\", \"XOne\", \"PSP\", \"DS\", \"PS4\", \"X360\", \"PC\", \"PS4\", \"X360\", \"PS4\", \"DS\", \"PS4\", \"Wii\", \"X360\", \"X360\", \"X360\", \"XOne\", \"PS3\", \"PC\", \"XOne\", \"PC\", \"Wii\", \"PSP\", \"Wii\", \"DS\", \"PS3\", \"3DS\", \"3DS\", \"3DS\", \"DS\", \"PS4\", \"XOne\", \"X360\", \"X360\", \"PSP\", \"PC\", \"X360\", \"XOne\", \"3DS\", \"Wii\", \"DS\", \"Wii\", \"PC\", \"PSP\", \"PS3\", \"DS\", \"PS3\", \"PSV\", \"PSP\", \"XOne\", \"PSP\", \"3DS\", \"PS3\", \"X360\", \"Wii\", \"PS3\", \"WiiU\", \"DS\", \"X360\", \"X360\", \"Wii\", \"PSP\", \"DS\", \"PS3\", \"3DS\", \"PS4\", \"PS4\", \"PSV\", \"Wii\", \"PS4\", \"PS4\", \"3DS\", \"PSP\", \"X360\", \"3DS\", \"PC\", \"Wii\", \"DS\", \"PSV\", \"PS4\", \"PS3\", \"Wii\", \"X360\", \"PSV\", \"PS3\", \"Wii\", \"X360\", \"Wii\", \"DS\", \"PS3\", \"X360\", \"DS\", \"PSV\", \"WiiU\", \"PS3\", \"PSP\", \"PS3\", \"PS3\", \"Wii\", \"X360\", \"Wii\", \"PS3\", \"Wii\", \"Wii\", \"PSP\", \"PS3\", \"X360\", \"PSV\", \"3DS\", \"PC\", \"DS\", \"3DS\", \"X360\", \"3DS\", \"Wii\", \"X360\", \"PS3\", \"X360\", \"X360\", \"X360\", \"3DS\", \"3DS\", \"PC\", \"PS3\", \"Wii\", \"DS\", \"PC\", \"PS3\", \"PS3\", \"DS\", \"DS\", \"X360\", \"X360\", \"PS3\", \"XOne\", \"X360\", \"Wii\", \"PS4\", \"PS3\", \"PS4\", \"DS\", \"WiiU\", \"PS3\", \"XOne\", \"PSV\", \"PSP\", \"Wii\", \"PS3\", \"PS3\", \"DS\", \"WiiU\", \"DS\", \"DS\", \"PS3\", \"PS3\", \"X360\", \"PS4\", \"3DS\", \"PS4\", \"PSV\", \"DS\", \"PSP\", \"DS\", \"Wii\", \"WiiU\", \"DS\", \"PC\", \"PS3\", \"Wii\", \"X360\", \"PSP\", \"PC\", \"3DS\", \"PSP\", \"PS4\", \"Wii\", \"PS3\", \"Wii\", \"X360\", \"PS4\", \"X360\", \"PS3\", \"PSP\", \"PC\", \"3DS\", \"X360\", \"PS3\", \"PS4\", \"DS\", \"PS3\", \"PS4\", \"PC\", \"X360\", \"3DS\", \"DS\", \"PC\", \"DS\", \"XOne\", \"X360\", \"Wii\", \"PS3\", \"X360\", \"DS\", \"DS\", \"PS4\", \"X360\", \"PS2\", \"3DS\", \"3DS\", \"X360\", \"DS\", \"PS4\", \"3DS\", \"DS\", \"PS3\", \"PSV\", \"PSV\", \"PS3\", \"XOne\", \"PS3\", \"PS3\", \"X360\", \"PSP\", \"Wii\", \"X360\", \"Wii\", \"PS3\", \"Wii\", \"PS3\", \"PS3\", \"PSV\", \"3DS\", \"Wii\", \"PSV\", \"PS3\", \"3DS\", \"DS\", \"Wii\", \"PS3\", \"Wii\", \"PSV\", \"DS\", \"Wii\", \"Wii\", \"PS3\", \"3DS\", \"X360\", \"3DS\", \"PSV\", \"PS3\", \"X360\", \"X360\", \"PS3\", \"X360\", \"DS\", \"PS3\", \"X360\", \"X360\", \"PS3\", \"PS3\", \"PS3\", \"WiiU\", \"PC\", \"PC\", \"Wii\", \"DS\", \"PS3\", \"PS4\", \"3DS\", \"PS3\", \"PS3\", \"PSP\", \"X360\", \"X360\", \"PS3\", \"PS3\", \"3DS\", \"X360\", \"PS4\", \"Wii\", \"XOne\", \"PC\", \"PC\", \"3DS\", \"PS3\", \"X360\", \"PS3\", \"PS3\", \"Wii\", \"PS3\", \"Wii\", \"PC\", \"PS3\", \"X360\", \"3DS\", \"X360\", \"DS\", \"X360\", \"DS\", \"XOne\", \"PSV\", \"PS3\", \"DS\", \"X360\", \"WiiU\", \"PSV\", \"PC\", \"3DS\", \"PSP\", \"PS3\", \"Wii\", \"PS3\", \"Wii\", \"XOne\", \"3DS\", \"Wii\", \"PSV\", \"PSP\", \"PC\", \"3DS\", \"PSP\", \"Wii\", \"Wii\", \"PS3\", \"DS\", \"PS3\", \"3DS\", \"PS4\", \"X360\", \"X360\", \"Wii\", \"3DS\", \"DS\", \"X360\", \"XOne\", \"PC\", \"PS3\", \"X360\", \"WiiU\", \"PS4\", \"X360\", \"PSV\", \"Wii\", \"PS3\", \"PSP\", \"DS\", \"X360\", \"Wii\", \"PSV\", \"PS4\", \"WiiU\", \"PC\", \"DS\", \"WiiU\", \"DS\", \"DS\", \"3DS\", \"DS\", \"PSV\", \"DS\", \"XOne\", \"PS3\", \"3DS\", \"X360\", \"DS\", \"PS3\", \"PSV\", \"PC\", \"X360\", \"PS3\", \"PSV\", \"PS3\", \"PS4\", \"Wii\", \"XOne\", \"WiiU\", \"PSP\", \"DS\", \"X360\", \"Wii\", \"XOne\", \"PS2\", \"PC\", \"PS3\", \"PS4\", \"PC\", \"PSV\", \"X360\", \"PSP\", \"3DS\", \"PS4\", \"3DS\", \"Wii\", \"PS3\", \"Wii\", \"PS3\", \"Wii\", \"PS3\", \"Wii\", \"DS\", \"PSV\", \"PS3\", \"3DS\", \"PC\", \"PS3\", \"PSP\", \"PS3\", \"X360\", \"DS\", \"PSP\", \"Wii\", \"XOne\", \"PS2\", \"3DS\", \"PSP\", \"PS3\", \"PS3\", \"PS3\", \"PS4\", \"PS3\", \"DS\", \"3DS\", \"Wii\", \"PC\", \"PS3\", \"PS3\", \"Wii\", \"Wii\", \"PS3\", \"PC\", \"PSV\", \"PS3\", \"PS4\", \"X360\", \"X360\", \"PS4\", \"X360\", \"PS4\", \"Wii\", \"PS3\", \"PC\", \"WiiU\", \"3DS\", \"PS4\", \"PS3\", \"3DS\", \"PS3\", \"PS4\", \"X360\", \"PS3\", \"PSV\", \"X360\", \"PSP\", \"PS4\", \"XOne\", \"Wii\", \"PSV\", \"PS3\", \"3DS\", \"Wii\", \"Wii\", \"PSV\", \"XOne\", \"X360\", \"PSP\", \"3DS\", \"PS3\", \"PS3\", \"X360\", \"PS3\", \"Wii\", \"DS\", \"X360\", \"X360\", \"PS4\", \"3DS\", \"PS3\", \"Wii\", \"Wii\", \"PSP\", \"WiiU\", \"3DS\", \"X360\", \"PS3\", \"Wii\", \"DS\", \"PSP\", \"Wii\", \"PSV\", \"PSV\", \"DS\", \"X360\", \"X360\", \"PS3\", \"PS3\", \"Wii\", \"DS\", \"3DS\", \"PS3\", \"PC\", \"PSP\", \"3DS\", \"PS3\", \"PS3\", \"PS4\", \"Wii\", \"PS4\", \"Wii\", \"Wii\", \"X360\", \"XOne\", \"3DS\", \"X360\", \"PC\", \"PS3\", \"Wii\", \"PC\", \"PSP\", \"PS3\", \"PS3\", \"PS3\", \"3DS\", \"X360\", \"PSP\", \"XOne\", \"PS3\", \"PC\", \"PC\", \"PS3\", \"PS3\", \"PS3\", \"PSV\", \"PS4\", \"DS\", \"PSP\", \"PSP\", \"PS4\", \"X360\", \"X360\", \"X360\", \"PSP\", \"PS3\", \"DS\", \"XOne\", \"WiiU\", \"DS\", \"PSP\", \"DS\", \"3DS\", \"PS4\", \"PS3\", \"Wii\", \"Wii\", \"PS3\", \"PC\", \"PS3\", \"PS4\", \"PS3\", \"Wii\", \"X360\", \"PSP\", \"PSV\", \"Wii\", \"PSP\", \"3DS\", \"PC\", \"XOne\", \"WiiU\", \"Wii\", \"PSP\", \"PSP\", \"PSP\", \"3DS\", \"Wii\", \"3DS\", \"3DS\", \"PSV\", \"PS4\", \"PS3\", \"WiiU\", \"PC\", \"X360\", \"PS4\", \"PS3\", \"PSP\", \"PC\", \"PSP\", \"PC\", \"3DS\", \"PS3\", \"PS3\", \"Wii\", \"DS\", \"3DS\", \"DS\", \"DS\", \"3DS\", \"PSP\", \"PS3\", \"PSV\", \"PC\", \"X360\", \"3DS\", \"PS3\", \"3DS\", \"X360\", \"DS\", \"PS3\", \"XOne\", \"DS\", \"PC\", \"PS3\", \"X360\", \"XOne\", \"Wii\", \"X360\", \"Wii\", \"PSV\", \"3DS\", \"PC\", \"PS3\", \"3DS\", \"PSV\", \"3DS\", \"Wii\", \"PC\", \"XOne\", \"PSP\", \"X360\", \"PC\", \"PS3\", \"DS\", \"PSV\", \"PS3\", \"PS3\", \"PS4\", \"PS3\", \"Wii\", \"PSV\", \"DS\", \"Wii\", \"DS\", \"3DS\", \"PSV\", \"WiiU\", \"PS3\", \"PC\", \"X360\", \"DS\", \"PC\", \"DS\", \"PS3\", \"Wii\", \"Wii\", \"PS4\", \"Wii\", \"PSV\", \"Wii\", \"X360\", \"PS3\", \"3DS\", \"X360\", \"3DS\", \"DS\", \"3DS\", \"XOne\", \"PSP\", \"WiiU\", \"PSV\", \"X360\", \"X360\", \"PSP\", \"PS3\", \"PC\", \"PS3\", \"DS\", \"X360\", \"X360\", \"DS\", \"PS4\", \"PSV\", \"PS4\", \"PC\", \"Wii\", \"X360\", \"XOne\", \"PS3\", \"X360\", \"X360\", \"PC\", \"3DS\", \"Wii\", \"3DS\", \"Wii\", \"DS\", \"Wii\", \"DS\", \"PSV\", \"PC\", \"3DS\", \"PS3\", \"PS3\", \"X360\", \"PSV\", \"PS4\", \"PC\", \"PC\", \"PSV\", \"WiiU\", \"PS3\", \"DS\", \"PC\", \"X360\", \"PS3\", \"PC\", \"3DS\", \"X360\", \"X360\", \"Wii\", \"PC\", \"DS\", \"PC\", \"X360\", \"PC\", \"PS3\", \"PC\", \"DS\", \"3DS\", \"PS4\", \"PSP\", \"PSV\", \"PS3\", \"Wii\", \"Wii\", \"X360\", \"DS\", \"Wii\", \"X360\", \"DS\", \"PS3\", \"PS3\", \"DS\", \"PSP\", \"PS3\", \"3DS\", \"PS3\", \"PC\", \"PS3\", \"PSV\", \"PSV\", \"PS4\", \"XOne\", \"DS\", \"PS3\", \"DS\", \"PC\", \"X360\", \"PS4\", \"PC\", \"PS3\", \"PSP\", \"DS\", \"PSV\", \"PSP\", \"3DS\", \"PS3\", \"X360\", \"Wii\", \"Wii\", \"PSP\", \"3DS\", \"X360\", \"X360\", \"PS3\", \"PSP\", \"PSP\", \"Wii\", \"PS4\", \"X360\", \"DS\", \"X360\", \"Wii\", \"PS4\", \"3DS\", \"PSV\", \"Wii\", \"PS4\", \"X360\", \"PS4\", \"PS4\", \"PS3\", \"DS\", \"3DS\", \"XOne\", \"3DS\", \"X360\", \"PC\", \"3DS\", \"X360\", \"PS3\", \"PS4\", \"PC\", \"X360\", \"3DS\", \"PS3\", \"PS3\", \"PSV\", \"Wii\", \"PS3\", \"PSV\", \"PS3\", \"3DS\", \"DS\", \"Wii\", \"PS3\", \"DS\", \"X360\", \"Wii\", \"X360\", \"DS\", \"PS3\", \"Wii\", \"Wii\", \"3DS\", \"PSP\", \"X360\", \"Wii\", \"X360\", \"PS4\", \"3DS\", \"X360\", \"DS\", \"X360\", \"PS3\", \"PSP\", \"DS\", \"XOne\", \"Wii\", \"PSP\", \"PC\", \"DS\", \"PC\", \"DS\", \"PS3\", \"PS3\", \"Wii\", \"PSV\", \"PC\", \"X360\", \"PSP\", \"X360\", \"X360\", \"DS\", \"PS3\", \"Wii\", \"PSV\", \"DS\", \"WiiU\", \"Wii\", \"Wii\", \"Wii\", \"PC\", \"PS3\", \"PS3\", \"PS4\", \"X360\", \"PSP\", \"XOne\", \"Wii\", \"PS4\", \"DS\", \"3DS\", \"PC\", \"3DS\", \"X360\", \"DS\", \"Wii\", \"PSP\", \"XOne\", \"PSP\", \"3DS\", \"PC\", \"PS3\", \"PS3\", \"3DS\", \"X360\", \"PS4\", \"Wii\", \"DS\", \"Wii\", \"PC\", \"X360\", \"3DS\", \"PS3\", \"PC\", \"3DS\", \"XOne\", \"X360\", \"3DS\", \"DS\", \"PS3\", \"XOne\", \"PSP\", \"X360\", \"PS3\", \"PC\", \"Wii\", \"3DS\", \"DS\", \"3DS\", \"Wii\", \"PS3\", \"DS\", \"PSP\", \"PSV\", \"DS\", \"PC\", \"X360\", \"DS\", \"DS\", \"PSV\", \"X360\", \"PS3\", \"PS4\", \"PC\", \"3DS\", \"PS3\", \"XOne\", \"PSV\", \"PSP\", \"PSV\", \"PSP\", \"3DS\", \"XOne\", \"PSV\", \"PSV\", \"Wii\", \"PS3\", \"Wii\", \"PS3\", \"PS4\", \"PS3\", \"PSP\", \"PSV\", \"PC\", \"X360\", \"PS4\", \"PSV\", \"PSV\", \"3DS\", \"XOne\", \"3DS\", \"X360\", \"X360\", \"PC\", \"PS3\", \"DS\", \"3DS\", \"Wii\", \"DS\", \"X360\", \"DS\", \"PSP\", \"PSP\", \"Wii\", \"DS\", \"PSV\", \"DS\", \"PSP\", \"PSV\", \"3DS\", \"3DS\", \"PSV\", \"Wii\", \"DS\", \"X360\", \"Wii\", \"PS3\", \"XOne\", \"PC\", \"PSV\", \"DS\", \"PSP\", \"DS\", \"3DS\", \"PS3\", \"PS3\", \"PSP\", \"3DS\", \"PSP\", \"DS\", \"PS3\", \"PS3\", \"PS3\", \"3DS\", \"WiiU\", \"3DS\", \"PSP\", \"PC\", \"PSP\", \"X360\", \"WiiU\", \"PS3\", \"PSV\", \"DS\", \"X360\", \"PSP\", \"3DS\", \"X360\", \"3DS\", \"PS3\", \"DS\", \"XOne\", \"PC\", \"X360\", \"X360\", \"Wii\", \"PS3\", \"WiiU\", \"X360\", \"PSV\", \"PS3\", \"DS\", \"PS3\", \"WiiU\", \"Wii\", \"PC\", \"PSP\", \"PSP\", \"DS\", \"3DS\", \"DS\", \"Wii\", \"PC\", \"PC\", \"X360\", \"PS4\", \"PS3\", \"PS3\", \"DS\", \"PSV\", \"3DS\", \"PSV\", \"PSV\", \"PC\", \"PS3\", \"DS\", \"DS\", \"PC\", \"WiiU\", \"X360\", \"Wii\", \"DS\", \"XOne\", \"PC\", \"Wii\", \"Wii\", \"Wii\", \"PSP\", \"PSP\", \"Wii\", \"PS3\", \"3DS\", \"Wii\", \"PSP\", \"3DS\", \"PSV\", \"DS\", \"3DS\", \"X360\", \"XOne\", \"PC\", \"XOne\", \"WiiU\", \"DS\", \"DS\", \"X360\", \"WiiU\", \"PS3\", \"PS2\", \"PSP\", \"Wii\", \"3DS\", \"PSV\", \"PSP\", \"PSP\", \"3DS\", \"X360\", \"DS\", \"PSV\", \"DS\", \"DS\", \"PSV\", \"DS\", \"PSP\", \"3DS\", \"PS3\", \"X360\", \"PS3\", \"PSP\", \"PS3\", \"X360\", \"DS\", \"3DS\", \"DS\", \"XOne\", \"PS3\", \"PSP\", \"Wii\", \"X360\", \"X360\", \"PSP\", \"DS\", \"PSV\", \"X360\", \"X360\", \"PS4\", \"PSP\", \"Wii\", \"3DS\", \"PSP\", \"X360\", \"Wii\", \"DS\", \"3DS\", \"PS3\", \"X360\", \"3DS\", \"3DS\", \"PC\", \"PS3\", \"DS\", \"X360\", \"Wii\", \"DS\", \"X360\", \"PC\", \"Wii\", \"PS4\", \"3DS\", \"WiiU\", \"DS\", \"Wii\", \"PS3\", \"X360\", \"X360\", \"PS3\", \"PS3\", \"DS\", \"PSP\", \"Wii\", \"PSV\", \"3DS\", \"X360\", \"3DS\", \"DS\", \"PSV\", \"PS3\", \"PSP\", \"XOne\", \"DS\", \"Wii\", \"PS3\", \"PSP\", \"WiiU\", \"PS3\", \"PC\", \"PS3\", \"PS3\", \"PSV\", \"PS3\", \"X360\", \"XOne\", \"Wii\", \"PSV\", \"DS\", \"XOne\", \"WiiU\", \"PSP\", \"DS\", \"DS\", \"PSV\", \"PS4\", \"3DS\", \"PSV\", \"PSP\", \"PS3\", \"PS3\", \"PSP\", \"DS\", \"PS3\", \"PS3\", \"PSP\", \"X360\", \"PS3\", \"3DS\", \"DS\", \"X360\", \"PSP\", \"3DS\", \"PS3\", \"X360\", \"PSV\", \"PC\", \"PS3\", \"DS\", \"X360\", \"Wii\", \"Wii\", \"PSP\", \"DS\", \"PSV\", \"PSP\", \"3DS\", \"X360\", \"PSP\", \"PSP\", \"PSP\", \"DS\", \"PS3\", \"PSP\", \"3DS\", \"DS\", \"X360\", \"PS3\", \"Wii\", \"Wii\", \"PSP\", \"PS4\", \"X360\", \"PS3\", \"X360\", \"WiiU\", \"PSP\", \"PC\", \"X360\", \"3DS\", \"DS\", \"X360\", \"3DS\", \"PSV\", \"PSV\", \"PC\", \"PSP\", \"PS3\", \"WiiU\", \"Wii\", \"3DS\", \"PSV\", \"DS\", \"PS4\", \"PSV\", \"3DS\", \"PS3\", \"PS3\", \"WiiU\", \"PS3\", \"3DS\", \"PSV\", \"X360\", \"PSP\", \"Wii\", \"PSV\", \"PC\", \"DS\", \"Wii\", \"DS\", \"PSV\", \"XOne\", \"DS\", \"PSV\", \"PC\", \"X360\", \"PS3\", \"PS3\", \"3DS\", \"DS\", \"PS4\", \"Wii\", \"PS4\", \"PS3\", \"Wii\", \"X360\", \"PS3\", \"PSP\", \"PS3\", \"XOne\", \"3DS\", \"XOne\", \"DS\", \"PS3\", \"XOne\", \"PSP\", \"WiiU\", \"3DS\", \"PC\", \"Wii\", \"DS\", \"PS3\", \"WiiU\", \"PS3\", \"X360\", \"PS3\", \"X360\", \"3DS\", \"X360\", \"PS3\", \"PS4\", \"Wii\", \"PC\", \"Wii\", \"PSP\", \"DS\", \"Wii\", \"PS4\", \"PS3\", \"PS3\", \"X360\", \"DS\", \"3DS\", \"PSP\", \"PSV\", \"PS2\", \"X360\", \"Wii\", \"PS3\", \"3DS\", \"PS3\", \"PC\", \"3DS\", \"PC\", \"DS\", \"PS3\", \"PS3\", \"3DS\", \"DS\", \"DS\", \"3DS\", \"DS\", \"PS3\", \"Wii\", \"PSP\", \"X360\", \"DS\", \"PSP\", \"Wii\", \"PC\", \"PS3\", \"PSP\", \"PS3\", \"PSV\", \"PSP\", \"PS3\", \"3DS\", \"X360\", \"3DS\", \"PC\", \"PSV\", \"PSV\", \"PSV\", \"PC\", \"PSP\", \"PSP\", \"DS\", \"PS4\", \"PS3\", \"3DS\", \"Wii\", \"X360\", \"X360\", \"Wii\", \"PS4\", \"DS\", \"3DS\", \"PS3\", \"Wii\", \"WiiU\", \"XOne\", \"X360\", \"WiiU\", \"X360\", \"PC\", \"3DS\", \"PSP\", \"3DS\", \"X360\", \"Wii\", \"PS3\", \"3DS\", \"PSP\", \"Wii\", \"PSV\", \"PSV\", \"PSV\", \"PSP\", \"WiiU\", \"PSP\", \"X360\", \"PSP\", \"PSV\", \"PS3\", \"PSP\", \"PSP\", \"Wii\", \"DS\", \"PS2\", \"DS\", \"PSP\", \"PS3\", \"PS3\", \"PSV\", \"Wii\", \"Wii\", \"Wii\", \"X360\", \"PSV\", \"DS\", \"PS2\", \"PS3\", \"Wii\", \"PS3\", \"PS3\", \"DS\", \"DS\", \"3DS\", \"Wii\", \"X360\", \"PS3\", \"X360\", \"3DS\", \"PS3\", \"DS\", \"XOne\", \"3DS\", \"PSP\", \"DS\", \"PS3\", \"PS4\", \"PSP\", \"Wii\", \"PSP\", \"DS\", \"Wii\", \"PS3\", \"XOne\", \"DS\", \"PS3\", \"X360\", \"PSP\", \"X360\", \"PS4\", \"X360\", \"DS\", \"PC\", \"PSP\", \"PC\", \"X360\", \"PS3\", \"PSV\", \"DS\", \"DS\", \"XOne\", \"PSP\", \"X360\", \"X360\", \"PS3\", \"PC\", \"PS3\", \"PC\", \"PS3\", \"PS4\", \"3DS\", \"PS3\", \"PS3\", \"PS4\", \"Wii\", \"Wii\", \"PS3\", \"PS3\", \"PSV\", \"3DS\", \"X360\", \"PC\", \"PC\", \"PSV\", \"3DS\", \"DS\", \"DS\", \"XOne\", \"X360\", \"X360\", \"X360\", \"X360\", \"PSP\", \"Wii\", \"X360\", \"PS4\", \"3DS\", \"PC\", \"3DS\", \"PS3\", \"3DS\", \"X360\", \"DS\", \"XOne\", \"DS\", \"PC\", \"X360\", \"PS3\", \"PSV\", \"PSV\", \"Wii\", \"PC\", \"PSV\", \"X360\", \"PSP\", \"DS\", \"DS\", \"DS\", \"X360\", \"3DS\", \"DS\", \"3DS\", \"PS4\", \"DS\", \"3DS\", \"X360\", \"XOne\", \"X360\", \"PSV\", \"Wii\", \"PSP\", \"3DS\", \"Wii\", \"PC\", \"PC\", \"PS3\", \"PC\", \"PC\", \"PS3\", \"PS4\", \"Wii\", \"PS4\", \"PSP\", \"3DS\", \"3DS\", \"WiiU\", \"PSP\", \"X360\", \"X360\", \"PSV\", \"WiiU\", \"PS4\", \"PSP\", \"DS\", \"3DS\", \"PSP\", \"PS4\", \"Wii\", \"PSV\", \"PSV\", \"PSP\", \"DS\", \"3DS\", \"Wii\", \"X360\", \"PS3\", \"PS3\", \"PS2\", \"PC\", \"PS4\", \"Wii\", \"PS3\", \"X360\", \"DS\", \"DS\", \"PS3\", \"3DS\", \"PC\", \"DS\", \"3DS\", \"X360\", \"DS\", \"DS\", \"DS\", \"DS\", \"PSV\", \"3DS\", \"Wii\", \"PS3\", \"DS\", \"Wii\", \"X360\", \"DS\", \"Wii\", \"3DS\", \"PS3\", \"WiiU\", \"X360\", \"X360\", \"3DS\", \"3DS\", \"PS3\", \"PSP\", \"PS4\", \"PSP\", \"PS4\", \"PS3\", \"Wii\", \"X360\", \"Wii\", \"PSP\", \"Wii\", \"Wii\", \"PSV\", \"PS3\", \"DS\", \"DS\", \"DS\", \"X360\", \"DS\", \"Wii\", \"PS3\", \"PS3\", \"PSV\", \"Wii\", \"PSV\", \"3DS\", \"XOne\", \"PSP\", \"PS3\", \"WiiU\", \"3DS\", \"DS\", \"X360\", \"WiiU\", \"X360\", \"PS3\", \"X360\", \"PC\", \"PS4\", \"PS3\", \"PS3\", \"Wii\", \"PSP\", \"X360\", \"Wii\", \"PS3\", \"PC\", \"PC\", \"PC\", \"PS3\", \"DS\", \"PS2\", \"PC\", \"Wii\", \"WiiU\", \"PS3\", \"XOne\", \"PSV\", \"3DS\", \"3DS\", \"PS3\", \"PSV\", \"PS4\", \"PSP\", \"PS3\", \"Wii\", \"DS\", \"X360\", \"DS\", \"DS\", \"PS4\", \"X360\", \"X360\", \"X360\", \"XOne\", \"PC\", \"DS\", \"PC\", \"WiiU\", \"PSP\", \"3DS\", \"DS\", \"DS\", \"3DS\", \"DS\", \"PSP\", \"3DS\", \"PC\", \"DS\", \"Wii\", \"3DS\", \"3DS\", \"PS3\", \"PS3\", \"X360\", \"PC\", \"PS3\", \"PC\", \"PS4\", \"3DS\", \"3DS\", \"DS\", \"PC\", \"3DS\", \"Wii\", \"Wii\", \"DS\", \"X360\", \"PS4\", \"3DS\", \"3DS\", \"DS\", \"X360\", \"DS\", \"X360\", \"DS\", \"PS3\", \"DS\", \"3DS\", \"DS\", \"Wii\", \"PC\", \"PC\", \"DS\", \"X360\", \"DS\", \"PSP\", \"PSP\", \"PS4\", \"PC\", \"X360\", \"Wii\", \"PS3\", \"PSP\", \"PS3\", \"DS\", \"PS2\", \"PSP\", \"X360\", \"3DS\", \"PC\", \"PS4\", \"3DS\", \"3DS\", \"PS3\", \"PSV\", \"XOne\", \"DS\", \"Wii\", \"PSV\", \"PC\", \"PS3\", \"XOne\", \"DS\", \"WiiU\", \"PSV\", \"X360\", \"X360\", \"PS3\", \"DS\", \"PS2\", \"Wii\", \"PSP\", \"PS4\", \"PS3\", \"PC\", \"DS\", \"PS3\", \"PS4\", \"PC\", \"3DS\", \"Wii\", \"Wii\", \"DS\", \"PSP\", \"3DS\", \"3DS\", \"PS4\", \"PSP\", \"DS\", \"DS\", \"X360\", \"PSP\", \"Wii\", \"DS\", \"X360\", \"PC\", \"3DS\", \"PS3\", \"DS\", \"PSV\", \"PC\", \"PS3\", \"X360\", \"PSP\", \"PSV\", \"Wii\", \"PS3\", \"PS4\", \"DS\", \"3DS\", \"PSP\", \"PS4\", \"DS\", \"PS4\", \"PSV\", \"PSP\", \"PS3\", \"DS\", \"3DS\", \"PSP\", \"Wii\", \"PSV\", \"PS3\", \"PS3\", \"DS\", \"3DS\", \"3DS\", \"DS\", \"3DS\", \"3DS\", \"DS\", \"PSV\", \"PSV\", \"PSV\", \"PSP\", \"PS3\", \"PC\", \"3DS\", \"PSP\", \"DS\", \"XOne\", \"X360\", \"DS\", \"PC\", \"DS\", \"X360\", \"X360\", \"PSP\", \"PS3\", \"PS3\", \"PS4\", \"PSV\", \"XOne\", \"PSV\", \"3DS\", \"Wii\", \"DS\", \"PS3\", \"3DS\", \"Wii\", \"DS\", \"X360\", \"PC\", \"Wii\", \"PS3\", \"3DS\", \"PC\", \"PSP\", \"X360\", \"Wii\", \"3DS\", \"PS4\", \"PSV\", \"3DS\", \"PC\", \"WiiU\", \"3DS\", \"DS\", \"PC\", \"DS\", \"3DS\", \"PC\", \"3DS\", \"PSV\", \"PSP\", \"PS3\", \"PSP\", \"PSV\", \"PS3\", \"X360\", \"DS\", \"3DS\", \"PC\", \"3DS\", \"PSV\", \"DS\", \"PS3\", \"PS3\", \"X360\", \"PC\", \"Wii\", \"PS3\", \"3DS\", \"DS\", \"PSV\", \"Wii\", \"3DS\", \"PSV\", \"DS\", \"DS\", \"PS3\", \"PC\", \"Wii\", \"Wii\", \"DS\", \"XOne\", \"PSP\", \"WiiU\", \"DS\", \"3DS\", \"XOne\", \"PS4\", \"PS3\", \"PS3\", \"3DS\", \"PSV\", \"Wii\", \"PC\", \"PS4\", \"PS3\", \"PC\", \"Wii\", \"3DS\", \"XOne\", \"Wii\", \"PS3\", \"PS4\", \"Wii\", \"X360\", \"3DS\", \"PSP\", \"DS\", \"PC\", \"PSP\", \"DS\", \"PS4\", \"3DS\", \"PSP\", \"3DS\", \"PSP\", \"DS\", \"PS3\", \"PS3\", \"WiiU\", \"PS2\", \"PS3\", \"PSV\", \"X360\", \"PS4\", \"DS\", \"PC\", \"PS3\", \"PSV\", \"DS\", \"X360\", \"WiiU\", \"3DS\", \"PS3\", \"PC\", \"PSV\", \"DS\", \"DS\", \"3DS\", \"3DS\", \"X360\", \"3DS\", \"DS\", \"PSV\", \"X360\", \"PSV\", \"PC\", \"Wii\", \"PS4\", \"DS\", \"DS\", \"PSP\", \"PSV\", \"DS\", \"PSP\", \"X360\", \"PSP\", \"DS\", \"DS\", \"PSV\", \"PSV\", \"3DS\", \"PC\", \"PS4\", \"PS3\", \"PC\", \"XOne\", \"PS3\", \"PSV\", \"PSP\", \"X360\", \"PSV\", \"3DS\", \"PC\", \"DS\", \"DS\", \"3DS\", \"PSP\", \"3DS\", \"PSP\", \"PSP\", \"PC\", \"X360\", \"PS4\", \"PSV\", \"DS\", \"DS\", \"WiiU\", \"PC\", \"PS4\", \"X360\", \"3DS\", \"DS\", \"3DS\", \"PS3\", \"PC\", \"X360\", \"3DS\", \"WiiU\", \"X360\", \"Wii\", \"3DS\", \"Wii\", \"PS3\", \"X360\", \"PS4\", \"3DS\", \"Wii\", \"PS4\", \"PSP\", \"DS\", \"PSV\", \"X360\", \"DS\", \"DS\", \"PS3\", \"PSP\", \"PC\", \"3DS\", \"X360\", \"PS3\", \"PS2\", \"PC\", \"PSP\", \"PC\", \"PS3\", \"DS\", \"Wii\", \"PSV\", \"XOne\", \"3DS\", \"PS4\", \"X360\", \"PSP\", \"Wii\", \"Wii\", \"3DS\", \"XOne\", \"PC\", \"Wii\", \"X360\", \"3DS\", \"PSV\", \"Wii\", \"PS3\", \"DS\", \"DS\", \"WiiU\", \"PSV\", \"PSP\", \"DS\", \"XOne\", \"Wii\", \"Wii\", \"PSV\", \"X360\", \"PSP\", \"3DS\", \"DS\", \"3DS\", \"PC\", \"PSV\", \"3DS\", \"PSV\", \"3DS\", \"Wii\", \"3DS\", \"DS\", \"PSP\", \"Wii\", \"PS3\", \"PSP\", \"DS\", \"PS3\", \"X360\", \"DS\", \"PS4\", \"PS2\", \"PSP\", \"DS\", \"X360\", \"PSP\", \"DS\", \"DS\", \"WiiU\", \"PSV\", \"3DS\", \"PC\", \"PS4\", \"DS\", \"PS4\", \"X360\", \"DS\", \"PS3\", \"PSV\", \"PSP\", \"PS4\", \"PS4\", \"PSV\", \"PS3\", \"PSP\", \"PSV\", \"3DS\", \"PS3\", \"PSV\", \"DS\", \"PSP\", \"Wii\", \"PS2\", \"PC\", \"PSP\", \"PC\", \"PC\", \"PS4\", \"3DS\", \"3DS\", \"PSP\", \"PS3\", \"PS4\", \"PS4\", \"PS4\", \"3DS\", \"Wii\", \"PSP\", \"WiiU\", \"PSP\", \"PC\", \"X360\", \"PS4\", \"PC\", \"DS\", \"PSV\", \"PS3\", \"PSV\", \"DS\", \"PSV\", \"PSV\", \"DS\", \"DS\", \"PS2\", \"X360\", \"PSP\", \"PC\", \"PSP\", \"PSP\", \"WiiU\", \"3DS\", \"PSV\", \"DS\", \"PC\", \"PC\", \"X360\", \"DS\", \"DS\", \"X360\", \"PSP\", \"PSV\", \"Wii\", \"3DS\", \"3DS\", \"PSV\", \"DS\", \"PS4\", \"PS3\", \"PSV\", \"PSV\", \"DS\", \"PC\", \"3DS\", \"PS3\", \"X360\", \"PC\", \"PS3\", \"PS4\", \"PSP\", \"PC\", \"3DS\", \"Wii\", \"XOne\", \"PSV\", \"PC\", \"X360\", \"PS4\", \"DS\", \"PSP\", \"X360\", \"PS3\", \"X360\", \"PSV\", \"DS\", \"DS\", \"PS4\", \"PS4\", \"PSP\", \"PSV\", \"PSV\", \"PSP\", \"PC\", \"PSV\", \"PSP\", \"PS4\", \"PS3\", \"PSP\", \"PC\", \"X360\", \"PC\", \"PC\", \"DS\", \"DS\", \"PS3\", \"DS\", \"PS4\", \"PSP\", \"Wii\", \"PSV\", \"PSV\", \"PSV\", \"PSP\", \"PSV\", \"PS4\", \"PSV\", \"PC\", \"PC\", \"WiiU\", \"PS3\", \"DS\", \"PS4\", \"XOne\", \"PS3\", \"DS\", \"PSV\", \"PC\", \"DS\", \"PS4\", \"PSP\", \"DS\", \"X360\", \"3DS\", \"X360\", \"PSP\", \"PSP\", \"Wii\", \"3DS\", \"PS4\", \"XOne\", \"3DS\", \"Wii\", \"PSP\", \"PC\", \"PS2\", \"PS3\", \"DS\", \"PS3\", \"Wii\", \"XOne\", \"Wii\", \"PS2\", \"DS\", \"3DS\", \"PC\", \"PS3\", \"PSV\", \"DS\", \"PS4\", \"PSV\", \"PSP\", \"PC\", \"DS\", \"3DS\", \"PSP\", \"PSP\", \"PS4\", \"PS3\", \"XOne\", \"PS3\", \"PC\", \"PC\", \"PS3\", \"DS\", \"X360\", \"3DS\", \"X360\", \"PS3\", \"PSP\", \"PC\", \"PS3\", \"PS3\", \"PS3\", \"PC\", \"Wii\", \"DS\", \"PS4\", \"DS\", \"X360\", \"X360\", \"PC\", \"DS\", \"PSV\", \"PSV\", \"PS3\", \"PSV\", \"PSV\", \"PSP\", \"PSV\", \"X360\", \"PSV\", \"PSP\", \"3DS\", \"X360\", \"PSP\", \"PSV\", \"3DS\", \"3DS\", \"PSV\", \"PS3\", \"X360\", \"PS3\", \"PC\", \"PSP\", \"3DS\", \"PS4\", \"PC\", \"PS3\", \"X360\", \"3DS\", \"PSV\", \"DS\", \"DS\", \"WiiU\", \"PC\", \"DS\", \"DS\", \"PSV\", \"PSV\", \"DS\", \"PSV\", \"Wii\", \"PS4\", \"XOne\", \"PS3\", \"3DS\", \"PC\", \"DS\", \"Wii\", \"PS4\", \"PSV\", \"PS3\", \"XOne\", \"3DS\", \"PC\", \"PSP\", \"Wii\", \"PS3\", \"PS3\", \"X360\", \"DS\", \"PC\", \"PS3\", \"3DS\", \"PSP\", \"PSP\", \"PC\", \"PS3\", \"PC\", \"PSV\", \"Wii\", \"PSP\", \"3DS\", \"Wii\", \"PS3\", \"DS\", \"3DS\", \"3DS\", \"PSV\", \"DS\", \"PS3\", \"X360\", \"PS4\", \"3DS\", \"PS3\", \"PSV\", \"DS\", \"PC\", \"Wii\", \"Wii\", \"PSP\", \"DS\", \"Wii\", \"PSP\", \"PS4\", \"PS3\", \"XOne\", \"3DS\", \"3DS\", \"PSP\", \"PC\", \"PSP\", \"PC\", \"PS4\", \"PSP\", \"X360\", \"3DS\", \"PSP\", \"PC\", \"DS\", \"DS\", \"X360\", \"PSP\", \"PS4\", \"PSP\", \"PC\", \"PS3\", \"DS\", \"PSV\", \"PS3\", \"PSP\", \"PC\", \"PSP\", \"3DS\", \"Wii\", \"X360\", \"DS\", \"X360\", \"Wii\", \"Wii\", \"PSP\", \"PSP\", \"PC\", \"PSP\", \"DS\", \"PS3\", \"PS4\", \"PSP\", \"XOne\", \"PSP\", \"XOne\", \"3DS\", \"PS3\", \"DS\", \"PS4\", \"PC\", \"PS3\", \"PS3\", \"PS3\", \"PC\", \"PSP\", \"PSP\", \"DS\", \"PC\", \"Wii\", \"PS3\", \"X360\", \"Wii\", \"3DS\", \"PC\", \"PS3\", \"PC\", \"PS3\", \"PC\", \"PSV\", \"PC\", \"PSP\", \"PS2\", \"3DS\", \"PS4\", \"XOne\", \"PSP\", \"PSP\", \"PSV\", \"3DS\", \"PSV\", \"XOne\", \"Wii\", \"X360\", \"PS4\", \"PS4\", \"PSV\", \"3DS\", \"DS\", \"DS\", \"DS\", \"DS\", \"PC\", \"WiiU\", \"PC\", \"3DS\", \"PSP\", \"PSP\", \"XOne\", \"PS3\", \"PC\", \"3DS\", \"PSP\", \"PSV\", \"X360\", \"PC\", \"XOne\", \"PSV\", \"XOne\", \"3DS\", \"PS3\", \"PSP\", \"DS\", \"X360\", \"PSV\", \"PSV\", \"PSP\", \"PSP\", \"PSV\", \"PC\", \"3DS\", \"PC\", \"PS3\", \"PS3\", \"PC\", \"PS3\", \"XOne\", \"3DS\", \"PS3\", \"PSP\", \"DS\", \"PSP\", \"DS\", \"PSV\", \"PSP\", \"DS\", \"X360\", \"3DS\", \"3DS\", \"PS3\", \"PC\", \"WiiU\", \"3DS\", \"DS\", \"DS\", \"PC\", \"PSP\", \"DS\", \"PSV\", \"PC\", \"PSV\", \"PS4\", \"PC\", \"PS3\", \"PSP\", \"PS4\", \"DS\", \"PC\", \"PSP\", \"3DS\", \"DS\", \"WiiU\", \"PS3\", \"PS3\", \"Wii\", \"3DS\", \"PS3\", \"PC\", \"PS3\", \"PS3\", \"PS3\", \"PC\", \"3DS\", \"PSP\", \"Wii\", \"PS4\", \"PS4\", \"PS3\", \"PSV\", \"3DS\", \"PS3\", \"3DS\", \"3DS\", \"3DS\", \"PSV\", \"DS\", \"PSV\", \"PS3\", \"DS\", \"PS3\", \"PC\", \"XOne\", \"3DS\", \"PS3\", \"X360\", \"PSP\", \"PSV\", \"PSP\", \"3DS\", \"PS3\", \"Wii\", \"X360\", \"3DS\", \"PS4\", \"3DS\", \"PS4\", \"PC\", \"DS\", \"PS3\", \"Wii\", \"PC\", \"PS3\", \"PS3\", \"PC\", \"Wii\", \"3DS\", \"3DS\", \"PC\", \"DS\", \"WiiU\", \"DS\", \"PC\", \"PS3\", \"PS3\", \"DS\", \"3DS\", \"PC\", \"PC\", \"PSV\", \"3DS\", \"DS\", \"PS3\", \"3DS\", \"3DS\", \"PC\", \"DS\", \"DS\", \"PSV\", \"3DS\", \"Wii\", \"3DS\", \"PC\", \"X360\", \"PC\", \"PSP\", \"PSP\", \"PS3\", \"DS\", \"PSV\", \"DS\", \"PS3\", \"PSV\", \"PS3\", \"PSV\", \"DS\", \"X360\", \"PSV\", \"3DS\", \"PSP\", \"PC\", \"PSP\", \"PS3\", \"PS3\", \"3DS\", \"PSV\", \"PC\", \"Wii\", \"PSP\", \"PSP\", \"PS4\", \"DS\", \"PSV\", \"PSV\", \"PSP\", \"PS3\", \"Wii\", \"PS2\", \"3DS\", \"PS3\", \"PC\", \"PC\", \"XOne\", \"PC\", \"PSP\", \"PSP\", \"PS4\", \"PSV\", \"PSP\", \"PSP\", \"PSV\", \"PSV\", \"PC\", \"PSP\", \"PS3\", \"DS\", \"DS\", \"DS\", \"Wii\", \"3DS\", \"PSV\", \"PSV\", \"X360\", \"3DS\", \"DS\", \"PC\", \"PSV\", \"WiiU\", \"3DS\", \"3DS\", \"3DS\", \"X360\", \"PS3\", \"PSP\", \"X360\", \"PSP\", \"DS\", \"PSP\", \"PS3\", \"PS2\", \"PC\", \"PSP\", \"PC\", \"DS\", \"PS3\", \"PC\", \"PC\", \"X360\", \"PSP\", \"Wii\", \"PC\", \"X360\", \"DS\", \"PSV\", \"PS3\", \"3DS\", \"PC\", \"Wii\", \"PSV\", \"PSP\", \"DS\", \"PSP\", \"DS\", \"3DS\", \"PS3\", \"X360\", \"PSV\", \"3DS\", \"PSP\", \"XOne\", \"PS3\", \"PSV\", \"DS\", \"PSP\", \"PSP\", \"XOne\", \"3DS\", \"DS\", \"3DS\", \"PSV\", \"PSV\", \"PS3\", \"X360\", \"X360\", \"Wii\", \"WiiU\", \"PS4\", \"X360\", \"3DS\", \"PSP\", \"PC\", \"DS\", \"PC\", \"PSP\", \"X360\", \"PSV\", \"PC\", \"WiiU\", \"PC\", \"PSV\", \"PSP\", \"PSP\", \"X360\", \"PC\", \"PSP\", \"PSP\", \"X360\", \"PC\", \"PSP\", \"PSP\", \"PSP\", \"PSP\", \"PS3\", \"PC\", \"PS4\", \"DS\", \"PSV\", \"PSV\", \"PS3\", \"Wii\", \"PSV\", \"X360\", \"PSV\", \"3DS\", \"PC\", \"PC\", \"PSP\", \"X360\", \"PSP\", \"PS3\", \"PSP\", \"PC\", \"DS\", \"PSP\", \"DS\", \"XOne\", \"DS\", \"PSP\", \"3DS\", \"PS3\", \"PSV\", \"PC\", \"PS4\", \"XOne\", \"Wii\", \"PS3\", \"X360\", \"3DS\", \"PSP\", \"DS\", \"3DS\", \"PC\", \"PC\", \"PC\", \"PC\", \"PSV\", \"PS3\", \"PSP\", \"PSP\", \"PS3\", \"X360\", \"PSV\", \"PS4\", \"PSV\", \"3DS\", \"WiiU\", \"PS3\", \"PC\", \"Wii\", \"WiiU\", \"3DS\", \"PSV\", \"PS4\", \"DS\", \"PC\", \"PSV\", \"WiiU\", \"DS\", \"PSP\", \"PSV\", \"PSV\", \"X360\", \"X360\", \"PSV\", \"Wii\", \"PSP\", \"X360\", \"PSP\", \"PSP\", \"PS4\", \"PC\", \"WiiU\", \"X360\", \"DS\", \"PS3\", \"PSP\", \"PS4\", \"PSV\", \"PSV\", \"PSV\", \"Wii\", \"XOne\", \"PC\", \"PSP\", \"PS2\", \"PSV\", \"DS\", \"PS3\", \"Wii\", \"PSP\", \"X360\", \"PSP\", \"PS3\", \"PS3\", \"PSP\", \"PC\", \"PC\", \"3DS\", \"DS\", \"PS4\", \"PS3\", \"PS3\", \"PSP\", \"PS3\", \"PS4\", \"DS\", \"PC\", \"X360\", \"X360\", \"PSV\", \"PSP\", \"PC\", \"PSV\", \"PSV\", \"X360\", \"PS3\", \"PC\", \"X360\", \"Wii\", \"PSP\", \"PSP\", \"PSP\", \"PSP\", \"PC\", \"X360\", \"PS4\", \"X360\", \"PSV\", \"PSP\", \"PC\", \"PSP\", \"DS\", \"XOne\", \"X360\", \"PS3\", \"PC\", \"DS\", \"PC\", \"PSV\", \"3DS\", \"Wii\", \"X360\", \"PSP\", \"DS\", \"PC\", \"PS4\", \"PSP\", \"PS4\", \"PSV\", \"PSP\", \"PSP\", \"Wii\", \"PS3\", \"Wii\", \"PSP\", \"PS2\", \"PSV\", \"PSP\", \"PSP\", \"PC\", \"PC\", \"PSV\", \"PS3\", \"PC\", \"PSP\", \"PC\", \"XOne\", \"PS3\", \"DS\", \"PSV\", \"PC\", \"PS4\", \"PS3\", \"DS\", \"PS3\", \"PS3\", \"PSV\", \"DS\", \"PSP\", \"PS3\", \"PS3\", \"DS\", \"PS3\", \"PC\", \"XOne\", \"PS3\", \"X360\", \"PSP\", \"PSP\", \"PSP\", \"PSP\", \"PS3\", \"PSV\", \"Wii\", \"3DS\", \"PS3\", \"PSP\", \"DS\", \"PS3\", \"DS\", \"DS\", \"PS3\", \"PSV\", \"X360\", \"DS\", \"PS3\", \"PSP\", \"PC\", \"PS3\", \"WiiU\", \"Wii\", \"PSP\", \"3DS\", \"PSV\", \"PSP\", \"PS3\", \"X360\", \"PSV\", \"PS2\", \"3DS\", \"PSP\", \"PC\", \"X360\", \"DS\", \"PC\", \"DS\", \"PS3\", \"PSP\", \"X360\", \"X360\", \"DS\", \"PSP\", \"PS3\", \"PS3\", \"Wii\", \"DS\", \"DS\", \"3DS\", \"PS4\", \"PC\", \"PSP\", \"XOne\", \"PS3\", \"PC\", \"PS3\", \"PC\", \"WiiU\", \"PSV\", \"PSP\", \"PSP\", \"3DS\", \"DS\", \"PSP\", \"Wii\", \"PSV\", \"DS\", \"DS\", \"DS\", \"PSP\", \"PSV\", \"PS3\", \"PSP\", \"PSP\", \"PC\", \"PSP\", \"3DS\", \"PSV\", \"PS4\", \"PSP\", \"PS3\", \"PSV\", \"PS4\", \"PS2\", \"PSP\", \"WiiU\", \"Wii\", \"PC\", \"PSP\", \"PC\", \"PSP\", \"PC\", \"PSP\", \"PS3\", \"PSV\", \"PSP\", \"3DS\", \"PC\", \"Wii\", \"PC\", \"X360\", \"PC\", \"3DS\", \"PS4\", \"PS3\", \"PSV\", \"Wii\", \"PSV\", \"DS\", \"PC\", \"PSP\", \"PS3\", \"PS2\", \"PS4\", \"WiiU\", \"PC\", \"PS3\", \"PC\", \"PSV\", \"PS4\", \"PS4\", \"PSP\", \"PSP\", \"PS4\", \"PS3\", \"PSV\", \"3DS\", \"PSV\", \"PC\", \"PSV\", \"3DS\", \"PSP\", \"X360\", \"PSP\", \"PS3\", \"PSV\", \"X360\", \"PSP\", \"PC\", \"PC\", \"X360\", \"DS\", \"X360\", \"Wii\", \"PS3\", \"WiiU\", \"PS4\", \"3DS\", \"Wii\", \"PSP\", \"PSP\", \"PSP\", \"PSV\", \"3DS\", \"PSV\", \"Wii\", \"PS3\", \"PSV\", \"PC\", \"PSP\", \"PS3\", \"PSP\", \"3DS\", \"PC\", \"PC\", \"PSV\", \"PSP\", \"3DS\", \"PSV\", \"DS\", \"PS2\", \"DS\", \"PSP\", \"X360\", \"PS3\", \"DS\", \"PSP\", \"PC\", \"PC\", \"X360\", \"XOne\", \"PS3\", \"PSP\", \"3DS\", \"DS\", \"3DS\", \"DS\", \"PSP\", \"Wii\", \"PSP\", \"PC\", \"PC\", \"PSV\", \"PSP\", \"PS3\", \"Wii\", \"PC\", \"PC\", \"PSP\", \"PS3\", \"PS4\", \"PSP\", \"PS3\", \"3DS\", \"PS4\", \"PS3\", \"Wii\", \"PSV\", \"PSV\", \"DS\", \"PC\", \"PSP\", \"3DS\", \"PSP\", \"XOne\", \"PSP\", \"DS\", \"PS3\", \"PS4\", \"PSV\", \"Wii\", \"PS2\", \"XOne\", \"PSP\", \"PSP\", \"PC\", \"PC\", \"XOne\", \"PSP\", \"PSP\", \"X360\", \"PS3\", \"PC\", \"PSP\", \"Wii\", \"DS\", \"PSV\", \"PSP\", \"PSP\", \"Wii\", \"DS\", \"PC\", \"X360\", \"DS\", \"PSV\", \"PS2\", \"PSV\", \"X360\", \"PSP\", \"PSV\", \"Wii\", \"PC\", \"PSV\", \"X360\", \"XOne\", \"X360\", \"X360\", \"PSP\", \"PC\", \"PSV\", \"PC\", \"X360\", \"PSP\", \"WiiU\", \"PC\", \"3DS\", \"DS\", \"Wii\", \"PC\", \"PS3\", \"PSP\", \"DS\", \"PS2\", \"DS\", \"PSV\", \"X360\", \"PSV\", \"DS\", \"PS4\", \"DS\", \"PSP\", \"PSV\", \"PC\", \"Wii\", \"PC\", \"PSP\", \"PSV\", \"3DS\", \"PS3\", \"3DS\", \"PSP\", \"3DS\", \"PSV\", \"Wii\", \"PSV\", \"PS4\", \"WiiU\", \"DS\", \"PC\", \"PSV\", \"3DS\", \"PSP\", \"PSP\", \"DS\", \"DS\", \"PSP\", \"PC\", \"PS4\", \"PSP\", \"PS3\", \"PSV\", \"PSP\", \"PSV\", \"PS3\", \"PS4\", \"PSP\", \"PSV\", \"PSV\", \"PS4\", \"PS3\", \"PSP\", \"PSV\", \"X360\", \"PSP\", \"PSV\", \"DS\", \"PC\", \"PS3\", \"PC\", \"PSV\", \"PS2\", \"PSP\", \"PSP\", \"PSP\", \"PS3\", \"PSV\", \"3DS\", \"PSP\", \"X360\", \"PSP\", \"PSP\", \"Wii\", \"3DS\", \"DS\", \"PSP\", \"PSP\", \"PSV\", \"PS3\", \"PC\", \"PS4\", \"PSV\", \"PSP\", \"PSP\", \"PSV\", \"PSP\", \"PS3\", \"XOne\", \"PS4\", \"X360\", \"PS4\", \"PSP\", \"PC\", \"PC\", \"PS2\", \"PC\", \"X360\", \"3DS\", \"PS2\", \"3DS\", \"PSV\", \"PS3\", \"PSP\", \"PSP\", \"PS3\", \"PSP\", \"DS\", \"DS\", \"PS4\", \"PSP\", \"X360\", \"PSV\", \"DS\", \"PSP\", \"WiiU\", \"PS3\", \"PSV\", \"PC\", \"X360\", \"PS2\", \"PSP\", \"XOne\", \"PSP\", \"DS\", \"PSV\", \"PSV\", \"Wii\", \"3DS\", \"X360\", \"PS3\", \"PC\", \"PSP\", \"PSP\", \"PSV\", \"PS4\", \"PSV\", \"PC\", \"DS\", \"PC\", \"PSV\", \"DS\", \"PSP\", \"X360\", \"PSP\", \"PS2\", \"DS\", \"PSV\", \"PSP\", \"3DS\", \"PSV\", \"PC\", \"Wii\", \"PS4\", \"PS3\", \"PS3\", \"PSP\", \"PSP\", \"PC\", \"Wii\", \"PSV\", \"X360\", \"DS\", \"PSV\", \"PSV\", \"X360\", \"PSP\", \"PS3\", \"PSP\", \"PS4\", \"XOne\", \"PSV\", \"PSV\", \"PSP\", \"XOne\", \"PSV\", \"PS3\", \"PSP\", \"3DS\", \"PSV\", \"PC\", \"PS3\", \"WiiU\", \"X360\", \"PS4\", \"PSP\", \"PSP\", \"PSV\", \"PSP\", \"PSV\", \"PSV\", \"PC\", \"XOne\", \"Wii\", \"X360\", \"PC\", \"PS2\", \"PC\", \"PSV\", \"PSP\", \"PSP\", \"WiiU\", \"PS3\", \"PSP\", \"PSP\", \"DS\", \"PSV\", \"PSV\", \"PSV\", \"DS\", \"PSP\", \"3DS\", \"PSV\", \"PSV\", \"PC\", \"PSV\", \"WiiU\", \"DS\", \"PSP\", \"PS4\", \"PC\", \"PC\", \"PSP\", \"WiiU\", \"PSP\", \"PSP\", \"PC\", \"PC\", \"PC\", \"Wii\", \"PSP\", \"PSP\", \"3DS\", \"PSP\", \"X360\", \"PC\", \"PSV\", \"X360\", \"PS2\", \"PC\", \"PSV\", \"PC\", \"PSP\", \"PS3\", \"3DS\", \"DS\", \"PS3\", \"3DS\", \"DS\", \"PSP\", \"Wii\", \"XOne\", \"PSV\", \"PSV\", \"PSP\", \"PSV\", \"Wii\", \"PSV\", \"X360\", \"PSP\", \"XOne\", \"PS3\", \"PS3\", \"XOne\", \"3DS\", \"WiiU\", \"PC\", \"3DS\", \"3DS\", \"3DS\", \"PSV\", \"X360\", \"3DS\", \"PC\", \"X360\", \"PSV\", \"DS\", \"PS3\", \"DS\", \"X360\", \"PSP\", \"PSP\", \"PSP\", \"PSP\", \"PSV\", \"PSP\", \"PC\", \"PSP\", \"XOne\", \"PSP\", \"3DS\", \"PSV\", \"PSP\", \"PS3\", \"PSP\", \"3DS\", \"XOne\", \"XOne\", \"PC\", \"X360\", \"PSP\", \"3DS\", \"PC\", \"PC\", \"3DS\", \"PC\", \"PSP\", \"PSV\", \"PS4\", \"PC\", \"PSV\", \"PSV\", \"XOne\", \"PSV\", \"PC\", \"3DS\", \"XOne\", \"PS4\", \"PSP\", \"XOne\", \"3DS\", \"Wii\", \"PC\", \"PSV\", \"DS\"], \"y\": [21.82, 21.4, 16.38, 15.32, 14.76, 14.64, 14.35, 14.24, 14.03, 13.73, 13.46, 12.73, 12.21, 11.98, 11.33, 10.79, 10.77, 10.26, 10.21, 9.88, 9.82, 9.76, 9.59, 9.52, 9.2, 9.09, 8.84, 8.49, 8.49, 8.33, 8.24, 7.69, 7.67, 7.6, 7.45, 7.34, 7.3, 7.23, 6.96, 6.96, 6.91, 6.9, 6.83, 6.81, 6.69, 6.6, 6.59, 6.59, 6.56, 6.5, 6.34, 6.24, 6.24, 5.99, 5.65, 5.53, 5.42, 5.3, 5.2, 5.19, 5.18, 5.15, 5.13, 5.13, 5.08, 5.08, 5.02, 4.87, 4.84, 4.83, 4.82, 4.77, 4.76, 4.64, 4.58, 4.57, 4.55, 4.47, 4.45, 4.44, 4.42, 4.31, 4.31, 4.26, 4.25, 4.24, 4.21, 4.2, 4.19, 4.19, 4.14, 4.1, 4.09, 4.08, 4.03, 4.02, 3.92, 3.89, 3.89, 3.88, 3.87, 3.85, 3.81, 3.79, 3.78, 3.76, 3.73, 3.69, 3.64, 3.63, 3.61, 3.53, 3.53, 3.5, 3.49, 3.48, 3.46, 3.45, 3.44, 3.43, 3.42, 3.38, 3.34, 3.32, 3.28, 3.28, 3.26, 3.23, 3.23, 3.22, 3.22, 3.19, 3.18, 3.17, 3.15, 3.15, 3.12, 3.11, 3.11, 3.07, 3.07, 3.07, 3.04, 3.04, 3.0, 3.0, 2.99, 2.98, 2.97, 2.97, 2.97, 2.9, 2.9, 2.89, 2.88, 2.86, 2.86, 2.85, 2.85, 2.85, 2.84, 2.83, 2.81, 2.79, 2.79, 2.79, 2.78, 2.77, 2.74, 2.72, 2.7, 2.69, 2.69, 2.69, 2.68, 2.68, 2.68, 2.65, 2.62, 2.62, 2.6, 2.58, 2.57, 2.56, 2.51, 2.49, 2.49, 2.48, 2.47, 2.46, 2.44, 2.42, 2.41, 2.4, 2.39, 2.39, 2.39, 2.39, 2.38, 2.38, 2.38, 2.38, 2.36, 2.35, 2.34, 2.33, 2.32, 2.32, 2.32, 2.3, 2.3, 2.29, 2.29, 2.28, 2.28, 2.28, 2.27, 2.25, 2.25, 2.22, 2.22, 2.21, 2.21, 2.19, 2.19, 2.18, 2.18, 2.17, 2.15, 2.15, 2.13, 2.12, 2.12, 2.11, 2.11, 2.11, 2.1, 2.09, 2.09, 2.09, 2.08, 2.08, 2.08, 2.07, 2.07, 2.06, 2.06, 2.06, 2.05, 2.05, 2.04, 2.04, 2.03, 2.03, 2.02, 2.02, 2.01, 2.0, 2.0, 2.0, 1.98, 1.98, 1.97, 1.97, 1.96, 1.95, 1.93, 1.93, 1.92, 1.91, 1.91, 1.9, 1.89, 1.89, 1.87, 1.86, 1.86, 1.85, 1.85, 1.83, 1.83, 1.82, 1.81, 1.81, 1.8, 1.79, 1.79, 1.78, 1.78, 1.78, 1.78, 1.77, 1.77, 1.77, 1.76, 1.76, 1.76, 1.75, 1.74, 1.74, 1.74, 1.74, 1.74, 1.73, 1.73, 1.73, 1.73, 1.72, 1.72, 1.72, 1.71, 1.7, 1.7, 1.69, 1.69, 1.69, 1.69, 1.69, 1.68, 1.67, 1.67, 1.66, 1.66, 1.65, 1.64, 1.64, 1.64, 1.63, 1.63, 1.62, 1.62, 1.61, 1.61, 1.6, 1.6, 1.59, 1.58, 1.58, 1.58, 1.56, 1.56, 1.56, 1.55, 1.55, 1.55, 1.55, 1.55, 1.55, 1.55, 1.55, 1.54, 1.54, 1.53, 1.53, 1.52, 1.52, 1.52, 1.51, 1.51, 1.51, 1.51, 1.51, 1.5, 1.5, 1.5, 1.5, 1.49, 1.48, 1.47, 1.47, 1.47, 1.47, 1.46, 1.46, 1.46, 1.46, 1.46, 1.46, 1.45, 1.45, 1.45, 1.45, 1.44, 1.44, 1.44, 1.44, 1.44, 1.43, 1.42, 1.42, 1.42, 1.41, 1.41, 1.41, 1.41, 1.41, 1.4, 1.4, 1.39, 1.39, 1.39, 1.39, 1.38, 1.38, 1.38, 1.38, 1.38, 1.37, 1.37, 1.37, 1.37, 1.36, 1.36, 1.36, 1.35, 1.35, 1.35, 1.35, 1.35, 1.35, 1.33, 1.33, 1.33, 1.33, 1.33, 1.33, 1.33, 1.32, 1.32, 1.32, 1.32, 1.32, 1.32, 1.32, 1.3, 1.3, 1.3, 1.3, 1.29, 1.29, 1.29, 1.28, 1.28, 1.28, 1.28, 1.28, 1.27, 1.27, 1.27, 1.27, 1.26, 1.26, 1.26, 1.25, 1.24, 1.24, 1.23, 1.23, 1.23, 1.23, 1.22, 1.22, 1.22, 1.22, 1.21, 1.2, 1.2, 1.2, 1.2, 1.2, 1.19, 1.19, 1.19, 1.19, 1.19, 1.19, 1.19, 1.18, 1.18, 1.18, 1.17, 1.17, 1.17, 1.17, 1.17, 1.16, 1.16, 1.16, 1.16, 1.16, 1.16, 1.15, 1.15, 1.15, 1.15, 1.14, 1.13, 1.13, 1.13, 1.13, 1.13, 1.13, 1.12, 1.12, 1.12, 1.12, 1.12, 1.12, 1.11, 1.11, 1.11, 1.11, 1.1, 1.1, 1.1, 1.1, 1.09, 1.09, 1.09, 1.09, 1.08, 1.08, 1.08, 1.08, 1.08, 1.08, 1.07, 1.07, 1.07, 1.07, 1.07, 1.07, 1.06, 1.06, 1.06, 1.06, 1.05, 1.05, 1.05, 1.05, 1.05, 1.05, 1.05, 1.04, 1.04, 1.04, 1.04, 1.04, 1.04, 1.04, 1.03, 1.03, 1.02, 1.02, 1.02, 1.02, 1.01, 1.01, 1.01, 1.01, 1.01, 1.01, 1.0, 1.0, 1.0, 1.0, 1.0, 1.0, 1.0, 0.99, 0.99, 0.99, 0.99, 0.99, 0.98, 0.98, 0.98, 0.98, 0.98, 0.98, 0.98, 0.98, 0.98, 0.98, 0.98, 0.98, 0.97, 0.97, 0.97, 0.97, 0.97, 0.97, 0.97, 0.96, 0.96, 0.96, 0.96, 0.96, 0.96, 0.96, 0.96, 0.96, 0.96, 0.95, 0.95, 0.95, 0.95, 0.95, 0.95, 0.95, 0.95, 0.94, 0.94, 0.94, 0.94, 0.94, 0.94, 0.94, 0.93, 0.93, 0.93, 0.93, 0.93, 0.93, 0.93, 0.92, 0.92, 0.92, 0.92, 0.92, 0.92, 0.92, 0.92, 0.92, 0.92, 0.92, 0.92, 0.91, 0.91, 0.91, 0.91, 0.9, 0.9, 0.9, 0.9, 0.9, 0.9, 0.89, 0.89, 0.89, 0.89, 0.89, 0.89, 0.89, 0.89, 0.89, 0.88, 0.88, 0.88, 0.88, 0.88, 0.88, 0.88, 0.87, 0.87, 0.87, 0.87, 0.87, 0.87, 0.87, 0.87, 0.86, 0.86, 0.86, 0.86, 0.85, 0.85, 0.85, 0.85, 0.85, 0.85, 0.85, 0.85, 0.84, 0.84, 0.84, 0.84, 0.84, 0.84, 0.84, 0.84, 0.84, 0.84, 0.84, 0.84, 0.84, 0.83, 0.83, 0.83, 0.83, 0.83, 0.82, 0.82, 0.82, 0.82, 0.82, 0.82, 0.82, 0.82, 0.82, 0.82, 0.81, 0.81, 0.81, 0.81, 0.81, 0.81, 0.8, 0.8, 0.8, 0.8, 0.8, 0.8, 0.8, 0.8, 0.8, 0.8, 0.8, 0.8, 0.8, 0.8, 0.79, 0.79, 0.79, 0.79, 0.79, 0.79, 0.79, 0.79, 0.78, 0.78, 0.78, 0.78, 0.78, 0.78, 0.78, 0.77, 0.77, 0.77, 0.77, 0.76, 0.76, 0.76, 0.76, 0.76, 0.76, 0.76, 0.76, 0.76, 0.76, 0.76, 0.76, 0.76, 0.76, 0.75, 0.75, 0.75, 0.75, 0.75, 0.75, 0.75, 0.75, 0.75, 0.75, 0.74, 0.74, 0.74, 0.74, 0.74, 0.74, 0.74, 0.74, 0.74, 0.74, 0.74, 0.73, 0.73, 0.73, 0.73, 0.73, 0.73, 0.73, 0.73, 0.72, 0.72, 0.72, 0.72, 0.72, 0.72, 0.72, 0.72, 0.72, 0.72, 0.72, 0.72, 0.71, 0.71, 0.71, 0.71, 0.71, 0.71, 0.71, 0.71, 0.71, 0.71, 0.71, 0.71, 0.71, 0.71, 0.71, 0.7, 0.7, 0.7, 0.7, 0.7, 0.7, 0.7, 0.7, 0.7, 0.69, 0.69, 0.69, 0.69, 0.69, 0.69, 0.69, 0.69, 0.69, 0.69, 0.69, 0.69, 0.68, 0.68, 0.68, 0.68, 0.68, 0.68, 0.68, 0.68, 0.68, 0.68, 0.68, 0.67, 0.67, 0.67, 0.67, 0.67, 0.67, 0.67, 0.67, 0.67, 0.67, 0.67, 0.67, 0.67, 0.67, 0.67, 0.67, 0.67, 0.66, 0.66, 0.66, 0.66, 0.66, 0.66, 0.66, 0.66, 0.66, 0.66, 0.65, 0.65, 0.65, 0.65, 0.65, 0.65, 0.65, 0.65, 0.65, 0.64, 0.64, 0.64, 0.64, 0.64, 0.64, 0.64, 0.64, 0.64, 0.64, 0.64, 0.64, 0.64, 0.64, 0.64, 0.64, 0.63, 0.63, 0.63, 0.63, 0.63, 0.63, 0.63, 0.63, 0.63, 0.63, 0.63, 0.63, 0.63, 0.63, 0.63, 0.63, 0.62, 0.62, 0.62, 0.62, 0.62, 0.62, 0.62, 0.62, 0.62, 0.62, 0.62, 0.62, 0.62, 0.62, 0.62, 0.61, 0.61, 0.61, 0.61, 0.61, 0.61, 0.61, 0.61, 0.61, 0.61, 0.61, 0.61, 0.61, 0.6, 0.6, 0.6, 0.6, 0.6, 0.6, 0.6, 0.6, 0.6, 0.6, 0.6, 0.6, 0.6, 0.6, 0.6, 0.6, 0.59, 0.59, 0.59, 0.59, 0.59, 0.59, 0.59, 0.59, 0.59, 0.59, 0.59, 0.59, 0.59, 0.59, 0.59, 0.59, 0.59, 0.58, 0.58, 0.58, 0.58, 0.58, 0.58, 0.58, 0.58, 0.58, 0.58, 0.58, 0.58, 0.58, 0.58, 0.58, 0.58, 0.58, 0.57, 0.57, 0.57, 0.57, 0.57, 0.57, 0.57, 0.57, 0.57, 0.57, 0.57, 0.56, 0.56, 0.56, 0.56, 0.56, 0.56, 0.56, 0.56, 0.56, 0.56, 0.56, 0.56, 0.55, 0.55, 0.55, 0.55, 0.55, 0.55, 0.55, 0.55, 0.55, 0.55, 0.55, 0.55, 0.55, 0.55, 0.55, 0.55, 0.54, 0.54, 0.54, 0.54, 0.54, 0.54, 0.54, 0.54, 0.54, 0.54, 0.54, 0.54, 0.54, 0.54, 0.54, 0.54, 0.54, 0.54, 0.54, 0.54, 0.54, 0.54, 0.54, 0.53, 0.53, 0.53, 0.53, 0.53, 0.53, 0.53, 0.53, 0.53, 0.53, 0.53, 0.53, 0.53, 0.53, 0.53, 0.53, 0.52, 0.52, 0.52, 0.52, 0.51, 0.51, 0.51, 0.51, 0.51, 0.51, 0.51, 0.51, 0.51, 0.51, 0.51, 0.51, 0.51, 0.51, 0.51, 0.51, 0.51, 0.51, 0.5, 0.5, 0.5, 0.5, 0.5, 0.5, 0.5, 0.5, 0.5, 0.5, 0.5, 0.5, 0.5, 0.5, 0.5, 0.5, 0.5, 0.5, 0.5, 0.5, 0.49, 0.49, 0.49, 0.49, 0.49, 0.49, 0.49, 0.49, 0.49, 0.49, 0.49, 0.49, 0.49, 0.49, 0.49, 0.49, 0.49, 0.49, 0.49, 0.49, 0.48, 0.48, 0.48, 0.48, 0.48, 0.48, 0.48, 0.48, 0.48, 0.48, 0.48, 0.48, 0.48, 0.48, 0.48, 0.47, 0.47, 0.47, 0.47, 0.47, 0.47, 0.47, 0.47, 0.47, 0.47, 0.47, 0.47, 0.47, 0.47, 0.47, 0.47, 0.47, 0.47, 0.47, 0.47, 0.47, 0.47, 0.47, 0.47, 0.46, 0.46, 0.46, 0.46, 0.46, 0.46, 0.46, 0.46, 0.46, 0.46, 0.46, 0.46, 0.46, 0.46, 0.46, 0.46, 0.46, 0.46, 0.46, 0.46, 0.46, 0.46, 0.46, 0.46, 0.46, 0.46, 0.45, 0.45, 0.45, 0.45, 0.45, 0.45, 0.45, 0.45, 0.45, 0.45, 0.45, 0.45, 0.45, 0.45, 0.45, 0.45, 0.45, 0.45, 0.45, 0.45, 0.45, 0.45, 0.44, 0.44, 0.44, 0.44, 0.44, 0.44, 0.44, 0.44, 0.44, 0.44, 0.44, 0.44, 0.44, 0.44, 0.44, 0.44, 0.44, 0.43, 0.43, 0.43, 0.43, 0.43, 0.43, 0.43, 0.43, 0.43, 0.43, 0.43, 0.43, 0.43, 0.43, 0.43, 0.43, 0.43, 0.43, 0.43, 0.43, 0.43, 0.43, 0.42, 0.42, 0.42, 0.42, 0.42, 0.42, 0.42, 0.42, 0.42, 0.42, 0.42, 0.42, 0.42, 0.42, 0.42, 0.42, 0.42, 0.42, 0.42, 0.41, 0.41, 0.41, 0.41, 0.41, 0.41, 0.41, 0.41, 0.41, 0.41, 0.41, 0.41, 0.41, 0.41, 0.41, 0.41, 0.41, 0.41, 0.41, 0.41, 0.41, 0.41, 0.41, 0.41, 0.41, 0.41, 0.41, 0.41, 0.41, 0.41, 0.41, 0.4, 0.4, 0.4, 0.4, 0.4, 0.4, 0.4, 0.4, 0.4, 0.4, 0.4, 0.4, 0.4, 0.4, 0.4, 0.4, 0.4, 0.4, 0.4, 0.4, 0.4, 0.4, 0.39, 0.39, 0.39, 0.39, 0.39, 0.39, 0.39, 0.39, 0.39, 0.39, 0.39, 0.39, 0.39, 0.39, 0.39, 0.39, 0.39, 0.39, 0.39, 0.39, 0.39, 0.39, 0.39, 0.39, 0.39, 0.39, 0.39, 0.38, 0.38, 0.38, 0.38, 0.38, 0.38, 0.38, 0.38, 0.38, 0.38, 0.38, 0.38, 0.38, 0.38, 0.38, 0.38, 0.38, 0.38, 0.38, 0.38, 0.38, 0.38, 0.38, 0.38, 0.38, 0.38, 0.38, 0.38, 0.38, 0.38, 0.38, 0.38, 0.38, 0.37, 0.37, 0.37, 0.37, 0.37, 0.37, 0.37, 0.37, 0.37, 0.37, 0.37, 0.37, 0.37, 0.37, 0.37, 0.37, 0.37, 0.37, 0.37, 0.37, 0.37, 0.36, 0.36, 0.36, 0.36, 0.36, 0.36, 0.36, 0.36, 0.36, 0.36, 0.36, 0.36, 0.36, 0.36, 0.36, 0.36, 0.36, 0.36, 0.36, 0.36, 0.36, 0.36, 0.36, 0.36, 0.36, 0.35, 0.35, 0.35, 0.35, 0.35, 0.35, 0.35, 0.35, 0.35, 0.35, 0.35, 0.35, 0.35, 0.35, 0.35, 0.35, 0.35, 0.35, 0.35, 0.35, 0.35, 0.35, 0.35, 0.35, 0.34, 0.34, 0.34, 0.34, 0.34, 0.34, 0.34, 0.34, 0.34, 0.34, 0.34, 0.34, 0.34, 0.34, 0.34, 0.34, 0.34, 0.34, 0.34, 0.34, 0.34, 0.34, 0.34, 0.33, 0.33, 0.33, 0.33, 0.33, 0.33, 0.33, 0.33, 0.33, 0.33, 0.33, 0.33, 0.33, 0.33, 0.33, 0.33, 0.33, 0.33, 0.33, 0.33, 0.33, 0.33, 0.33, 0.33, 0.33, 0.33, 0.33, 0.33, 0.33, 0.33, 0.33, 0.33, 0.33, 0.33, 0.33, 0.33, 0.33, 0.33, 0.33, 0.33, 0.33, 0.32, 0.32, 0.32, 0.32, 0.32, 0.32, 0.32, 0.32, 0.32, 0.32, 0.32, 0.32, 0.32, 0.32, 0.32, 0.32, 0.32, 0.32, 0.32, 0.32, 0.32, 0.32, 0.32, 0.32, 0.32, 0.31, 0.31, 0.31, 0.31, 0.31, 0.31, 0.31, 0.31, 0.31, 0.31, 0.31, 0.31, 0.31, 0.31, 0.31, 0.31, 0.31, 0.31, 0.31, 0.31, 0.31, 0.31, 0.31, 0.31, 0.31, 0.31, 0.31, 0.31, 0.31, 0.31, 0.31, 0.31, 0.31, 0.3, 0.3, 0.3, 0.3, 0.3, 0.3, 0.3, 0.3, 0.3, 0.3, 0.3, 0.3, 0.3, 0.3, 0.3, 0.3, 0.3, 0.3, 0.3, 0.3, 0.3, 0.3, 0.3, 0.3, 0.3, 0.3, 0.3, 0.3, 0.3, 0.3, 0.3, 0.3, 0.3, 0.3, 0.3, 0.29, 0.29, 0.29, 0.29, 0.29, 0.29, 0.29, 0.29, 0.29, 0.29, 0.29, 0.29, 0.29, 0.29, 0.29, 0.29, 0.29, 0.29, 0.29, 0.29, 0.29, 0.29, 0.29, 0.29, 0.29, 0.29, 0.29, 0.29, 0.29, 0.29, 0.29, 0.29, 0.29, 0.29, 0.29, 0.29, 0.29, 0.29, 0.29, 0.29, 0.29, 0.29, 0.29, 0.29, 0.29, 0.28, 0.28, 0.28, 0.28, 0.28, 0.28, 0.28, 0.28, 0.28, 0.28, 0.28, 0.28, 0.28, 0.28, 0.28, 0.28, 0.28, 0.28, 0.28, 0.28, 0.28, 0.28, 0.28, 0.28, 0.28, 0.28, 0.28, 0.28, 0.28, 0.28, 0.28, 0.28, 0.28, 0.28, 0.28, 0.28, 0.28, 0.28, 0.28, 0.28, 0.28, 0.28, 0.28, 0.27, 0.27, 0.27, 0.27, 0.27, 0.27, 0.27, 0.27, 0.27, 0.27, 0.27, 0.27, 0.27, 0.27, 0.27, 0.27, 0.27, 0.27, 0.27, 0.27, 0.27, 0.27, 0.27, 0.27, 0.27, 0.27, 0.27, 0.27, 0.27, 0.27, 0.27, 0.27, 0.27, 0.27, 0.27, 0.27, 0.27, 0.27, 0.27, 0.27, 0.27, 0.27, 0.27, 0.27, 0.27, 0.27, 0.27, 0.27, 0.26, 0.26, 0.26, 0.26, 0.26, 0.26, 0.26, 0.26, 0.26, 0.26, 0.26, 0.26, 0.26, 0.26, 0.26, 0.26, 0.26, 0.26, 0.26, 0.26, 0.26, 0.26, 0.26, 0.26, 0.26, 0.26, 0.26, 0.26, 0.26, 0.26, 0.26, 0.26, 0.26, 0.26, 0.26, 0.26, 0.26, 0.26, 0.26, 0.26, 0.26, 0.26, 0.25, 0.25, 0.25, 0.25, 0.25, 0.25, 0.25, 0.25, 0.25, 0.25, 0.25, 0.25, 0.25, 0.25, 0.25, 0.25, 0.25, 0.25, 0.25, 0.25, 0.25, 0.25, 0.25, 0.25, 0.25, 0.25, 0.25, 0.25, 0.25, 0.25, 0.25, 0.25, 0.24, 0.24, 0.24, 0.24, 0.24, 0.24, 0.24, 0.24, 0.24, 0.24, 0.24, 0.24, 0.24, 0.24, 0.24, 0.24, 0.24, 0.24, 0.24, 0.24, 0.24, 0.24, 0.24, 0.24, 0.24, 0.24, 0.24, 0.24, 0.24, 0.24, 0.24, 0.24, 0.24, 0.24, 0.24, 0.24, 0.24, 0.24, 0.24, 0.24, 0.24, 0.24, 0.24, 0.24, 0.24, 0.24, 0.24, 0.24, 0.24, 0.24, 0.24, 0.24, 0.24, 0.24, 0.24, 0.23, 0.23, 0.23, 0.23, 0.23, 0.23, 0.23, 0.23, 0.23, 0.23, 0.23, 0.23, 0.23, 0.23, 0.23, 0.23, 0.23, 0.23, 0.23, 0.23, 0.23, 0.23, 0.23, 0.23, 0.23, 0.23, 0.23, 0.23, 0.23, 0.23, 0.23, 0.23, 0.23, 0.23, 0.23, 0.23, 0.23, 0.23, 0.23, 0.23, 0.23, 0.23, 0.23, 0.23, 0.23, 0.23, 0.23, 0.23, 0.23, 0.23, 0.23, 0.23, 0.22, 0.22, 0.22, 0.22, 0.22, 0.22, 0.22, 0.22, 0.22, 0.22, 0.22, 0.22, 0.22, 0.22, 0.22, 0.22, 0.22, 0.22, 0.22, 0.22, 0.22, 0.22, 0.22, 0.22, 0.22, 0.22, 0.22, 0.22, 0.22, 0.22, 0.22, 0.22, 0.22, 0.22, 0.22, 0.22, 0.22, 0.22, 0.22, 0.22, 0.22, 0.22, 0.22, 0.22, 0.22, 0.22, 0.22, 0.22, 0.22, 0.22, 0.22, 0.21, 0.21, 0.21, 0.21, 0.21, 0.21, 0.21, 0.21, 0.21, 0.21, 0.21, 0.21, 0.21, 0.21, 0.21, 0.21, 0.21, 0.21, 0.21, 0.21, 0.21, 0.21, 0.21, 0.21, 0.21, 0.21, 0.21, 0.21, 0.21, 0.21, 0.21, 0.21, 0.21, 0.21, 0.21, 0.21, 0.21, 0.21, 0.21, 0.21, 0.21, 0.21, 0.21, 0.21, 0.21, 0.21, 0.21, 0.21, 0.21, 0.21, 0.2, 0.2, 0.2, 0.2, 0.2, 0.2, 0.2, 0.2, 0.2, 0.2, 0.2, 0.2, 0.2, 0.2, 0.2, 0.2, 0.2, 0.2, 0.2, 0.2, 0.2, 0.2, 0.2, 0.2, 0.2, 0.2, 0.2, 0.2, 0.2, 0.2, 0.2, 0.2, 0.2, 0.2, 0.2, 0.2, 0.2, 0.2, 0.2, 0.2, 0.2, 0.2, 0.2, 0.2, 0.2, 0.2, 0.2, 0.2, 0.2, 0.2, 0.2, 0.2, 0.2, 0.2, 0.2, 0.2, 0.2, 0.2, 0.2, 0.2, 0.2, 0.2, 0.2, 0.2, 0.2, 0.2, 0.2, 0.2, 0.2, 0.2, 0.2, 0.2, 0.2, 0.19, 0.19, 0.19, 0.19, 0.19, 0.19, 0.19, 0.19, 0.19, 0.19, 0.19, 0.19, 0.19, 0.19, 0.19, 0.19, 0.19, 0.19, 0.19, 0.19, 0.19, 0.19, 0.19, 0.19, 0.19, 0.19, 0.19, 0.19, 0.19, 0.19, 0.19, 0.19, 0.19, 0.19, 0.19, 0.19, 0.19, 0.19, 0.19, 0.19, 0.19, 0.19, 0.19, 0.19, 0.19, 0.19, 0.19, 0.19, 0.19, 0.19, 0.19, 0.19, 0.19, 0.19, 0.19, 0.19, 0.19, 0.19, 0.19, 0.19, 0.19, 0.19, 0.19, 0.19, 0.19, 0.19, 0.19, 0.19, 0.19, 0.19, 0.19, 0.19, 0.19, 0.19, 0.19, 0.19, 0.19, 0.19, 0.19, 0.19, 0.19, 0.19, 0.19, 0.19, 0.19, 0.19, 0.19, 0.19, 0.19, 0.19, 0.19, 0.19, 0.19, 0.19, 0.19, 0.18, 0.18, 0.18, 0.18, 0.18, 0.18, 0.18, 0.18, 0.18, 0.18, 0.18, 0.18, 0.18, 0.18, 0.18, 0.18, 0.18, 0.18, 0.18, 0.18, 0.18, 0.18, 0.18, 0.18, 0.18, 0.18, 0.18, 0.18, 0.18, 0.18, 0.18, 0.18, 0.18, 0.18, 0.18, 0.18, 0.18, 0.18, 0.18, 0.18, 0.18, 0.18, 0.18, 0.18, 0.18, 0.18, 0.18, 0.18, 0.18, 0.18, 0.18, 0.18, 0.18, 0.18, 0.18, 0.18, 0.18, 0.18, 0.18, 0.18, 0.18, 0.18, 0.18, 0.18, 0.18, 0.18, 0.18, 0.18, 0.18, 0.17, 0.17, 0.17, 0.17, 0.17, 0.17, 0.17, 0.17, 0.17, 0.17, 0.17, 0.17, 0.17, 0.17, 0.17, 0.17, 0.17, 0.17, 0.17, 0.17, 0.17, 0.17, 0.17, 0.17, 0.17, 0.17, 0.17, 0.17, 0.17, 0.17, 0.17, 0.17, 0.17, 0.17, 0.17, 0.17, 0.17, 0.17, 0.17, 0.17, 0.17, 0.17, 0.17, 0.17, 0.17, 0.17, 0.17, 0.17, 0.17, 0.17, 0.17, 0.17, 0.17, 0.17, 0.17, 0.17, 0.17, 0.17, 0.17, 0.17, 0.17, 0.17, 0.17, 0.16, 0.16, 0.16, 0.16, 0.16, 0.16, 0.16, 0.16, 0.16, 0.16, 0.16, 0.16, 0.16, 0.16, 0.16, 0.16, 0.16, 0.16, 0.16, 0.16, 0.16, 0.16, 0.16, 0.16, 0.16, 0.16, 0.16, 0.16, 0.16, 0.16, 0.16, 0.16, 0.16, 0.16, 0.16, 0.16, 0.16, 0.16, 0.16, 0.16, 0.16, 0.16, 0.16, 0.16, 0.16, 0.16, 0.16, 0.16, 0.16, 0.16, 0.16, 0.16, 0.16, 0.16, 0.16, 0.16, 0.16, 0.16, 0.16, 0.16, 0.16, 0.16, 0.16, 0.16, 0.16, 0.16, 0.16, 0.16, 0.16, 0.16, 0.16, 0.16, 0.16, 0.16, 0.16, 0.16, 0.16, 0.16, 0.16, 0.16, 0.16, 0.16, 0.16, 0.16, 0.15, 0.15, 0.15, 0.15, 0.15, 0.15, 0.15, 0.15, 0.15, 0.15, 0.15, 0.15, 0.15, 0.15, 0.15, 0.15, 0.15, 0.15, 0.15, 0.15, 0.15, 0.15, 0.15, 0.15, 0.15, 0.15, 0.15, 0.15, 0.15, 0.15, 0.15, 0.15, 0.15, 0.15, 0.15, 0.15, 0.15, 0.15, 0.15, 0.15, 0.15, 0.15, 0.15, 0.15, 0.15, 0.15, 0.15, 0.15, 0.15, 0.15, 0.15, 0.15, 0.15, 0.15, 0.15, 0.15, 0.15, 0.15, 0.15, 0.15, 0.15, 0.15, 0.15, 0.15, 0.15, 0.15, 0.15, 0.15, 0.15, 0.15, 0.15, 0.15, 0.15, 0.15, 0.15, 0.15, 0.15, 0.15, 0.15, 0.14, 0.14, 0.14, 0.14, 0.14, 0.14, 0.14, 0.14, 0.14, 0.14, 0.14, 0.14, 0.14, 0.14, 0.14, 0.14, 0.14, 0.14, 0.14, 0.14, 0.14, 0.14, 0.14, 0.14, 0.14, 0.14, 0.14, 0.14, 0.14, 0.14, 0.14, 0.14, 0.14, 0.14, 0.14, 0.14, 0.14, 0.14, 0.14, 0.14, 0.14, 0.14, 0.14, 0.14, 0.14, 0.14, 0.14, 0.14, 0.14, 0.14, 0.14, 0.14, 0.14, 0.14, 0.14, 0.14, 0.14, 0.14, 0.14, 0.14, 0.14, 0.14, 0.14, 0.14, 0.14, 0.14, 0.14, 0.14, 0.14, 0.14, 0.14, 0.14, 0.14, 0.14, 0.14, 0.14, 0.14, 0.14, 0.14, 0.14, 0.14, 0.14, 0.14, 0.14, 0.14, 0.14, 0.14, 0.14, 0.14, 0.14, 0.14, 0.14, 0.13, 0.13, 0.13, 0.13, 0.13, 0.13, 0.13, 0.13, 0.13, 0.13, 0.13, 0.13, 0.13, 0.13, 0.13, 0.13, 0.13, 0.13, 0.13, 0.13, 0.13, 0.13, 0.13, 0.13, 0.13, 0.13, 0.13, 0.13, 0.13, 0.13, 0.13, 0.13, 0.13, 0.13, 0.13, 0.13, 0.13, 0.13, 0.13, 0.13, 0.13, 0.13, 0.13, 0.13, 0.13, 0.13, 0.13, 0.13, 0.13, 0.13, 0.13, 0.13, 0.13, 0.13, 0.13, 0.13, 0.13, 0.13, 0.13, 0.13, 0.13, 0.13, 0.13, 0.13, 0.13, 0.13, 0.13, 0.13, 0.13, 0.13, 0.13, 0.13, 0.13, 0.13, 0.13, 0.13, 0.13, 0.13, 0.13, 0.13, 0.13, 0.13, 0.13, 0.13, 0.13, 0.13, 0.13, 0.13, 0.13, 0.13, 0.13, 0.13, 0.13, 0.13, 0.13, 0.13, 0.13, 0.13, 0.13, 0.13, 0.13, 0.13, 0.13, 0.12, 0.12, 0.12, 0.12, 0.12, 0.12, 0.12, 0.12, 0.12, 0.12, 0.12, 0.12, 0.12, 0.12, 0.12, 0.12, 0.12, 0.12, 0.12, 0.12, 0.12, 0.12, 0.12, 0.12, 0.12, 0.12, 0.12, 0.12, 0.12, 0.12, 0.12, 0.12, 0.12, 0.12, 0.12, 0.12, 0.12, 0.12, 0.12, 0.12, 0.12, 0.12, 0.12, 0.12, 0.12, 0.12, 0.12, 0.12, 0.12, 0.12, 0.12, 0.12, 0.12, 0.12, 0.12, 0.12, 0.12, 0.12, 0.12, 0.12, 0.12, 0.12, 0.12, 0.12, 0.12, 0.12, 0.12, 0.12, 0.12, 0.12, 0.12, 0.12, 0.12, 0.12, 0.12, 0.12, 0.12, 0.12, 0.12, 0.12, 0.12, 0.12, 0.12, 0.12, 0.12, 0.12, 0.12, 0.12, 0.12, 0.12, 0.12, 0.12, 0.12, 0.12, 0.12, 0.12, 0.12, 0.12, 0.12, 0.12, 0.12, 0.12, 0.12, 0.12, 0.12, 0.12, 0.12, 0.12, 0.12, 0.12, 0.12, 0.12, 0.12, 0.12, 0.12, 0.12, 0.12, 0.11, 0.11, 0.11, 0.11, 0.11, 0.11, 0.11, 0.11, 0.11, 0.11, 0.11, 0.11, 0.11, 0.11, 0.11, 0.11, 0.11, 0.11, 0.11, 0.11, 0.11, 0.11, 0.11, 0.11, 0.11, 0.11, 0.11, 0.11, 0.11, 0.11, 0.11, 0.11, 0.11, 0.11, 0.11, 0.11, 0.11, 0.11, 0.11, 0.11, 0.11, 0.11, 0.11, 0.11, 0.11, 0.11, 0.11, 0.11, 0.11, 0.11, 0.11, 0.11, 0.11, 0.11, 0.11, 0.11, 0.11, 0.11, 0.11, 0.11, 0.11, 0.11, 0.11, 0.11, 0.11, 0.11, 0.11, 0.11, 0.11, 0.11, 0.11, 0.11, 0.11, 0.11, 0.11, 0.11, 0.11, 0.11, 0.11, 0.11, 0.11, 0.11, 0.11, 0.11, 0.11, 0.11, 0.11, 0.11, 0.11, 0.11, 0.11, 0.11, 0.11, 0.11, 0.11, 0.11, 0.11, 0.11, 0.11, 0.11, 0.11, 0.11, 0.11, 0.11, 0.11, 0.11, 0.11, 0.11, 0.11, 0.11, 0.11, 0.11, 0.11, 0.11, 0.11, 0.11, 0.11, 0.11, 0.11, 0.11, 0.11, 0.11, 0.11, 0.11, 0.1, 0.1, 0.1, 0.1, 0.1, 0.1, 0.1, 0.1, 0.1, 0.1, 0.1, 0.1, 0.1, 0.1, 0.1, 0.1, 0.1, 0.1, 0.1, 0.1, 0.1, 0.1, 0.1, 0.1, 0.1, 0.1, 0.1, 0.1, 0.1, 0.1, 0.1, 0.1, 0.1, 0.1, 0.1, 0.1, 0.1, 0.1, 0.1, 0.1, 0.1, 0.1, 0.1, 0.1, 0.1, 0.1, 0.1, 0.1, 0.1, 0.1, 0.1, 0.1, 0.1, 0.1, 0.1, 0.1, 0.1, 0.1, 0.1, 0.1, 0.1, 0.1, 0.1, 0.1, 0.1, 0.1, 0.1, 0.1, 0.1, 0.1, 0.1, 0.1, 0.1, 0.1, 0.1, 0.1, 0.1, 0.1, 0.1, 0.1, 0.1, 0.1, 0.1, 0.1, 0.1, 0.1, 0.1, 0.1, 0.1, 0.1, 0.1, 0.1, 0.1, 0.1, 0.1, 0.1, 0.1, 0.1, 0.1, 0.1, 0.1, 0.1, 0.1, 0.1, 0.1, 0.1, 0.1, 0.1, 0.1, 0.1, 0.1, 0.1, 0.1, 0.1, 0.1, 0.1, 0.1, 0.1, 0.1, 0.1, 0.1, 0.1, 0.1, 0.1, 0.09, 0.09, 0.09, 0.09, 0.09, 0.09, 0.09, 0.09, 0.09, 0.09, 0.09, 0.09, 0.09, 0.09, 0.09, 0.09, 0.09, 0.09, 0.09, 0.09, 0.09, 0.09, 0.09, 0.09, 0.09, 0.09, 0.09, 0.09, 0.09, 0.09, 0.09, 0.09, 0.09, 0.09, 0.09, 0.09, 0.09, 0.09, 0.09, 0.09, 0.09, 0.09, 0.09, 0.09, 0.09, 0.09, 0.09, 0.09, 0.09, 0.09, 0.09, 0.09, 0.09, 0.09, 0.09, 0.09, 0.09, 0.09, 0.09, 0.09, 0.09, 0.09, 0.09, 0.09, 0.09, 0.09, 0.09, 0.09, 0.09, 0.09, 0.09, 0.09, 0.09, 0.09, 0.09, 0.09, 0.09, 0.09, 0.09, 0.09, 0.09, 0.09, 0.09, 0.09, 0.09, 0.09, 0.09, 0.09, 0.09, 0.09, 0.09, 0.09, 0.09, 0.09, 0.09, 0.09, 0.09, 0.09, 0.09, 0.09, 0.09, 0.09, 0.09, 0.09, 0.09, 0.09, 0.09, 0.09, 0.09, 0.09, 0.09, 0.09, 0.09, 0.09, 0.09, 0.09, 0.09, 0.09, 0.09, 0.09, 0.09, 0.09, 0.09, 0.09, 0.09, 0.09, 0.09, 0.09, 0.09, 0.09, 0.09, 0.09, 0.09, 0.08, 0.08, 0.08, 0.08, 0.08, 0.08, 0.08, 0.08, 0.08, 0.08, 0.08, 0.08, 0.08, 0.08, 0.08, 0.08, 0.08, 0.08, 0.08, 0.08, 0.08, 0.08, 0.08, 0.08, 0.08, 0.08, 0.08, 0.08, 0.08, 0.08, 0.08, 0.08, 0.08, 0.08, 0.08, 0.08, 0.08, 0.08, 0.08, 0.08, 0.08, 0.08, 0.08, 0.08, 0.08, 0.08, 0.08, 0.08, 0.08, 0.08, 0.08, 0.08, 0.08, 0.08, 0.08, 0.08, 0.08, 0.08, 0.08, 0.08, 0.08, 0.08, 0.08, 0.08, 0.08, 0.08, 0.08, 0.08, 0.08, 0.08, 0.08, 0.08, 0.08, 0.08, 0.08, 0.08, 0.08, 0.08, 0.08, 0.08, 0.08, 0.08, 0.08, 0.08, 0.08, 0.08, 0.08, 0.08, 0.08, 0.08, 0.08, 0.08, 0.08, 0.08, 0.08, 0.08, 0.08, 0.08, 0.08, 0.08, 0.08, 0.08, 0.08, 0.08, 0.08, 0.08, 0.08, 0.08, 0.08, 0.08, 0.08, 0.08, 0.08, 0.08, 0.08, 0.08, 0.08, 0.08, 0.08, 0.08, 0.08, 0.08, 0.08, 0.08, 0.08, 0.08, 0.08, 0.08, 0.08, 0.08, 0.08, 0.08, 0.08, 0.08, 0.08, 0.08, 0.08, 0.08, 0.08, 0.08, 0.08, 0.08, 0.08, 0.08, 0.07, 0.07, 0.07, 0.07, 0.07, 0.07, 0.07, 0.07, 0.07, 0.07, 0.07, 0.07, 0.07, 0.07, 0.07, 0.07, 0.07, 0.07, 0.07, 0.07, 0.07, 0.07, 0.07, 0.07, 0.07, 0.07, 0.07, 0.07, 0.07, 0.07, 0.07, 0.07, 0.07, 0.07, 0.07, 0.07, 0.07, 0.07, 0.07, 0.07, 0.07, 0.07, 0.07, 0.07, 0.07, 0.07, 0.07, 0.07, 0.07, 0.07, 0.07, 0.07, 0.07, 0.07, 0.07, 0.07, 0.07, 0.07, 0.07, 0.07, 0.07, 0.07, 0.07, 0.07, 0.07, 0.07, 0.07, 0.07, 0.07, 0.07, 0.07, 0.07, 0.07, 0.07, 0.07, 0.07, 0.07, 0.07, 0.07, 0.07, 0.07, 0.07, 0.07, 0.07, 0.07, 0.07, 0.07, 0.07, 0.07, 0.07, 0.07, 0.07, 0.07, 0.07, 0.07, 0.07, 0.07, 0.07, 0.07, 0.07, 0.07, 0.07, 0.07, 0.07, 0.07, 0.07, 0.07, 0.07, 0.07, 0.07, 0.07, 0.07, 0.07, 0.07, 0.07, 0.07, 0.07, 0.07, 0.07, 0.07, 0.07, 0.07, 0.07, 0.07, 0.07, 0.07, 0.07, 0.07, 0.07, 0.07, 0.07, 0.07, 0.07, 0.07, 0.07, 0.07, 0.07, 0.07, 0.07, 0.07, 0.07, 0.07, 0.07, 0.07, 0.07, 0.07, 0.07, 0.07, 0.07, 0.07, 0.07, 0.07, 0.07, 0.07, 0.07, 0.07, 0.07, 0.07, 0.07, 0.07, 0.07, 0.07, 0.07, 0.07, 0.06, 0.06, 0.06, 0.06, 0.06, 0.06, 0.06, 0.06, 0.06, 0.06, 0.06, 0.06, 0.06, 0.06, 0.06, 0.06, 0.06, 0.06, 0.06, 0.06, 0.06, 0.06, 0.06, 0.06, 0.06, 0.06, 0.06, 0.06, 0.06, 0.06, 0.06, 0.06, 0.06, 0.06, 0.06, 0.06, 0.06, 0.06, 0.06, 0.06, 0.06, 0.06, 0.06, 0.06, 0.06, 0.06, 0.06, 0.06, 0.06, 0.06, 0.06, 0.06, 0.06, 0.06, 0.06, 0.06, 0.06, 0.06, 0.06, 0.06, 0.06, 0.06, 0.06, 0.06, 0.06, 0.06, 0.06, 0.06, 0.06, 0.06, 0.06, 0.06, 0.06, 0.06, 0.06, 0.06, 0.06, 0.06, 0.06, 0.06, 0.06, 0.06, 0.06, 0.06, 0.06, 0.06, 0.06, 0.06, 0.06, 0.06, 0.06, 0.06, 0.06, 0.06, 0.06, 0.06, 0.06, 0.06, 0.06, 0.06, 0.06, 0.06, 0.06, 0.06, 0.06, 0.06, 0.06, 0.06, 0.06, 0.06, 0.06, 0.06, 0.06, 0.06, 0.06, 0.06, 0.06, 0.06, 0.06, 0.06, 0.06, 0.06, 0.06, 0.06, 0.06, 0.06, 0.06, 0.06, 0.06, 0.06, 0.06, 0.06, 0.06, 0.06, 0.06, 0.06, 0.06, 0.06, 0.06, 0.06, 0.06, 0.06, 0.06, 0.06, 0.06, 0.06, 0.06, 0.06, 0.06, 0.06, 0.06, 0.06, 0.06, 0.06, 0.06, 0.06, 0.06, 0.06, 0.06, 0.06, 0.06, 0.06, 0.06, 0.06, 0.06, 0.06, 0.06, 0.06, 0.06, 0.06, 0.06, 0.06, 0.06, 0.06, 0.06, 0.06, 0.06, 0.06, 0.06, 0.06, 0.06, 0.06, 0.05, 0.05, 0.05, 0.05, 0.05, 0.05, 0.05, 0.05, 0.05, 0.05, 0.05, 0.05, 0.05, 0.05, 0.05, 0.05, 0.05, 0.05, 0.05, 0.05, 0.05, 0.05, 0.05, 0.05, 0.05, 0.05, 0.05, 0.05, 0.05, 0.05, 0.05, 0.05, 0.05, 0.05, 0.05, 0.05, 0.05, 0.05, 0.05, 0.05, 0.05, 0.05, 0.05, 0.05, 0.05, 0.05, 0.05, 0.05, 0.05, 0.05, 0.05, 0.05, 0.05, 0.05, 0.05, 0.05, 0.05, 0.05, 0.05, 0.05, 0.05, 0.05, 0.05, 0.05, 0.05, 0.05, 0.05, 0.05, 0.05, 0.05, 0.05, 0.05, 0.05, 0.05, 0.05, 0.05, 0.05, 0.05, 0.05, 0.05, 0.05, 0.05, 0.05, 0.05, 0.05, 0.05, 0.05, 0.05, 0.05, 0.05, 0.05, 0.05, 0.05, 0.05, 0.05, 0.05, 0.05, 0.05, 0.05, 0.05, 0.05, 0.05, 0.05, 0.05, 0.05, 0.05, 0.05, 0.05, 0.05, 0.05, 0.05, 0.05, 0.05, 0.05, 0.05, 0.05, 0.05, 0.05, 0.05, 0.05, 0.05, 0.05, 0.05, 0.05, 0.05, 0.05, 0.05, 0.05, 0.05, 0.05, 0.05, 0.05, 0.05, 0.05, 0.05, 0.05, 0.05, 0.05, 0.05, 0.05, 0.05, 0.05, 0.05, 0.05, 0.05, 0.05, 0.05, 0.05, 0.05, 0.05, 0.05, 0.05, 0.05, 0.05, 0.05, 0.05, 0.05, 0.05, 0.05, 0.05, 0.05, 0.05, 0.05, 0.05, 0.05, 0.05, 0.05, 0.05, 0.05, 0.05, 0.05, 0.05, 0.05, 0.05, 0.05, 0.05, 0.05, 0.05, 0.05, 0.05, 0.05, 0.05, 0.05, 0.05, 0.05, 0.05, 0.05, 0.05, 0.05, 0.05, 0.05, 0.05, 0.05, 0.05, 0.05, 0.05, 0.05, 0.05, 0.05, 0.05, 0.05, 0.05, 0.05, 0.05, 0.05, 0.04, 0.04, 0.04, 0.04, 0.04, 0.04, 0.04, 0.04, 0.04, 0.04, 0.04, 0.04, 0.04, 0.04, 0.04, 0.04, 0.04, 0.04, 0.04, 0.04, 0.04, 0.04, 0.04, 0.04, 0.04, 0.04, 0.04, 0.04, 0.04, 0.04, 0.04, 0.04, 0.04, 0.04, 0.04, 0.04, 0.04, 0.04, 0.04, 0.04, 0.04, 0.04, 0.04, 0.04, 0.04, 0.04, 0.04, 0.04, 0.04, 0.04, 0.04, 0.04, 0.04, 0.04, 0.04, 0.04, 0.04, 0.04, 0.04, 0.04, 0.04, 0.04, 0.04, 0.04, 0.04, 0.04, 0.04, 0.04, 0.04, 0.04, 0.04, 0.04, 0.04, 0.04, 0.04, 0.04, 0.04, 0.04, 0.04, 0.04, 0.04, 0.04, 0.04, 0.04, 0.04, 0.04, 0.04, 0.04, 0.04, 0.04, 0.04, 0.04, 0.04, 0.04, 0.04, 0.04, 0.04, 0.04, 0.04, 0.04, 0.04, 0.04, 0.04, 0.04, 0.04, 0.04, 0.04, 0.04, 0.04, 0.04, 0.04, 0.04, 0.04, 0.04, 0.04, 0.04, 0.04, 0.04, 0.04, 0.04, 0.04, 0.04, 0.04, 0.04, 0.04, 0.04, 0.04, 0.04, 0.04, 0.04, 0.04, 0.04, 0.04, 0.04, 0.04, 0.04, 0.04, 0.04, 0.04, 0.04, 0.04, 0.04, 0.04, 0.04, 0.04, 0.04, 0.04, 0.04, 0.04, 0.04, 0.04, 0.04, 0.04, 0.04, 0.04, 0.04, 0.04, 0.04, 0.04, 0.04, 0.04, 0.04, 0.04, 0.04, 0.04, 0.04, 0.04, 0.04, 0.04, 0.04, 0.04, 0.04, 0.04, 0.04, 0.04, 0.04, 0.04, 0.04, 0.04, 0.04, 0.04, 0.04, 0.04, 0.04, 0.04, 0.04, 0.04, 0.04, 0.04, 0.04, 0.04, 0.04, 0.04, 0.04, 0.04, 0.04, 0.04, 0.04, 0.04, 0.04, 0.04, 0.04, 0.04, 0.04, 0.04, 0.04, 0.04, 0.04, 0.04, 0.04, 0.04, 0.04, 0.04, 0.04, 0.04, 0.04, 0.04, 0.04, 0.04, 0.04, 0.03, 0.03, 0.03, 0.03, 0.03, 0.03, 0.03, 0.03, 0.03, 0.03, 0.03, 0.03, 0.03, 0.03, 0.03, 0.03, 0.03, 0.03, 0.03, 0.03, 0.03, 0.03, 0.03, 0.03, 0.03, 0.03, 0.03, 0.03, 0.03, 0.03, 0.03, 0.03, 0.03, 0.03, 0.03, 0.03, 0.03, 0.03, 0.03, 0.03, 0.03, 0.03, 0.03, 0.03, 0.03, 0.03, 0.03, 0.03, 0.03, 0.03, 0.03, 0.03, 0.03, 0.03, 0.03, 0.03, 0.03, 0.03, 0.03, 0.03, 0.03, 0.03, 0.03, 0.03, 0.03, 0.03, 0.03, 0.03, 0.03, 0.03, 0.03, 0.03, 0.03, 0.03, 0.03, 0.03, 0.03, 0.03, 0.03, 0.03, 0.03, 0.03, 0.03, 0.03, 0.03, 0.03, 0.03, 0.03, 0.03, 0.03, 0.03, 0.03, 0.03, 0.03, 0.03, 0.03, 0.03, 0.03, 0.03, 0.03, 0.03, 0.03, 0.03, 0.03, 0.03, 0.03, 0.03, 0.03, 0.03, 0.03, 0.03, 0.03, 0.03, 0.03, 0.03, 0.03, 0.03, 0.03, 0.03, 0.03, 0.03, 0.03, 0.03, 0.03, 0.03, 0.03, 0.03, 0.03, 0.03, 0.03, 0.03, 0.03, 0.03, 0.03, 0.03, 0.03, 0.03, 0.03, 0.03, 0.03, 0.03, 0.03, 0.03, 0.03, 0.03, 0.03, 0.03, 0.03, 0.03, 0.03, 0.03, 0.03, 0.03, 0.03, 0.03, 0.03, 0.03, 0.03, 0.03, 0.03, 0.03, 0.03, 0.03, 0.03, 0.03, 0.03, 0.03, 0.03, 0.03, 0.03, 0.03, 0.03, 0.03, 0.03, 0.03, 0.03, 0.03, 0.03, 0.03, 0.03, 0.03, 0.03, 0.03, 0.03, 0.03, 0.03, 0.03, 0.03, 0.03, 0.03, 0.03, 0.03, 0.03, 0.03, 0.03, 0.03, 0.03, 0.03, 0.03, 0.03, 0.03, 0.03, 0.03, 0.03, 0.03, 0.03, 0.03, 0.03, 0.03, 0.03, 0.03, 0.03, 0.03, 0.03, 0.03, 0.03, 0.03, 0.03, 0.03, 0.03, 0.03, 0.03, 0.03, 0.03, 0.03, 0.03, 0.03, 0.03, 0.03, 0.03, 0.03, 0.03, 0.03, 0.03, 0.03, 0.03, 0.03, 0.03, 0.03, 0.03, 0.03, 0.03, 0.03, 0.03, 0.03, 0.03, 0.03, 0.03, 0.03, 0.03, 0.03, 0.03, 0.03, 0.03, 0.03, 0.03, 0.03, 0.03, 0.03, 0.03, 0.03, 0.03, 0.03, 0.03, 0.03, 0.03, 0.03, 0.03, 0.03, 0.03, 0.03, 0.03, 0.03, 0.03, 0.03, 0.03, 0.03, 0.03, 0.03, 0.03, 0.03, 0.03, 0.03, 0.03, 0.03, 0.03, 0.03, 0.03, 0.03, 0.03, 0.03, 0.03, 0.03, 0.03, 0.03, 0.03, 0.03, 0.03, 0.03, 0.03, 0.03, 0.03, 0.03, 0.03, 0.03, 0.03, 0.03, 0.03, 0.03, 0.03, 0.03, 0.03, 0.03, 0.03, 0.03, 0.03, 0.03, 0.03, 0.02, 0.02, 0.02, 0.02, 0.02, 0.02, 0.02, 0.02, 0.02, 0.02, 0.02, 0.02, 0.02, 0.02, 0.02, 0.02, 0.02, 0.02, 0.02, 0.02, 0.02, 0.02, 0.02, 0.02, 0.02, 0.02, 0.02, 0.02, 0.02, 0.02, 0.02, 0.02, 0.02, 0.02, 0.02, 0.02, 0.02, 0.02, 0.02, 0.02, 0.02, 0.02, 0.02, 0.02, 0.02, 0.02, 0.02, 0.02, 0.02, 0.02, 0.02, 0.02, 0.02, 0.02, 0.02, 0.02, 0.02, 0.02, 0.02, 0.02, 0.02, 0.02, 0.02, 0.02, 0.02, 0.02, 0.02, 0.02, 0.02, 0.02, 0.02, 0.02, 0.02, 0.02, 0.02, 0.02, 0.02, 0.02, 0.02, 0.02, 0.02, 0.02, 0.02, 0.02, 0.02, 0.02, 0.02, 0.02, 0.02, 0.02, 0.02, 0.02, 0.02, 0.02, 0.02, 0.02, 0.02, 0.02, 0.02, 0.02, 0.02, 0.02, 0.02, 0.02, 0.02, 0.02, 0.02, 0.02, 0.02, 0.02, 0.02, 0.02, 0.02, 0.02, 0.02, 0.02, 0.02, 0.02, 0.02, 0.02, 0.02, 0.02, 0.02, 0.02, 0.02, 0.02, 0.02, 0.02, 0.02, 0.02, 0.02, 0.02, 0.02, 0.02, 0.02, 0.02, 0.02, 0.02, 0.02, 0.02, 0.02, 0.02, 0.02, 0.02, 0.02, 0.02, 0.02, 0.02, 0.02, 0.02, 0.02, 0.02, 0.02, 0.02, 0.02, 0.02, 0.02, 0.02, 0.02, 0.02, 0.02, 0.02, 0.02, 0.02, 0.02, 0.02, 0.02, 0.02, 0.02, 0.02, 0.02, 0.02, 0.02, 0.02, 0.02, 0.02, 0.02, 0.02, 0.02, 0.02, 0.02, 0.02, 0.02, 0.02, 0.02, 0.02, 0.02, 0.02, 0.02, 0.02, 0.02, 0.02, 0.02, 0.02, 0.02, 0.02, 0.02, 0.02, 0.02, 0.02, 0.02, 0.02, 0.02, 0.02, 0.02, 0.02, 0.02, 0.02, 0.02, 0.02, 0.02, 0.02, 0.02, 0.02, 0.02, 0.02, 0.02, 0.02, 0.02, 0.02, 0.02, 0.02, 0.02, 0.02, 0.02, 0.02, 0.02, 0.02, 0.02, 0.02, 0.02, 0.02, 0.02, 0.02, 0.02, 0.02, 0.02, 0.02, 0.02, 0.02, 0.02, 0.02, 0.02, 0.02, 0.02, 0.02, 0.02, 0.02, 0.02, 0.02, 0.02, 0.02, 0.02, 0.02, 0.02, 0.02, 0.02, 0.02, 0.02, 0.02, 0.02, 0.02, 0.02, 0.02, 0.02, 0.02, 0.02, 0.02, 0.02, 0.02, 0.02, 0.02, 0.02, 0.02, 0.02, 0.02, 0.02, 0.02, 0.02, 0.02, 0.02, 0.02, 0.02, 0.02, 0.02, 0.02, 0.02, 0.02, 0.02, 0.02, 0.02, 0.02, 0.02, 0.02, 0.02, 0.02, 0.02, 0.02, 0.02, 0.02, 0.02, 0.02, 0.02, 0.02, 0.02, 0.02, 0.02, 0.02, 0.02, 0.02, 0.02, 0.02, 0.02, 0.02, 0.02, 0.02, 0.02, 0.02, 0.02, 0.02, 0.02, 0.02, 0.02, 0.02, 0.02, 0.02, 0.02, 0.02, 0.02, 0.02, 0.02, 0.02, 0.02, 0.02, 0.02, 0.02, 0.02, 0.02, 0.02, 0.02, 0.02, 0.02, 0.02, 0.02, 0.02, 0.02, 0.02, 0.02, 0.02, 0.02, 0.02, 0.02, 0.02, 0.02, 0.02, 0.02, 0.02, 0.02, 0.02, 0.02, 0.02, 0.02, 0.02, 0.02, 0.02, 0.02, 0.02, 0.02, 0.02, 0.02, 0.02, 0.02, 0.02, 0.02, 0.02, 0.02, 0.02, 0.02, 0.02, 0.02, 0.02, 0.02, 0.02, 0.02, 0.02, 0.02, 0.02, 0.02, 0.02, 0.02, 0.02, 0.02, 0.02, 0.02, 0.02, 0.02, 0.02, 0.02, 0.02, 0.02, 0.02, 0.02, 0.02, 0.02, 0.02, 0.02, 0.02, 0.02, 0.02, 0.02, 0.02, 0.02, 0.02, 0.02, 0.02, 0.02, 0.02, 0.02, 0.02, 0.02, 0.02, 0.02, 0.02, 0.02, 0.02, 0.02, 0.02, 0.02, 0.02, 0.02, 0.02, 0.02, 0.02, 0.02, 0.02, 0.02, 0.02, 0.02, 0.02, 0.02, 0.02, 0.02, 0.02, 0.02, 0.02, 0.02, 0.01, 0.01, 0.01, 0.01, 0.01, 0.01, 0.01, 0.01, 0.01, 0.01, 0.01, 0.01, 0.01, 0.01, 0.01, 0.01, 0.01, 0.01, 0.01, 0.01, 0.01, 0.01, 0.01, 0.01, 0.01, 0.01, 0.01, 0.01, 0.01, 0.01, 0.01, 0.01, 0.01, 0.01, 0.01, 0.01, 0.01, 0.01, 0.01, 0.01, 0.01, 0.01, 0.01, 0.01, 0.01, 0.01, 0.01, 0.01, 0.01, 0.01, 0.01, 0.01, 0.01, 0.01, 0.01, 0.01, 0.01, 0.01, 0.01, 0.01, 0.01, 0.01, 0.01, 0.01, 0.01, 0.01, 0.01, 0.01, 0.01, 0.01, 0.01, 0.01, 0.01, 0.01, 0.01, 0.01, 0.01, 0.01, 0.01, 0.01, 0.01, 0.01, 0.01, 0.01, 0.01, 0.01, 0.01, 0.01, 0.01, 0.01, 0.01, 0.01, 0.01, 0.01, 0.01, 0.01, 0.01, 0.01, 0.01, 0.01, 0.01, 0.01, 0.01, 0.01, 0.01, 0.01, 0.01, 0.01, 0.01, 0.01, 0.01, 0.01, 0.01, 0.01, 0.01, 0.01, 0.01, 0.01, 0.01, 0.01, 0.01, 0.01, 0.01, 0.01, 0.01, 0.01, 0.01, 0.01, 0.01, 0.01, 0.01, 0.01, 0.01, 0.01, 0.01, 0.01, 0.01, 0.01, 0.01, 0.01, 0.01, 0.01, 0.01, 0.01, 0.01, 0.01, 0.01, 0.01, 0.01, 0.01, 0.01, 0.01, 0.01, 0.01, 0.01, 0.01, 0.01, 0.01, 0.01, 0.01, 0.01, 0.01, 0.01, 0.01, 0.01, 0.01, 0.01, 0.01, 0.01, 0.01, 0.01, 0.01, 0.01, 0.01, 0.01, 0.01, 0.01, 0.01, 0.01, 0.01, 0.01, 0.01, 0.01, 0.01, 0.01, 0.01, 0.01, 0.01, 0.01, 0.01, 0.01, 0.01, 0.01, 0.01, 0.01, 0.01, 0.01, 0.01, 0.01, 0.01, 0.01, 0.01, 0.01, 0.01, 0.01, 0.01, 0.01, 0.01, 0.01, 0.01, 0.01, 0.01, 0.01, 0.01, 0.01, 0.01, 0.01, 0.01, 0.01, 0.01, 0.01, 0.01, 0.01, 0.01, 0.01, 0.01, 0.01, 0.01, 0.01, 0.01, 0.01, 0.01, 0.01, 0.01, 0.01, 0.01, 0.01, 0.01, 0.01, 0.01, 0.01, 0.01, 0.01, 0.01, 0.01, 0.01, 0.01, 0.01, 0.01, 0.01, 0.01, 0.01, 0.01, 0.01, 0.01, 0.01, 0.01, 0.01]}],                        {\"template\": {\"data\": {\"bar\": [{\"error_x\": {\"color\": \"#2a3f5f\"}, \"error_y\": {\"color\": \"#2a3f5f\"}, \"marker\": {\"line\": {\"color\": \"#E5ECF6\", \"width\": 0.5}}, \"type\": \"bar\"}], \"barpolar\": [{\"marker\": {\"line\": {\"color\": \"#E5ECF6\", \"width\": 0.5}}, \"type\": \"barpolar\"}], \"carpet\": [{\"aaxis\": {\"endlinecolor\": \"#2a3f5f\", \"gridcolor\": \"white\", \"linecolor\": \"white\", \"minorgridcolor\": \"white\", \"startlinecolor\": \"#2a3f5f\"}, \"baxis\": {\"endlinecolor\": \"#2a3f5f\", \"gridcolor\": \"white\", \"linecolor\": \"white\", \"minorgridcolor\": \"white\", \"startlinecolor\": \"#2a3f5f\"}, \"type\": \"carpet\"}], \"choropleth\": [{\"colorbar\": {\"outlinewidth\": 0, \"ticks\": \"\"}, \"type\": \"choropleth\"}], \"contour\": [{\"colorbar\": {\"outlinewidth\": 0, \"ticks\": \"\"}, \"colorscale\": [[0.0, \"#0d0887\"], [0.1111111111111111, \"#46039f\"], [0.2222222222222222, \"#7201a8\"], [0.3333333333333333, \"#9c179e\"], [0.4444444444444444, \"#bd3786\"], [0.5555555555555556, \"#d8576b\"], [0.6666666666666666, \"#ed7953\"], [0.7777777777777778, \"#fb9f3a\"], [0.8888888888888888, \"#fdca26\"], [1.0, \"#f0f921\"]], \"type\": \"contour\"}], \"contourcarpet\": [{\"colorbar\": {\"outlinewidth\": 0, \"ticks\": \"\"}, \"type\": \"contourcarpet\"}], \"heatmap\": [{\"colorbar\": {\"outlinewidth\": 0, \"ticks\": \"\"}, \"colorscale\": [[0.0, \"#0d0887\"], [0.1111111111111111, \"#46039f\"], [0.2222222222222222, \"#7201a8\"], [0.3333333333333333, \"#9c179e\"], [0.4444444444444444, \"#bd3786\"], [0.5555555555555556, \"#d8576b\"], [0.6666666666666666, \"#ed7953\"], [0.7777777777777778, \"#fb9f3a\"], [0.8888888888888888, \"#fdca26\"], [1.0, \"#f0f921\"]], \"type\": \"heatmap\"}], \"heatmapgl\": [{\"colorbar\": {\"outlinewidth\": 0, \"ticks\": \"\"}, \"colorscale\": [[0.0, \"#0d0887\"], [0.1111111111111111, \"#46039f\"], [0.2222222222222222, \"#7201a8\"], [0.3333333333333333, \"#9c179e\"], [0.4444444444444444, \"#bd3786\"], [0.5555555555555556, \"#d8576b\"], [0.6666666666666666, \"#ed7953\"], [0.7777777777777778, \"#fb9f3a\"], [0.8888888888888888, \"#fdca26\"], [1.0, \"#f0f921\"]], \"type\": \"heatmapgl\"}], \"histogram\": [{\"marker\": {\"colorbar\": {\"outlinewidth\": 0, \"ticks\": \"\"}}, \"type\": \"histogram\"}], \"histogram2d\": [{\"colorbar\": {\"outlinewidth\": 0, \"ticks\": \"\"}, \"colorscale\": [[0.0, \"#0d0887\"], [0.1111111111111111, \"#46039f\"], [0.2222222222222222, \"#7201a8\"], [0.3333333333333333, \"#9c179e\"], [0.4444444444444444, \"#bd3786\"], [0.5555555555555556, \"#d8576b\"], [0.6666666666666666, \"#ed7953\"], [0.7777777777777778, \"#fb9f3a\"], [0.8888888888888888, \"#fdca26\"], [1.0, \"#f0f921\"]], \"type\": \"histogram2d\"}], \"histogram2dcontour\": [{\"colorbar\": {\"outlinewidth\": 0, \"ticks\": \"\"}, \"colorscale\": [[0.0, \"#0d0887\"], [0.1111111111111111, \"#46039f\"], [0.2222222222222222, \"#7201a8\"], [0.3333333333333333, \"#9c179e\"], [0.4444444444444444, \"#bd3786\"], [0.5555555555555556, \"#d8576b\"], [0.6666666666666666, \"#ed7953\"], [0.7777777777777778, \"#fb9f3a\"], [0.8888888888888888, \"#fdca26\"], [1.0, \"#f0f921\"]], \"type\": \"histogram2dcontour\"}], \"mesh3d\": [{\"colorbar\": {\"outlinewidth\": 0, \"ticks\": \"\"}, \"type\": \"mesh3d\"}], \"parcoords\": [{\"line\": {\"colorbar\": {\"outlinewidth\": 0, \"ticks\": \"\"}}, \"type\": \"parcoords\"}], \"pie\": [{\"automargin\": true, \"type\": \"pie\"}], \"scatter\": [{\"marker\": {\"colorbar\": {\"outlinewidth\": 0, \"ticks\": \"\"}}, \"type\": \"scatter\"}], \"scatter3d\": [{\"line\": {\"colorbar\": {\"outlinewidth\": 0, \"ticks\": \"\"}}, \"marker\": {\"colorbar\": {\"outlinewidth\": 0, \"ticks\": \"\"}}, \"type\": \"scatter3d\"}], \"scattercarpet\": [{\"marker\": {\"colorbar\": {\"outlinewidth\": 0, \"ticks\": \"\"}}, \"type\": \"scattercarpet\"}], \"scattergeo\": [{\"marker\": {\"colorbar\": {\"outlinewidth\": 0, \"ticks\": \"\"}}, \"type\": \"scattergeo\"}], \"scattergl\": [{\"marker\": {\"colorbar\": {\"outlinewidth\": 0, \"ticks\": \"\"}}, \"type\": \"scattergl\"}], \"scattermapbox\": [{\"marker\": {\"colorbar\": {\"outlinewidth\": 0, \"ticks\": \"\"}}, \"type\": \"scattermapbox\"}], \"scatterpolar\": [{\"marker\": {\"colorbar\": {\"outlinewidth\": 0, \"ticks\": \"\"}}, \"type\": \"scatterpolar\"}], \"scatterpolargl\": [{\"marker\": {\"colorbar\": {\"outlinewidth\": 0, \"ticks\": \"\"}}, \"type\": \"scatterpolargl\"}], \"scatterternary\": [{\"marker\": {\"colorbar\": {\"outlinewidth\": 0, \"ticks\": \"\"}}, \"type\": \"scatterternary\"}], \"surface\": [{\"colorbar\": {\"outlinewidth\": 0, \"ticks\": \"\"}, \"colorscale\": [[0.0, \"#0d0887\"], [0.1111111111111111, \"#46039f\"], [0.2222222222222222, \"#7201a8\"], [0.3333333333333333, \"#9c179e\"], [0.4444444444444444, \"#bd3786\"], [0.5555555555555556, \"#d8576b\"], [0.6666666666666666, \"#ed7953\"], [0.7777777777777778, \"#fb9f3a\"], [0.8888888888888888, \"#fdca26\"], [1.0, \"#f0f921\"]], \"type\": \"surface\"}], \"table\": [{\"cells\": {\"fill\": {\"color\": \"#EBF0F8\"}, \"line\": {\"color\": \"white\"}}, \"header\": {\"fill\": {\"color\": \"#C8D4E3\"}, \"line\": {\"color\": \"white\"}}, \"type\": \"table\"}]}, \"layout\": {\"annotationdefaults\": {\"arrowcolor\": \"#2a3f5f\", \"arrowhead\": 0, \"arrowwidth\": 1}, \"coloraxis\": {\"colorbar\": {\"outlinewidth\": 0, \"ticks\": \"\"}}, \"colorscale\": {\"diverging\": [[0, \"#8e0152\"], [0.1, \"#c51b7d\"], [0.2, \"#de77ae\"], [0.3, \"#f1b6da\"], [0.4, \"#fde0ef\"], [0.5, \"#f7f7f7\"], [0.6, \"#e6f5d0\"], [0.7, \"#b8e186\"], [0.8, \"#7fbc41\"], [0.9, \"#4d9221\"], [1, \"#276419\"]], \"sequential\": [[0.0, \"#0d0887\"], [0.1111111111111111, \"#46039f\"], [0.2222222222222222, \"#7201a8\"], [0.3333333333333333, \"#9c179e\"], [0.4444444444444444, \"#bd3786\"], [0.5555555555555556, \"#d8576b\"], [0.6666666666666666, \"#ed7953\"], [0.7777777777777778, \"#fb9f3a\"], [0.8888888888888888, \"#fdca26\"], [1.0, \"#f0f921\"]], \"sequentialminus\": [[0.0, \"#0d0887\"], [0.1111111111111111, \"#46039f\"], [0.2222222222222222, \"#7201a8\"], [0.3333333333333333, \"#9c179e\"], [0.4444444444444444, \"#bd3786\"], [0.5555555555555556, \"#d8576b\"], [0.6666666666666666, \"#ed7953\"], [0.7777777777777778, \"#fb9f3a\"], [0.8888888888888888, \"#fdca26\"], [1.0, \"#f0f921\"]]}, \"colorway\": [\"#636efa\", \"#EF553B\", \"#00cc96\", \"#ab63fa\", \"#FFA15A\", \"#19d3f3\", \"#FF6692\", \"#B6E880\", \"#FF97FF\", \"#FECB52\"], \"font\": {\"color\": \"#2a3f5f\"}, \"geo\": {\"bgcolor\": \"white\", \"lakecolor\": \"white\", \"landcolor\": \"#E5ECF6\", \"showlakes\": true, \"showland\": true, \"subunitcolor\": \"white\"}, \"hoverlabel\": {\"align\": \"left\"}, \"hovermode\": \"closest\", \"mapbox\": {\"style\": \"light\"}, \"paper_bgcolor\": \"white\", \"plot_bgcolor\": \"#E5ECF6\", \"polar\": {\"angularaxis\": {\"gridcolor\": \"white\", \"linecolor\": \"white\", \"ticks\": \"\"}, \"bgcolor\": \"#E5ECF6\", \"radialaxis\": {\"gridcolor\": \"white\", \"linecolor\": \"white\", \"ticks\": \"\"}}, \"scene\": {\"xaxis\": {\"backgroundcolor\": \"#E5ECF6\", \"gridcolor\": \"white\", \"gridwidth\": 2, \"linecolor\": \"white\", \"showbackground\": true, \"ticks\": \"\", \"zerolinecolor\": \"white\"}, \"yaxis\": {\"backgroundcolor\": \"#E5ECF6\", \"gridcolor\": \"white\", \"gridwidth\": 2, \"linecolor\": \"white\", \"showbackground\": true, \"ticks\": \"\", \"zerolinecolor\": \"white\"}, \"zaxis\": {\"backgroundcolor\": \"#E5ECF6\", \"gridcolor\": \"white\", \"gridwidth\": 2, \"linecolor\": \"white\", \"showbackground\": true, \"ticks\": \"\", \"zerolinecolor\": \"white\"}}, \"shapedefaults\": {\"line\": {\"color\": \"#2a3f5f\"}}, \"ternary\": {\"aaxis\": {\"gridcolor\": \"white\", \"linecolor\": \"white\", \"ticks\": \"\"}, \"baxis\": {\"gridcolor\": \"white\", \"linecolor\": \"white\", \"ticks\": \"\"}, \"bgcolor\": \"#E5ECF6\", \"caxis\": {\"gridcolor\": \"white\", \"linecolor\": \"white\", \"ticks\": \"\"}}, \"title\": {\"x\": 0.05}, \"xaxis\": {\"automargin\": true, \"gridcolor\": \"white\", \"linecolor\": \"white\", \"ticks\": \"\", \"title\": {\"standoff\": 15}, \"zerolinecolor\": \"white\", \"zerolinewidth\": 2}, \"yaxis\": {\"automargin\": true, \"gridcolor\": \"white\", \"linecolor\": \"white\", \"ticks\": \"\", \"title\": {\"standoff\": 15}, \"zerolinecolor\": \"white\", \"zerolinewidth\": 2}}}, \"title\": {\"text\": \"Distribui\\u00e7\\u00e3o de vendas globais por console na decada de 10\"}},                        {\"responsive\": true}                    ).then(function(){\n",
       "                            \n",
       "var gd = document.getElementById('c073f32c-3dfc-479c-925f-f8e9a0f2551f');\n",
       "var x = new MutationObserver(function (mutations, observer) {{\n",
       "        var display = window.getComputedStyle(gd).display;\n",
       "        if (!display || display === 'none') {{\n",
       "            console.log([gd, 'removed!']);\n",
       "            Plotly.purge(gd);\n",
       "            observer.disconnect();\n",
       "        }}\n",
       "}});\n",
       "\n",
       "// Listen for the removal of the full notebook cells\n",
       "var notebookContainer = gd.closest('#notebook-container');\n",
       "if (notebookContainer) {{\n",
       "    x.observe(notebookContainer, {childList: true});\n",
       "}}\n",
       "\n",
       "// Listen for the clearing of the current output cell\n",
       "var outputEl = gd.closest('.output');\n",
       "if (outputEl) {{\n",
       "    x.observe(outputEl, {childList: true});\n",
       "}}\n",
       "\n",
       "                        })                };                });            </script>        </div>"
      ]
     },
     "metadata": {},
     "output_type": "display_data"
    }
   ],
   "source": [
    "df_10 = data.loc[data['Year'] >= 2010]\n",
    "fig = go.Figure(data=[go.Bar(x=df_10['Platform'], y=df_10['Global_Sales'])])\n",
    "# Customize aspect\n",
    "fig.update_traces(marker_color='rgb(158,202,225)', marker_line_color='rgb(8,48,107)',\n",
    "                  marker_line_width=1.5, opacity=0.6)\n",
    "fig.update_layout(title_text='Distribuição de vendas globais por console na decada de 10')\n",
    "fig.show()\n"
   ]
  },
  {
   "cell_type": "markdown",
   "metadata": {},
   "source": [
    "<h2>Quais jogos venderam mais nos ultimos 20 anos ? </h2>"
   ]
  },
  {
   "cell_type": "code",
   "execution_count": 41,
   "metadata": {},
   "outputs": [],
   "source": [
    "df_20_y = df_00.copy().append(df_10)"
   ]
  },
  {
   "cell_type": "code",
   "execution_count": 42,
   "metadata": {},
   "outputs": [],
   "source": [
    "df_20_y.sort_values(by='Global_Sales', ascending=False, inplace=True)"
   ]
  },
  {
   "cell_type": "code",
   "execution_count": 43,
   "metadata": {},
   "outputs": [],
   "source": [
    "df_20_y.drop_duplicates(inplace=True)"
   ]
  },
  {
   "cell_type": "code",
   "execution_count": 44,
   "metadata": {},
   "outputs": [
    {
     "data": {
      "text/html": [
       "<div>\n",
       "<style scoped>\n",
       "    .dataframe tbody tr th:only-of-type {\n",
       "        vertical-align: middle;\n",
       "    }\n",
       "\n",
       "    .dataframe tbody tr th {\n",
       "        vertical-align: top;\n",
       "    }\n",
       "\n",
       "    .dataframe thead th {\n",
       "        text-align: right;\n",
       "    }\n",
       "</style>\n",
       "<table border=\"1\" class=\"dataframe\">\n",
       "  <thead>\n",
       "    <tr style=\"text-align: right;\">\n",
       "      <th></th>\n",
       "      <th>Rank</th>\n",
       "      <th>Name</th>\n",
       "      <th>Platform</th>\n",
       "      <th>Year</th>\n",
       "      <th>Genre</th>\n",
       "      <th>Publisher</th>\n",
       "      <th>NA_Sales</th>\n",
       "      <th>EU_Sales</th>\n",
       "      <th>JP_Sales</th>\n",
       "      <th>Other_Sales</th>\n",
       "      <th>Global_Sales</th>\n",
       "    </tr>\n",
       "  </thead>\n",
       "  <tbody>\n",
       "    <tr>\n",
       "      <th>0</th>\n",
       "      <td>1</td>\n",
       "      <td>Wii Sports</td>\n",
       "      <td>Wii</td>\n",
       "      <td>2006.0</td>\n",
       "      <td>Sports</td>\n",
       "      <td>Nintendo</td>\n",
       "      <td>41.49</td>\n",
       "      <td>29.02</td>\n",
       "      <td>3.77</td>\n",
       "      <td>8.46</td>\n",
       "      <td>82.74</td>\n",
       "    </tr>\n",
       "    <tr>\n",
       "      <th>2</th>\n",
       "      <td>3</td>\n",
       "      <td>Mario Kart Wii</td>\n",
       "      <td>Wii</td>\n",
       "      <td>2008.0</td>\n",
       "      <td>Racing</td>\n",
       "      <td>Nintendo</td>\n",
       "      <td>15.85</td>\n",
       "      <td>12.88</td>\n",
       "      <td>3.79</td>\n",
       "      <td>3.31</td>\n",
       "      <td>35.82</td>\n",
       "    </tr>\n",
       "    <tr>\n",
       "      <th>3</th>\n",
       "      <td>4</td>\n",
       "      <td>Wii Sports Resort</td>\n",
       "      <td>Wii</td>\n",
       "      <td>2009.0</td>\n",
       "      <td>Sports</td>\n",
       "      <td>Nintendo</td>\n",
       "      <td>15.75</td>\n",
       "      <td>11.01</td>\n",
       "      <td>3.28</td>\n",
       "      <td>2.96</td>\n",
       "      <td>33.00</td>\n",
       "    </tr>\n",
       "    <tr>\n",
       "      <th>6</th>\n",
       "      <td>7</td>\n",
       "      <td>New Super Mario Bros.</td>\n",
       "      <td>DS</td>\n",
       "      <td>2006.0</td>\n",
       "      <td>Platform</td>\n",
       "      <td>Nintendo</td>\n",
       "      <td>11.38</td>\n",
       "      <td>9.23</td>\n",
       "      <td>6.50</td>\n",
       "      <td>2.90</td>\n",
       "      <td>30.01</td>\n",
       "    </tr>\n",
       "    <tr>\n",
       "      <th>7</th>\n",
       "      <td>8</td>\n",
       "      <td>Wii Play</td>\n",
       "      <td>Wii</td>\n",
       "      <td>2006.0</td>\n",
       "      <td>Misc</td>\n",
       "      <td>Nintendo</td>\n",
       "      <td>14.03</td>\n",
       "      <td>9.20</td>\n",
       "      <td>2.93</td>\n",
       "      <td>2.85</td>\n",
       "      <td>29.02</td>\n",
       "    </tr>\n",
       "    <tr>\n",
       "      <th>...</th>\n",
       "      <td>...</td>\n",
       "      <td>...</td>\n",
       "      <td>...</td>\n",
       "      <td>...</td>\n",
       "      <td>...</td>\n",
       "      <td>...</td>\n",
       "      <td>...</td>\n",
       "      <td>...</td>\n",
       "      <td>...</td>\n",
       "      <td>...</td>\n",
       "      <td>...</td>\n",
       "    </tr>\n",
       "    <tr>\n",
       "      <th>16474</th>\n",
       "      <td>16477</td>\n",
       "      <td>Total War Attila: Tyrants &amp; Kings</td>\n",
       "      <td>PC</td>\n",
       "      <td>2016.0</td>\n",
       "      <td>Strategy</td>\n",
       "      <td>Koch Media</td>\n",
       "      <td>0.00</td>\n",
       "      <td>0.01</td>\n",
       "      <td>0.00</td>\n",
       "      <td>0.00</td>\n",
       "      <td>0.01</td>\n",
       "    </tr>\n",
       "    <tr>\n",
       "      <th>16501</th>\n",
       "      <td>16504</td>\n",
       "      <td>Transformers: War for Cybertron (XBox 360, PS3...</td>\n",
       "      <td>PC</td>\n",
       "      <td>2010.0</td>\n",
       "      <td>Shooter</td>\n",
       "      <td>Activision</td>\n",
       "      <td>0.01</td>\n",
       "      <td>0.00</td>\n",
       "      <td>0.00</td>\n",
       "      <td>0.00</td>\n",
       "      <td>0.01</td>\n",
       "    </tr>\n",
       "    <tr>\n",
       "      <th>16500</th>\n",
       "      <td>16503</td>\n",
       "      <td>Satomi Hakkenden: Hachi Tamanoki</td>\n",
       "      <td>PSP</td>\n",
       "      <td>2014.0</td>\n",
       "      <td>Adventure</td>\n",
       "      <td>Quinrose</td>\n",
       "      <td>0.00</td>\n",
       "      <td>0.00</td>\n",
       "      <td>0.01</td>\n",
       "      <td>0.00</td>\n",
       "      <td>0.01</td>\n",
       "    </tr>\n",
       "    <tr>\n",
       "      <th>16499</th>\n",
       "      <td>16502</td>\n",
       "      <td>Irotoridori no Sekai: World's End Re-Birth</td>\n",
       "      <td>PSV</td>\n",
       "      <td>2015.0</td>\n",
       "      <td>Action</td>\n",
       "      <td>HuneX</td>\n",
       "      <td>0.00</td>\n",
       "      <td>0.00</td>\n",
       "      <td>0.01</td>\n",
       "      <td>0.00</td>\n",
       "      <td>0.01</td>\n",
       "    </tr>\n",
       "    <tr>\n",
       "      <th>16596</th>\n",
       "      <td>16599</td>\n",
       "      <td>Know How 2</td>\n",
       "      <td>DS</td>\n",
       "      <td>2010.0</td>\n",
       "      <td>Puzzle</td>\n",
       "      <td>7G//AMES</td>\n",
       "      <td>0.00</td>\n",
       "      <td>0.01</td>\n",
       "      <td>0.00</td>\n",
       "      <td>0.00</td>\n",
       "      <td>0.01</td>\n",
       "    </tr>\n",
       "  </tbody>\n",
       "</table>\n",
       "<p>14317 rows × 11 columns</p>\n",
       "</div>"
      ],
      "text/plain": [
       "        Rank                                               Name Platform  \\\n",
       "0          1                                         Wii Sports      Wii   \n",
       "2          3                                     Mario Kart Wii      Wii   \n",
       "3          4                                  Wii Sports Resort      Wii   \n",
       "6          7                              New Super Mario Bros.       DS   \n",
       "7          8                                           Wii Play      Wii   \n",
       "...      ...                                                ...      ...   \n",
       "16474  16477                  Total War Attila: Tyrants & Kings       PC   \n",
       "16501  16504  Transformers: War for Cybertron (XBox 360, PS3...       PC   \n",
       "16500  16503                   Satomi Hakkenden: Hachi Tamanoki      PSP   \n",
       "16499  16502         Irotoridori no Sekai: World's End Re-Birth      PSV   \n",
       "16596  16599                                         Know How 2       DS   \n",
       "\n",
       "         Year      Genre   Publisher  NA_Sales  EU_Sales  JP_Sales  \\\n",
       "0      2006.0     Sports    Nintendo     41.49     29.02      3.77   \n",
       "2      2008.0     Racing    Nintendo     15.85     12.88      3.79   \n",
       "3      2009.0     Sports    Nintendo     15.75     11.01      3.28   \n",
       "6      2006.0   Platform    Nintendo     11.38      9.23      6.50   \n",
       "7      2006.0       Misc    Nintendo     14.03      9.20      2.93   \n",
       "...       ...        ...         ...       ...       ...       ...   \n",
       "16474  2016.0   Strategy  Koch Media      0.00      0.01      0.00   \n",
       "16501  2010.0    Shooter  Activision      0.01      0.00      0.00   \n",
       "16500  2014.0  Adventure    Quinrose      0.00      0.00      0.01   \n",
       "16499  2015.0     Action       HuneX      0.00      0.00      0.01   \n",
       "16596  2010.0     Puzzle    7G//AMES      0.00      0.01      0.00   \n",
       "\n",
       "       Other_Sales  Global_Sales  \n",
       "0             8.46         82.74  \n",
       "2             3.31         35.82  \n",
       "3             2.96         33.00  \n",
       "6             2.90         30.01  \n",
       "7             2.85         29.02  \n",
       "...            ...           ...  \n",
       "16474         0.00          0.01  \n",
       "16501         0.00          0.01  \n",
       "16500         0.00          0.01  \n",
       "16499         0.00          0.01  \n",
       "16596         0.00          0.01  \n",
       "\n",
       "[14317 rows x 11 columns]"
      ]
     },
     "execution_count": 44,
     "metadata": {},
     "output_type": "execute_result"
    }
   ],
   "source": [
    "df_20_y.sort_values(by='Global_Sales', ascending=False)"
   ]
  },
  {
   "cell_type": "code",
   "execution_count": 45,
   "metadata": {},
   "outputs": [
    {
     "data": {
      "application/vnd.plotly.v1+json": {
       "config": {
        "plotlyServerURL": "https://plot.ly"
       },
       "data": [
        {
         "marker": {
          "color": "rgb(158,202,225)",
          "line": {
           "color": "rgb(8,48,107)",
           "width": 1.5
          }
         },
         "opacity": 0.6,
         "type": "bar",
         "x": [
          "Wii Sports",
          "Mario Kart Wii",
          "Wii Sports Resort",
          "New Super Mario Bros.",
          "Wii Play",
          "New Super Mario Bros. Wii",
          "Nintendogs",
          "Mario Kart DS",
          "Wii Fit",
          "Wii Fit Plus"
         ],
         "y": [
          82.74,
          35.82,
          33,
          30.01,
          29.02,
          28.62,
          24.76,
          23.42,
          22.72,
          22
         ]
        }
       ],
       "layout": {
        "template": {
         "data": {
          "bar": [
           {
            "error_x": {
             "color": "#2a3f5f"
            },
            "error_y": {
             "color": "#2a3f5f"
            },
            "marker": {
             "line": {
              "color": "#E5ECF6",
              "width": 0.5
             }
            },
            "type": "bar"
           }
          ],
          "barpolar": [
           {
            "marker": {
             "line": {
              "color": "#E5ECF6",
              "width": 0.5
             }
            },
            "type": "barpolar"
           }
          ],
          "carpet": [
           {
            "aaxis": {
             "endlinecolor": "#2a3f5f",
             "gridcolor": "white",
             "linecolor": "white",
             "minorgridcolor": "white",
             "startlinecolor": "#2a3f5f"
            },
            "baxis": {
             "endlinecolor": "#2a3f5f",
             "gridcolor": "white",
             "linecolor": "white",
             "minorgridcolor": "white",
             "startlinecolor": "#2a3f5f"
            },
            "type": "carpet"
           }
          ],
          "choropleth": [
           {
            "colorbar": {
             "outlinewidth": 0,
             "ticks": ""
            },
            "type": "choropleth"
           }
          ],
          "contour": [
           {
            "colorbar": {
             "outlinewidth": 0,
             "ticks": ""
            },
            "colorscale": [
             [
              0,
              "#0d0887"
             ],
             [
              0.1111111111111111,
              "#46039f"
             ],
             [
              0.2222222222222222,
              "#7201a8"
             ],
             [
              0.3333333333333333,
              "#9c179e"
             ],
             [
              0.4444444444444444,
              "#bd3786"
             ],
             [
              0.5555555555555556,
              "#d8576b"
             ],
             [
              0.6666666666666666,
              "#ed7953"
             ],
             [
              0.7777777777777778,
              "#fb9f3a"
             ],
             [
              0.8888888888888888,
              "#fdca26"
             ],
             [
              1,
              "#f0f921"
             ]
            ],
            "type": "contour"
           }
          ],
          "contourcarpet": [
           {
            "colorbar": {
             "outlinewidth": 0,
             "ticks": ""
            },
            "type": "contourcarpet"
           }
          ],
          "heatmap": [
           {
            "colorbar": {
             "outlinewidth": 0,
             "ticks": ""
            },
            "colorscale": [
             [
              0,
              "#0d0887"
             ],
             [
              0.1111111111111111,
              "#46039f"
             ],
             [
              0.2222222222222222,
              "#7201a8"
             ],
             [
              0.3333333333333333,
              "#9c179e"
             ],
             [
              0.4444444444444444,
              "#bd3786"
             ],
             [
              0.5555555555555556,
              "#d8576b"
             ],
             [
              0.6666666666666666,
              "#ed7953"
             ],
             [
              0.7777777777777778,
              "#fb9f3a"
             ],
             [
              0.8888888888888888,
              "#fdca26"
             ],
             [
              1,
              "#f0f921"
             ]
            ],
            "type": "heatmap"
           }
          ],
          "heatmapgl": [
           {
            "colorbar": {
             "outlinewidth": 0,
             "ticks": ""
            },
            "colorscale": [
             [
              0,
              "#0d0887"
             ],
             [
              0.1111111111111111,
              "#46039f"
             ],
             [
              0.2222222222222222,
              "#7201a8"
             ],
             [
              0.3333333333333333,
              "#9c179e"
             ],
             [
              0.4444444444444444,
              "#bd3786"
             ],
             [
              0.5555555555555556,
              "#d8576b"
             ],
             [
              0.6666666666666666,
              "#ed7953"
             ],
             [
              0.7777777777777778,
              "#fb9f3a"
             ],
             [
              0.8888888888888888,
              "#fdca26"
             ],
             [
              1,
              "#f0f921"
             ]
            ],
            "type": "heatmapgl"
           }
          ],
          "histogram": [
           {
            "marker": {
             "colorbar": {
              "outlinewidth": 0,
              "ticks": ""
             }
            },
            "type": "histogram"
           }
          ],
          "histogram2d": [
           {
            "colorbar": {
             "outlinewidth": 0,
             "ticks": ""
            },
            "colorscale": [
             [
              0,
              "#0d0887"
             ],
             [
              0.1111111111111111,
              "#46039f"
             ],
             [
              0.2222222222222222,
              "#7201a8"
             ],
             [
              0.3333333333333333,
              "#9c179e"
             ],
             [
              0.4444444444444444,
              "#bd3786"
             ],
             [
              0.5555555555555556,
              "#d8576b"
             ],
             [
              0.6666666666666666,
              "#ed7953"
             ],
             [
              0.7777777777777778,
              "#fb9f3a"
             ],
             [
              0.8888888888888888,
              "#fdca26"
             ],
             [
              1,
              "#f0f921"
             ]
            ],
            "type": "histogram2d"
           }
          ],
          "histogram2dcontour": [
           {
            "colorbar": {
             "outlinewidth": 0,
             "ticks": ""
            },
            "colorscale": [
             [
              0,
              "#0d0887"
             ],
             [
              0.1111111111111111,
              "#46039f"
             ],
             [
              0.2222222222222222,
              "#7201a8"
             ],
             [
              0.3333333333333333,
              "#9c179e"
             ],
             [
              0.4444444444444444,
              "#bd3786"
             ],
             [
              0.5555555555555556,
              "#d8576b"
             ],
             [
              0.6666666666666666,
              "#ed7953"
             ],
             [
              0.7777777777777778,
              "#fb9f3a"
             ],
             [
              0.8888888888888888,
              "#fdca26"
             ],
             [
              1,
              "#f0f921"
             ]
            ],
            "type": "histogram2dcontour"
           }
          ],
          "mesh3d": [
           {
            "colorbar": {
             "outlinewidth": 0,
             "ticks": ""
            },
            "type": "mesh3d"
           }
          ],
          "parcoords": [
           {
            "line": {
             "colorbar": {
              "outlinewidth": 0,
              "ticks": ""
             }
            },
            "type": "parcoords"
           }
          ],
          "pie": [
           {
            "automargin": true,
            "type": "pie"
           }
          ],
          "scatter": [
           {
            "marker": {
             "colorbar": {
              "outlinewidth": 0,
              "ticks": ""
             }
            },
            "type": "scatter"
           }
          ],
          "scatter3d": [
           {
            "line": {
             "colorbar": {
              "outlinewidth": 0,
              "ticks": ""
             }
            },
            "marker": {
             "colorbar": {
              "outlinewidth": 0,
              "ticks": ""
             }
            },
            "type": "scatter3d"
           }
          ],
          "scattercarpet": [
           {
            "marker": {
             "colorbar": {
              "outlinewidth": 0,
              "ticks": ""
             }
            },
            "type": "scattercarpet"
           }
          ],
          "scattergeo": [
           {
            "marker": {
             "colorbar": {
              "outlinewidth": 0,
              "ticks": ""
             }
            },
            "type": "scattergeo"
           }
          ],
          "scattergl": [
           {
            "marker": {
             "colorbar": {
              "outlinewidth": 0,
              "ticks": ""
             }
            },
            "type": "scattergl"
           }
          ],
          "scattermapbox": [
           {
            "marker": {
             "colorbar": {
              "outlinewidth": 0,
              "ticks": ""
             }
            },
            "type": "scattermapbox"
           }
          ],
          "scatterpolar": [
           {
            "marker": {
             "colorbar": {
              "outlinewidth": 0,
              "ticks": ""
             }
            },
            "type": "scatterpolar"
           }
          ],
          "scatterpolargl": [
           {
            "marker": {
             "colorbar": {
              "outlinewidth": 0,
              "ticks": ""
             }
            },
            "type": "scatterpolargl"
           }
          ],
          "scatterternary": [
           {
            "marker": {
             "colorbar": {
              "outlinewidth": 0,
              "ticks": ""
             }
            },
            "type": "scatterternary"
           }
          ],
          "surface": [
           {
            "colorbar": {
             "outlinewidth": 0,
             "ticks": ""
            },
            "colorscale": [
             [
              0,
              "#0d0887"
             ],
             [
              0.1111111111111111,
              "#46039f"
             ],
             [
              0.2222222222222222,
              "#7201a8"
             ],
             [
              0.3333333333333333,
              "#9c179e"
             ],
             [
              0.4444444444444444,
              "#bd3786"
             ],
             [
              0.5555555555555556,
              "#d8576b"
             ],
             [
              0.6666666666666666,
              "#ed7953"
             ],
             [
              0.7777777777777778,
              "#fb9f3a"
             ],
             [
              0.8888888888888888,
              "#fdca26"
             ],
             [
              1,
              "#f0f921"
             ]
            ],
            "type": "surface"
           }
          ],
          "table": [
           {
            "cells": {
             "fill": {
              "color": "#EBF0F8"
             },
             "line": {
              "color": "white"
             }
            },
            "header": {
             "fill": {
              "color": "#C8D4E3"
             },
             "line": {
              "color": "white"
             }
            },
            "type": "table"
           }
          ]
         },
         "layout": {
          "annotationdefaults": {
           "arrowcolor": "#2a3f5f",
           "arrowhead": 0,
           "arrowwidth": 1
          },
          "coloraxis": {
           "colorbar": {
            "outlinewidth": 0,
            "ticks": ""
           }
          },
          "colorscale": {
           "diverging": [
            [
             0,
             "#8e0152"
            ],
            [
             0.1,
             "#c51b7d"
            ],
            [
             0.2,
             "#de77ae"
            ],
            [
             0.3,
             "#f1b6da"
            ],
            [
             0.4,
             "#fde0ef"
            ],
            [
             0.5,
             "#f7f7f7"
            ],
            [
             0.6,
             "#e6f5d0"
            ],
            [
             0.7,
             "#b8e186"
            ],
            [
             0.8,
             "#7fbc41"
            ],
            [
             0.9,
             "#4d9221"
            ],
            [
             1,
             "#276419"
            ]
           ],
           "sequential": [
            [
             0,
             "#0d0887"
            ],
            [
             0.1111111111111111,
             "#46039f"
            ],
            [
             0.2222222222222222,
             "#7201a8"
            ],
            [
             0.3333333333333333,
             "#9c179e"
            ],
            [
             0.4444444444444444,
             "#bd3786"
            ],
            [
             0.5555555555555556,
             "#d8576b"
            ],
            [
             0.6666666666666666,
             "#ed7953"
            ],
            [
             0.7777777777777778,
             "#fb9f3a"
            ],
            [
             0.8888888888888888,
             "#fdca26"
            ],
            [
             1,
             "#f0f921"
            ]
           ],
           "sequentialminus": [
            [
             0,
             "#0d0887"
            ],
            [
             0.1111111111111111,
             "#46039f"
            ],
            [
             0.2222222222222222,
             "#7201a8"
            ],
            [
             0.3333333333333333,
             "#9c179e"
            ],
            [
             0.4444444444444444,
             "#bd3786"
            ],
            [
             0.5555555555555556,
             "#d8576b"
            ],
            [
             0.6666666666666666,
             "#ed7953"
            ],
            [
             0.7777777777777778,
             "#fb9f3a"
            ],
            [
             0.8888888888888888,
             "#fdca26"
            ],
            [
             1,
             "#f0f921"
            ]
           ]
          },
          "colorway": [
           "#636efa",
           "#EF553B",
           "#00cc96",
           "#ab63fa",
           "#FFA15A",
           "#19d3f3",
           "#FF6692",
           "#B6E880",
           "#FF97FF",
           "#FECB52"
          ],
          "font": {
           "color": "#2a3f5f"
          },
          "geo": {
           "bgcolor": "white",
           "lakecolor": "white",
           "landcolor": "#E5ECF6",
           "showlakes": true,
           "showland": true,
           "subunitcolor": "white"
          },
          "hoverlabel": {
           "align": "left"
          },
          "hovermode": "closest",
          "mapbox": {
           "style": "light"
          },
          "paper_bgcolor": "white",
          "plot_bgcolor": "#E5ECF6",
          "polar": {
           "angularaxis": {
            "gridcolor": "white",
            "linecolor": "white",
            "ticks": ""
           },
           "bgcolor": "#E5ECF6",
           "radialaxis": {
            "gridcolor": "white",
            "linecolor": "white",
            "ticks": ""
           }
          },
          "scene": {
           "xaxis": {
            "backgroundcolor": "#E5ECF6",
            "gridcolor": "white",
            "gridwidth": 2,
            "linecolor": "white",
            "showbackground": true,
            "ticks": "",
            "zerolinecolor": "white"
           },
           "yaxis": {
            "backgroundcolor": "#E5ECF6",
            "gridcolor": "white",
            "gridwidth": 2,
            "linecolor": "white",
            "showbackground": true,
            "ticks": "",
            "zerolinecolor": "white"
           },
           "zaxis": {
            "backgroundcolor": "#E5ECF6",
            "gridcolor": "white",
            "gridwidth": 2,
            "linecolor": "white",
            "showbackground": true,
            "ticks": "",
            "zerolinecolor": "white"
           }
          },
          "shapedefaults": {
           "line": {
            "color": "#2a3f5f"
           }
          },
          "ternary": {
           "aaxis": {
            "gridcolor": "white",
            "linecolor": "white",
            "ticks": ""
           },
           "baxis": {
            "gridcolor": "white",
            "linecolor": "white",
            "ticks": ""
           },
           "bgcolor": "#E5ECF6",
           "caxis": {
            "gridcolor": "white",
            "linecolor": "white",
            "ticks": ""
           }
          },
          "title": {
           "x": 0.05
          },
          "xaxis": {
           "automargin": true,
           "gridcolor": "white",
           "linecolor": "white",
           "ticks": "",
           "title": {
            "standoff": 15
           },
           "zerolinecolor": "white",
           "zerolinewidth": 2
          },
          "yaxis": {
           "automargin": true,
           "gridcolor": "white",
           "linecolor": "white",
           "ticks": "",
           "title": {
            "standoff": 15
           },
           "zerolinecolor": "white",
           "zerolinewidth": 2
          }
         }
        },
        "title": {
         "text": "Quais jogos mais venderam nos ultimos 20 anos?"
        }
       }
      },
      "text/html": [
       "<div>                            <div id=\"2be3bc7a-78ee-4d67-9c4f-b19c8af9e892\" class=\"plotly-graph-div\" style=\"height:525px; width:100%;\"></div>            <script type=\"text/javascript\">                require([\"plotly\"], function(Plotly) {                    window.PLOTLYENV=window.PLOTLYENV || {};                                    if (document.getElementById(\"2be3bc7a-78ee-4d67-9c4f-b19c8af9e892\")) {                    Plotly.newPlot(                        \"2be3bc7a-78ee-4d67-9c4f-b19c8af9e892\",                        [{\"marker\": {\"color\": \"rgb(158,202,225)\", \"line\": {\"color\": \"rgb(8,48,107)\", \"width\": 1.5}}, \"opacity\": 0.6, \"type\": \"bar\", \"x\": [\"Wii Sports\", \"Mario Kart Wii\", \"Wii Sports Resort\", \"New Super Mario Bros.\", \"Wii Play\", \"New Super Mario Bros. Wii\", \"Nintendogs\", \"Mario Kart DS\", \"Wii Fit\", \"Wii Fit Plus\"], \"y\": [82.74, 35.82, 33.0, 30.01, 29.02, 28.62, 24.76, 23.42, 22.72, 22.0]}],                        {\"template\": {\"data\": {\"bar\": [{\"error_x\": {\"color\": \"#2a3f5f\"}, \"error_y\": {\"color\": \"#2a3f5f\"}, \"marker\": {\"line\": {\"color\": \"#E5ECF6\", \"width\": 0.5}}, \"type\": \"bar\"}], \"barpolar\": [{\"marker\": {\"line\": {\"color\": \"#E5ECF6\", \"width\": 0.5}}, \"type\": \"barpolar\"}], \"carpet\": [{\"aaxis\": {\"endlinecolor\": \"#2a3f5f\", \"gridcolor\": \"white\", \"linecolor\": \"white\", \"minorgridcolor\": \"white\", \"startlinecolor\": \"#2a3f5f\"}, \"baxis\": {\"endlinecolor\": \"#2a3f5f\", \"gridcolor\": \"white\", \"linecolor\": \"white\", \"minorgridcolor\": \"white\", \"startlinecolor\": \"#2a3f5f\"}, \"type\": \"carpet\"}], \"choropleth\": [{\"colorbar\": {\"outlinewidth\": 0, \"ticks\": \"\"}, \"type\": \"choropleth\"}], \"contour\": [{\"colorbar\": {\"outlinewidth\": 0, \"ticks\": \"\"}, \"colorscale\": [[0.0, \"#0d0887\"], [0.1111111111111111, \"#46039f\"], [0.2222222222222222, \"#7201a8\"], [0.3333333333333333, \"#9c179e\"], [0.4444444444444444, \"#bd3786\"], [0.5555555555555556, \"#d8576b\"], [0.6666666666666666, \"#ed7953\"], [0.7777777777777778, \"#fb9f3a\"], [0.8888888888888888, \"#fdca26\"], [1.0, \"#f0f921\"]], \"type\": \"contour\"}], \"contourcarpet\": [{\"colorbar\": {\"outlinewidth\": 0, \"ticks\": \"\"}, \"type\": \"contourcarpet\"}], \"heatmap\": [{\"colorbar\": {\"outlinewidth\": 0, \"ticks\": \"\"}, \"colorscale\": [[0.0, \"#0d0887\"], [0.1111111111111111, \"#46039f\"], [0.2222222222222222, \"#7201a8\"], [0.3333333333333333, \"#9c179e\"], [0.4444444444444444, \"#bd3786\"], [0.5555555555555556, \"#d8576b\"], [0.6666666666666666, \"#ed7953\"], [0.7777777777777778, \"#fb9f3a\"], [0.8888888888888888, \"#fdca26\"], [1.0, \"#f0f921\"]], \"type\": \"heatmap\"}], \"heatmapgl\": [{\"colorbar\": {\"outlinewidth\": 0, \"ticks\": \"\"}, \"colorscale\": [[0.0, \"#0d0887\"], [0.1111111111111111, \"#46039f\"], [0.2222222222222222, \"#7201a8\"], [0.3333333333333333, \"#9c179e\"], [0.4444444444444444, \"#bd3786\"], [0.5555555555555556, \"#d8576b\"], [0.6666666666666666, \"#ed7953\"], [0.7777777777777778, \"#fb9f3a\"], [0.8888888888888888, \"#fdca26\"], [1.0, \"#f0f921\"]], \"type\": \"heatmapgl\"}], \"histogram\": [{\"marker\": {\"colorbar\": {\"outlinewidth\": 0, \"ticks\": \"\"}}, \"type\": \"histogram\"}], \"histogram2d\": [{\"colorbar\": {\"outlinewidth\": 0, \"ticks\": \"\"}, \"colorscale\": [[0.0, \"#0d0887\"], [0.1111111111111111, \"#46039f\"], [0.2222222222222222, \"#7201a8\"], [0.3333333333333333, \"#9c179e\"], [0.4444444444444444, \"#bd3786\"], [0.5555555555555556, \"#d8576b\"], [0.6666666666666666, \"#ed7953\"], [0.7777777777777778, \"#fb9f3a\"], [0.8888888888888888, \"#fdca26\"], [1.0, \"#f0f921\"]], \"type\": \"histogram2d\"}], \"histogram2dcontour\": [{\"colorbar\": {\"outlinewidth\": 0, \"ticks\": \"\"}, \"colorscale\": [[0.0, \"#0d0887\"], [0.1111111111111111, \"#46039f\"], [0.2222222222222222, \"#7201a8\"], [0.3333333333333333, \"#9c179e\"], [0.4444444444444444, \"#bd3786\"], [0.5555555555555556, \"#d8576b\"], [0.6666666666666666, \"#ed7953\"], [0.7777777777777778, \"#fb9f3a\"], [0.8888888888888888, \"#fdca26\"], [1.0, \"#f0f921\"]], \"type\": \"histogram2dcontour\"}], \"mesh3d\": [{\"colorbar\": {\"outlinewidth\": 0, \"ticks\": \"\"}, \"type\": \"mesh3d\"}], \"parcoords\": [{\"line\": {\"colorbar\": {\"outlinewidth\": 0, \"ticks\": \"\"}}, \"type\": \"parcoords\"}], \"pie\": [{\"automargin\": true, \"type\": \"pie\"}], \"scatter\": [{\"marker\": {\"colorbar\": {\"outlinewidth\": 0, \"ticks\": \"\"}}, \"type\": \"scatter\"}], \"scatter3d\": [{\"line\": {\"colorbar\": {\"outlinewidth\": 0, \"ticks\": \"\"}}, \"marker\": {\"colorbar\": {\"outlinewidth\": 0, \"ticks\": \"\"}}, \"type\": \"scatter3d\"}], \"scattercarpet\": [{\"marker\": {\"colorbar\": {\"outlinewidth\": 0, \"ticks\": \"\"}}, \"type\": \"scattercarpet\"}], \"scattergeo\": [{\"marker\": {\"colorbar\": {\"outlinewidth\": 0, \"ticks\": \"\"}}, \"type\": \"scattergeo\"}], \"scattergl\": [{\"marker\": {\"colorbar\": {\"outlinewidth\": 0, \"ticks\": \"\"}}, \"type\": \"scattergl\"}], \"scattermapbox\": [{\"marker\": {\"colorbar\": {\"outlinewidth\": 0, \"ticks\": \"\"}}, \"type\": \"scattermapbox\"}], \"scatterpolar\": [{\"marker\": {\"colorbar\": {\"outlinewidth\": 0, \"ticks\": \"\"}}, \"type\": \"scatterpolar\"}], \"scatterpolargl\": [{\"marker\": {\"colorbar\": {\"outlinewidth\": 0, \"ticks\": \"\"}}, \"type\": \"scatterpolargl\"}], \"scatterternary\": [{\"marker\": {\"colorbar\": {\"outlinewidth\": 0, \"ticks\": \"\"}}, \"type\": \"scatterternary\"}], \"surface\": [{\"colorbar\": {\"outlinewidth\": 0, \"ticks\": \"\"}, \"colorscale\": [[0.0, \"#0d0887\"], [0.1111111111111111, \"#46039f\"], [0.2222222222222222, \"#7201a8\"], [0.3333333333333333, \"#9c179e\"], [0.4444444444444444, \"#bd3786\"], [0.5555555555555556, \"#d8576b\"], [0.6666666666666666, \"#ed7953\"], [0.7777777777777778, \"#fb9f3a\"], [0.8888888888888888, \"#fdca26\"], [1.0, \"#f0f921\"]], \"type\": \"surface\"}], \"table\": [{\"cells\": {\"fill\": {\"color\": \"#EBF0F8\"}, \"line\": {\"color\": \"white\"}}, \"header\": {\"fill\": {\"color\": \"#C8D4E3\"}, \"line\": {\"color\": \"white\"}}, \"type\": \"table\"}]}, \"layout\": {\"annotationdefaults\": {\"arrowcolor\": \"#2a3f5f\", \"arrowhead\": 0, \"arrowwidth\": 1}, \"coloraxis\": {\"colorbar\": {\"outlinewidth\": 0, \"ticks\": \"\"}}, \"colorscale\": {\"diverging\": [[0, \"#8e0152\"], [0.1, \"#c51b7d\"], [0.2, \"#de77ae\"], [0.3, \"#f1b6da\"], [0.4, \"#fde0ef\"], [0.5, \"#f7f7f7\"], [0.6, \"#e6f5d0\"], [0.7, \"#b8e186\"], [0.8, \"#7fbc41\"], [0.9, \"#4d9221\"], [1, \"#276419\"]], \"sequential\": [[0.0, \"#0d0887\"], [0.1111111111111111, \"#46039f\"], [0.2222222222222222, \"#7201a8\"], [0.3333333333333333, \"#9c179e\"], [0.4444444444444444, \"#bd3786\"], [0.5555555555555556, \"#d8576b\"], [0.6666666666666666, \"#ed7953\"], [0.7777777777777778, \"#fb9f3a\"], [0.8888888888888888, \"#fdca26\"], [1.0, \"#f0f921\"]], \"sequentialminus\": [[0.0, \"#0d0887\"], [0.1111111111111111, \"#46039f\"], [0.2222222222222222, \"#7201a8\"], [0.3333333333333333, \"#9c179e\"], [0.4444444444444444, \"#bd3786\"], [0.5555555555555556, \"#d8576b\"], [0.6666666666666666, \"#ed7953\"], [0.7777777777777778, \"#fb9f3a\"], [0.8888888888888888, \"#fdca26\"], [1.0, \"#f0f921\"]]}, \"colorway\": [\"#636efa\", \"#EF553B\", \"#00cc96\", \"#ab63fa\", \"#FFA15A\", \"#19d3f3\", \"#FF6692\", \"#B6E880\", \"#FF97FF\", \"#FECB52\"], \"font\": {\"color\": \"#2a3f5f\"}, \"geo\": {\"bgcolor\": \"white\", \"lakecolor\": \"white\", \"landcolor\": \"#E5ECF6\", \"showlakes\": true, \"showland\": true, \"subunitcolor\": \"white\"}, \"hoverlabel\": {\"align\": \"left\"}, \"hovermode\": \"closest\", \"mapbox\": {\"style\": \"light\"}, \"paper_bgcolor\": \"white\", \"plot_bgcolor\": \"#E5ECF6\", \"polar\": {\"angularaxis\": {\"gridcolor\": \"white\", \"linecolor\": \"white\", \"ticks\": \"\"}, \"bgcolor\": \"#E5ECF6\", \"radialaxis\": {\"gridcolor\": \"white\", \"linecolor\": \"white\", \"ticks\": \"\"}}, \"scene\": {\"xaxis\": {\"backgroundcolor\": \"#E5ECF6\", \"gridcolor\": \"white\", \"gridwidth\": 2, \"linecolor\": \"white\", \"showbackground\": true, \"ticks\": \"\", \"zerolinecolor\": \"white\"}, \"yaxis\": {\"backgroundcolor\": \"#E5ECF6\", \"gridcolor\": \"white\", \"gridwidth\": 2, \"linecolor\": \"white\", \"showbackground\": true, \"ticks\": \"\", \"zerolinecolor\": \"white\"}, \"zaxis\": {\"backgroundcolor\": \"#E5ECF6\", \"gridcolor\": \"white\", \"gridwidth\": 2, \"linecolor\": \"white\", \"showbackground\": true, \"ticks\": \"\", \"zerolinecolor\": \"white\"}}, \"shapedefaults\": {\"line\": {\"color\": \"#2a3f5f\"}}, \"ternary\": {\"aaxis\": {\"gridcolor\": \"white\", \"linecolor\": \"white\", \"ticks\": \"\"}, \"baxis\": {\"gridcolor\": \"white\", \"linecolor\": \"white\", \"ticks\": \"\"}, \"bgcolor\": \"#E5ECF6\", \"caxis\": {\"gridcolor\": \"white\", \"linecolor\": \"white\", \"ticks\": \"\"}}, \"title\": {\"x\": 0.05}, \"xaxis\": {\"automargin\": true, \"gridcolor\": \"white\", \"linecolor\": \"white\", \"ticks\": \"\", \"title\": {\"standoff\": 15}, \"zerolinecolor\": \"white\", \"zerolinewidth\": 2}, \"yaxis\": {\"automargin\": true, \"gridcolor\": \"white\", \"linecolor\": \"white\", \"ticks\": \"\", \"title\": {\"standoff\": 15}, \"zerolinecolor\": \"white\", \"zerolinewidth\": 2}}}, \"title\": {\"text\": \"Quais jogos mais venderam nos ultimos 20 anos?\"}},                        {\"responsive\": true}                    ).then(function(){\n",
       "                            \n",
       "var gd = document.getElementById('2be3bc7a-78ee-4d67-9c4f-b19c8af9e892');\n",
       "var x = new MutationObserver(function (mutations, observer) {{\n",
       "        var display = window.getComputedStyle(gd).display;\n",
       "        if (!display || display === 'none') {{\n",
       "            console.log([gd, 'removed!']);\n",
       "            Plotly.purge(gd);\n",
       "            observer.disconnect();\n",
       "        }}\n",
       "}});\n",
       "\n",
       "// Listen for the removal of the full notebook cells\n",
       "var notebookContainer = gd.closest('#notebook-container');\n",
       "if (notebookContainer) {{\n",
       "    x.observe(notebookContainer, {childList: true});\n",
       "}}\n",
       "\n",
       "// Listen for the clearing of the current output cell\n",
       "var outputEl = gd.closest('.output');\n",
       "if (outputEl) {{\n",
       "    x.observe(outputEl, {childList: true});\n",
       "}}\n",
       "\n",
       "                        })                };                });            </script>        </div>"
      ]
     },
     "metadata": {},
     "output_type": "display_data"
    }
   ],
   "source": [
    "fig = go.Figure(data=[go.Bar(x=df_20_y['Name'].head(10), y=df_20_y['Global_Sales'].head(10))])\n",
    "# Customize aspect\n",
    "fig.update_traces(marker_color='rgb(158,202,225)', marker_line_color='rgb(8,48,107)',\n",
    "                  marker_line_width=1.5, opacity=0.6)\n",
    "fig.update_layout(title_text='Quais jogos mais venderam nos ultimos 20 anos?')\n",
    "fig.show()"
   ]
  },
  {
   "cell_type": "code",
   "execution_count": 46,
   "metadata": {},
   "outputs": [
    {
     "data": {
      "text/html": [
       "<div>\n",
       "<style scoped>\n",
       "    .dataframe tbody tr th:only-of-type {\n",
       "        vertical-align: middle;\n",
       "    }\n",
       "\n",
       "    .dataframe tbody tr th {\n",
       "        vertical-align: top;\n",
       "    }\n",
       "\n",
       "    .dataframe thead th {\n",
       "        text-align: right;\n",
       "    }\n",
       "</style>\n",
       "<table border=\"1\" class=\"dataframe\">\n",
       "  <thead>\n",
       "    <tr style=\"text-align: right;\">\n",
       "      <th></th>\n",
       "      <th>Rank</th>\n",
       "      <th>Name</th>\n",
       "      <th>Platform</th>\n",
       "      <th>Year</th>\n",
       "      <th>Genre</th>\n",
       "      <th>Publisher</th>\n",
       "      <th>NA_Sales</th>\n",
       "      <th>EU_Sales</th>\n",
       "      <th>JP_Sales</th>\n",
       "      <th>Other_Sales</th>\n",
       "      <th>Global_Sales</th>\n",
       "    </tr>\n",
       "  </thead>\n",
       "  <tbody>\n",
       "    <tr>\n",
       "      <th>0</th>\n",
       "      <td>1</td>\n",
       "      <td>Wii Sports</td>\n",
       "      <td>Wii</td>\n",
       "      <td>2006.0</td>\n",
       "      <td>Sports</td>\n",
       "      <td>Nintendo</td>\n",
       "      <td>41.49</td>\n",
       "      <td>29.02</td>\n",
       "      <td>3.77</td>\n",
       "      <td>8.46</td>\n",
       "      <td>82.74</td>\n",
       "    </tr>\n",
       "    <tr>\n",
       "      <th>1</th>\n",
       "      <td>2</td>\n",
       "      <td>Super Mario Bros.</td>\n",
       "      <td>NES</td>\n",
       "      <td>1985.0</td>\n",
       "      <td>Platform</td>\n",
       "      <td>Nintendo</td>\n",
       "      <td>29.08</td>\n",
       "      <td>3.58</td>\n",
       "      <td>6.81</td>\n",
       "      <td>0.77</td>\n",
       "      <td>40.24</td>\n",
       "    </tr>\n",
       "    <tr>\n",
       "      <th>2</th>\n",
       "      <td>3</td>\n",
       "      <td>Mario Kart Wii</td>\n",
       "      <td>Wii</td>\n",
       "      <td>2008.0</td>\n",
       "      <td>Racing</td>\n",
       "      <td>Nintendo</td>\n",
       "      <td>15.85</td>\n",
       "      <td>12.88</td>\n",
       "      <td>3.79</td>\n",
       "      <td>3.31</td>\n",
       "      <td>35.82</td>\n",
       "    </tr>\n",
       "    <tr>\n",
       "      <th>3</th>\n",
       "      <td>4</td>\n",
       "      <td>Wii Sports Resort</td>\n",
       "      <td>Wii</td>\n",
       "      <td>2009.0</td>\n",
       "      <td>Sports</td>\n",
       "      <td>Nintendo</td>\n",
       "      <td>15.75</td>\n",
       "      <td>11.01</td>\n",
       "      <td>3.28</td>\n",
       "      <td>2.96</td>\n",
       "      <td>33.00</td>\n",
       "    </tr>\n",
       "    <tr>\n",
       "      <th>4</th>\n",
       "      <td>5</td>\n",
       "      <td>Pokemon Red/Pokemon Blue</td>\n",
       "      <td>GB</td>\n",
       "      <td>1996.0</td>\n",
       "      <td>Role-Playing</td>\n",
       "      <td>Nintendo</td>\n",
       "      <td>11.27</td>\n",
       "      <td>8.89</td>\n",
       "      <td>10.22</td>\n",
       "      <td>1.00</td>\n",
       "      <td>31.37</td>\n",
       "    </tr>\n",
       "    <tr>\n",
       "      <th>...</th>\n",
       "      <td>...</td>\n",
       "      <td>...</td>\n",
       "      <td>...</td>\n",
       "      <td>...</td>\n",
       "      <td>...</td>\n",
       "      <td>...</td>\n",
       "      <td>...</td>\n",
       "      <td>...</td>\n",
       "      <td>...</td>\n",
       "      <td>...</td>\n",
       "      <td>...</td>\n",
       "    </tr>\n",
       "    <tr>\n",
       "      <th>16593</th>\n",
       "      <td>16596</td>\n",
       "      <td>Woody Woodpecker in Crazy Castle 5</td>\n",
       "      <td>GBA</td>\n",
       "      <td>2002.0</td>\n",
       "      <td>Platform</td>\n",
       "      <td>Kemco</td>\n",
       "      <td>0.01</td>\n",
       "      <td>0.00</td>\n",
       "      <td>0.00</td>\n",
       "      <td>0.00</td>\n",
       "      <td>0.01</td>\n",
       "    </tr>\n",
       "    <tr>\n",
       "      <th>16594</th>\n",
       "      <td>16597</td>\n",
       "      <td>Men in Black II: Alien Escape</td>\n",
       "      <td>GC</td>\n",
       "      <td>2003.0</td>\n",
       "      <td>Shooter</td>\n",
       "      <td>Infogrames</td>\n",
       "      <td>0.01</td>\n",
       "      <td>0.00</td>\n",
       "      <td>0.00</td>\n",
       "      <td>0.00</td>\n",
       "      <td>0.01</td>\n",
       "    </tr>\n",
       "    <tr>\n",
       "      <th>16595</th>\n",
       "      <td>16598</td>\n",
       "      <td>SCORE International Baja 1000: The Official Game</td>\n",
       "      <td>PS2</td>\n",
       "      <td>2008.0</td>\n",
       "      <td>Racing</td>\n",
       "      <td>Activision</td>\n",
       "      <td>0.00</td>\n",
       "      <td>0.00</td>\n",
       "      <td>0.00</td>\n",
       "      <td>0.00</td>\n",
       "      <td>0.01</td>\n",
       "    </tr>\n",
       "    <tr>\n",
       "      <th>16596</th>\n",
       "      <td>16599</td>\n",
       "      <td>Know How 2</td>\n",
       "      <td>DS</td>\n",
       "      <td>2010.0</td>\n",
       "      <td>Puzzle</td>\n",
       "      <td>7G//AMES</td>\n",
       "      <td>0.00</td>\n",
       "      <td>0.01</td>\n",
       "      <td>0.00</td>\n",
       "      <td>0.00</td>\n",
       "      <td>0.01</td>\n",
       "    </tr>\n",
       "    <tr>\n",
       "      <th>16597</th>\n",
       "      <td>16600</td>\n",
       "      <td>Spirits &amp; Spells</td>\n",
       "      <td>GBA</td>\n",
       "      <td>2003.0</td>\n",
       "      <td>Platform</td>\n",
       "      <td>Wanadoo</td>\n",
       "      <td>0.01</td>\n",
       "      <td>0.00</td>\n",
       "      <td>0.00</td>\n",
       "      <td>0.00</td>\n",
       "      <td>0.01</td>\n",
       "    </tr>\n",
       "  </tbody>\n",
       "</table>\n",
       "<p>16291 rows × 11 columns</p>\n",
       "</div>"
      ],
      "text/plain": [
       "        Rank                                              Name Platform  \\\n",
       "0          1                                        Wii Sports      Wii   \n",
       "1          2                                 Super Mario Bros.      NES   \n",
       "2          3                                    Mario Kart Wii      Wii   \n",
       "3          4                                 Wii Sports Resort      Wii   \n",
       "4          5                          Pokemon Red/Pokemon Blue       GB   \n",
       "...      ...                                               ...      ...   \n",
       "16593  16596                Woody Woodpecker in Crazy Castle 5      GBA   \n",
       "16594  16597                     Men in Black II: Alien Escape       GC   \n",
       "16595  16598  SCORE International Baja 1000: The Official Game      PS2   \n",
       "16596  16599                                        Know How 2       DS   \n",
       "16597  16600                                  Spirits & Spells      GBA   \n",
       "\n",
       "         Year         Genre   Publisher  NA_Sales  EU_Sales  JP_Sales  \\\n",
       "0      2006.0        Sports    Nintendo     41.49     29.02      3.77   \n",
       "1      1985.0      Platform    Nintendo     29.08      3.58      6.81   \n",
       "2      2008.0        Racing    Nintendo     15.85     12.88      3.79   \n",
       "3      2009.0        Sports    Nintendo     15.75     11.01      3.28   \n",
       "4      1996.0  Role-Playing    Nintendo     11.27      8.89     10.22   \n",
       "...       ...           ...         ...       ...       ...       ...   \n",
       "16593  2002.0      Platform       Kemco      0.01      0.00      0.00   \n",
       "16594  2003.0       Shooter  Infogrames      0.01      0.00      0.00   \n",
       "16595  2008.0        Racing  Activision      0.00      0.00      0.00   \n",
       "16596  2010.0        Puzzle    7G//AMES      0.00      0.01      0.00   \n",
       "16597  2003.0      Platform     Wanadoo      0.01      0.00      0.00   \n",
       "\n",
       "       Other_Sales  Global_Sales  \n",
       "0             8.46         82.74  \n",
       "1             0.77         40.24  \n",
       "2             3.31         35.82  \n",
       "3             2.96         33.00  \n",
       "4             1.00         31.37  \n",
       "...            ...           ...  \n",
       "16593         0.00          0.01  \n",
       "16594         0.00          0.01  \n",
       "16595         0.00          0.01  \n",
       "16596         0.00          0.01  \n",
       "16597         0.00          0.01  \n",
       "\n",
       "[16291 rows x 11 columns]"
      ]
     },
     "execution_count": 46,
     "metadata": {},
     "output_type": "execute_result"
    }
   ],
   "source": [
    "data"
   ]
  },
  {
   "cell_type": "code",
   "execution_count": 47,
   "metadata": {},
   "outputs": [
    {
     "name": "stdout",
     "output_type": "stream",
     "text": [
      "Platform: Wii / Game: Wii Sports / Year: 2006.0 / Genre: Sports / Publisher: Nintendo Global Sales: 82.74\n",
      "\n",
      "\n",
      "Platform: NES / Game: Super Mario Bros. / Year: 1985.0 / Genre: Platform / Publisher: Nintendo Global Sales: 40.24\n",
      "\n",
      "\n",
      "Platform: GB / Game: Pokemon Red/Pokemon Blue / Year: 1996.0 / Genre: Role-Playing / Publisher: Nintendo Global Sales: 31.37\n",
      "\n",
      "\n",
      "Platform: DS / Game: New Super Mario Bros. / Year: 2006.0 / Genre: Platform / Publisher: Nintendo Global Sales: 30.01\n",
      "\n",
      "\n",
      "Platform: X360 / Game: Kinect Adventures! / Year: 2010.0 / Genre: Misc / Publisher: Microsoft Game Studios Global Sales: 21.82\n",
      "\n",
      "\n",
      "Platform: PS3 / Game: Grand Theft Auto V / Year: 2013.0 / Genre: Action / Publisher: Take-Two Interactive Global Sales: 21.4\n",
      "\n",
      "\n",
      "Platform: PS2 / Game: Grand Theft Auto: San Andreas / Year: 2004.0 / Genre: Action / Publisher: Take-Two Interactive Global Sales: 20.81\n",
      "\n",
      "\n",
      "Platform: SNES / Game: Super Mario World / Year: 1990.0 / Genre: Platform / Publisher: Nintendo Global Sales: 20.61\n",
      "\n",
      "\n",
      "Platform: GBA / Game: Pokemon Ruby/Pokemon Sapphire / Year: 2002.0 / Genre: Role-Playing / Publisher: Nintendo Global Sales: 15.85\n",
      "\n",
      "\n",
      "Platform: 3DS / Game: Pokemon X/Pokemon Y / Year: 2013.0 / Genre: Role-Playing / Publisher: Nintendo Global Sales: 14.35\n",
      "\n",
      "\n",
      "Platform: PS4 / Game: Call of Duty: Black Ops 3 / Year: 2015.0 / Genre: Shooter / Publisher: Activision Global Sales: 14.24\n",
      "\n",
      "\n",
      "Platform: N64 / Game: Super Mario 64 / Year: 1996.0 / Genre: Platform / Publisher: Nintendo Global Sales: 11.89\n",
      "\n",
      "\n",
      "Platform: PS / Game: Gran Turismo / Year: 1997.0 / Genre: Racing / Publisher: Sony Computer Entertainment Global Sales: 10.95\n",
      "\n",
      "\n",
      "Platform: XB / Game: Halo 2 / Year: 2004.0 / Genre: Shooter / Publisher: Microsoft Game Studios Global Sales: 8.49\n",
      "\n",
      "\n",
      "Platform: PC / Game: The Sims 3 / Year: 2009.0 / Genre: Simulation / Publisher: Electronic Arts Global Sales: 8.11\n",
      "\n",
      "\n",
      "Platform: 2600 / Game: Pac-Man / Year: 1982.0 / Genre: Puzzle / Publisher: Atari Global Sales: 7.81\n",
      "\n",
      "\n",
      "Platform: PSP / Game: Grand Theft Auto: Liberty City Stories / Year: 2005.0 / Genre: Action / Publisher: Take-Two Interactive Global Sales: 7.72\n",
      "\n",
      "\n",
      "Platform: XOne / Game: Call of Duty: Black Ops 3 / Year: 2015.0 / Genre: Shooter / Publisher: Activision Global Sales: 7.3\n",
      "\n",
      "\n",
      "Platform: GC / Game: Super Smash Bros. Melee / Year: 2001.0 / Genre: Fighting / Publisher: Nintendo Global Sales: 7.07\n",
      "\n",
      "\n",
      "Platform: WiiU / Game: Mario Kart 8 / Year: 2014.0 / Genre: Racing / Publisher: Nintendo Global Sales: 6.96\n",
      "\n",
      "\n",
      "Platform: GEN / Game: Sonic the Hedgehog 2 / Year: 1992.0 / Genre: Platform / Publisher: Sega Global Sales: 6.03\n",
      "\n",
      "\n",
      "Platform: DC / Game: Sonic Adventure / Year: 1998.0 / Genre: Platform / Publisher: Sega Global Sales: 2.42\n",
      "\n",
      "\n",
      "Platform: PSV / Game: Minecraft / Year: 2014.0 / Genre: Misc / Publisher: Sony Computer Entertainment Europe Global Sales: 2.25\n",
      "\n",
      "\n",
      "Platform: SAT / Game: Virtua Fighter 2 / Year: 1995.0 / Genre: Fighting / Publisher: Sega Global Sales: 1.93\n",
      "\n",
      "\n",
      "Platform: SCD / Game: Sonic CD / Year: 1993.0 / Genre: Platform / Publisher: Sega Global Sales: 1.5\n",
      "\n",
      "\n",
      "Platform: WS / Game: Final Fantasy / Year: 2000.0 / Genre: Role-Playing / Publisher: SquareSoft Global Sales: 0.51\n",
      "\n",
      "\n",
      "Platform: NG / Game: Samurai Shodown II / Year: 1994.0 / Genre: Fighting / Publisher: SNK Global Sales: 0.25\n",
      "\n",
      "\n",
      "Platform: TG16 / Game: Doukyuusei / Year: 1995.0 / Genre: Adventure / Publisher: NEC Global Sales: 0.14\n",
      "\n",
      "\n",
      "Platform: 3DO / Game: Policenauts / Year: 1995.0 / Genre: Adventure / Publisher: Konami Digital Entertainment Global Sales: 0.06\n",
      "\n",
      "\n",
      "Platform: GG / Game: Sonic the Hedgehog 2 (8-bit) / Year: 1992.0 / Genre: Platform / Publisher: Sega Global Sales: 0.04\n",
      "\n",
      "\n",
      "Platform: PCFX / Game: Blue Breaker: Ken Yorimo Hohoemi o / Year: 1996.0 / Genre: Role-Playing / Publisher: NEC Global Sales: 0.03\n",
      "\n",
      "\n"
     ]
    }
   ],
   "source": [
    "platform = data['Platform'].unique()\n",
    "for value in platform:\n",
    "    name = data.query('Platform == \"{}\"'.format(value)).sort_values(by='Global_Sales', ascending=False).iloc[0].Name\n",
    "    platform = data.query('Platform == \"{}\"'.format(value)).sort_values(by='Global_Sales', ascending=False).iloc[0].Platform\n",
    "    year = data.query('Platform == \"{}\"'.format(value)).sort_values(by='Global_Sales', ascending=False).iloc[0].Year\n",
    "    genre = data.query('Platform == \"{}\"'.format(value)).sort_values(by='Global_Sales', ascending=False).iloc[0].Genre\n",
    "    publisher = data.query('Platform == \"{}\"'.format(value)).sort_values(by='Global_Sales', ascending=False).iloc[0].Publisher\n",
    "    global_sales = data.query('Platform == \"{}\"'.format(value)).sort_values(by='Global_Sales', ascending=False).iloc[0].Global_Sales\n",
    "    print(\"Platform: {} / Game: {} / Year: {} / Genre: {} / Publisher: {} Global Sales: {}\".format(platform, name, year, genre, publisher, global_sales))\n",
    "    print(\"\\n\")\n",
    "      "
   ]
  },
  {
   "cell_type": "markdown",
   "metadata": {},
   "source": [
    "<h2> Quais os jogos mais vendidos da decada ? </h2>"
   ]
  },
  {
   "cell_type": "code",
   "execution_count": 48,
   "metadata": {},
   "outputs": [],
   "source": [
    "df_20_y = df_00.copy()"
   ]
  },
  {
   "cell_type": "code",
   "execution_count": 49,
   "metadata": {},
   "outputs": [
    {
     "data": {
      "text/html": [
       "<div>\n",
       "<style scoped>\n",
       "    .dataframe tbody tr th:only-of-type {\n",
       "        vertical-align: middle;\n",
       "    }\n",
       "\n",
       "    .dataframe tbody tr th {\n",
       "        vertical-align: top;\n",
       "    }\n",
       "\n",
       "    .dataframe thead th {\n",
       "        text-align: right;\n",
       "    }\n",
       "</style>\n",
       "<table border=\"1\" class=\"dataframe\">\n",
       "  <thead>\n",
       "    <tr style=\"text-align: right;\">\n",
       "      <th></th>\n",
       "      <th>Rank</th>\n",
       "      <th>Name</th>\n",
       "      <th>Platform</th>\n",
       "      <th>Year</th>\n",
       "      <th>Genre</th>\n",
       "      <th>Publisher</th>\n",
       "      <th>NA_Sales</th>\n",
       "      <th>EU_Sales</th>\n",
       "      <th>JP_Sales</th>\n",
       "      <th>Other_Sales</th>\n",
       "      <th>Global_Sales</th>\n",
       "    </tr>\n",
       "  </thead>\n",
       "  <tbody>\n",
       "    <tr>\n",
       "      <th>0</th>\n",
       "      <td>1</td>\n",
       "      <td>Wii Sports</td>\n",
       "      <td>Wii</td>\n",
       "      <td>2006.0</td>\n",
       "      <td>Sports</td>\n",
       "      <td>Nintendo</td>\n",
       "      <td>41.49</td>\n",
       "      <td>29.02</td>\n",
       "      <td>3.77</td>\n",
       "      <td>8.46</td>\n",
       "      <td>82.74</td>\n",
       "    </tr>\n",
       "    <tr>\n",
       "      <th>2</th>\n",
       "      <td>3</td>\n",
       "      <td>Mario Kart Wii</td>\n",
       "      <td>Wii</td>\n",
       "      <td>2008.0</td>\n",
       "      <td>Racing</td>\n",
       "      <td>Nintendo</td>\n",
       "      <td>15.85</td>\n",
       "      <td>12.88</td>\n",
       "      <td>3.79</td>\n",
       "      <td>3.31</td>\n",
       "      <td>35.82</td>\n",
       "    </tr>\n",
       "    <tr>\n",
       "      <th>3</th>\n",
       "      <td>4</td>\n",
       "      <td>Wii Sports Resort</td>\n",
       "      <td>Wii</td>\n",
       "      <td>2009.0</td>\n",
       "      <td>Sports</td>\n",
       "      <td>Nintendo</td>\n",
       "      <td>15.75</td>\n",
       "      <td>11.01</td>\n",
       "      <td>3.28</td>\n",
       "      <td>2.96</td>\n",
       "      <td>33.00</td>\n",
       "    </tr>\n",
       "    <tr>\n",
       "      <th>6</th>\n",
       "      <td>7</td>\n",
       "      <td>New Super Mario Bros.</td>\n",
       "      <td>DS</td>\n",
       "      <td>2006.0</td>\n",
       "      <td>Platform</td>\n",
       "      <td>Nintendo</td>\n",
       "      <td>11.38</td>\n",
       "      <td>9.23</td>\n",
       "      <td>6.50</td>\n",
       "      <td>2.90</td>\n",
       "      <td>30.01</td>\n",
       "    </tr>\n",
       "    <tr>\n",
       "      <th>7</th>\n",
       "      <td>8</td>\n",
       "      <td>Wii Play</td>\n",
       "      <td>Wii</td>\n",
       "      <td>2006.0</td>\n",
       "      <td>Misc</td>\n",
       "      <td>Nintendo</td>\n",
       "      <td>14.03</td>\n",
       "      <td>9.20</td>\n",
       "      <td>2.93</td>\n",
       "      <td>2.85</td>\n",
       "      <td>29.02</td>\n",
       "    </tr>\n",
       "    <tr>\n",
       "      <th>...</th>\n",
       "      <td>...</td>\n",
       "      <td>...</td>\n",
       "      <td>...</td>\n",
       "      <td>...</td>\n",
       "      <td>...</td>\n",
       "      <td>...</td>\n",
       "      <td>...</td>\n",
       "      <td>...</td>\n",
       "      <td>...</td>\n",
       "      <td>...</td>\n",
       "      <td>...</td>\n",
       "    </tr>\n",
       "    <tr>\n",
       "      <th>16578</th>\n",
       "      <td>16581</td>\n",
       "      <td>Outdoors Unleashed: Africa 3D</td>\n",
       "      <td>3DS</td>\n",
       "      <td>2011.0</td>\n",
       "      <td>Sports</td>\n",
       "      <td>Mastiff</td>\n",
       "      <td>0.01</td>\n",
       "      <td>0.00</td>\n",
       "      <td>0.00</td>\n",
       "      <td>0.00</td>\n",
       "      <td>0.01</td>\n",
       "    </tr>\n",
       "    <tr>\n",
       "      <th>16581</th>\n",
       "      <td>16584</td>\n",
       "      <td>Fit &amp; Fun</td>\n",
       "      <td>Wii</td>\n",
       "      <td>2011.0</td>\n",
       "      <td>Sports</td>\n",
       "      <td>Unknown</td>\n",
       "      <td>0.00</td>\n",
       "      <td>0.01</td>\n",
       "      <td>0.00</td>\n",
       "      <td>0.00</td>\n",
       "      <td>0.01</td>\n",
       "    </tr>\n",
       "    <tr>\n",
       "      <th>16585</th>\n",
       "      <td>16588</td>\n",
       "      <td>Breach</td>\n",
       "      <td>PC</td>\n",
       "      <td>2011.0</td>\n",
       "      <td>Shooter</td>\n",
       "      <td>Destineer</td>\n",
       "      <td>0.01</td>\n",
       "      <td>0.00</td>\n",
       "      <td>0.00</td>\n",
       "      <td>0.00</td>\n",
       "      <td>0.01</td>\n",
       "    </tr>\n",
       "    <tr>\n",
       "      <th>16589</th>\n",
       "      <td>16592</td>\n",
       "      <td>Chou Ezaru wa Akai Hana: Koi wa Tsuki ni Shiru...</td>\n",
       "      <td>PSV</td>\n",
       "      <td>2016.0</td>\n",
       "      <td>Action</td>\n",
       "      <td>dramatic create</td>\n",
       "      <td>0.00</td>\n",
       "      <td>0.00</td>\n",
       "      <td>0.01</td>\n",
       "      <td>0.00</td>\n",
       "      <td>0.01</td>\n",
       "    </tr>\n",
       "    <tr>\n",
       "      <th>16596</th>\n",
       "      <td>16599</td>\n",
       "      <td>Know How 2</td>\n",
       "      <td>DS</td>\n",
       "      <td>2010.0</td>\n",
       "      <td>Puzzle</td>\n",
       "      <td>7G//AMES</td>\n",
       "      <td>0.00</td>\n",
       "      <td>0.01</td>\n",
       "      <td>0.00</td>\n",
       "      <td>0.00</td>\n",
       "      <td>0.01</td>\n",
       "    </tr>\n",
       "  </tbody>\n",
       "</table>\n",
       "<p>14317 rows × 11 columns</p>\n",
       "</div>"
      ],
      "text/plain": [
       "        Rank                                               Name Platform  \\\n",
       "0          1                                         Wii Sports      Wii   \n",
       "2          3                                     Mario Kart Wii      Wii   \n",
       "3          4                                  Wii Sports Resort      Wii   \n",
       "6          7                              New Super Mario Bros.       DS   \n",
       "7          8                                           Wii Play      Wii   \n",
       "...      ...                                                ...      ...   \n",
       "16578  16581                      Outdoors Unleashed: Africa 3D      3DS   \n",
       "16581  16584                                          Fit & Fun      Wii   \n",
       "16585  16588                                             Breach       PC   \n",
       "16589  16592  Chou Ezaru wa Akai Hana: Koi wa Tsuki ni Shiru...      PSV   \n",
       "16596  16599                                         Know How 2       DS   \n",
       "\n",
       "         Year     Genre        Publisher  NA_Sales  EU_Sales  JP_Sales  \\\n",
       "0      2006.0    Sports         Nintendo     41.49     29.02      3.77   \n",
       "2      2008.0    Racing         Nintendo     15.85     12.88      3.79   \n",
       "3      2009.0    Sports         Nintendo     15.75     11.01      3.28   \n",
       "6      2006.0  Platform         Nintendo     11.38      9.23      6.50   \n",
       "7      2006.0      Misc         Nintendo     14.03      9.20      2.93   \n",
       "...       ...       ...              ...       ...       ...       ...   \n",
       "16578  2011.0    Sports          Mastiff      0.01      0.00      0.00   \n",
       "16581  2011.0    Sports          Unknown      0.00      0.01      0.00   \n",
       "16585  2011.0   Shooter        Destineer      0.01      0.00      0.00   \n",
       "16589  2016.0    Action  dramatic create      0.00      0.00      0.01   \n",
       "16596  2010.0    Puzzle         7G//AMES      0.00      0.01      0.00   \n",
       "\n",
       "       Other_Sales  Global_Sales  \n",
       "0             8.46         82.74  \n",
       "2             3.31         35.82  \n",
       "3             2.96         33.00  \n",
       "6             2.90         30.01  \n",
       "7             2.85         29.02  \n",
       "...            ...           ...  \n",
       "16578         0.00          0.01  \n",
       "16581         0.00          0.01  \n",
       "16585         0.00          0.01  \n",
       "16589         0.00          0.01  \n",
       "16596         0.00          0.01  \n",
       "\n",
       "[14317 rows x 11 columns]"
      ]
     },
     "execution_count": 49,
     "metadata": {},
     "output_type": "execute_result"
    }
   ],
   "source": [
    "df_20_y.append(df_10)"
   ]
  },
  {
   "cell_type": "code",
   "execution_count": null,
   "metadata": {},
   "outputs": [],
   "source": []
  },
  {
   "cell_type": "code",
   "execution_count": null,
   "metadata": {},
   "outputs": [],
   "source": []
  },
  {
   "cell_type": "code",
   "execution_count": 50,
   "metadata": {},
   "outputs": [
    {
     "ename": "NameError",
     "evalue": "name 'games_decade' is not defined",
     "output_type": "error",
     "traceback": [
      "\u001b[1;31m---------------------------------------------------------------------------\u001b[0m",
      "\u001b[1;31mNameError\u001b[0m                                 Traceback (most recent call last)",
      "\u001b[1;32m<ipython-input-50-3e614005f503>\u001b[0m in \u001b[0;36m<module>\u001b[1;34m\u001b[0m\n\u001b[1;32m----> 1\u001b[1;33m \u001b[0mgames_decade\u001b[0m\u001b[1;33m.\u001b[0m\u001b[0mgroupby\u001b[0m\u001b[1;33m(\u001b[0m\u001b[1;34m'Name'\u001b[0m\u001b[1;33m)\u001b[0m\u001b[1;33m[\u001b[0m\u001b[1;34m'Global_Sales'\u001b[0m\u001b[1;33m]\u001b[0m\u001b[1;33m.\u001b[0m\u001b[0msum\u001b[0m\u001b[1;33m(\u001b[0m\u001b[1;33m)\u001b[0m\u001b[1;33m.\u001b[0m\u001b[0msort_values\u001b[0m\u001b[1;33m(\u001b[0m\u001b[0mascending\u001b[0m\u001b[1;33m=\u001b[0m\u001b[1;32mFalse\u001b[0m\u001b[1;33m)\u001b[0m\u001b[1;33m.\u001b[0m\u001b[0mhead\u001b[0m\u001b[1;33m(\u001b[0m\u001b[1;36m5\u001b[0m\u001b[1;33m)\u001b[0m\u001b[1;33m\u001b[0m\u001b[1;33m\u001b[0m\u001b[0m\n\u001b[0m\u001b[0;32m      2\u001b[0m \u001b[0mplt\u001b[0m\u001b[1;33m.\u001b[0m\u001b[0mfigure\u001b[0m\u001b[1;33m(\u001b[0m\u001b[0mfigsize\u001b[0m\u001b[1;33m=\u001b[0m\u001b[1;33m(\u001b[0m\u001b[1;36m15\u001b[0m\u001b[1;33m,\u001b[0m\u001b[1;36m15\u001b[0m\u001b[1;33m)\u001b[0m\u001b[1;33m)\u001b[0m\u001b[1;33m\u001b[0m\u001b[1;33m\u001b[0m\u001b[0m\n\u001b[0;32m      3\u001b[0m \u001b[0mplt\u001b[0m\u001b[1;33m.\u001b[0m\u001b[0mbar\u001b[0m\u001b[1;33m(\u001b[0m\u001b[0mx\u001b[0m\u001b[1;33m.\u001b[0m\u001b[0mindex\u001b[0m\u001b[1;33m,\u001b[0m\u001b[0mx\u001b[0m\u001b[1;33m)\u001b[0m\u001b[1;33m\u001b[0m\u001b[1;33m\u001b[0m\u001b[0m\n\u001b[0;32m      4\u001b[0m \u001b[0mplt\u001b[0m\u001b[1;33m.\u001b[0m\u001b[0mshow\u001b[0m\u001b[1;33m(\u001b[0m\u001b[1;33m)\u001b[0m\u001b[1;33m\u001b[0m\u001b[1;33m\u001b[0m\u001b[0m\n",
      "\u001b[1;31mNameError\u001b[0m: name 'games_decade' is not defined"
     ]
    }
   ],
   "source": [
    "games_decade.groupby('Name')['Global_Sales'].sum().sort_values(ascending=False).head(5)\n",
    "plt.figure(figsize=(15,15))\n",
    "plt.bar(x.index,x)\n",
    "plt.show()"
   ]
  },
  {
   "cell_type": "code",
   "execution_count": null,
   "metadata": {},
   "outputs": [],
   "source": []
  },
  {
   "cell_type": "code",
   "execution_count": null,
   "metadata": {},
   "outputs": [],
   "source": []
  }
 ],
 "metadata": {
  "kernelspec": {
   "display_name": "Python 3",
   "language": "python",
   "name": "python3"
  },
  "language_info": {
   "codemirror_mode": {
    "name": "ipython",
    "version": 3
   },
   "file_extension": ".py",
   "mimetype": "text/x-python",
   "name": "python",
   "nbconvert_exporter": "python",
   "pygments_lexer": "ipython3",
   "version": "3.8.3"
  }
 },
 "nbformat": 4,
 "nbformat_minor": 4
}
